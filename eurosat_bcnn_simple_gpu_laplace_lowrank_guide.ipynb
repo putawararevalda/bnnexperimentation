{
 "cells": [
  {
   "cell_type": "code",
   "execution_count": 1,
   "id": "1b1af2f4",
   "metadata": {},
   "outputs": [],
   "source": [
    "import torch\n",
    "import torch.nn as nn\n",
    "import torch.nn.functional as F\n",
    "import torchvision.datasets as datasets\n",
    "import torchvision.transforms as transforms\n",
    "from torch.utils.data import DataLoader, random_split\n",
    "import time\n",
    "import matplotlib.pyplot as plt\n",
    "import os\n",
    "from sklearn.model_selection import train_test_split\n",
    "from torch.utils.data import Subset\n",
    "import torch\n",
    "\n",
    "import pickle"
   ]
  },
  {
   "cell_type": "code",
   "execution_count": 2,
   "id": "5965d3bb",
   "metadata": {},
   "outputs": [
    {
     "name": "stderr",
     "output_type": "stream",
     "text": [
      "c:\\Users\\Revalda Putawara\\.conda\\envs\\bnntest\\Lib\\site-packages\\tqdm\\auto.py:21: TqdmWarning: IProgress not found. Please update jupyter and ipywidgets. See https://ipywidgets.readthedocs.io/en/stable/user_install.html\n",
      "  from .autonotebook import tqdm as notebook_tqdm\n"
     ]
    }
   ],
   "source": [
    "import pyro\n",
    "import pyro.distributions as dist\n",
    "from pyro.nn import PyroModule, PyroSample"
   ]
  },
  {
   "cell_type": "code",
   "execution_count": 3,
   "id": "853a93c0",
   "metadata": {},
   "outputs": [],
   "source": [
    "device = torch.device(\"cuda\")"
   ]
  },
  {
   "cell_type": "code",
   "execution_count": 4,
   "id": "c0d753eb",
   "metadata": {},
   "outputs": [],
   "source": [
    "from utils.model import LaplaceBayesianCNNSingleFC"
   ]
  },
  {
   "cell_type": "code",
   "execution_count": 5,
   "id": "22bf6071",
   "metadata": {},
   "outputs": [],
   "source": [
    "def fixed_load_data(batch_size=54):\n",
    "    transform = transforms.Compose([\n",
    "        transforms.Resize((64, 64)),\n",
    "        transforms.ToTensor(),\n",
    "        transforms.Normalize(mean=[0.3444, 0.3809, 0.4082], std=[0.1809, 0.1331, 0.1137])\n",
    "    ])\n",
    "\n",
    "    dataset = datasets.EuroSAT(root='./data', transform=transform, download=False)\n",
    "\n",
    "    torch.manual_seed(42)\n",
    "    \n",
    "    with open('datasplit/split_indices.pkl', 'rb') as f:\n",
    "        split = pickle.load(f)\n",
    "        train_dataset = Subset(dataset, split['train'])\n",
    "        test_dataset = Subset(dataset, split['test'])\n",
    "\n",
    "    # Add num_workers and pin_memory for faster data loading\n",
    "    train_loader = DataLoader(train_dataset, batch_size=batch_size, shuffle=True, \n",
    "                             num_workers=4, pin_memory=True, persistent_workers=True)\n",
    "    test_loader = DataLoader(test_dataset, batch_size=batch_size,\n",
    "                            num_workers=4, pin_memory=True, persistent_workers=True)\n",
    "    return train_loader, test_loader"
   ]
  },
  {
   "cell_type": "code",
   "execution_count": 6,
   "id": "2af6fb07",
   "metadata": {},
   "outputs": [],
   "source": [
    "def load_data(batch_size=54):\n",
    "    transform = transforms.Compose([\n",
    "        transforms.Resize((64, 64)),\n",
    "        transforms.ToTensor(),\n",
    "        transforms.Normalize(mean=[0.3444, 0.3809, 0.4082], std=[0.1809, 0.1331, 0.1137])\n",
    "    ])\n",
    "\n",
    "    dataset = datasets.EuroSAT(root='./data', transform=transform, download=False)\n",
    "\n",
    "    torch.manual_seed(42)\n",
    "\n",
    "    train_size = int(0.8 * len(dataset))\n",
    "    test_size = len(dataset) - train_size\n",
    "    train_dataset, test_dataset = random_split(dataset, [train_size, test_size])\n",
    "    \n",
    "    #with open('datasplit/split_indices.pkl', 'rb') as f:\n",
    "    #    split = pickle.load(f)\n",
    "    #    train_dataset = Subset(dataset, split['train'])\n",
    "    #    test_dataset = Subset(dataset, split['test'])\n",
    "\n",
    "    # Add num_workers and pin_memory for faster data loading\n",
    "    train_loader = DataLoader(train_dataset, batch_size=batch_size, shuffle=True, \n",
    "                             num_workers=4, pin_memory=True, persistent_workers=True)\n",
    "    test_loader = DataLoader(test_dataset, batch_size=batch_size,\n",
    "                            num_workers=4, pin_memory=True, persistent_workers=True)\n",
    "    return train_loader, test_loader"
   ]
  },
  {
   "cell_type": "code",
   "execution_count": 7,
   "id": "f6bc1293",
   "metadata": {},
   "outputs": [],
   "source": [
    "num_classes = 10\n",
    "bayesian_model = LaplaceBayesianCNNSingleFC(num_classes=num_classes, device=device)"
   ]
  },
  {
   "cell_type": "code",
   "execution_count": 8,
   "id": "3553741a",
   "metadata": {},
   "outputs": [],
   "source": [
    "#from pyro.infer.autoguide import AutoDiagonalNormal\n",
    "from pyro.infer.autoguide import AutoLowRankMultivariateNormal\n",
    "from pyro.optim import Adam"
   ]
  },
  {
   "cell_type": "code",
   "execution_count": 9,
   "id": "1420314e",
   "metadata": {},
   "outputs": [],
   "source": [
    "#guide = pyro.infer.autoguide.AutoLaplaceApproximation(bayesian_model)\n",
    "#guide = AutoDiagonalNormal(bayesian_model)\n",
    "guide = AutoLowRankMultivariateNormal(bayesian_model, rank=10)\n",
    "\n",
    "# 2. Optimizer and SVI - increase learning rate for better convergence\n",
    "optimizer = Adam({\"lr\": 1e-3})  # Increased from 1e-4 to 1e-3\n",
    "svi = pyro.infer.SVI(model=bayesian_model,\n",
    "                     guide=guide,\n",
    "                     optim=optimizer,\n",
    "                     loss=pyro.infer.Trace_ELBO())"
   ]
  },
  {
   "cell_type": "code",
   "execution_count": 10,
   "id": "9a372470",
   "metadata": {},
   "outputs": [],
   "source": [
    "from tqdm import tqdm"
   ]
  },
  {
   "cell_type": "code",
   "execution_count": 11,
   "id": "439efc3e",
   "metadata": {},
   "outputs": [],
   "source": [
    "def train_svi(model, guide, svi, train_loader, num_epochs=10):\n",
    "    # Clear parameter store only ONCE at the beginning\n",
    "    pyro.clear_param_store()\n",
    "    model.train()\n",
    "    \n",
    "    # Ensure model is on the correct device\n",
    "    model.to(device)\n",
    "    #guide.to(device)\n",
    "    \n",
    "    for epoch in range(num_epochs):\n",
    "        epoch_loss = 0.0\n",
    "        num_batches = 0\n",
    "        for images, labels in tqdm(train_loader, desc=f\"Epoch {epoch+1}/{num_epochs}\"):\n",
    "            images, labels = images.to(device), labels.to(device)\n",
    "            \n",
    "            loss = svi.step(images, labels)\n",
    "            epoch_loss += loss\n",
    "            num_batches += 1\n",
    "            \n",
    "        avg_loss = epoch_loss / num_batches\n",
    "        print(f\"Epoch {epoch+1} - ELBO Loss: {avg_loss:.4f}\")"
   ]
  },
  {
   "cell_type": "code",
   "execution_count": 12,
   "id": "9addc81a",
   "metadata": {},
   "outputs": [],
   "source": [
    "def train_svi(model, guide, svi, train_loader, num_epochs=10):\n",
    "    # Clear parameter store only ONCE at the beginning\n",
    "    pyro.clear_param_store()\n",
    "    model.train()\n",
    "    \n",
    "    # Ensure model is on the correct device\n",
    "    model.to(device)\n",
    "    #guide.to(device)\n",
    "    \n",
    "    # Lists to store losses and accuracies\n",
    "    epoch_losses = []\n",
    "    epoch_accuracies = []\n",
    "    accuracy_epochs = []\n",
    "    \n",
    "    for epoch in range(num_epochs):\n",
    "        epoch_loss = 0.0\n",
    "        num_batches = 0\n",
    "        for images, labels in tqdm(train_loader, desc=f\"Epoch {epoch+1}/{num_epochs}\"):\n",
    "            images, labels = images.to(device), labels.to(device)\n",
    "            \n",
    "            loss = svi.step(images, labels)\n",
    "            epoch_loss += loss\n",
    "            num_batches += 1\n",
    "            \n",
    "        avg_loss = epoch_loss / num_batches\n",
    "        epoch_losses.append(avg_loss)\n",
    "        \n",
    "        # Calculate accuracy every 10 epochs (and on the first and last epoch)\n",
    "        if (epoch + 1) % 10 == 0 or epoch == 0 or epoch == num_epochs - 1:\n",
    "            model.eval()\n",
    "            guide.eval()\n",
    "            \n",
    "            correct_predictions = 0\n",
    "            total_samples = 0\n",
    "            \n",
    "            with torch.no_grad():\n",
    "                for images, labels in tqdm(train_loader, desc=f\"Calculating accuracy for epoch {epoch+1}\"):\n",
    "                    images, labels = images.to(device), labels.to(device)\n",
    "                    \n",
    "                    # Sample from the guide to get model parameters\n",
    "                    guide_trace = pyro.poutine.trace(guide).get_trace(images)\n",
    "                    replayed_model = pyro.poutine.replay(model, trace=guide_trace)\n",
    "                    \n",
    "                    # Get predictions\n",
    "                    logits = replayed_model(images)\n",
    "                    predictions = torch.argmax(logits, dim=1)\n",
    "                    \n",
    "                    # Count correct predictions\n",
    "                    correct_predictions += (predictions == labels).sum().item()\n",
    "                    total_samples += labels.size(0)\n",
    "            \n",
    "            epoch_accuracy = correct_predictions / total_samples\n",
    "            epoch_accuracies.append(epoch_accuracy)\n",
    "            accuracy_epochs.append(epoch + 1)\n",
    "            \n",
    "            model.train()  # Set back to training mode\n",
    "            \n",
    "            print(f\"Epoch {epoch+1} - ELBO Loss: {avg_loss:.4f}, Train Accuracy: {epoch_accuracy*100:.2f}%\")\n",
    "        else:\n",
    "            print(f\"Epoch {epoch+1} - ELBO Loss: {avg_loss:.4f}\")\n",
    "    \n",
    "    return epoch_losses, epoch_accuracies, accuracy_epochs"
   ]
  },
  {
   "cell_type": "code",
   "execution_count": 13,
   "id": "e8dcfd21",
   "metadata": {},
   "outputs": [],
   "source": [
    "def train_svi_with_annealing(model, guide, svi, train_loader, num_epochs=10):\n",
    "    pyro.clear_param_store()\n",
    "    model.train()\n",
    "    model.to(device)\n",
    "    \n",
    "    epoch_losses = []\n",
    "    epoch_accuracies = []\n",
    "    accuracy_epochs = []\n",
    "    \n",
    "    for epoch in range(num_epochs):\n",
    "        # KL annealing - gradually increase KL weight\n",
    "        kl_weight = min(1.0, (epoch + 1) / (num_epochs * 0.5))  # Reach full weight at 50% of training\n",
    "        \n",
    "        epoch_loss = 0.0\n",
    "        num_batches = 0\n",
    "        for images, labels in tqdm(train_loader, desc=f\"Epoch {epoch+1}/{num_epochs}\"):\n",
    "            images, labels = images.to(device), labels.to(device)\n",
    "            \n",
    "            # Use weighted ELBO\n",
    "            def weighted_model(images, labels):\n",
    "                with pyro.poutine.scale(scale=kl_weight):\n",
    "                    return model(images, labels)\n",
    "            \n",
    "            loss = svi.step(images, labels)\n",
    "            epoch_loss += loss\n",
    "            num_batches += 1\n",
    "            \n",
    "        avg_loss = epoch_loss / num_batches\n",
    "        epoch_losses.append(avg_loss)\n",
    "\n",
    "        # Calculate accuracy every 10 epochs (and on the first and last epoch)\n",
    "        if (epoch + 1) % 10 == 0 or epoch == 0 or epoch == num_epochs - 1:\n",
    "            model.eval()\n",
    "            guide.eval()\n",
    "            \n",
    "            correct_predictions = 0\n",
    "            total_samples = 0\n",
    "            \n",
    "            with torch.no_grad():\n",
    "                for images, labels in tqdm(train_loader, desc=f\"Calculating accuracy for epoch {epoch+1}\"):\n",
    "                    images, labels = images.to(device), labels.to(device)\n",
    "                    \n",
    "                    # Sample from the guide to get model parameters\n",
    "                    guide_trace = pyro.poutine.trace(guide).get_trace(images)\n",
    "                    replayed_model = pyro.poutine.replay(model, trace=guide_trace)\n",
    "                    \n",
    "                    # Get predictions\n",
    "                    logits = replayed_model(images)\n",
    "                    predictions = torch.argmax(logits, dim=1)\n",
    "                    \n",
    "                    # Count correct predictions\n",
    "                    correct_predictions += (predictions == labels).sum().item()\n",
    "                    total_samples += labels.size(0)\n",
    "            \n",
    "            epoch_accuracy = correct_predictions / total_samples\n",
    "            epoch_accuracies.append(epoch_accuracy)\n",
    "            accuracy_epochs.append(epoch + 1)\n",
    "            \n",
    "            model.train()  # Set back to training mode\n",
    "            \n",
    "            print(f\"Epoch {epoch+1} - ELBO Loss: {avg_loss:.4f}, Train Accuracy: {epoch_accuracy*100:.2f}%\")\n",
    "        else:\n",
    "            print(f\"Epoch {epoch+1} - ELBO Loss: {avg_loss:.4f}\")\n",
    "    \n",
    "    return epoch_losses, epoch_accuracies, accuracy_epochs"
   ]
  },
  {
   "cell_type": "code",
   "execution_count": 14,
   "id": "cba82446",
   "metadata": {},
   "outputs": [
    {
     "data": {
      "text/plain": [
       "\"\\npyro.clear_param_store()\\n\\n# Ensure model and guide are on the correct device\\nbayesian_model.to(device)\\nguide.to(device)\\n\\ntrain_loader, test_loader = load_data(batch_size=54)\\nlosses, accuracies, accuracy_epochs = train_svi(bayesian_model, guide, svi, train_loader, num_epochs=100)\\n\\n# Plot training curves\\nplt.figure(figsize=(12, 4))\\n\\nplt.subplot(1, 2, 1)\\nplt.plot(range(1, len(losses) + 1), losses)\\nplt.title('Training Loss')\\nplt.xlabel('Epoch')\\nplt.ylabel('ELBO Loss')\\nplt.grid(True)\\n\\nplt.subplot(1, 2, 2)\\nplt.plot(accuracy_epochs, accuracies, 'o-')\\nplt.title('Training Accuracy (Every 10 Epochs)')\\nplt.xlabel('Epoch')\\nplt.ylabel('Accuracy')\\nplt.grid(True)\\n\\nplt.tight_layout()\\nplt.show()\\n\""
      ]
     },
     "execution_count": 14,
     "metadata": {},
     "output_type": "execute_result"
    }
   ],
   "source": [
    "\"\"\"\n",
    "pyro.clear_param_store()\n",
    "\n",
    "# Ensure model and guide are on the correct device\n",
    "bayesian_model.to(device)\n",
    "guide.to(device)\n",
    "\n",
    "train_loader, test_loader = load_data(batch_size=54)\n",
    "losses, accuracies, accuracy_epochs = train_svi(bayesian_model, guide, svi, train_loader, num_epochs=100)\n",
    "\n",
    "# Plot training curves\n",
    "plt.figure(figsize=(12, 4))\n",
    "\n",
    "plt.subplot(1, 2, 1)\n",
    "plt.plot(range(1, len(losses) + 1), losses)\n",
    "plt.title('Training Loss')\n",
    "plt.xlabel('Epoch')\n",
    "plt.ylabel('ELBO Loss')\n",
    "plt.grid(True)\n",
    "\n",
    "plt.subplot(1, 2, 2)\n",
    "plt.plot(accuracy_epochs, accuracies, 'o-')\n",
    "plt.title('Training Accuracy (Every 10 Epochs)')\n",
    "plt.xlabel('Epoch')\n",
    "plt.ylabel('Accuracy')\n",
    "plt.grid(True)\n",
    "\n",
    "plt.tight_layout()\n",
    "plt.show()\n",
    "\"\"\""
   ]
  },
  {
   "cell_type": "code",
   "execution_count": 15,
   "id": "b0aae2cf",
   "metadata": {},
   "outputs": [],
   "source": [
    "def train_svi_with_stats(model, guide, svi, train_loader, num_epochs=10):\n",
    "    # Clear parameter store only ONCE at the beginning\n",
    "    pyro.clear_param_store()\n",
    "    model.train()\n",
    "    \n",
    "    # Ensure model is on the correct device\n",
    "    model.to(device)\n",
    "    \n",
    "    # Lists to store losses and accuracies\n",
    "    epoch_losses = []\n",
    "    epoch_accuracies = []\n",
    "    accuracy_epochs = []\n",
    "    \n",
    "    # Lists to store weight and bias statistics\n",
    "    weight_stats = {'epochs': [], 'means': [], 'stds': []}\n",
    "    bias_stats = {'epochs': [], 'means': [], 'stds': []}\n",
    "    \n",
    "    for epoch in range(num_epochs):\n",
    "        epoch_loss = 0.0\n",
    "        num_batches = 0\n",
    "        for images, labels in tqdm(train_loader, desc=f\"Epoch {epoch+1}/{num_epochs}\"):\n",
    "            images, labels = images.to(device), labels.to(device)\n",
    "            \n",
    "            loss = svi.step(images, labels)\n",
    "            epoch_loss += loss\n",
    "            num_batches += 1\n",
    "            \n",
    "        avg_loss = epoch_loss / num_batches\n",
    "        epoch_losses.append(avg_loss)\n",
    "        \n",
    "        # Calculate accuracy every 10 epochs (and on the first and last epoch)\n",
    "        if (epoch + 1) % 10 == 0 or epoch == 0 or epoch == num_epochs - 1:\n",
    "            model.eval()\n",
    "            guide.eval()\n",
    "            \n",
    "            correct_predictions = 0\n",
    "            total_samples = 0\n",
    "            \n",
    "            with torch.no_grad():\n",
    "                for images, labels in tqdm(train_loader, desc=f\"Calculating accuracy for epoch {epoch+1}\"):\n",
    "                    images, labels = images.to(device), labels.to(device)\n",
    "                    \n",
    "                    # Sample from the guide to get model parameters\n",
    "                    guide_trace = pyro.poutine.trace(guide).get_trace(images)\n",
    "                    replayed_model = pyro.poutine.replay(model, trace=guide_trace)\n",
    "                    \n",
    "                    # Get predictions\n",
    "                    logits = replayed_model(images)\n",
    "                    predictions = torch.argmax(logits, dim=1)\n",
    "                    \n",
    "                    # Count correct predictions\n",
    "                    correct_predictions += (predictions == labels).sum().item()\n",
    "                    total_samples += labels.size(0)\n",
    "            \n",
    "            epoch_accuracy = correct_predictions / total_samples\n",
    "            epoch_accuracies.append(epoch_accuracy)\n",
    "            accuracy_epochs.append(epoch + 1)\n",
    "            \n",
    "            # Record weight and bias statistics\n",
    "            weight_means = []\n",
    "            weight_stds = []\n",
    "            bias_means = []\n",
    "            bias_stds = []\n",
    "            \n",
    "            for name, param in pyro.get_param_store().items():\n",
    "                if 'AutoDiagonalNormal.loc' in name:\n",
    "                    weight_means.append(param.mean().item())\n",
    "                    weight_stds.append(param.std().item())\n",
    "                elif 'AutoDiagonalNormal.scale' in name:\n",
    "                    bias_means.append(param.mean().item())\n",
    "                    bias_stds.append(param.std().item())\n",
    "            \n",
    "            # Store statistics for this epoch\n",
    "            weight_stats['epochs'].append(epoch + 1)\n",
    "            weight_stats['means'].append(weight_means)\n",
    "            weight_stats['stds'].append(weight_stds)\n",
    "            \n",
    "            bias_stats['epochs'].append(epoch + 1)\n",
    "            bias_stats['means'].append(bias_means)\n",
    "            bias_stats['stds'].append(bias_stds)\n",
    "            \n",
    "            model.train()  # Set back to training mode\n",
    "            \n",
    "            print(f\"Epoch {epoch+1} - ELBO Loss: {avg_loss:.4f}, Train Accuracy: {epoch_accuracy*100:.2f}%\")\n",
    "        else:\n",
    "            print(f\"Epoch {epoch+1} - ELBO Loss: {avg_loss:.4f}\")\n",
    "    \n",
    "    return epoch_losses, epoch_accuracies, accuracy_epochs, weight_stats, bias_stats\n",
    "\n",
    "def plot_training_results_with_stats(losses, accuracies, accuracy_epochs, weight_stats, bias_stats):\n",
    "    \"\"\"Plot training results with weight and bias statistics\"\"\"\n",
    "    plt.figure(figsize=(16, 12))\n",
    "    \n",
    "    # Plot 1: Training Loss\n",
    "    plt.subplot(2, 2, 1)\n",
    "    plt.plot(range(1, len(losses) + 1), losses)\n",
    "    plt.title('Training Loss')\n",
    "    plt.xlabel('Epoch')\n",
    "    plt.ylabel('ELBO Loss')\n",
    "    plt.grid(True)\n",
    "    \n",
    "    # Plot 2: Training Accuracy\n",
    "    plt.subplot(2, 2, 2)\n",
    "    plt.plot(accuracy_epochs, accuracies, 'o-')\n",
    "    plt.title('Training Accuracy (Every 10 Epochs)')\n",
    "    plt.xlabel('Epoch')\n",
    "    plt.ylabel('Accuracy')\n",
    "    plt.grid(True)\n",
    "    \n",
    "    # Plot 3: Weight Statistics Boxplot\n",
    "    plt.subplot(2, 2, 3)\n",
    "    weight_data = []\n",
    "    weight_labels = []\n",
    "    \n",
    "    for i, epoch in enumerate(weight_stats['epochs']):\n",
    "        # Combine means and stds for this epoch\n",
    "        epoch_data = weight_stats['means'][i] + weight_stats['stds'][i]\n",
    "        weight_data.append(epoch_data)\n",
    "        weight_labels.append(f'Epoch {epoch}')\n",
    "    \n",
    "    if weight_data:\n",
    "        bp1 = plt.boxplot(weight_data, labels=weight_labels, patch_artist=True)\n",
    "        for patch in bp1['boxes']:\n",
    "            patch.set_facecolor('lightblue')\n",
    "    \n",
    "    plt.title('LOC Statistics Distribution')\n",
    "    plt.xlabel('Epoch')\n",
    "    plt.ylabel('LOC Values')\n",
    "    plt.xticks(rotation=45)\n",
    "    plt.grid(True, alpha=0.3)\n",
    "    \n",
    "    # Plot 4: Bias Statistics Boxplot\n",
    "    plt.subplot(2, 2, 4)\n",
    "    bias_data = []\n",
    "    bias_labels = []\n",
    "    \n",
    "    for i, epoch in enumerate(bias_stats['epochs']):\n",
    "        # Combine means and stds for this epoch\n",
    "        epoch_data = bias_stats['means'][i] + bias_stats['stds'][i]\n",
    "        bias_data.append(epoch_data)\n",
    "        bias_labels.append(f'Epoch {epoch}')\n",
    "    \n",
    "    if bias_data:\n",
    "        bp2 = plt.boxplot(bias_data, tick_labels=bias_labels, patch_artist=True)\n",
    "        for patch in bp2['boxes']:\n",
    "            patch.set_facecolor('lightcoral')\n",
    "    \n",
    "    plt.title('SCALE Statistics Distribution')\n",
    "    plt.xlabel('Epoch')\n",
    "    plt.ylabel('SCALE Values')\n",
    "    plt.xticks(rotation=45)\n",
    "    plt.grid(True, alpha=0.3)\n",
    "    \n",
    "    plt.tight_layout()\n",
    "    plt.show()"
   ]
  },
  {
   "cell_type": "code",
   "execution_count": 16,
   "id": "ac8333a6",
   "metadata": {},
   "outputs": [
    {
     "name": "stderr",
     "output_type": "stream",
     "text": [
      "Epoch 1/10: 100%|██████████| 400/400 [00:43<00:00,  9.14it/s]\n",
      "Calculating accuracy for epoch 1: 100%|██████████| 400/400 [00:04<00:00, 80.18it/s]\n"
     ]
    },
    {
     "name": "stdout",
     "output_type": "stream",
     "text": [
      "Epoch 1 - ELBO Loss: 14580497.6092, Train Accuracy: 36.91%\n"
     ]
    },
    {
     "name": "stderr",
     "output_type": "stream",
     "text": [
      "Epoch 2/10: 100%|██████████| 400/400 [00:16<00:00, 23.77it/s]\n"
     ]
    },
    {
     "name": "stdout",
     "output_type": "stream",
     "text": [
      "Epoch 2 - ELBO Loss: 7502219.8886\n"
     ]
    },
    {
     "name": "stderr",
     "output_type": "stream",
     "text": [
      "Epoch 3/10: 100%|██████████| 400/400 [00:16<00:00, 24.41it/s]\n"
     ]
    },
    {
     "name": "stdout",
     "output_type": "stream",
     "text": [
      "Epoch 3 - ELBO Loss: 5689668.2288\n"
     ]
    },
    {
     "name": "stderr",
     "output_type": "stream",
     "text": [
      "Epoch 4/10: 100%|██████████| 400/400 [00:24<00:00, 16.62it/s]\n"
     ]
    },
    {
     "name": "stdout",
     "output_type": "stream",
     "text": [
      "Epoch 4 - ELBO Loss: 4659187.4578\n"
     ]
    },
    {
     "name": "stderr",
     "output_type": "stream",
     "text": [
      "Epoch 5/10: 100%|██████████| 400/400 [00:34<00:00, 11.44it/s]\n"
     ]
    },
    {
     "name": "stdout",
     "output_type": "stream",
     "text": [
      "Epoch 5 - ELBO Loss: 3951154.9845\n"
     ]
    },
    {
     "name": "stderr",
     "output_type": "stream",
     "text": [
      "Epoch 6/10: 100%|██████████| 400/400 [00:18<00:00, 21.63it/s]\n"
     ]
    },
    {
     "name": "stdout",
     "output_type": "stream",
     "text": [
      "Epoch 6 - ELBO Loss: 3479800.4739\n"
     ]
    },
    {
     "name": "stderr",
     "output_type": "stream",
     "text": [
      "Epoch 7/10: 100%|██████████| 400/400 [00:31<00:00, 12.61it/s]\n"
     ]
    },
    {
     "name": "stdout",
     "output_type": "stream",
     "text": [
      "Epoch 7 - ELBO Loss: 3098518.0049\n"
     ]
    },
    {
     "name": "stderr",
     "output_type": "stream",
     "text": [
      "Epoch 8/10: 100%|██████████| 400/400 [00:48<00:00,  8.33it/s]\n"
     ]
    },
    {
     "name": "stdout",
     "output_type": "stream",
     "text": [
      "Epoch 8 - ELBO Loss: 2798505.0255\n"
     ]
    },
    {
     "name": "stderr",
     "output_type": "stream",
     "text": [
      "Epoch 9/10: 100%|██████████| 400/400 [00:36<00:00, 11.08it/s]\n"
     ]
    },
    {
     "name": "stdout",
     "output_type": "stream",
     "text": [
      "Epoch 9 - ELBO Loss: 2577206.7813\n"
     ]
    },
    {
     "name": "stderr",
     "output_type": "stream",
     "text": [
      "Epoch 10/10: 100%|██████████| 400/400 [00:34<00:00, 11.65it/s]\n",
      "Calculating accuracy for epoch 10: 100%|██████████| 400/400 [00:09<00:00, 40.33it/s]"
     ]
    },
    {
     "name": "stdout",
     "output_type": "stream",
     "text": [
      "Epoch 10 - ELBO Loss: 2368276.8476, Train Accuracy: 61.32%\n"
     ]
    },
    {
     "name": "stderr",
     "output_type": "stream",
     "text": [
      "\n"
     ]
    }
   ],
   "source": [
    "pyro.clear_param_store()\n",
    "\n",
    "# Ensure model and guide are on the correct device\n",
    "bayesian_model.to(device)\n",
    "guide.to(device)\n",
    "\n",
    "train_loader, test_loader = load_data(batch_size=54)\n",
    "\n",
    "# Train with statistics recording\n",
    "losses, accuracies, accuracy_epochs, weight_stats, bias_stats = train_svi_with_stats(\n",
    "    bayesian_model, guide, svi, train_loader, num_epochs=10\n",
    ")"
   ]
  },
  {
   "cell_type": "code",
   "execution_count": 17,
   "id": "5c7a75a8",
   "metadata": {},
   "outputs": [
    {
     "name": "stderr",
     "output_type": "stream",
     "text": [
      "C:\\Users\\Revalda Putawara\\AppData\\Local\\Temp\\ipykernel_11224\\1993050171.py:122: MatplotlibDeprecationWarning: The 'labels' parameter of boxplot() has been renamed 'tick_labels' since Matplotlib 3.9; support for the old name will be dropped in 3.11.\n",
      "  bp1 = plt.boxplot(weight_data, labels=weight_labels, patch_artist=True)\n"
     ]
    },
    {
     "data": {
      "image/png": "[encoded data removed]",
      "text/plain": [
       "<Figure size 1600x1200 with 4 Axes>"
      ]
     },
     "metadata": {},
     "output_type": "display_data"
    }
   ],
   "source": [
    "# Plot all results including weight and bias statistics\n",
    "plot_training_results_with_stats(losses, accuracies, accuracy_epochs, weight_stats, bias_stats)"
   ]
  },
  {
   "cell_type": "code",
   "execution_count": null,
   "id": "65ca6e75",
   "metadata": {},
   "outputs": [],
   "source": [
    "weight_stats #turns to df"
   ]
  },
  {
   "cell_type": "code",
   "execution_count": null,
   "id": "f7f67050",
   "metadata": {},
   "outputs": [],
   "source": [
    "bias_stats"
   ]
  },
  {
   "cell_type": "code",
   "execution_count": null,
   "id": "f17097dd",
   "metadata": {},
   "outputs": [],
   "source": [
    "accuracies"
   ]
  },
  {
   "cell_type": "code",
   "execution_count": null,
   "id": "d53f6e30",
   "metadata": {},
   "outputs": [],
   "source": [
    "weight_means = []\n",
    "weight_stds = []\n",
    "bias_means = []\n",
    "bias_stds = []"
   ]
  },
  {
   "cell_type": "code",
   "execution_count": null,
   "id": "f5e602d1",
   "metadata": {},
   "outputs": [],
   "source": []
  },
  {
   "cell_type": "code",
   "execution_count": null,
   "id": "e680bd84",
   "metadata": {},
   "outputs": [],
   "source": [
    "for name, param in pyro.get_param_store().items():\n",
    "    print(f\"Parameter: {name}, Mean: {param.mean().item()}, Std: {param.std().item()}\")\n",
    "    if 'AutoDiagonalNormal.loc' in name:\n",
    "        weight_means.append(param.mean().item())\n",
    "        weight_stds.append(param.std().item())\n",
    "    elif 'AutoDiagonalNormal.scale' in name:\n",
    "        bias_means.append(param.mean().item())\n",
    "        bias_stds.append(param.std().item())"
   ]
  },
  {
   "cell_type": "code",
   "execution_count": null,
   "id": "c1e3dde5",
   "metadata": {},
   "outputs": [],
   "source": [
    "weight_means"
   ]
  },
  {
   "cell_type": "code",
   "execution_count": null,
   "id": "fc68b1d9",
   "metadata": {},
   "outputs": [],
   "source": [
    "#pyro.clear_param_store()\n",
    "\n",
    "# Ensure model and guide are on the correct device\n",
    "#bayesian_model.to(device)\n",
    "#guide.to(device)\n",
    "\n",
    "#train_loader, test_loader = load_data(batch_size=54)\n",
    "#train_svi(bayesian_model, guide, svi, train_loader, num_epochs=0)"
   ]
  },
  {
   "cell_type": "code",
   "execution_count": null,
   "id": "0086a942",
   "metadata": {},
   "outputs": [],
   "source": [
    "# save the model\n",
    "model_path = 'results_eurosat/bayesian_cnn_model_std10_100_epoch_laplace.pth'\n",
    "torch.save(bayesian_model.state_dict(), model_path)\n",
    "\n",
    "# save the guide\n",
    "guide_path = 'results_eurosat/bayesian_cnn_guide_std10_100_epoch_guide_laplace.pth'\n",
    "torch.save(guide.state_dict(), guide_path)\n",
    "\n",
    "# save the pyro parameter store\n",
    "pyro_param_store_path = 'results_eurosat/pyro_param_store_std10_100_epoch_laplace.pkl'\n",
    "pyro.get_param_store().save(pyro_param_store_path)"
   ]
  },
  {
   "cell_type": "code",
   "execution_count": 18,
   "id": "3b8edc57",
   "metadata": {},
   "outputs": [],
   "source": [
    "import numpy as np"
   ]
  },
  {
   "cell_type": "code",
   "execution_count": 19,
   "id": "eae041e3",
   "metadata": {},
   "outputs": [],
   "source": [
    "# print confusion matrix\n",
    "import numpy as np\n",
    "from sklearn.metrics import confusion_matrix\n",
    "\n",
    "\n",
    "def predict_data(model, loader_of_interest, num_samples=10):\n",
    "    model.eval()\n",
    "    guide.eval()\n",
    "\n",
    "    all_labels = []\n",
    "    all_predictions = []\n",
    "\n",
    "    with torch.no_grad():\n",
    "        for images, labels in tqdm(loader_of_interest, desc=\"Evaluating\"):\n",
    "            images, labels = images.to(device), labels.to(device)\n",
    "\n",
    "            logits_mc = torch.zeros(num_samples, images.size(0), model.fc1.out_features).to(device)\n",
    "\n",
    "            for i in range(num_samples):\n",
    "                guide_trace = pyro.poutine.trace(guide).get_trace(images)\n",
    "                replayed_model = pyro.poutine.replay(model, trace=guide_trace)\n",
    "                logits = replayed_model(images)\n",
    "                logits_mc[i] = logits\n",
    "\n",
    "            avg_logits = logits_mc.mean(dim=0)\n",
    "            predictions = torch.argmax(avg_logits, dim=1)\n",
    "\n",
    "            all_labels.extend(labels.cpu().numpy())\n",
    "            all_predictions.extend(predictions.cpu().numpy())\n",
    "\n",
    "    return all_labels, all_predictions"
   ]
  },
  {
   "cell_type": "code",
   "execution_count": 20,
   "id": "119e41ac",
   "metadata": {},
   "outputs": [
    {
     "name": "stderr",
     "output_type": "stream",
     "text": [
      "Evaluating: 100%|██████████| 400/400 [03:26<00:00,  1.94it/s]\n"
     ]
    }
   ],
   "source": [
    "train_labels, train_predictions = predict_data(bayesian_model, train_loader, num_samples=10)"
   ]
  },
  {
   "cell_type": "code",
   "execution_count": 21,
   "id": "f82ae529",
   "metadata": {},
   "outputs": [],
   "source": [
    "train_cm = confusion_matrix(train_labels, train_predictions)"
   ]
  },
  {
   "cell_type": "code",
   "execution_count": 22,
   "id": "79e69bf5",
   "metadata": {},
   "outputs": [
    {
     "name": "stdout",
     "output_type": "stream",
     "text": [
      "Train accuracy from confusion matrix: 62.625000%\n"
     ]
    }
   ],
   "source": [
    "#print accuracy from confusion matrix\n",
    "train_accuracy = np.trace(train_cm) / np.sum(train_cm)\n",
    "print(f\"Train accuracy from confusion matrix: {train_accuracy * 100:.6f}%\")"
   ]
  },
  {
   "cell_type": "code",
   "execution_count": 23,
   "id": "3e1a7997",
   "metadata": {},
   "outputs": [
    {
     "name": "stderr",
     "output_type": "stream",
     "text": [
      "Evaluating: 100%|██████████| 100/100 [02:10<00:00,  1.30s/it]\n"
     ]
    }
   ],
   "source": [
    "all_labels, all_predictions = predict_data(bayesian_model, test_loader, num_samples=10)"
   ]
  },
  {
   "cell_type": "code",
   "execution_count": 24,
   "id": "f83a00a0",
   "metadata": {},
   "outputs": [],
   "source": [
    "cm = confusion_matrix(all_labels, all_predictions)"
   ]
  },
  {
   "cell_type": "code",
   "execution_count": 25,
   "id": "64df3ac5",
   "metadata": {},
   "outputs": [
    {
     "name": "stdout",
     "output_type": "stream",
     "text": [
      "Accuracy from confusion matrix: 59.537037%\n"
     ]
    }
   ],
   "source": [
    "#print accuracy from confusion matrix\n",
    "accuracy = np.trace(cm) / np.sum(cm)\n",
    "print(f\"Accuracy from confusion matrix: {accuracy * 100:.6f}%\")"
   ]
  },
  {
   "cell_type": "code",
   "execution_count": null,
   "id": "69439a88",
   "metadata": {},
   "outputs": [],
   "source": [
    "# print pyro parameters\n",
    "for name, value in pyro.get_param_store().items():\n",
    "    print(f\"{name}: {value.shape} - {value.mean().item():.4f} ± {value.std().item():.4f}\")"
   ]
  },
  {
   "cell_type": "markdown",
   "id": "de99aab6",
   "metadata": {},
   "source": [
    "60.092593% for the 10 epoch"
   ]
  },
  {
   "cell_type": "code",
   "execution_count": null,
   "id": "2cdb36f3",
   "metadata": {},
   "outputs": [],
   "source": [
    "# plot the confusion matrix\n",
    "import matplotlib.pyplot as plt\n",
    "\n",
    "def plot_confusion_matrix(cm, classes):\n",
    "    plt.figure(figsize=(10, 8))\n",
    "    plt.imshow(cm, interpolation='nearest', cmap=plt.cm.Blues)\n",
    "    plt.title('Confusion Matrix')\n",
    "    plt.colorbar()\n",
    "    tick_marks = np.arange(len(classes))\n",
    "    plt.xticks(tick_marks, classes, rotation=45)\n",
    "    plt.yticks(tick_marks, classes)\n",
    "\n",
    "    thresh = cm.max() / 2.\n",
    "    for i in range(cm.shape[0]):\n",
    "        for j in range(cm.shape[1]):\n",
    "            plt.text(j, i, cm[i, j],\n",
    "                     horizontalalignment=\"center\",\n",
    "                     color=\"white\" if cm[i, j] > thresh else \"black\")\n",
    "            \n",
    "    # make a mark to the diagonal\n",
    "    plt.plot([0, cm.shape[1]-1], [0, cm.shape[0]-1], color='red', linestyle='--', linewidth=2)\n",
    "\n",
    "    plt.ylabel('True label')\n",
    "    plt.xlabel('Predicted label')\n",
    "    plt.tight_layout()\n",
    "    plt.show()\n",
    "\n",
    "# Plot the confusion matrix\n",
    "class_names = ['AnnualCrop', 'Forest', 'HerbaceousVegetation', 'Highway', 'Industrial',\n",
    "               'Pasture', 'PermanentCrop', 'Residential', 'River', 'SeaLake']\n",
    "plot_confusion_matrix(cm, class_names)"
   ]
  },
  {
   "cell_type": "code",
   "execution_count": null,
   "id": "4bb4511a",
   "metadata": {},
   "outputs": [],
   "source": [
    "# save the model\n",
    "#model_path = 'results_eurosat/bayesian_cnn_model_std10_100_epoch.pth'\n",
    "#torch.save(bayesian_model.state_dict(), model_path)\n",
    "\n",
    "# save the guide\n",
    "#guide_path = 'results_eurosat/bayesian_cnn_guide_std10_100_epoch_guide.pth'\n",
    "#torch.save(guide.state_dict(), guide_path)\n",
    "\n",
    "# save the pyro parameter store\n",
    "#pyro_param_store_path = 'results_eurosat/pyro_param_store_std10_100_epoch.pkl'\n",
    "#pyro.get_param_store().save(pyro_param_store_path)"
   ]
  },
  {
   "cell_type": "code",
   "execution_count": null,
   "id": "df3dd508",
   "metadata": {},
   "outputs": [],
   "source": [
    "kataguediemdeh"
   ]
  },
  {
   "cell_type": "code",
   "execution_count": null,
   "id": "39a06416",
   "metadata": {},
   "outputs": [],
   "source": [
    "def train_svi_early_save(model, guide, svi, train_loader, num_epochs=10, patience=3, min_delta=0.001):\n",
    "    # Clear parameter store only ONCE at the beginning\n",
    "    pyro.clear_param_store()\n",
    "    model.train()\n",
    "    \n",
    "    # Ensure model is on the correct device\n",
    "    model.to(device)\n",
    "    \n",
    "    # Lists to store losses and accuracies\n",
    "    epoch_losses = []\n",
    "    epoch_accuracies = []\n",
    "    accuracy_epochs = []\n",
    "    \n",
    "    # Early stopping variables\n",
    "    best_accuracy = 0.0\n",
    "    best_epoch = 0\n",
    "    patience_counter = 0\n",
    "    best_model_state = None\n",
    "    best_guide_state = None\n",
    "    best_pyro_params = None\n",
    "    \n",
    "    for epoch in range(num_epochs):\n",
    "        epoch_loss = 0.0\n",
    "        num_batches = 0\n",
    "        for images, labels in tqdm(train_loader, desc=f\"Epoch {epoch+1}/{num_epochs}\"):\n",
    "            images, labels = images.to(device), labels.to(device)\n",
    "            \n",
    "            loss = svi.step(images, labels)\n",
    "            epoch_loss += loss\n",
    "            num_batches += 1\n",
    "            \n",
    "        avg_loss = epoch_loss / num_batches\n",
    "        epoch_losses.append(avg_loss)\n",
    "        \n",
    "        # Calculate accuracy every 10 epochs (and on the first and last epoch)\n",
    "        if (epoch + 1) % 10 == 0 or epoch == 0 or epoch == num_epochs - 1:\n",
    "            model.eval()\n",
    "            guide.eval()\n",
    "            \n",
    "            correct_predictions = 0\n",
    "            total_samples = 0\n",
    "            \n",
    "            with torch.no_grad():\n",
    "                for images, labels in tqdm(train_loader, desc=f\"Calculating accuracy for epoch {epoch+1}\"):\n",
    "                    images, labels = images.to(device), labels.to(device)\n",
    "                    \n",
    "                    # Sample from the guide to get model parameters\n",
    "                    guide_trace = pyro.poutine.trace(guide).get_trace(images)\n",
    "                    replayed_model = pyro.poutine.replay(model, trace=guide_trace)\n",
    "                    \n",
    "                    # Get predictions\n",
    "                    logits = replayed_model(images)\n",
    "                    predictions = torch.argmax(logits, dim=1)\n",
    "                    \n",
    "                    # Count correct predictions\n",
    "                    correct_predictions += (predictions == labels).sum().item()\n",
    "                    total_samples += labels.size(0)\n",
    "            \n",
    "            epoch_accuracy = correct_predictions / total_samples\n",
    "            epoch_accuracies.append(epoch_accuracy)\n",
    "            accuracy_epochs.append(epoch + 1)\n",
    "            \n",
    "            # Check for improvement\n",
    "            if epoch_accuracy > best_accuracy + min_delta:\n",
    "                best_accuracy = epoch_accuracy\n",
    "                best_epoch = epoch + 1\n",
    "                patience_counter = 0\n",
    "                \n",
    "                # Save best model states\n",
    "                best_model_state = model.state_dict().copy()\n",
    "                best_guide_state = guide.state_dict().copy()\n",
    "                best_pyro_params = pyro.get_param_store().get_state().copy()\n",
    "                \n",
    "                print(f\"Epoch {epoch+1} - ELBO Loss: {avg_loss:.4f}, Train Accuracy: {epoch_accuracy*100:.2f}% *** NEW BEST ***\")\n",
    "            else:\n",
    "                patience_counter += 1\n",
    "                print(f\"Epoch {epoch+1} - ELBO Loss: {avg_loss:.4f}, Train Accuracy: {epoch_accuracy*100:.2f}% (Best: {best_accuracy*100:.2f}% at epoch {best_epoch})\")\n",
    "                \n",
    "                # Early stopping check\n",
    "                if patience_counter >= patience:\n",
    "                    print(f\"\\nEarly stopping triggered! No improvement for {patience} evaluations.\")\n",
    "                    print(f\"Best accuracy: {best_accuracy*100:.2f}% at epoch {best_epoch}\")\n",
    "                    \n",
    "                    # Restore best model\n",
    "                    model.load_state_dict(best_model_state)\n",
    "                    guide.load_state_dict(best_guide_state)\n",
    "                    pyro.get_param_store().set_state(best_pyro_params)\n",
    "                    \n",
    "                    break\n",
    "            \n",
    "            model.train()  # Set back to training mode\n",
    "        else:\n",
    "            print(f\"Epoch {epoch+1} - ELBO Loss: {avg_loss:.4f}\")\n",
    "    \n",
    "    # If training completed without early stopping, still restore best model\n",
    "    if patience_counter < patience and best_model_state is not None:\n",
    "        print(f\"\\nTraining completed. Restoring best model from epoch {best_epoch} (accuracy: {best_accuracy*100:.2f}%)\")\n",
    "        model.load_state_dict(best_model_state)\n",
    "        guide.load_state_dict(best_guide_state)\n",
    "        pyro.get_param_store().set_state(best_pyro_params)\n",
    "    \n",
    "    return epoch_losses, epoch_accuracies, accuracy_epochs, best_epoch, best_accuracy"
   ]
  },
  {
   "cell_type": "code",
   "execution_count": null,
   "id": "e877f13a",
   "metadata": {},
   "outputs": [],
   "source": [
    "pyro.clear_param_store()\n",
    "\n",
    "# Ensure model and guide are on the correct device\n",
    "bayesian_model.to(device)\n",
    "guide.to(device)\n",
    "\n",
    "train_loader, test_loader = load_data(batch_size=54)\n",
    "\n",
    "# Train with early stopping\n",
    "losses, accuracies, accuracy_epochs, best_epoch, best_accuracy = train_svi(\n",
    "    bayesian_model, guide, svi, train_loader, \n",
    "    num_epochs=100, \n",
    "    patience=3,  # Stop if no improvement for 3 accuracy evaluations (30 epochs)\n",
    "    min_delta=0.001  # Minimum improvement threshold (0.1%)\n",
    ")\n",
    "\n",
    "print(f\"\\nFinal Results:\")\n",
    "print(f\"Best training accuracy: {best_accuracy*100:.2f}% at epoch {best_epoch}\")\n",
    "\n",
    "# Plot training curves\n",
    "plt.figure(figsize=(12, 4))\n",
    "\n",
    "plt.subplot(1, 2, 1)\n",
    "plt.plot(range(1, len(losses) + 1), losses)\n",
    "plt.axvline(x=best_epoch, color='red', linestyle='--', label=f'Best Model (Epoch {best_epoch})')\n",
    "plt.title('Training Loss')\n",
    "plt.xlabel('Epoch')\n",
    "plt.ylabel('ELBO Loss')\n",
    "plt.legend()\n",
    "plt.grid(True)\n",
    "\n",
    "plt.subplot(1, 2, 2)\n",
    "plt.plot(accuracy_epochs, accuracies, 'o-')\n",
    "plt.axvline(x=best_epoch, color='red', linestyle='--', label=f'Best Model (Epoch {best_epoch})')\n",
    "plt.axhline(y=best_accuracy, color='red', linestyle=':', alpha=0.7)\n",
    "plt.title('Training Accuracy (Every 10 Epochs)')\n",
    "plt.xlabel('Epoch')\n",
    "plt.ylabel('Accuracy')\n",
    "plt.legend()\n",
    "plt.grid(True)\n",
    "\n",
    "plt.tight_layout()\n",
    "plt.show()"
   ]
  },
  {
   "cell_type": "markdown",
   "id": "3d7c997e",
   "metadata": {},
   "source": [
    "## Tensorboard"
   ]
  },
  {
   "cell_type": "code",
   "execution_count": null,
   "id": "2d76b851",
   "metadata": {},
   "outputs": [],
   "source": [
    "from torch.utils.tensorboard import SummaryWriter\n",
    "import os"
   ]
  },
  {
   "cell_type": "code",
   "execution_count": null,
   "id": "1e8865b9",
   "metadata": {},
   "outputs": [],
   "source": [
    "def train_svi_with_tensorboard(model, guide, svi, train_loader, num_epochs=10, log_dir='runs/bayesian_cnn'):\n",
    "    # Clear parameter store only ONCE at the beginning\n",
    "    pyro.clear_param_store()\n",
    "    model.train()\n",
    "    \n",
    "    # Ensure model is on the correct device\n",
    "    model.to(device)\n",
    "    \n",
    "    # Initialize TensorBoard writer\n",
    "    writer = SummaryWriter(log_dir)\n",
    "    \n",
    "    # Lists to store losses and accuracies\n",
    "    epoch_losses = []\n",
    "    epoch_accuracies = []\n",
    "    accuracy_epochs = []\n",
    "    \n",
    "    for epoch in range(num_epochs):\n",
    "        epoch_loss = 0.0\n",
    "        num_batches = 0\n",
    "        for images, labels in tqdm(train_loader, desc=f\"Epoch {epoch+1}/{num_epochs}\"):\n",
    "            images, labels = images.to(device), labels.to(device)\n",
    "            \n",
    "            loss = svi.step(images, labels)\n",
    "            epoch_loss += loss\n",
    "            num_batches += 1\n",
    "            \n",
    "        avg_loss = epoch_loss / num_batches\n",
    "        epoch_losses.append(avg_loss)\n",
    "        \n",
    "        # Log loss to TensorBoard every epoch\n",
    "        writer.add_scalar('Loss/ELBO', avg_loss, epoch + 1)\n",
    "        \n",
    "        # Calculate accuracy every 10 epochs (and on the first and last epoch)\n",
    "        if (epoch + 1) % 10 == 0 or epoch == 0 or epoch == num_epochs - 1:\n",
    "            model.eval()\n",
    "            guide.eval()\n",
    "            \n",
    "            correct_predictions = 0\n",
    "            total_samples = 0\n",
    "            \n",
    "            with torch.no_grad():\n",
    "                for images, labels in tqdm(train_loader, desc=f\"Calculating accuracy for epoch {epoch+1}\"):\n",
    "                    images, labels = images.to(device), labels.to(device)\n",
    "                    \n",
    "                    # Sample from the guide to get model parameters\n",
    "                    guide_trace = pyro.poutine.trace(guide).get_trace(images)\n",
    "                    replayed_model = pyro.poutine.replay(model, trace=guide_trace)\n",
    "                    \n",
    "                    # Get predictions\n",
    "                    logits = replayed_model(images)\n",
    "                    predictions = torch.argmax(logits, dim=1)\n",
    "                    \n",
    "                    # Count correct predictions\n",
    "                    correct_predictions += (predictions == labels).sum().item()\n",
    "                    total_samples += labels.size(0)\n",
    "            \n",
    "            epoch_accuracy = correct_predictions / total_samples\n",
    "            epoch_accuracies.append(epoch_accuracy)\n",
    "            accuracy_epochs.append(epoch + 1)\n",
    "            \n",
    "            # Log accuracy to TensorBoard\n",
    "            writer.add_scalar('Accuracy/Train', epoch_accuracy, epoch + 1)\n",
    "            \n",
    "            model.train()  # Set back to training mode\n",
    "            \n",
    "            print(f\"Epoch {epoch+1} - ELBO Loss: {avg_loss:.4f}, Train Accuracy: {epoch_accuracy*100:.2f}%\")\n",
    "        else:\n",
    "            print(f\"Epoch {epoch+1} - ELBO Loss: {avg_loss:.4f}\")\n",
    "    \n",
    "    # Close the writer\n",
    "    writer.close()\n",
    "    \n",
    "    return epoch_losses, epoch_accuracies, accuracy_epochs"
   ]
  },
  {
   "cell_type": "code",
   "execution_count": null,
   "id": "c0d58a58",
   "metadata": {},
   "outputs": [],
   "source": [
    "# Train with TensorBoard logging\n",
    "losses, accuracies, accuracy_epochs = train_svi_with_tensorboard(\n",
    "    bayesian_model, guide, svi, train_loader, \n",
    "    num_epochs=100,\n",
    "    log_dir='runs/eurosat_bayesian_cnn_experiment'\n",
    ")"
   ]
  },
  {
   "cell_type": "code",
   "execution_count": null,
   "id": "5dc06dd8",
   "metadata": {},
   "outputs": [],
   "source": [
    "# Train with TensorBoard logging\n",
    "losses, accuracies, accuracy_epochs = train_svi_with_tensorboard(\n",
    "    bayesian_model, guide, svi, train_loader, \n",
    "    num_epochs=100,\n",
    "    log_dir='runs/eurosat_bayesian_cnn_experiment'\n",
    ")"
   ]
  },
  {
   "cell_type": "markdown",
   "id": "d5c59226",
   "metadata": {},
   "source": [
    "Feature TODO:\n",
    "1. Record loss after each epoch\n",
    "2. Send result to GPU"
   ]
  },
  {
   "cell_type": "markdown",
   "id": "9e7c29db",
   "metadata": {},
   "source": [
    "## Posterior"
   ]
  },
  {
   "cell_type": "code",
   "execution_count": 1,
   "id": "17eb6d23",
   "metadata": {},
   "outputs": [
    {
     "ename": "NameError",
     "evalue": "name 'guide' is not defined",
     "output_type": "error",
     "traceback": [
      "\u001b[31m---------------------------------------------------------------------------\u001b[39m",
      "\u001b[31mNameError\u001b[39m                                 Traceback (most recent call last)",
      "\u001b[36mCell\u001b[39m\u001b[36m \u001b[39m\u001b[32mIn[1]\u001b[39m\u001b[32m, line 1\u001b[39m\n\u001b[32m----> \u001b[39m\u001b[32m1\u001b[39m posterior = \u001b[43mguide\u001b[49m.get_posterior()\n",
      "\u001b[31mNameError\u001b[39m: name 'guide' is not defined"
     ]
    }
   ],
   "source": [
    "posterior = guide.get_posterior()"
   ]
  },
  {
   "cell_type": "markdown",
   "id": "dd6be4ca",
   "metadata": {},
   "source": []
  }
 ],
 "metadata": {
  "kernelspec": {
   "display_name": "bnntest",
   "language": "python",
   "name": "python3"
  },
  "language_info": {
   "codemirror_mode": {
    "name": "ipython",
    "version": 3
   },
   "file_extension": ".py",
   "mimetype": "text/x-python",
   "name": "python",
   "nbconvert_exporter": "python",
   "pygments_lexer": "ipython3",
   "version": "3.12.9"
  }
 },
 "nbformat": 4,
 "nbformat_minor": 5
}
