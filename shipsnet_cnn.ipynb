{
 "cells": [
  {
   "cell_type": "code",
   "execution_count": 1,
   "id": "5ef73b0d",
   "metadata": {},
   "outputs": [],
   "source": [
    "import torch\n",
    "import torch.nn as nn\n",
    "import torch.nn.functional as F\n",
    "import torchvision.datasets as datasets\n",
    "import torchvision.transforms as transforms\n",
    "from torch.utils.data import DataLoader, random_split\n",
    "import time\n",
    "import matplotlib.pyplot as plt\n",
    "import os\n",
    "from sklearn.model_selection import train_test_split\n",
    "from torch.utils.data import Subset\n",
    "import torch\n",
    "\n",
    "import pickle"
   ]
  },
  {
   "cell_type": "code",
   "execution_count": 2,
   "id": "abcaefca",
   "metadata": {},
   "outputs": [
    {
     "name": "stderr",
     "output_type": "stream",
     "text": [
      "c:\\Users\\Revalda Putawara\\.conda\\envs\\bnntest\\Lib\\site-packages\\tqdm\\auto.py:21: TqdmWarning: IProgress not found. Please update jupyter and ipywidgets. See https://ipywidgets.readthedocs.io/en/stable/user_install.html\n",
      "  from .autonotebook import tqdm as notebook_tqdm\n"
     ]
    }
   ],
   "source": [
    "import pyro\n",
    "import pyro.distributions as dist\n",
    "from pyro.nn import PyroModule, PyroSample"
   ]
  },
  {
   "cell_type": "code",
   "execution_count": 3,
   "id": "a6b509c7",
   "metadata": {},
   "outputs": [],
   "source": [
    "import pandas as pd"
   ]
  },
  {
   "cell_type": "code",
   "execution_count": 4,
   "id": "85255d4c",
   "metadata": {},
   "outputs": [],
   "source": [
    "device = torch.device(\"cuda\")"
   ]
  },
  {
   "cell_type": "code",
   "execution_count": 5,
   "id": "d9352c81",
   "metadata": {},
   "outputs": [],
   "source": [
    "from torchvision.datasets import ImageFolder"
   ]
  },
  {
   "cell_type": "code",
   "execution_count": 6,
   "id": "096fcda1",
   "metadata": {},
   "outputs": [],
   "source": [
    "dataset = ImageFolder(\n",
    "    root=\"data/shipsnet/foldered\",\n",
    "    transform=transforms.ToTensor()\n",
    ")"
   ]
  },
  {
   "cell_type": "code",
   "execution_count": 7,
   "id": "3f6b5f31",
   "metadata": {},
   "outputs": [],
   "source": [
    "loader = DataLoader(\n",
    "    dataset,\n",
    "    batch_size=64,\n",
    "    shuffle=False,\n",
    "    num_workers=1)"
   ]
  },
  {
   "cell_type": "code",
   "execution_count": 8,
   "id": "9b3be839",
   "metadata": {},
   "outputs": [],
   "source": [
    "shipsnet_mean = [0.4119, 0.4243, 0.3724]\n",
    "shipsnet_std = [0.1899, 0.1569, 0.1515]\n",
    "\n",
    "def load_data(batch_size=16):\n",
    "    transform = transforms.Compose([\n",
    "        transforms.Resize((64, 64)),\n",
    "        transforms.ToTensor(),\n",
    "        transforms.Normalize(mean=shipsnet_mean, \n",
    "                             std=shipsnet_std)\n",
    "    ])\n",
    "\n",
    "    dataset = ImageFolder(\n",
    "    root=\"data/shipsnet/foldered\",\n",
    "    transform=transform\n",
    "    )\n",
    "\n",
    "    torch.manual_seed(42)\n",
    "\n",
    "    #train_size = int(0.8 * len(dataset))\n",
    "    #test_size = len(dataset) - train_size\n",
    "    #train_dataset, test_dataset = random_split(dataset, [train_size, test_size])\n",
    "    \n",
    "    with open('datasplit/shipsnet_split_indices.pkl', 'rb') as f:\n",
    "        split = pickle.load(f)\n",
    "        train_dataset = Subset(dataset, split['train'])\n",
    "        test_dataset = Subset(dataset, split['test'])\n",
    "\n",
    "    # Add num_workers and pin_memory for faster data loading\n",
    "    train_loader = DataLoader(train_dataset, batch_size=batch_size, shuffle=True, \n",
    "                             num_workers=4, pin_memory=True, persistent_workers=True)\n",
    "    test_loader = DataLoader(test_dataset, batch_size=batch_size,\n",
    "                            num_workers=4, pin_memory=True, persistent_workers=True)\n",
    "    return train_loader, test_loader, train_dataset, test_dataset"
   ]
  },
  {
   "cell_type": "code",
   "execution_count": 9,
   "id": "c740f66a",
   "metadata": {},
   "outputs": [],
   "source": [
    "train_loader, test_loader, train_ds, test_ds = load_data(16)"
   ]
  },
  {
   "cell_type": "code",
   "execution_count": 10,
   "id": "738368cb",
   "metadata": {},
   "outputs": [],
   "source": [
    "import os\n",
    "import torch\n",
    "import torch.nn as nn\n",
    "import torch.optim as optim\n",
    "from torch.utils.data import DataLoader, random_split\n",
    "from torchvision import transforms"
   ]
  },
  {
   "cell_type": "code",
   "execution_count": 11,
   "id": "a3788a2d",
   "metadata": {},
   "outputs": [],
   "source": [
    "lr          = 1e-3\n",
    "num_epochs  = 20"
   ]
  },
  {
   "cell_type": "code",
   "execution_count": 12,
   "id": "6cfbfe17",
   "metadata": {},
   "outputs": [
    {
     "name": "stdout",
     "output_type": "stream",
     "text": [
      "Epoch  1/20 Train: loss=0.5575, acc=0.7488 | Val:   loss=0.4904, acc=0.7500\n",
      "Epoch  2/20 Train: loss=0.3250, acc=0.8678 | Val:   loss=0.3885, acc=0.8213\n",
      "Epoch  3/20 Train: loss=0.1995, acc=0.9266 | Val:   loss=0.2180, acc=0.9125\n",
      "Epoch  4/20 Train: loss=0.1566, acc=0.9403 | Val:   loss=0.1219, acc=0.9525\n",
      "Epoch  5/20 Train: loss=0.1516, acc=0.9437 | Val:   loss=0.1388, acc=0.9525\n",
      "Epoch  6/20 Train: loss=0.1344, acc=0.9509 | Val:   loss=0.1263, acc=0.9437\n",
      "Epoch  7/20 Train: loss=0.1242, acc=0.9575 | Val:   loss=0.1079, acc=0.9575\n",
      "Epoch  8/20 Train: loss=0.1112, acc=0.9566 | Val:   loss=0.1032, acc=0.9563\n",
      "Epoch  9/20 Train: loss=0.1011, acc=0.9672 | Val:   loss=0.0829, acc=0.9675\n",
      "Epoch 10/20 Train: loss=0.0890, acc=0.9675 | Val:   loss=0.1250, acc=0.9500\n",
      "Epoch 11/20 Train: loss=0.0695, acc=0.9744 | Val:   loss=0.0708, acc=0.9762\n",
      "Epoch 12/20 Train: loss=0.0603, acc=0.9812 | Val:   loss=0.0670, acc=0.9775\n",
      "Epoch 13/20 Train: loss=0.0531, acc=0.9812 | Val:   loss=0.0637, acc=0.9762\n",
      "Epoch 14/20 Train: loss=0.0520, acc=0.9816 | Val:   loss=0.0634, acc=0.9750\n",
      "Epoch 15/20 Train: loss=0.0487, acc=0.9803 | Val:   loss=0.0659, acc=0.9762\n",
      "Epoch 16/20 Train: loss=0.0461, acc=0.9838 | Val:   loss=0.0653, acc=0.9750\n",
      "Epoch 17/20 Train: loss=0.0411, acc=0.9853 | Val:   loss=0.0645, acc=0.9738\n",
      "Epoch 18/20 Train: loss=0.0402, acc=0.9838 | Val:   loss=0.0619, acc=0.9750\n",
      "Epoch 19/20 Train: loss=0.0402, acc=0.9862 | Val:   loss=0.0624, acc=0.9762\n",
      "Epoch 20/20 Train: loss=0.0415, acc=0.9850 | Val:   loss=0.0627, acc=0.9750\n"
     ]
    }
   ],
   "source": [
    "# ─── 5. Model Definition ──────────────────────────────────────────────────────\n",
    "class ShipsCNN(nn.Module):\n",
    "    def __init__(self):\n",
    "        super().__init__()\n",
    "        self.features = nn.Sequential(\n",
    "            nn.Conv2d(3, 32, 3, padding=1), nn.ReLU(inplace=True), nn.MaxPool2d(2),\n",
    "            nn.Conv2d(32, 64, 3, padding=1), nn.ReLU(inplace=True), nn.MaxPool2d(2),\n",
    "            nn.Conv2d(64,128, 3, padding=1), nn.ReLU(inplace=True), nn.MaxPool2d(2),\n",
    "            nn.AdaptiveAvgPool2d((1,1))     # → [B,128,1,1]\n",
    "        )\n",
    "        self.classifier = nn.Sequential(\n",
    "            nn.Flatten(),                   # → [B,128]\n",
    "            nn.Linear(128, 256),\n",
    "            nn.ReLU(inplace=True),\n",
    "            nn.Dropout(0.5),\n",
    "            nn.Linear(256, 2)\n",
    "        )\n",
    "\n",
    "    def forward(self, x):\n",
    "        x = self.features(x)\n",
    "        return self.classifier(x)\n",
    "\n",
    "model = ShipsCNN().to(device)\n",
    "\n",
    "# ─── 6. Loss, Optimizer & Scheduler ───────────────────────────────────────────\n",
    "criterion = nn.CrossEntropyLoss()\n",
    "optimizer = optim.Adam(model.parameters(), lr=lr)\n",
    "scheduler = optim.lr_scheduler.StepLR(optimizer, step_size=10, gamma=0.1)\n",
    "\n",
    "# ─── 7. Training Loop ─────────────────────────────────────────────────────────\n",
    "for epoch in range(1, num_epochs + 1):\n",
    "    # — Train —\n",
    "    model.train()\n",
    "    running_loss = running_corrects = 0\n",
    "    for imgs, labels in train_loader:\n",
    "        imgs  = imgs.to(device, non_blocking=True)\n",
    "        labels= labels.to(device, non_blocking=True)\n",
    "\n",
    "        optimizer.zero_grad()\n",
    "        outputs = model(imgs)\n",
    "        loss = criterion(outputs, labels)\n",
    "        loss.backward()\n",
    "        optimizer.step()\n",
    "\n",
    "        preds = outputs.argmax(dim=1)\n",
    "        running_loss    += loss.item() * imgs.size(0)\n",
    "        running_corrects+= (preds == labels).sum().item()\n",
    "\n",
    "    epoch_loss = running_loss / len(train_ds)\n",
    "    epoch_acc  = running_corrects / len(train_ds)\n",
    "\n",
    "    # — Validate —\n",
    "    model.eval()\n",
    "    val_loss = val_corrects = 0\n",
    "    with torch.no_grad():\n",
    "        for imgs, labels in test_loader:\n",
    "            imgs   = imgs.to(device)\n",
    "            labels = labels.to(device)\n",
    "            outputs= model(imgs)\n",
    "            loss   = criterion(outputs, labels)\n",
    "            preds  = outputs.argmax(dim=1)\n",
    "\n",
    "            val_loss     += loss.item() * imgs.size(0)\n",
    "            val_corrects += (preds == labels).sum().item()\n",
    "\n",
    "    val_loss = val_loss / len(test_ds)\n",
    "    val_acc  = val_corrects / len(test_ds)\n",
    "    scheduler.step()\n",
    "\n",
    "    print(f\"Epoch {epoch:2d}/{num_epochs} \"\n",
    "          f\"Train: loss={epoch_loss:.4f}, acc={epoch_acc:.4f} | \"\n",
    "          f\"Val:   loss={val_loss:.4f}, acc={val_acc:.4f}\")\n",
    "\n",
    "# ─── 8. Save Checkpoint ───────────────────────────────────────────────────────\n",
    "#os.makedirs(\"checkpoints\", exist_ok=True)\n",
    "#torch.save(model.state_dict(), \"checkpoints/shipsnet_cnn.pth\")\n",
    "#print(\"Model saved to checkpoints/shipsnet_cnn.pth\")"
   ]
  },
  {
   "cell_type": "code",
   "execution_count": null,
   "id": "b9df08f6",
   "metadata": {},
   "outputs": [],
   "source": [
    "# ─── 6. Save Model ─────────────────────────────────────────────────────────────\n",
    "os.makedirs(\"checkpoints\", exist_ok=True)\n",
    "torch.save(model.state_dict(), \"checkpoints/shipsnet_cnn.pth\")\n",
    "print(\"Training complete. Model saved to checkpoints/shipsnet_cnn.pth\")"
   ]
  }
 ],
 "metadata": {
  "kernelspec": {
   "display_name": "bnntest",
   "language": "python",
   "name": "python3"
  },
  "language_info": {
   "codemirror_mode": {
    "name": "ipython",
    "version": 3
   },
   "file_extension": ".py",
   "mimetype": "text/x-python",
   "name": "python",
   "nbconvert_exporter": "python",
   "pygments_lexer": "ipython3",
   "version": "3.12.9"
  }
 },
 "nbformat": 4,
 "nbformat_minor": 5
}
