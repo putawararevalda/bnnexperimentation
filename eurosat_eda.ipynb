{
 "cells": [
  {
   "cell_type": "code",
   "execution_count": 1,
   "id": "f0d655f2",
   "metadata": {},
   "outputs": [
    {
     "name": "stdout",
     "output_type": "stream",
     "text": [
      "EuroSAT Classes: ['AnnualCrop', 'Forest', 'HerbaceousVegetation', 'Highway', 'Industrial', 'Pasture', 'PermanentCrop', 'Residential', 'River', 'SeaLake']\n"
     ]
    }
   ],
   "source": [
    "# 🛠️ 1. Setup\n",
    "import torch\n",
    "from torchvision import datasets, transforms\n",
    "import matplotlib.pyplot as plt\n",
    "import numpy as np\n",
    "import os\n",
    "from collections import Counter\n",
    "\n",
    "from torch.utils.data import Subset\n",
    "import pickle\n",
    "\n",
    "# 📦 Ensure data is downloaded and transform is applied\n",
    "transform = transforms.Compose([\n",
    "    transforms.Resize((64, 64)),\n",
    "    transforms.ToTensor()\n",
    "])\n",
    "\n",
    "# 📥 Load the EuroSAT dataset\n",
    "dataset = datasets.EuroSAT(root=\"./data\", transform=transform, download=True)\n",
    "\n",
    "# Get class labels\n",
    "class_names = dataset.classes\n",
    "print(\"EuroSAT Classes:\", class_names)\n"
   ]
  },
  {
   "cell_type": "code",
   "execution_count": 2,
   "id": "bc1d3e1b",
   "metadata": {},
   "outputs": [],
   "source": [
    "from torch.utils.data import DataLoader"
   ]
  },
  {
   "cell_type": "code",
   "execution_count": 3,
   "id": "b8d0ac20",
   "metadata": {},
   "outputs": [],
   "source": [
    "def compute_mean_std(dataset):\n",
    "    loader = DataLoader(dataset, batch_size=64, shuffle=False)\n",
    "    mean = 0.0\n",
    "    std = 0.0\n",
    "    total_images = 0\n",
    "    for images, _ in loader:\n",
    "        batch_samples = images.size(0)\n",
    "        images = images.view(batch_samples, images.size(1), -1)\n",
    "        mean += images.mean(2).sum(0)\n",
    "        std += images.std(2).sum(0)\n",
    "        total_images += batch_samples\n",
    "\n",
    "    mean /= total_images\n",
    "    std /= total_images\n",
    "    return mean, std"
   ]
  },
  {
   "cell_type": "code",
   "execution_count": 4,
   "id": "f22acb1b",
   "metadata": {},
   "outputs": [],
   "source": [
    "mean, std = compute_mean_std(dataset)"
   ]
  },
  {
   "cell_type": "code",
   "execution_count": 5,
   "id": "0d658bda",
   "metadata": {},
   "outputs": [
    {
     "data": {
      "text/plain": [
       "tensor([0.3444, 0.3803, 0.4078])"
      ]
     },
     "execution_count": 5,
     "metadata": {},
     "output_type": "execute_result"
    }
   ],
   "source": [
    "mean"
   ]
  },
  {
   "cell_type": "code",
   "execution_count": 6,
   "id": "e65f97c3",
   "metadata": {},
   "outputs": [
    {
     "data": {
      "text/plain": [
       "tensor([0.0914, 0.0651, 0.0552])"
      ]
     },
     "execution_count": 6,
     "metadata": {},
     "output_type": "execute_result"
    }
   ],
   "source": [
    "std"
   ]
  },
  {
   "cell_type": "code",
   "execution_count": null,
   "id": "0c6d5b40",
   "metadata": {},
   "outputs": [],
   "source": [
    "from bayesian_torch.models.dnn_to_bnn import dnn_to_bnn"
   ]
  },
  {
   "cell_type": "code",
   "execution_count": null,
   "id": "daddedc8",
   "metadata": {},
   "outputs": [],
   "source": [
    "# 📊 2. Basic Info\n",
    "print(f\"Total number of images: {len(dataset)}\")\n",
    "print(f\"Number of classes: {len(class_names)}\")"
   ]
  },
  {
   "cell_type": "code",
   "execution_count": null,
   "id": "96da3244",
   "metadata": {},
   "outputs": [],
   "source": [
    "# 📈 3. Count number of images per class\n",
    "#labels = [dataset[i][1] for i in range(len(dataset))]\n",
    "#label_counts = Counter(labels)\n",
    "\n",
    "# Convert to readable format\n",
    "#class_counts = {class_names[i]: label_counts[i] for i in range(len(class_names))}\n",
    "#for cls, count in class_counts.items():\n",
    "#    print(f\"{cls:20s}: {count} images\")"
   ]
  },
  {
   "cell_type": "code",
   "execution_count": null,
   "id": "d5d5232b",
   "metadata": {},
   "outputs": [],
   "source": [
    "# 📉 Optional: Visualize counts as a bar chart\n",
    "#plt.figure(figsize=(10, 4))\n",
    "#plt.bar(class_counts.keys(), class_counts.values())\n",
    "#plt.title(\"Number of Images per Class in EuroSAT\")\n",
    "#plt.ylabel(\"Image Count\")\n",
    "#plt.xticks(rotation=45)\n",
    "#plt.tight_layout()\n",
    "#plt.show()"
   ]
  },
  {
   "cell_type": "code",
   "execution_count": null,
   "id": "a2e56d1a",
   "metadata": {},
   "outputs": [],
   "source": [
    "# 🖼️ 4. Show Sample Images\n",
    "def show_images(dataset, num_images=10):\n",
    "    plt.figure(figsize=(15, 4))\n",
    "    for i in range(num_images):\n",
    "        img, label = dataset[i]\n",
    "        img = img.permute(1, 2, 0)  # Convert [C,H,W] to [H,W,C]\n",
    "        plt.subplot(1, num_images, i + 1)\n",
    "        plt.imshow(img)\n",
    "        plt.title(class_names[label])\n",
    "        plt.axis('off')\n",
    "    plt.tight_layout()\n",
    "    plt.show()\n",
    "\n",
    "show_images(dataset, num_images=10)\n"
   ]
  },
  {
   "cell_type": "code",
   "execution_count": null,
   "id": "9b1470e1",
   "metadata": {},
   "outputs": [],
   "source": [
    "# 🔍 5. Inspect Image Tensor\n",
    "img_tensor, label = dataset[0]\n",
    "print(f\"Image tensor shape: {img_tensor.shape}\")\n",
    "print(f\"Label index: {label} ({class_names[label]})\")\n",
    "print(f\"Min/Max pixel value: {img_tensor.min():.2f}, {img_tensor.max():.2f}\")\n"
   ]
  },
  {
   "cell_type": "code",
   "execution_count": null,
   "id": "d6b37ebf",
   "metadata": {},
   "outputs": [],
   "source": [
    "import torch\n",
    "import torch.nn as nn\n",
    "import torchvision.transforms as transforms\n",
    "import torchvision.datasets as datasets\n",
    "import torch.nn.functional as F\n",
    "import numpy as np\n",
    "from torch.utils.data import DataLoader, random_split"
   ]
  },
  {
   "cell_type": "code",
   "execution_count": null,
   "id": "264738ab",
   "metadata": {},
   "outputs": [],
   "source": [
    "# ----- 1. Bayesian Layer with Gaussian Weight Distribution -----\n",
    "class BayesianLinear(nn.Module):\n",
    "    def __init__(self, in_features, out_features, prior_std=1.0):\n",
    "        super().__init__()\n",
    "        self.flatten = nn.Flatten()\n",
    "        self.relu = nn.ReLU()\n",
    "        self.in_features = in_features\n",
    "        self.out_features = out_features\n",
    "\n",
    "        self.weight_mu = nn.Parameter(torch.Tensor(out_features, in_features).uniform_(-0.2, 0.2))\n",
    "        self.weight_log_sigma = nn.Parameter(torch.Tensor(out_features, in_features).fill_(-5))\n",
    "        self.bias_mu = nn.Parameter(torch.Tensor(out_features).uniform_(-0.2, 0.2))\n",
    "        self.bias_log_sigma = nn.Parameter(torch.Tensor(out_features).fill_(-5))\n",
    "\n",
    "        self.prior_std = prior_std\n",
    "\n",
    "    def forward(self, x):\n",
    "        weight_sigma = torch.exp(self.weight_log_sigma)\n",
    "        bias_sigma = torch.exp(self.bias_log_sigma)\n",
    "\n",
    "        # Sample weights\n",
    "        weight_eps = torch.randn_like(weight_sigma)\n",
    "        bias_eps = torch.randn_like(bias_sigma)\n",
    "        weight = self.weight_mu + weight_sigma * weight_eps\n",
    "        bias = self.bias_mu + bias_sigma * bias_eps\n",
    "\n",
    "        self.kl = self._kl_divergence(weight, self.weight_mu, weight_sigma) + \\\n",
    "                  self._kl_divergence(bias, self.bias_mu, bias_sigma)\n",
    "\n",
    "        return F.linear(x, weight, bias)\n",
    "\n",
    "    def _kl_divergence(self, q_sample, mu, sigma):\n",
    "        # KL divergence between posterior N(mu, sigma^2) and prior N(0, prior_std^2)\n",
    "        prior_sigma = self.prior_std\n",
    "        return torch.sum(\n",
    "            torch.log(prior_sigma / sigma) +\n",
    "            (sigma**2 + mu**2) / (2 * prior_sigma**2) - 0.5\n",
    "        )\n",
    "\n",
    "# ----- 2. Bayesian Neural Network -----\n",
    "class BNN(nn.Module):\n",
    "    def __init__(self):\n",
    "        super().__init__()\n",
    "        self.flatten = nn.Flatten()\n",
    "        self.b1 = BayesianLinear(64 * 64 * 3, 128)\n",
    "        self.b2 = BayesianLinear(128, 10)\n",
    "\n",
    "    def forward(self, x):\n",
    "        x = self.flatten(x)\n",
    "        x = F.relu(self.b1(x))\n",
    "        return self.b2(x)\n",
    "\n",
    "    def kl_loss(self):\n",
    "        return self.b1.kl + self.b2.kl"
   ]
  },
  {
   "cell_type": "code",
   "execution_count": null,
   "id": "c6195cf5",
   "metadata": {},
   "outputs": [],
   "source": [
    "device = torch.device(\"cuda\" if torch.cuda.is_available() else \"cpu\")\n",
    "#model = BNN()\n",
    "print(f\"Using device: {device}\")\n",
    "model = BNN().to(device)\n",
    "model.load_state_dict(torch.load(r\"results_eurosat/bnn_eurosat_20250612_171219.pth\", map_location=torch.device(device)))\n",
    "#model.load_state_dict(torch.load(r\"results_eurosat/bnn_eurosat_20250612_173201.pth\", map_location=torch.device(device)))\n",
    "model.eval()"
   ]
  },
  {
   "cell_type": "code",
   "execution_count": null,
   "id": "86e49acd",
   "metadata": {},
   "outputs": [],
   "source": []
  },
  {
   "cell_type": "code",
   "execution_count": null,
   "id": "5b0b3eb3",
   "metadata": {},
   "outputs": [],
   "source": [
    "image, label = dataset[3]\n",
    "input_tensor = image.unsqueeze(0).to(device)  # Add batch dimension\n",
    "\n",
    "# Forward pass with Bayesian inference\n",
    "with torch.no_grad():\n",
    "    outputs = model(input_tensor)\n",
    "    probs = torch.softmax(outputs, dim=1)\n",
    "    pred_class = probs.argmax().item()\n",
    "\n",
    "true_tag = \"XX\"\n",
    "\n",
    "if pred_class != class_names[label]:\n",
    "    true_tag = \"CORRECT!!!\"\n",
    "\n",
    "print(f\"True label: {class_names[label]}\")\n",
    "print(f\"Predicted: {class_names[pred_class]} (Confidence: {probs[0][pred_class]:.2f})\")\n",
    "\n",
    "#show the image with matplotlib, with the title as the predicted class with confidence and real class\n",
    "plt.imshow(image.permute(1, 2, 0))\n",
    "plt.title(true_tag + f\" |||BNN\\nPredicted: {class_names[pred_class]} (Confidence: {probs[0][pred_class]:.2f})\\nTrue label: {class_names[label]}\")"
   ]
  },
  {
   "cell_type": "code",
   "execution_count": null,
   "id": "443e293a",
   "metadata": {},
   "outputs": [],
   "source": []
  },
  {
   "cell_type": "code",
   "execution_count": null,
   "id": "e93a0f46",
   "metadata": {},
   "outputs": [],
   "source": [
    "# Define the same CNN model structure\n",
    "class CNN(nn.Module):\n",
    "    def __init__(self):\n",
    "        super().__init__()\n",
    "        self.conv1 = nn.Conv2d(3, 32, kernel_size=5, stride=1, padding=2)\n",
    "        self.conv2 = nn.Conv2d(32, 64, kernel_size=5, stride=1, padding=2)\n",
    "        self.pool = nn.MaxPool2d(kernel_size=2, stride=2)\n",
    "        self.fc1 = nn.Linear(64 * 16 * 16, 128)\n",
    "        self.fc2 = nn.Linear(128, 10)\n",
    "\n",
    "    def forward(self, x):\n",
    "        x = self.pool(F.relu(self.conv1(x)))   # -> (32, 32, 32)\n",
    "        x = self.pool(F.relu(self.conv2(x)))   # -> (64, 16, 16)\n",
    "        x = x.view(x.size(0), -1)\n",
    "        x = F.relu(self.fc1(x))\n",
    "        x = self.fc2(x)\n",
    "        return x"
   ]
  },
  {
   "cell_type": "code",
   "execution_count": null,
   "id": "478494e4",
   "metadata": {},
   "outputs": [],
   "source": [
    "# Load the model\n",
    "model_cnn = CNN()\n",
    "model_cnn.load_state_dict(torch.load(\"results_eurosat/cnn_model.pth\", map_location=\"cpu\"))\n",
    "model_cnn.eval()  # Set to evaluation mode"
   ]
  },
  {
   "cell_type": "code",
   "execution_count": null,
   "id": "ef48eb09",
   "metadata": {},
   "outputs": [],
   "source": [
    "transform_cnn = transforms.Compose([\n",
    "    transforms.Resize((64, 64)),\n",
    "    transforms.ToTensor(),\n",
    "    transforms.Normalize(mean=[0.3444, 0.3809, 0.4082], std=[0.1809, 0.1331, 0.1137])\n",
    "])\n",
    "\n",
    "# Load dataset\n",
    "dataset_cnn_all = datasets.EuroSAT(root='./data', transform=transform_cnn, download=True)\n",
    "\n",
    "with open('datasplit/split_indices.pkl', 'rb') as f:\n",
    "    split = pickle.load(f)\n",
    "    dataset_cnn_train = Subset(dataset, split['train'])\n",
    "    dataset_cnn = Subset(dataset, split['test'])"
   ]
  },
  {
   "cell_type": "code",
   "execution_count": null,
   "id": "3eb5ac8a",
   "metadata": {},
   "outputs": [],
   "source": [
    "#image, label = dataset[25]\n",
    "#input_tensor = image.unsqueeze(0).to(device)  # Add batch dimension\n",
    "# Load a sample image\n",
    "image, label = dataset_cnn[0]  # Pick any index\n",
    "input_tensor = image.unsqueeze(0)  # Add batch dimension\n",
    "\n",
    "\n",
    "# Forward pass with Bayesian inference\n",
    "with torch.no_grad():\n",
    "    output = model_cnn(input_tensor)  # Forward pass\n",
    "    probabilities = F.softmax(output, dim=1)  # Confidence scores\n",
    "    predicted_class = probabilities.argmax(dim=1).item()\n",
    "    confidence = probabilities[0, predicted_class].item()\n",
    "\n",
    "print(f\"True label: {class_names[label]}\")\n",
    "print(f\"Predicted: {class_names[predicted_class]} (Confidence: {probabilities[0][predicted_class]:.2f})\")\n",
    "\n",
    "true_tag = \"XX\"\n",
    "\n",
    "if class_names[predicted_class] == class_names[label]:\n",
    "    true_tag = \"CORRECT!!!\"\n",
    "\n",
    "#show the image with matplotlib, with the title as the predicted class with confidence and real class\n",
    "plt.imshow(image.permute(1, 2, 0).numpy() * 0.1137 + 0.4082)\n",
    "plt.title(true_tag + f\" ||| CNN\\nPredicted: {class_names[predicted_class]} (Confidence: {probabilities[0][predicted_class]:.2f})\\nTrue label: {class_names[label]}\")"
   ]
  },
  {
   "cell_type": "code",
   "execution_count": null,
   "id": "84ef9100",
   "metadata": {},
   "outputs": [],
   "source": [
    "class BCNN(nn.Module):\n",
    "    def __init__(self):\n",
    "        super().__init__()\n",
    "        self.conv1 = nn.Conv2d(3, 32, kernel_size=5, stride=1, padding=2)\n",
    "        self.conv2 = nn.Conv2d(32, 64, kernel_size=5, stride=1, padding=2)\n",
    "        self.pool = nn.MaxPool2d(kernel_size=2, stride=2)\n",
    "        self.fc1 = nn.Linear(64 * 16 * 16, 128)\n",
    "        self.fc2 = nn.Linear(128, 10)\n",
    "\n",
    "    def forward(self, x):\n",
    "        x = self.pool(F.relu(self.conv1(x)))   # -> (32, 32, 32)\n",
    "        x = self.pool(F.relu(self.conv2(x)))   # -> (64, 16, 16)\n",
    "        x = x.view(x.size(0), -1)\n",
    "        x = F.relu(self.fc1(x))\n",
    "        x = self.fc2(x)\n",
    "        return x"
   ]
  },
  {
   "cell_type": "code",
   "execution_count": null,
   "id": "1d1e62ca",
   "metadata": {},
   "outputs": [],
   "source": [
    "# Load the model\n",
    "model_bcnn = BCNN()\n",
    "\n",
    "const_bnn_prior_parameters = {\n",
    "    \"prior_mu\": 0.0,\n",
    "    \"prior_sigma\": 1.0,\n",
    "    \"posterior_mu_init\": 0.0,\n",
    "    \"posterior_rho_init\": -3.0,\n",
    "    \"type\": \"Reparameterization\",  # Flipout or Reparameterization\n",
    "    \"moped_enable\": False,  # True to initialize mu/sigma from the pretrained dnn weights\n",
    "    \"moped_delta\": 0.5,\n",
    "    }\n",
    "\n",
    "dnn_to_bnn(\n",
    "    model_bcnn,\n",
    "    const_bnn_prior_parameters\n",
    ")\n",
    "\n",
    "model_bcnn.load_state_dict(torch.load(\"results_eurosat/bayesian_cnn_model.pth\", map_location=\"cpu\"))\n",
    "model_bcnn.eval()  # Set to evaluation mode"
   ]
  },
  {
   "cell_type": "code",
   "execution_count": null,
   "id": "48d7ac4f",
   "metadata": {},
   "outputs": [],
   "source": [
    "image, label = dataset_cnn[0]  # Pick any index\n",
    "input_tensor = image.unsqueeze(0)  # Add batch dimension\n",
    "\n",
    "\n",
    "# Forward pass with Bayesian inference\n",
    "with torch.no_grad():\n",
    "    output = model_bcnn(input_tensor)  # Forward pass\n",
    "    probabilities = F.softmax(output, dim=1)  # Confidence scores\n",
    "    predicted_class = probabilities.argmax(dim=1).item()\n",
    "    confidence = probabilities[0, predicted_class].item()\n",
    "\n",
    "print(f\"True label: {class_names[label]}\")\n",
    "print(f\"Predicted: {class_names[predicted_class]} (Confidence: {probabilities[0][predicted_class]:.2f})\")\n",
    "\n",
    "true_tag = \"XX\"\n",
    "\n",
    "if class_names[predicted_class] == class_names[label]:\n",
    "    true_tag = \"CORRECT!!!\"\n",
    "\n",
    "#show the image with matplotlib, with the title as the predicted class with confidence and real class\n",
    "plt.imshow(image.permute(1, 2, 0).numpy() * 0.1137 + 0.4082)\n",
    "plt.title(true_tag + f\" ||| BCNN\\nPredicted: {class_names[predicted_class]} (Confidence: {probabilities[0][predicted_class]:.2f})\\nTrue label: {class_names[label]}\")"
   ]
  },
  {
   "cell_type": "code",
   "execution_count": null,
   "id": "21a6c7dd",
   "metadata": {},
   "outputs": [],
   "source": [
    "model_bcnn"
   ]
  },
  {
   "cell_type": "code",
   "execution_count": null,
   "id": "136691b8",
   "metadata": {},
   "outputs": [],
   "source": [
    "# make the plot as one, but show both bcnn and cnn predictions side by side\n",
    "image, label = dataset_cnn[0]  # Pick any index\n",
    "input_tensor = image.unsqueeze(0)  # Add batch dimension\n",
    "\n",
    "\n",
    "\n",
    "plt.imshow(image.permute(1, 2, 0).numpy() * 0.1137 + 0.4082)"
   ]
  },
  {
   "cell_type": "code",
   "execution_count": null,
   "id": "50a90ab9",
   "metadata": {},
   "outputs": [],
   "source": [
    "dataset_cnn.indices"
   ]
  },
  {
   "cell_type": "code",
   "execution_count": null,
   "id": "3a689530",
   "metadata": {},
   "outputs": [],
   "source": [
    "len(dataset_cnn)"
   ]
  },
  {
   "cell_type": "code",
   "execution_count": null,
   "id": "be3e2994",
   "metadata": {},
   "outputs": [],
   "source": [
    "len(dataset_cnn.indices)"
   ]
  },
  {
   "cell_type": "code",
   "execution_count": null,
   "id": "d75a7ff2",
   "metadata": {},
   "outputs": [],
   "source": [
    "#image, label = dataset[25]\n",
    "#input_tensor = image.unsqueeze(0).to(device)  # Add batch dimension\n",
    "# Load a sample image\n",
    "\n",
    "decision_threshold = 0.8  # Confidence threshold for known/unknown\n",
    "\n",
    "dataset_cnn_indices = dataset_cnn.indices\n",
    "\n",
    "image, label = dataset_cnn[0]  # Pick any index\n",
    "input_tensor = image.unsqueeze(0)  # Add batch dimension\n",
    "\n",
    "\n",
    "# Forward pass with Bayesian inference\n",
    "with torch.no_grad():\n",
    "    output = model_cnn(input_tensor)  # Forward pass\n",
    "    probabilities = F.softmax(output, dim=1)  # Confidence scores\n",
    "    predicted_class = probabilities.argmax(dim=1).item()\n",
    "    confidence = probabilities[0, predicted_class].item()\n",
    "\n",
    "#with torch.no_grad():\n",
    "#    output_bcnn = model_bcnn(input_tensor)  # Forward pass\n",
    "#    probabilities_bcnn = F.softmax(output_bcnn, dim=1)  # Confidence scores\n",
    "#    predicted_class_bcnn = probabilities_bcnn.argmax(dim=1).item()\n",
    "#    confidence_bcnn = probabilities_bcnn[0, predicted_class_bcnn].item()\n",
    "\n",
    "outputs_bcnn = []\n",
    "with torch.no_grad():\n",
    "    for _ in range(20):  # 20 Monte Carlo samples\n",
    "        output_bcnn = model_bcnn(input_tensor)\n",
    "        prob_bcnn = F.softmax(output_bcnn, dim=1)\n",
    "        outputs_bcnn.append(prob_bcnn)\n",
    "\n",
    "#print the label for the highest probability for each outputs_bcnn entry\n",
    "outputs_bcnn_label = [class_names[output_bcnn.argmax(dim=1)] for output_bcnn in outputs_bcnn]\n",
    "print(\"BCNN Predictions (20 samples):\", outputs_bcnn_label)\n",
    "\n",
    "probabilities_bcnn = torch.stack(outputs_bcnn).mean(dim=0)  # shape: [1, num_classes]\n",
    "predicted_class_bcnn = probabilities_bcnn.argmax(dim=1).item()\n",
    "\n",
    "bcnn_confidences, bcnn_preds = probabilities_bcnn.max(dim=1)\n",
    "print(bcnn_confidences)\n",
    "print(bcnn_preds)\n",
    "\n",
    "#print(f\"True label: {class_names[label]}\")\n",
    "#print(f\"Predicted: {class_names[predicted_class]} (Confidence: {probabilities[0][predicted_class]:.2f})\")\n",
    "\n",
    "#print(f\"True label: {class_names[label]}\")\n",
    "#print(f\"Predicted: {class_names[predicted_class]} (Confidence: {probabilities[0][predicted_class]:.2f})\")\n",
    "\n",
    "#true_tag = \"XX\"\n",
    "\n",
    "#if class_names[predicted_class] == class_names[label]:\n",
    "#    true_tag = \"CORRECT!!!\"\n",
    "\n",
    "#show the image with matplotlib, with the title as the predicted class with confidence and real class\n",
    "plt.imshow(image.permute(1, 2, 0).numpy() * 0.1137 + 0.4082)\n",
    "plt.title(f\"CNN Prediction: {class_names[predicted_class]} ({probabilities[0][predicted_class]:.2f})\\n BCNN Prediction: {class_names[predicted_class_bcnn]} ({probabilities_bcnn[0][predicted_class_bcnn]:.2f})\\nTrue label: {class_names[label]}\")"
   ]
  },
  {
   "cell_type": "code",
   "execution_count": null,
   "id": "579ceec0",
   "metadata": {},
   "outputs": [],
   "source": [
    "def ensemble_predict(model, x_batch, n_samples=20):\n",
    "    \"\"\"Returns mean prediction probabilities over n posterior samples\"\"\"\n",
    "    preds = []\n",
    "    model.eval()\n",
    "    with torch.no_grad():\n",
    "        for _ in range(n_samples):\n",
    "            output = model(x_batch)  # stochastic forward pass\n",
    "            prob = F.softmax(output, dim=1)\n",
    "            preds.append(prob)\n",
    "    \n",
    "    mean_probs = torch.stack(preds).mean(dim=0)  # shape: [batch_size, num_classes]\n",
    "    return mean_probs"
   ]
  },
  {
   "cell_type": "code",
   "execution_count": null,
   "id": "56c6fa10",
   "metadata": {},
   "outputs": [],
   "source": [
    "ensemble_predict(model_bcnn, input_tensor, n_samples=20)"
   ]
  },
  {
   "cell_type": "code",
   "execution_count": null,
   "id": "a98e26ee",
   "metadata": {},
   "outputs": [],
   "source": [
    "def predict_with_indecision(mean_probs, alpha=0.8):\n",
    "    \"\"\"Decide based on confidence threshold α\"\"\"\n",
    "    confidences, pred_classes = mean_probs.max(dim=1)\n",
    "    known_mask = confidences >= alpha\n",
    "    unknown_mask = ~known_mask\n",
    "    return mean_probs, pred_classes, confidences, known_mask, unknown_mask"
   ]
  },
  {
   "cell_type": "code",
   "execution_count": null,
   "id": "3f837c25",
   "metadata": {},
   "outputs": [],
   "source": [
    "predict_with_indecision(ensemble_predict(model_bcnn, input_tensor, n_samples=20), alpha=0.8)"
   ]
  },
  {
   "cell_type": "code",
   "execution_count": null,
   "id": "24affea8",
   "metadata": {},
   "outputs": [],
   "source": [
    "def ensemble_predict_reproduce(model, x_batch, n_samples=20, seed=42):\n",
    "    \"\"\"Returns mean prediction probabilities over n posterior samples with reproducibility\"\"\"\n",
    "    preds = []\n",
    "    model.eval()\n",
    "    \n",
    "    # Set the seed for reproducibility\n",
    "    torch.manual_seed(seed)\n",
    "    if torch.cuda.is_available():\n",
    "        torch.cuda.manual_seed_all(seed)\n",
    "    \n",
    "    with torch.no_grad():\n",
    "        for _ in range(n_samples):\n",
    "            output = model(x_batch)  # stochastic forward pass\n",
    "            prob = F.softmax(output, dim=1)\n",
    "            preds.append(prob)\n",
    "    \n",
    "    mean_probs = torch.stack(preds).mean(dim=0)  # shape: [batch_size, num_classes]\n",
    "    return mean_probs"
   ]
  },
  {
   "cell_type": "code",
   "execution_count": null,
   "id": "f1ddb004",
   "metadata": {},
   "outputs": [],
   "source": [
    "image, label = dataset_cnn[7]  # Pick any index\n",
    "input_tensor = image.unsqueeze(0)  # Add batch dimension\n",
    "reproduce_seed = 42  # Set a seed for reproducibility\n",
    "\n",
    "### NORMAL CNN PREDICTION\n",
    "\n",
    "with torch.no_grad():\n",
    "    output = model_cnn(input_tensor)  # Forward pass\n",
    "    probabilities = F.softmax(output, dim=1)  # Confidence scores\n",
    "    predicted_class = probabilities.argmax(dim=1).item()\n",
    "    confidence = probabilities[0, predicted_class].item()\n",
    "\n",
    "### BAYESIAN CNN\n",
    "\n",
    "decision_threshold = 0.8  # Confidence threshold for known/unknown\n",
    "\n",
    "bcnn_mean_probs, bcnn_classes, bcnn_confidences, bcnnKnownMask, bcnnUnknownMask = predict_with_indecision(ensemble_predict_reproduce(model_bcnn, input_tensor, n_samples=20, seed=reproduce_seed), alpha=0.8)\n",
    "\n",
    "bcnn_confidences, bcnn_preds = bcnn_mean_probs.max(dim=1)\n",
    "print(bcnn_confidences)\n",
    "print(bcnn_preds)\n",
    "\n",
    "#show the image with matplotlib, with the title as the predicted class with confidence and real class\n",
    "plt.imshow(image.permute(1, 2, 0).numpy() * 0.1137 + 0.4082)\n",
    "plt.title(f\"CNN Prediction: {class_names[predicted_class]} ({probabilities[0][predicted_class]:.2f})\\n BCNN Prediction: {class_names[bcnn_preds]} ({float(bcnn_confidences):.2f})\\nTrue label: {class_names[label]}\")"
   ]
  },
  {
   "cell_type": "code",
   "execution_count": null,
   "id": "84a8d38c",
   "metadata": {},
   "outputs": [],
   "source": [
    "len(dataset_cnn)"
   ]
  },
  {
   "cell_type": "code",
   "execution_count": null,
   "id": "221de69c",
   "metadata": {},
   "outputs": [],
   "source": [
    "# create a loop for all images in dataset_cnn and record the prediction in a dataframe\n",
    "import pandas as pd\n",
    "from tqdm import tqdm\n",
    "\n",
    "predictions_df = pd.DataFrame(columns=[\"Image Index\", \"CNN Predicted\", \"CNN Confidence\", \"BCNN Predicted\", \"BCNN Confidence\", \"True Label\", \"Reproduce Seed\"])\n",
    "\n",
    "total_len = len(dataset_cnn)\n",
    "start_idx = int(total_len * 0)  # index where last 5% starts\n",
    "\n",
    "for i in tqdm(range(start_idx, total_len)):\n",
    "\n",
    "#for i in tqdm(range(len(dataset_cnn))):\n",
    "#for i in range(5):\n",
    "    image, label = dataset_cnn[i]  # Pick any index\n",
    "    input_tensor = image.unsqueeze(0)  # Add batch dimension\n",
    "\n",
    "    # Normal CNN prediction\n",
    "    with torch.no_grad():\n",
    "        output = model_cnn(input_tensor)  # Forward pass\n",
    "        probabilities = F.softmax(output, dim=1)  # Confidence scores\n",
    "        predicted_class = probabilities.argmax(dim=1).item()\n",
    "        confidence = probabilities[0, predicted_class].item()\n",
    "\n",
    "    # Bayesian CNN prediction\n",
    "    bcnn_mean_probs, bcnn_classes, bcnn_confidences, bcnnKnownMask, bcnnUnknownMask = predict_with_indecision(\n",
    "        ensemble_predict_reproduce(model_bcnn, input_tensor, n_samples=20, seed=reproduce_seed), alpha=0.8)\n",
    "\n",
    "    bcnn_confidences, bcnn_preds = bcnn_mean_probs.max(dim=1)\n",
    "    \n",
    "    #print(f\"Image {i}: CNN Predicted: {class_names[predicted_class]} ({probabilities[0][predicted_class]:.2f}), \"\n",
    "    #      f\"BCNN Predicted: {class_names[bcnn_preds]} ({float(bcnn_confidences):.2f}), True label: {class_names[label]}\")\n",
    "    \n",
    "    # Append to DataFrame\n",
    "    new_row = pd.DataFrame([{\n",
    "        \"Image Index\": i,\n",
    "        \"CNN Predicted\": class_names[predicted_class],\n",
    "        \"CNN Confidence\": probabilities[0][predicted_class].item(),\n",
    "        \"BCNN Predicted\": class_names[bcnn_preds],\n",
    "        \"BCNN Confidence\": float(bcnn_confidences),\n",
    "        \"BCNN Unknown\": bcnnUnknownMask.item(),\n",
    "        \"True Label\": class_names[label],\n",
    "        \"Reproduce Seed\": reproduce_seed\n",
    "    }])\n",
    "\n",
    "    predictions_df = pd.concat([predictions_df, new_row], ignore_index=True)\n",
    "\n",
    "# Save predictions to CSV with timestamp\n",
    "# add timestamp to filename\n",
    "\n",
    "import datetime\n",
    "timestamp = datetime.datetime.now().strftime(\"%Y%m%d_%H%M%S\")\n",
    "predictions_df.to_csv(\"predictions_eurosat_\"+timestamp+\".csv\", index=False)"
   ]
  },
  {
   "cell_type": "code",
   "execution_count": null,
   "id": "6df2621c",
   "metadata": {},
   "outputs": [],
   "source": [
    "len(dataset_cnn)"
   ]
  },
  {
   "cell_type": "code",
   "execution_count": null,
   "id": "f64ca461",
   "metadata": {},
   "outputs": [],
   "source": [
    "import pandas as pd"
   ]
  },
  {
   "cell_type": "code",
   "execution_count": null,
   "id": "57f5919c",
   "metadata": {},
   "outputs": [],
   "source": [
    "#predictions_df = pd.read_csv(\"predictions_eurosat_20250617_205043.csv\")"
   ]
  },
  {
   "cell_type": "code",
   "execution_count": null,
   "id": "0bb9d55e",
   "metadata": {},
   "outputs": [],
   "source": [
    "# compute the accuracy of the predictions\n",
    "cnn_correct = (predictions_df[\"CNN Predicted\"] == predictions_df[\"True Label\"]).sum()\n",
    "bcnn_correct = (predictions_df[\"BCNN Predicted\"] == predictions_df[\"True Label\"]).sum()\n",
    "# compute accuracy for BCNN known classes\n",
    "predictions_df[\"BCNN Known\"] = predictions_df[\"BCNN Confidence\"] >= 0.8\n",
    "bcnn_known_correct = (predictions_df[predictions_df[\"BCNN Known\"]][\"BCNN Predicted\"] == predictions_df[predictions_df[\"BCNN Known\"]][\"True Label\"]).sum()\n",
    "bcnn_known_total = predictions_df[\"BCNN Known\"].sum()\n",
    "\n",
    "print(f\"CNN Accuracy: {cnn_correct / len(predictions_df) * 100:.2f}%\")\n",
    "print(f\"BCNN Accuracy: {bcnn_correct / len(predictions_df) * 100:.2f}%\")\n",
    "print(f\"BCNN Known Classes Accuracy: {bcnn_known_correct / bcnn_known_total * 100:.2f}%\")"
   ]
  },
  {
   "cell_type": "code",
   "execution_count": null,
   "id": "75d8571c",
   "metadata": {},
   "outputs": [],
   "source": [
    "# create a column, if the confidence is above 0.8, then it is a known class, otherwise unknown\n",
    "predictions_df[\"BCNN Known\"] = predictions_df[\"BCNN Confidence\"] >= 0.8"
   ]
  },
  {
   "cell_type": "code",
   "execution_count": null,
   "id": "d2b72c19",
   "metadata": {},
   "outputs": [],
   "source": [
    "predictions_df.head()"
   ]
  },
  {
   "cell_type": "code",
   "execution_count": null,
   "id": "86a60ab4",
   "metadata": {},
   "outputs": [],
   "source": [
    "bcnn_known_total"
   ]
  },
  {
   "cell_type": "code",
   "execution_count": null,
   "id": "46b35c4f",
   "metadata": {},
   "outputs": [],
   "source": []
  }
 ],
 "metadata": {
  "kernelspec": {
   "display_name": "bnntest",
   "language": "python",
   "name": "python3"
  },
  "language_info": {
   "codemirror_mode": {
    "name": "ipython",
    "version": 3
   },
   "file_extension": ".py",
   "mimetype": "text/x-python",
   "name": "python",
   "nbconvert_exporter": "python",
   "pygments_lexer": "ipython3",
   "version": "3.12.9"
  }
 },
 "nbformat": 4,
 "nbformat_minor": 5
}
