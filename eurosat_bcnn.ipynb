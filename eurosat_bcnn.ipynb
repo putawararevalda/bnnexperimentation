{
 "cells": [
  {
   "cell_type": "code",
   "execution_count": 1,
   "id": "91a7b370",
   "metadata": {},
   "outputs": [],
   "source": [
    "import torch\n",
    "import torch.nn as nn\n",
    "import torch.nn.functional as F"
   ]
  },
  {
   "cell_type": "code",
   "execution_count": 2,
   "id": "64488bc6",
   "metadata": {},
   "outputs": [],
   "source": [
    "import torch\n",
    "import torch.nn as nn\n",
    "import torch.nn.functional as F\n",
    "import torchvision.datasets as datasets\n",
    "import torchvision.transforms as transforms\n",
    "from torch.utils.data import DataLoader, random_split\n",
    "import time\n",
    "import matplotlib.pyplot as plt\n",
    "import os\n",
    "from sklearn.model_selection import train_test_split\n",
    "from torch.utils.data import Subset\n",
    "import torch\n",
    "\n",
    "import pickle\n"
   ]
  },
  {
   "cell_type": "code",
   "execution_count": 3,
   "id": "f63397fc",
   "metadata": {},
   "outputs": [
    {
     "name": "stderr",
     "output_type": "stream",
     "text": [
      "c:\\Users\\Revalda Putawara\\.conda\\envs\\bnntest\\Lib\\site-packages\\tqdm\\auto.py:21: TqdmWarning: IProgress not found. Please update jupyter and ipywidgets. See https://ipywidgets.readthedocs.io/en/stable/user_install.html\n",
      "  from .autonotebook import tqdm as notebook_tqdm\n"
     ]
    }
   ],
   "source": [
    "import torch\n",
    "import torch.nn as nn\n",
    "import torch.nn.functional as F\n",
    "import pyro\n",
    "import pyro.distributions as dist\n",
    "from pyro.nn import PyroModule, PyroSample"
   ]
  },
  {
   "cell_type": "code",
   "execution_count": 4,
   "id": "59c3c273",
   "metadata": {},
   "outputs": [],
   "source": [
    "device = torch.device(\"cuda\" if torch.cuda.is_available() else \"cpu\")\n",
    "device = \"cpu\""
   ]
  },
  {
   "cell_type": "code",
   "execution_count": 5,
   "id": "32eaae6e",
   "metadata": {},
   "outputs": [],
   "source": [
    "init_weight_dict = {'conv1.weight': (0.002619123551994562, 0.12110346555709839), 'conv1.bias': (-0.044515371322631836, 0.10650832951068878), 'conv2.weight': (-0.014031852595508099, 0.06525229662656784), 'conv2.bias': (-0.01866402104496956, 0.06726235151290894), 'conv3.weight': (-0.014420724473893642, 0.06095079332590103), 'conv3.bias': (-0.026280079036951065, 0.07677483558654785), 'conv4.weight': (-0.012442529201507568, 0.056499700993299484), 'conv4.bias': (-0.009047136642038822, 0.09178731590509415), 'conv5.weight': (-0.010098770260810852, 0.05377247557044029), 'conv5.bias': (0.008716950193047523, 0.12336630374193192), 'conv6.weight': (-0.007273155730217695, 0.04424232989549637), 'conv6.bias': (0.02756168134510517, 0.1408526748418808), 'fc1.weight': (-0.0010197607334703207, 0.10992096364498138), 'fc1.bias': (0.06867112219333649, 0.165935680270195), 'fc2.weight': (-0.025755703449249268, 0.10916614532470703), 'fc2.bias': (-0.010193572379648685, 0.18183904886245728)}"
   ]
  },
  {
   "cell_type": "code",
   "execution_count": 6,
   "id": "3a47b481",
   "metadata": {},
   "outputs": [],
   "source": [
    "class coldBayesianBaselineCNN(PyroModule):\n",
    "    def __init__(self, num_classes):\n",
    "        super().__init__()\n",
    "\n",
    "        # Bayesian Conv layers with better priors\n",
    "        self.conv1 = PyroModule[nn.Conv2d](3, 32, kernel_size=3, padding=1)\n",
    "        # Use smaller std for better initialization (Xavier-like)\n",
    "        self.conv1.weight = PyroSample(dist.Normal(0., 0.1).expand([32, 3, 3, 3]).to_event(4))\n",
    "        self.conv1.bias = PyroSample(dist.Normal(0., 0.1).expand([32]).to_event(1))\n",
    "\n",
    "        self.conv2 = PyroModule[nn.Conv2d](32, 64, kernel_size=3, padding=1)\n",
    "        self.conv2.weight = PyroSample(dist.Normal(0., 0.1).expand([64, 32, 3, 3]).to_event(4))\n",
    "        self.conv2.bias = PyroSample(dist.Normal(0., 0.1).expand([64]).to_event(1))\n",
    "\n",
    "        self.conv3 = PyroModule[nn.Conv2d](64, 128, kernel_size=3, padding=1)\n",
    "        self.conv3.weight = PyroSample(dist.Normal(0., 0.1).expand([128, 64, 3, 3]).to_event(4))\n",
    "        self.conv3.bias = PyroSample(dist.Normal(0., 0.1).expand([128]).to_event(1))\n",
    "\n",
    "        self.conv4 = PyroModule[nn.Conv2d](128, 128, kernel_size=3, padding=1)\n",
    "        self.conv4.weight = PyroSample(dist.Normal(0., 0.1).expand([128, 128, 3, 3]).to_event(4))\n",
    "        self.conv4.bias = PyroSample(dist.Normal(0., 0.1).expand([128]).to_event(1))\n",
    "\n",
    "        self.conv5 = PyroModule[nn.Conv2d](128, 64, kernel_size=3, padding=1)\n",
    "        self.conv5.weight = PyroSample(dist.Normal(0., 0.1).expand([64, 128, 3, 3]).to_event(4))\n",
    "        self.conv5.bias = PyroSample(dist.Normal(0., 0.1).expand([64]).to_event(1))\n",
    "\n",
    "        self.conv6 = PyroModule[nn.Conv2d](64, 32, kernel_size=3, padding=1)\n",
    "        self.conv6.weight = PyroSample(dist.Normal(0., 0.1).expand([32, 64, 3, 3]).to_event(4))\n",
    "        self.conv6.bias = PyroSample(dist.Normal(0., 0.1).expand([32]).to_event(1))\n",
    "\n",
    "        # Pooling and dropout\n",
    "        self.pool = nn.MaxPool2d(2, 2)\n",
    "        self.dropout1 = nn.Dropout(0.3)\n",
    "        self.dropout2 = nn.Dropout(0.3)\n",
    "        self.global_avg_pool = nn.AdaptiveAvgPool2d((1, 1))\n",
    "\n",
    "        # Bayesian FC layers with better priors\n",
    "        self.fc1 = PyroModule[nn.Linear](32, 64)\n",
    "        # Use Xavier-like initialization: std = sqrt(2 / (fan_in + fan_out))\n",
    "        self.fc1.weight = PyroSample(dist.Normal(0., 0.2).expand([64, 32]).to_event(2))\n",
    "        self.fc1.bias = PyroSample(dist.Normal(0., 0.1).expand([64]).to_event(1))\n",
    "\n",
    "        self.fc2 = PyroModule[nn.Linear](64, num_classes)\n",
    "        self.fc2.weight = PyroSample(dist.Normal(0., 0.2).expand([num_classes, 64]).to_event(2))\n",
    "        self.fc2.bias = PyroSample(dist.Normal(0., 0.1).expand([num_classes]).to_event(1))\n",
    "\n",
    "    def forward(self, x, y=None):\n",
    "        x = self.pool(F.relu(self.conv1(x)))\n",
    "        x = self.pool(F.relu(self.conv2(x)))\n",
    "        x = self.pool(F.relu(self.conv3(x)))\n",
    "        x = self.dropout1(x)\n",
    "        x = self.pool(F.relu(self.conv4(x)))\n",
    "        x = self.dropout2(x)\n",
    "        x = self.pool(F.relu(self.conv5(x)))\n",
    "        x = self.pool(F.relu(self.conv6(x)))\n",
    "\n",
    "        x = self.global_avg_pool(x)  # (B, 32, 1, 1)\n",
    "        x = x.view(x.size(0), -1)    # (B, 32)\n",
    "        x = F.relu(self.fc1(x))      # (B, 64)\n",
    "        logits = self.fc2(x)         # (B, num_classes)\n",
    "\n",
    "        with pyro.plate(\"data\", x.size(0)):\n",
    "            obs = pyro.sample(\"obs\", dist.Categorical(logits=logits), obs=y)\n",
    "        return logits\n"
   ]
  },
  {
   "cell_type": "code",
   "execution_count": 7,
   "id": "4aa29970",
   "metadata": {},
   "outputs": [],
   "source": [
    "# make a similar model with priors from init_weight_dict\n",
    "class BayesianBaselineCNN(PyroModule):\n",
    "    def __init__(self, num_classes):\n",
    "        super().__init__()\n",
    "\n",
    "        # Bayesian Conv layers with better priors\n",
    "        self.conv1 = PyroModule[nn.Conv2d](3, 32, kernel_size=3, padding=1)\n",
    "        self.conv1.weight = PyroSample(dist.Normal(init_weight_dict['conv1.weight'][0], init_weight_dict['conv1.weight'][1]).expand([32, 3, 3, 3]).to_event(4))\n",
    "        self.conv1.bias = PyroSample(dist.Normal(init_weight_dict['conv1.bias'][0], init_weight_dict['conv1.bias'][1]).expand([32]).to_event(1))\n",
    "\n",
    "        self.conv2 = PyroModule[nn.Conv2d](32, 64, kernel_size=3, padding=1)\n",
    "        self.conv2.weight = PyroSample(dist.Normal(init_weight_dict['conv2.weight'][0], init_weight_dict['conv2.weight'][1]).expand([64, 32, 3, 3]).to_event(4))\n",
    "        self.conv2.bias = PyroSample(dist.Normal(init_weight_dict['conv2.bias'][0], init_weight_dict['conv2.bias'][1]).expand([64]).to_event(1))\n",
    "\n",
    "        self.conv3 = PyroModule[nn.Conv2d](64, 128, kernel_size=3, padding=1)\n",
    "        self.conv3.weight = PyroSample(dist.Normal(init_weight_dict['conv3.weight'][0], init_weight_dict['conv3.weight'][1]).expand([128, 64, 3, 3]).to_event(4))\n",
    "        self.conv3.bias = PyroSample(dist.Normal(init_weight_dict['conv3.bias'][0], init_weight_dict['conv3.bias'][1]).expand([128]).to_event(1))\n",
    "\n",
    "        self.conv4 = PyroModule[nn.Conv2d](128, 128, kernel_size=3, padding=1)\n",
    "        self.conv4.weight = PyroSample(dist.Normal(init_weight_dict['conv4.weight'][0], init_weight_dict['conv4.weight'][1]).expand([128, 128, 3, 3]).to_event(4))\n",
    "        self.conv4.bias = PyroSample(dist.Normal(init_weight_dict['conv4.bias'][0], init_weight_dict['conv4.bias'][1]).expand([128]).to_event(1))\n",
    "\n",
    "        self.conv5 = PyroModule[nn.Conv2d](128, 64, kernel_size=3, padding=1)\n",
    "        self.conv5.weight = PyroSample(dist.Normal(init_weight_dict['conv5.weight'][0], init_weight_dict['conv5.weight'][1]).expand([64, 128, 3, 3]).to_event(4))\n",
    "        self.conv5.bias = PyroSample(dist.Normal(init_weight_dict['conv5.bias'][0], init_weight_dict['conv5.bias'][1]).expand([64]).to_event(1))\n",
    "\n",
    "        self.conv6 = PyroModule[nn.Conv2d](64, 32, kernel_size=3, padding=1)\n",
    "        self.conv6.weight = PyroSample(dist.Normal(init_weight_dict['conv6.weight'][0], init_weight_dict['conv6.weight'][1]).expand([32, 64, 3, 3]).to_event(4))\n",
    "        self.conv6.bias = PyroSample(dist.Normal(init_weight_dict['conv6.bias'][0], init_weight_dict['conv6.bias'][1]).expand([32]).to_event(1))\n",
    "\n",
    "        # Pooling and dropout\n",
    "        self.pool = nn.MaxPool2d(2, 2)\n",
    "        self.dropout1 = nn.Dropout(0.3)\n",
    "        self.dropout2 = nn.Dropout(0.3)\n",
    "        self.global_avg_pool = nn.AdaptiveAvgPool2d((1, 1))\n",
    "\n",
    "        # Bayesian FC layers with better priors\n",
    "        self.fc1 = PyroModule[nn.Linear](32, 64)\n",
    "        self.fc1.weight = PyroSample(dist.Normal(init_weight_dict['fc1.weight'][0], init_weight_dict['fc1.weight'][1]).expand([64, 32]).to_event(2))\n",
    "        self.fc1.bias = PyroSample(dist.Normal(init_weight_dict['fc1.bias'][0], init_weight_dict['fc1.bias'][1]).expand([64]).to_event(1))\n",
    "        self.fc2 = PyroModule[nn.Linear](64, num_classes)\n",
    "        self.fc2.weight = PyroSample(dist.Normal(init_weight_dict['fc2.weight'][0], init_weight_dict['fc2.weight'][1]).expand([num_classes, 64]).to_event(2))\n",
    "        self.fc2.bias = PyroSample(dist.Normal(init_weight_dict['fc2.bias'][0], init_weight_dict['fc2.bias'][1]).expand([num_classes]).to_event(1))\n",
    "    \n",
    "    def forward(self, x, y=None):\n",
    "        x = self.pool(F.relu(self.conv1(x)))\n",
    "        x = self.pool(F.relu(self.conv2(x)))\n",
    "        x = self.pool(F.relu(self.conv3(x)))\n",
    "        x = self.dropout1(x)\n",
    "        x = self.pool(F.relu(self.conv4(x)))\n",
    "        x = self.dropout2(x)\n",
    "        x = self.pool(F.relu(self.conv5(x)))\n",
    "        x = self.pool(F.relu(self.conv6(x)))\n",
    "        x = self.global_avg_pool(x)\n",
    "        x = x.view(x.size(0), -1)  # Flatten\n",
    "        x = F.relu(self.fc1(x))\n",
    "        logits = self.fc2(x)    \n",
    "        with pyro.plate(\"data\", x.size(0)):\n",
    "            obs = pyro.sample(\"obs\", dist.Categorical(logits=logits), obs=y)\n",
    "        return logits\n",
    "    \n"
   ]
  },
  {
   "cell_type": "code",
   "execution_count": 8,
   "id": "f57ddf24",
   "metadata": {},
   "outputs": [],
   "source": [
    "def load_data(batch_size=64):  # Changed from 54 to 64 to match deterministic CNN\n",
    "    transform = transforms.Compose([\n",
    "        transforms.Resize((64, 64)),\n",
    "        transforms.ToTensor(),\n",
    "        transforms.Normalize(mean=[0.3444, 0.3809, 0.4082], std=[0.1809, 0.1331, 0.1137])\n",
    "    ])\n",
    "\n",
    "    dataset = datasets.EuroSAT(root='./data', transform=transform, download=False)\n",
    "\n",
    "    # Use fixed random seed for reproducible splits\n",
    "    torch.manual_seed(42)\n",
    "    #train_size = int(0.8 * len(dataset))\n",
    "    #test_size = len(dataset) - train_size\n",
    "    #train_dataset, test_dataset = random_split(dataset, [train_size, test_size])\n",
    "\n",
    "    with open('datasplit/split_indices.pkl', 'rb') as f:\n",
    "        split = pickle.load(f)\n",
    "        train_dataset = Subset(dataset, split['train'])\n",
    "        test_dataset = Subset(dataset, split['test'])\n",
    "\n",
    "    train_loader = DataLoader(train_dataset, batch_size=batch_size, shuffle=True)\n",
    "    test_loader = DataLoader(test_dataset, batch_size=batch_size)\n",
    "    return train_loader, test_loader"
   ]
  },
  {
   "cell_type": "code",
   "execution_count": 9,
   "id": "c97ec1a8",
   "metadata": {},
   "outputs": [],
   "source": [
    "import pyro\n",
    "import pyro.infer\n",
    "from pyro.infer.autoguide import AutoDiagonalNormal\n",
    "from pyro.optim import Adam\n",
    "from tqdm import tqdm\n",
    "\n",
    "# 1. Instantiate model and guide - fix device consistency\n",
    "num_classes = 10\n",
    "bayesian_model = BayesianBaselineCNN(num_classes=num_classes).to(device)  # Use .to(device) instead of .cuda()\n",
    "guide = AutoDiagonalNormal(bayesian_model)\n",
    "\n",
    "# 2. Optimizer and SVI - increase learning rate for better convergence\n",
    "optimizer = Adam({\"lr\": 1e-3})  # Increased from 1e-4 to 1e-3\n",
    "svi = pyro.infer.SVI(model=bayesian_model,\n",
    "                     guide=guide,\n",
    "                     optim=optimizer,\n",
    "                     loss=pyro.infer.Trace_ELBO())\n",
    "\n",
    "# 3. Training function\n",
    "def train_svi(model, guide, svi, train_loader, num_epochs=10):\n",
    "    # Clear parameter store only ONCE at the beginning\n",
    "    pyro.clear_param_store()\n",
    "    model.train()\n",
    "    \n",
    "    # Ensure model is on the correct device\n",
    "    model.to(device)\n",
    "    guide.to(device)\n",
    "    \n",
    "    for epoch in range(num_epochs):\n",
    "        epoch_loss = 0.0\n",
    "        num_batches = 0\n",
    "        for images, labels in tqdm(train_loader, desc=f\"Epoch {epoch+1}/{num_epochs}\"):\n",
    "            images, labels = images.to(device), labels.to(device)\n",
    "            \n",
    "            loss = svi.step(images, labels)\n",
    "            epoch_loss += loss\n",
    "            num_batches += 1\n",
    "            \n",
    "        avg_loss = epoch_loss / num_batches\n",
    "        print(f\"Epoch {epoch+1} - ELBO Loss: {avg_loss:.4f}\")\n"
   ]
  },
  {
   "cell_type": "code",
   "execution_count": null,
   "id": "ce5ce9fa",
   "metadata": {},
   "outputs": [],
   "source": [
    "#bayesian_model.to(device)\n",
    "#guide.to(device)"
   ]
  },
  {
   "cell_type": "code",
   "execution_count": 10,
   "id": "093b3b40",
   "metadata": {},
   "outputs": [
    {
     "name": "stderr",
     "output_type": "stream",
     "text": [
      "Epoch 1/10: 100%|██████████| 400/400 [02:13<00:00,  3.00it/s]\n"
     ]
    },
    {
     "name": "stdout",
     "output_type": "stream",
     "text": [
      "Epoch 1 - ELBO Loss: 127693.7455\n"
     ]
    },
    {
     "name": "stderr",
     "output_type": "stream",
     "text": [
      "Epoch 2/10: 100%|██████████| 400/400 [01:12<00:00,  5.54it/s]\n"
     ]
    },
    {
     "name": "stdout",
     "output_type": "stream",
     "text": [
      "Epoch 2 - ELBO Loss: 64795.8769\n"
     ]
    },
    {
     "name": "stderr",
     "output_type": "stream",
     "text": [
      "Epoch 3/10: 100%|██████████| 400/400 [01:12<00:00,  5.53it/s]\n"
     ]
    },
    {
     "name": "stdout",
     "output_type": "stream",
     "text": [
      "Epoch 3 - ELBO Loss: 34242.2185\n"
     ]
    },
    {
     "name": "stderr",
     "output_type": "stream",
     "text": [
      "Epoch 4/10: 100%|██████████| 400/400 [01:11<00:00,  5.60it/s]\n"
     ]
    },
    {
     "name": "stdout",
     "output_type": "stream",
     "text": [
      "Epoch 4 - ELBO Loss: 18377.6966\n"
     ]
    },
    {
     "name": "stderr",
     "output_type": "stream",
     "text": [
      "Epoch 5/10: 100%|██████████| 400/400 [01:13<00:00,  5.46it/s]\n"
     ]
    },
    {
     "name": "stdout",
     "output_type": "stream",
     "text": [
      "Epoch 5 - ELBO Loss: 10109.6873\n"
     ]
    },
    {
     "name": "stderr",
     "output_type": "stream",
     "text": [
      "Epoch 6/10: 100%|██████████| 400/400 [01:13<00:00,  5.46it/s]\n"
     ]
    },
    {
     "name": "stdout",
     "output_type": "stream",
     "text": [
      "Epoch 6 - ELBO Loss: 5795.6476\n"
     ]
    },
    {
     "name": "stderr",
     "output_type": "stream",
     "text": [
      "Epoch 7/10: 100%|██████████| 400/400 [01:11<00:00,  5.61it/s]\n"
     ]
    },
    {
     "name": "stdout",
     "output_type": "stream",
     "text": [
      "Epoch 7 - ELBO Loss: 3608.2430\n"
     ]
    },
    {
     "name": "stderr",
     "output_type": "stream",
     "text": [
      "Epoch 8/10: 100%|██████████| 400/400 [01:11<00:00,  5.60it/s]\n"
     ]
    },
    {
     "name": "stdout",
     "output_type": "stream",
     "text": [
      "Epoch 8 - ELBO Loss: 2544.1370\n"
     ]
    },
    {
     "name": "stderr",
     "output_type": "stream",
     "text": [
      "Epoch 9/10: 100%|██████████| 400/400 [01:11<00:00,  5.61it/s]\n"
     ]
    },
    {
     "name": "stdout",
     "output_type": "stream",
     "text": [
      "Epoch 9 - ELBO Loss: 2037.0722\n"
     ]
    },
    {
     "name": "stderr",
     "output_type": "stream",
     "text": [
      "Epoch 10/10: 100%|██████████| 400/400 [01:11<00:00,  5.61it/s]"
     ]
    },
    {
     "name": "stdout",
     "output_type": "stream",
     "text": [
      "Epoch 10 - ELBO Loss: 1813.4895\n"
     ]
    },
    {
     "name": "stderr",
     "output_type": "stream",
     "text": [
      "\n"
     ]
    }
   ],
   "source": [
    "# Clear parameter store before training\n",
    "pyro.clear_param_store()\n",
    "\n",
    "# Ensure model and guide are on the correct device\n",
    "bayesian_model.to(device)\n",
    "guide.to(device)\n",
    "\n",
    "train_loader, test_loader = load_data(batch_size=54)\n",
    "train_svi(bayesian_model, guide, svi, train_loader, num_epochs=10)"
   ]
  },
  {
   "cell_type": "code",
   "execution_count": 11,
   "id": "eabb2ce1",
   "metadata": {},
   "outputs": [],
   "source": [
    "import torch\n",
    "import torch.nn.functional as F\n",
    "from tqdm import tqdm\n",
    "\n",
    "def evaluate_svi(model, guide, test_loader, num_samples=10):\n",
    "    model.eval()\n",
    "    correct = 0\n",
    "    total = 0\n",
    "\n",
    "    #device = next(model.parameters()).device  # Get the device where the model is allocated\n",
    "\n",
    "    with torch.no_grad():  # Add no_grad for efficiency\n",
    "        for images, labels in tqdm(test_loader, desc=\"Evaluating\"):\n",
    "            images, labels = images.to(device), labels.to(device)  # Fix: move to device\n",
    "\n",
    "            # Accumulate logits from multiple samples\n",
    "            logits_mc = torch.zeros(num_samples, images.size(0), model.fc2.out_features).to(device)\n",
    "\n",
    "            for i in range(num_samples):\n",
    "                # Sample from the guide (posterior) and replay through model\n",
    "                guide_trace = pyro.poutine.trace(guide).get_trace()\n",
    "                replayed_model = pyro.poutine.replay(model, trace=guide_trace)\n",
    "                logits = replayed_model(images)\n",
    "                logits_mc[i] = logits\n",
    "\n",
    "            # Average the logits across samples\n",
    "            avg_logits = logits_mc.mean(dim=0)\n",
    "            predictions = torch.argmax(avg_logits, dim=1)\n",
    "            correct += (predictions == labels).sum().item()\n",
    "            total += labels.size(0)\n",
    "\n",
    "    accuracy = correct / total\n",
    "    print(f\"Accuracy over {num_samples} MC samples: {accuracy * 100:.2f}%\")\n",
    "    return accuracy\n"
   ]
  },
  {
   "cell_type": "code",
   "execution_count": 12,
   "id": "cd9f4018",
   "metadata": {},
   "outputs": [
    {
     "name": "stderr",
     "output_type": "stream",
     "text": [
      "Evaluating: 100%|██████████| 100/100 [01:01<00:00,  1.62it/s]"
     ]
    },
    {
     "name": "stdout",
     "output_type": "stream",
     "text": [
      "Accuracy over 10 MC samples: 11.06%\n"
     ]
    },
    {
     "name": "stderr",
     "output_type": "stream",
     "text": [
      "\n"
     ]
    },
    {
     "data": {
      "text/plain": [
       "0.11055555555555556"
      ]
     },
     "execution_count": 12,
     "metadata": {},
     "output_type": "execute_result"
    }
   ],
   "source": [
    "evaluate_svi(bayesian_model, guide, test_loader, num_samples=10)"
   ]
  },
  {
   "cell_type": "code",
   "execution_count": 13,
   "id": "370680ba",
   "metadata": {},
   "outputs": [
    {
     "name": "stdout",
     "output_type": "stream",
     "text": [
      "AutoDiagonalNormal.loc: torch.Size([335850])\n",
      "Parameter containing:\n",
      "tensor([ 0.0090, -0.0033,  0.0113,  ...,  0.0167, -0.0030, -0.0083],\n",
      "       requires_grad=True)\n",
      "AutoDiagonalNormal.scale: torch.Size([335850])\n",
      "tensor([0.1180, 0.1228, 0.1182,  ..., 0.1712, 0.1739, 0.1659],\n",
      "       grad_fn=<SoftplusBackward0>)\n"
     ]
    }
   ],
   "source": [
    "for name, value in pyro.get_param_store().items():\n",
    "    print(f\"{name}: {value.shape}\")\n",
    "    print(value)\n"
   ]
  },
  {
   "cell_type": "code",
   "execution_count": 14,
   "id": "9c68c480",
   "metadata": {},
   "outputs": [],
   "source": [
    "# print confusion matrix\n",
    "import numpy as np\n",
    "from sklearn.metrics import confusion_matrix\n",
    "\n",
    "\n",
    "def predict_data(model, test_loader, num_samples=10):\n",
    "    model.eval()\n",
    "\n",
    "    all_labels = []\n",
    "    all_predictions = []\n",
    "\n",
    "    with torch.no_grad():\n",
    "        for images, labels in tqdm(test_loader, desc=\"Evaluating\"):\n",
    "            images, labels = images.to(device), labels.to(device)\n",
    "\n",
    "            logits_mc = torch.zeros(num_samples, images.size(0), model.fc2.out_features).to(device)\n",
    "\n",
    "            for i in range(num_samples):\n",
    "                guide_trace = pyro.poutine.trace(guide).get_trace()\n",
    "                replayed_model = pyro.poutine.replay(model, trace=guide_trace)\n",
    "                logits = replayed_model(images)\n",
    "                logits_mc[i] = logits\n",
    "\n",
    "            avg_logits = logits_mc.mean(dim=0)\n",
    "            predictions = torch.argmax(avg_logits, dim=1)\n",
    "\n",
    "            all_labels.extend(labels.cpu().numpy())\n",
    "            all_predictions.extend(predictions.cpu().numpy())\n",
    "\n",
    "    return all_labels, all_predictions"
   ]
  },
  {
   "cell_type": "code",
   "execution_count": null,
   "id": "da1efa94",
   "metadata": {},
   "outputs": [],
   "source": []
  },
  {
   "cell_type": "code",
   "execution_count": null,
   "id": "18b723d1",
   "metadata": {},
   "outputs": [],
   "source": []
  },
  {
   "cell_type": "code",
   "execution_count": 15,
   "id": "f47546c4",
   "metadata": {},
   "outputs": [
    {
     "name": "stderr",
     "output_type": "stream",
     "text": [
      "Evaluating: 100%|██████████| 100/100 [01:06<00:00,  1.50it/s]\n"
     ]
    }
   ],
   "source": [
    "all_labels, all_predictions = predict_data(bayesian_model, test_loader, num_samples=10)"
   ]
  },
  {
   "cell_type": "code",
   "execution_count": 16,
   "id": "1631abbd",
   "metadata": {},
   "outputs": [
    {
     "name": "stdout",
     "output_type": "stream",
     "text": [
      "Confusion Matrix:\n",
      "[[115  31 116  39  43  14  23  79  60  80]\n",
      " [129  28 103  42  44  22  19  62  50 101]\n",
      " [135  36  85  38  33  18  18  69  75  93]\n",
      " [ 95  27  86  26  43  19  13  81  43  67]\n",
      " [ 99  33  94  24  32  17  12  61  55  73]\n",
      " [ 86  16  56  28  29  14  12  44  46  69]\n",
      " [ 84  36  96  32  29  13  15  61  57  77]\n",
      " [111  41  97  33  50  13  24  93  45  93]\n",
      " [110  27  81  24  31  14  11  67  65  70]\n",
      " [126  27 102  40  44  18  15  75  66  87]]\n"
     ]
    }
   ],
   "source": [
    "cm = confusion_matrix(all_labels, all_predictions)\n",
    "print(\"Confusion Matrix:\")\n",
    "print(cm)"
   ]
  },
  {
   "cell_type": "code",
   "execution_count": null,
   "id": "c84ef229",
   "metadata": {},
   "outputs": [
    {
     "data": {
      "image/png": "[encoded data removed]",
      "text/plain": [
       "<Figure size 1000x800 with 2 Axes>"
      ]
     },
     "metadata": {},
     "output_type": "display_data"
    }
   ],
   "source": [
    "# plot the confusion matrix\n",
    "import matplotlib.pyplot as plt\n",
    "\n",
    "def plot_confusion_matrix(cm, classes):\n",
    "    plt.figure(figsize=(10, 8))\n",
    "    plt.imshow(cm, interpolation='nearest', cmap=plt.cm.Blues)\n",
    "    plt.title('Confusion Matrix')\n",
    "    plt.colorbar()\n",
    "    tick_marks = np.arange(len(classes))\n",
    "    plt.xticks(tick_marks, classes, rotation=45)\n",
    "    plt.yticks(tick_marks, classes)\n",
    "\n",
    "    thresh = cm.max() / 2.\n",
    "    for i in range(cm.shape[0]):\n",
    "        for j in range(cm.shape[1]):\n",
    "            plt.text(j, i, cm[i, j],\n",
    "                     horizontalalignment=\"center\",\n",
    "                     color=\"white\" if cm[i, j] > thresh else \"black\")\n",
    "\n",
    "    plt.ylabel('True label')\n",
    "    plt.xlabel('Predicted label')\n",
    "    plt.tight_layout()\n",
    "    plt.show()\n",
    "\n",
    "# Plot the confusion matrix\n",
    "class_names = ['AnnualCrop', 'Forest', 'HerbaceousVegetation', 'Highway', 'Industrial',\n",
    "               'Pasture', 'PermanentCrop', 'Residential', 'River', 'SeaLake']\n",
    "plot_confusion_matrix(cm, class_names)"
   ]
  },
  {
   "cell_type": "code",
   "execution_count": null,
   "id": "dcfea0b2",
   "metadata": {},
   "outputs": [],
   "source": [
    "# show 1 sample prediction and put the label on the image in matplotlib\n",
    "import matplotlib.pyplot as plt\n",
    "\n",
    "def show_sample_prediction(model, test_loader, num_samples=10):\n",
    "    model.eval()\n",
    "    images, labels = next(iter(test_loader))\n",
    "    images, labels = images.to(device), labels.to(device)\n",
    "\n",
    "    logits_mc = torch.zeros(num_samples, images.size(0), model.fc2.out_features).to(device)\n",
    "\n",
    "    for i in range(num_samples):\n",
    "        guide_trace = pyro.poutine.trace(guide).get_trace()\n",
    "        replayed_model = pyro.poutine.replay(model, trace=guide_trace)\n",
    "        logits = replayed_model(images)\n",
    "        logits_mc[i] = logits\n",
    "\n",
    "    avg_logits = logits_mc.mean(dim=0)\n",
    "    predictions = torch.argmax(avg_logits, dim=1)\n",
    "\n",
    "    #print the logits and its label in descending order\n",
    "    sorted_logits, sorted_indices = torch.sort(avg_logits[0], descending=True)\n",
    "    print(\"Logits (sorted):\")\n",
    "    for i in range(len(sorted_logits)):\n",
    "        print(f\"Class {sorted_indices[i].item()}: {sorted_logits[i].item()}\")\n",
    "\n",
    "    # for the correct label, print in which rank is the label in the sorted logits\n",
    "    correct_label = labels[0].item()\n",
    "    correct_rank = (sorted_indices == correct_label).nonzero(as_tuple=True)[0].item()\n",
    "    print(f\"Correct label {correct_label} is at rank {correct_rank + 1} in the sorted logits.\")\n",
    "\n",
    "    # Show the first image and its prediction\n",
    "    plt.imshow(images[0].cpu().permute(1, 2, 0)* 0.1137 + 0.4082)\n",
    "    plt.title(f\"Predicted: {predictions[0]}, True: {labels[0]} \\nRank: {correct_rank + 1}\")\n",
    "    plt.axis('off')\n",
    "    plt.show()\n"
   ]
  },
  {
   "cell_type": "code",
   "execution_count": 83,
   "id": "a398ea4f",
   "metadata": {},
   "outputs": [],
   "source": [
    "def comprehensive_prediction_check(model, guide, test_loader, num_samples=10):\n",
    "    model.eval()\n",
    "    \n",
    "    # Check multiple samples from posterior\n",
    "    all_preds_single = []\n",
    "    all_preds_mc = []\n",
    "    \n",
    "    with torch.no_grad():\n",
    "        for images, labels in test_loader:\n",
    "            images = images.to(device)\n",
    "            \n",
    "            # Single sample prediction (your current method)\n",
    "            guide_trace = pyro.poutine.trace(guide).get_trace()\n",
    "            replayed_model = pyro.poutine.replay(model, trace=guide_trace)\n",
    "            logits_single = replayed_model(images)\n",
    "            preds_single = torch.argmax(logits_single, dim=1)\n",
    "            all_preds_single.extend(preds_single.cpu().numpy())\n",
    "            \n",
    "            # Multiple samples (Monte Carlo)\n",
    "            logits_mc = torch.zeros(num_samples, images.size(0), model.fc2.out_features).to(device)\n",
    "            for i in range(num_samples):\n",
    "                guide_trace = pyro.poutine.trace(guide).get_trace()\n",
    "                replayed_model = pyro.poutine.replay(model, trace=guide_trace)\n",
    "                logits_mc[i] = replayed_model(images)\n",
    "            \n",
    "            avg_logits = logits_mc.mean(dim=0)\n",
    "            preds_mc = torch.argmax(avg_logits, dim=1)\n",
    "            all_preds_mc.extend(preds_mc.cpu().numpy())\n",
    "            \n",
    "            break  # Just check first batch\n",
    "    \n",
    "    print(\"Single sample prediction distribution:\", np.bincount(all_preds_single))\n",
    "    print(\"MC average prediction distribution:\", np.bincount(all_preds_mc))\n",
    "    #print the true labels prediction as well\n",
    "    true_labels = labels.cpu().numpy()\n",
    "    print(\"True labels distribution:\", np.bincount(true_labels))\n",
    "\n",
    "    # Check if guide has learned meaningful parameters\n",
    "    print(\"\\nGuide parameter statistics:\")\n",
    "    for name, param in pyro.get_param_store().items():\n",
    "        if 'loc' in name:\n",
    "            print(f\"{name}: mean={param.mean().item():.4f}, std={param.std().item():.4f}\")\n",
    "        elif 'scale' in name:\n",
    "            print(f\"{name}: mean={param.mean().item():.4f}, min={param.min().item():.4f}, max={param.max().item():.4f}\")\n",
    "    \n",
    "    return None"
   ]
  },
  {
   "cell_type": "code",
   "execution_count": 84,
   "id": "24221864",
   "metadata": {},
   "outputs": [
    {
     "name": "stdout",
     "output_type": "stream",
     "text": [
      "Single sample prediction distribution: [ 0  0 54]\n",
      "MC average prediction distribution: [ 0  0 54]\n",
      "True labels distribution: [9 7 7 5 5 4 5 3 2 7]\n",
      "\n",
      "Guide parameter statistics:\n",
      "AutoDiagonalNormal.loc: mean=-0.0120, std=0.0059\n",
      "AutoDiagonalNormal.scale: mean=0.0582, min=0.0436, max=0.1739\n"
     ]
    }
   ],
   "source": [
    "# Run comprehensive check\n",
    "comprehensive_prediction_check(bayesian_model, guide, test_loader)"
   ]
  },
  {
   "cell_type": "code",
   "execution_count": 85,
   "id": "f9b98388",
   "metadata": {},
   "outputs": [],
   "source": [
    "# make the function so I can determine the batch number to do comprehensive prediction check\n",
    "def comprehensive_prediction_check_batch(model, guide, test_loader, batch_num=0, num_samples=10):\n",
    "    model.eval()\n",
    "    \n",
    "    # Check multiple samples from posterior\n",
    "    all_preds_single = []\n",
    "    all_preds_mc = []\n",
    "    \n",
    "    with torch.no_grad():\n",
    "        for i, (images, labels) in enumerate(test_loader):\n",
    "            if i == batch_num:\n",
    "                images = images.to(device)\n",
    "                \n",
    "                # Single sample prediction (your current method)\n",
    "                guide_trace = pyro.poutine.trace(guide).get_trace()\n",
    "                replayed_model = pyro.poutine.replay(model, trace=guide_trace)\n",
    "                logits_single = replayed_model(images)\n",
    "                preds_single = torch.argmax(logits_single, dim=1)\n",
    "                all_preds_single.extend(preds_single.cpu().numpy())\n",
    "                \n",
    "                # Multiple samples (Monte Carlo)\n",
    "                logits_mc = torch.zeros(num_samples, images.size(0), model.fc2.out_features).to(device)\n",
    "                for j in range(num_samples):\n",
    "                    guide_trace = pyro.poutine.trace(guide).get_trace()\n",
    "                    replayed_model = pyro.poutine.replay(model, trace=guide_trace)\n",
    "                    logits_mc[j] = replayed_model(images)\n",
    "                \n",
    "                avg_logits = logits_mc.mean(dim=0)\n",
    "                preds_mc = torch.argmax(avg_logits, dim=1)\n",
    "                all_preds_mc.extend(preds_mc.cpu().numpy())\n",
    "                \n",
    "                break  # Just check the specified batch\n",
    "    \n",
    "    print(f\"Batch {batch_num} - Single sample prediction distribution:\", np.bincount(all_preds_single))\n",
    "    print(f\"Batch {batch_num} - MC average prediction distribution:\", np.bincount(all_preds_mc))\n",
    "    \n",
    "    # Check if guide has learned meaningful parameters\n",
    "    print(\"\\nGuide parameter statistics:\")\n",
    "    for name, param in pyro.get_param_store().items():\n",
    "        if 'loc' in name:\n",
    "            print(f\"{name}: mean={param.mean().item():.4f}, std={param.std().item():.4f}\")\n",
    "        elif 'scale' in name:\n",
    "            print(f\"{name}: mean={param.mean().item():.4f}, min={param.min().item():.4f}, max={param.max().item():.4f}\")\n",
    "    \n",
    "    return None"
   ]
  },
  {
   "cell_type": "code",
   "execution_count": 90,
   "id": "cdbb8a77",
   "metadata": {},
   "outputs": [
    {
     "name": "stdout",
     "output_type": "stream",
     "text": [
      "Batch 3 - Single sample prediction distribution: [ 0  0 54]\n",
      "Batch 3 - MC average prediction distribution: [ 0  0  0  0  0  0  0  0  0 54]\n",
      "\n",
      "Guide parameter statistics:\n",
      "AutoDiagonalNormal.loc: mean=-0.0120, std=0.0059\n",
      "AutoDiagonalNormal.scale: mean=0.0582, min=0.0436, max=0.1739\n"
     ]
    }
   ],
   "source": [
    "# Example usage for batch 1\n",
    "comprehensive_prediction_check_batch(bayesian_model, \n",
    "                                     guide, \n",
    "                                     test_loader, \n",
    "                                     batch_num=3, \n",
    "                                     num_samples=10)"
   ]
  },
  {
   "cell_type": "code",
   "execution_count": 94,
   "id": "b5f5f620",
   "metadata": {},
   "outputs": [
    {
     "name": "stdout",
     "output_type": "stream",
     "text": [
      "Logits (sorted):\n",
      "Class 9: -0.14204616844654083\n",
      "Class 0: -0.16378267109394073\n",
      "Class 4: -0.18160323798656464\n",
      "Class 3: -0.18629798293113708\n",
      "Class 7: -0.19541509449481964\n",
      "Class 1: -0.20518681406974792\n",
      "Class 6: -0.21450486779212952\n",
      "Class 8: -0.23356668651103973\n",
      "Class 5: -0.2940385937690735\n",
      "Class 2: -0.3178873062133789\n",
      "Correct label 0 is at rank 2 in the sorted logits.\n"
     ]
    },
    {
     "data": {
      "image/png": "[encoded data removed]",
      "text/plain": [
       "<Figure size 640x480 with 1 Axes>"
      ]
     },
     "metadata": {},
     "output_type": "display_data"
    }
   ],
   "source": [
    "show_sample_prediction(bayesian_model, test_loader, num_samples=10)"
   ]
  },
  {
   "cell_type": "code",
   "execution_count": null,
   "id": "fac66972",
   "metadata": {},
   "outputs": [],
   "source": []
  },
  {
   "cell_type": "markdown",
   "id": "1a49b54a",
   "metadata": {},
   "source": [
    "## Using Predictive"
   ]
  },
  {
   "cell_type": "code",
   "execution_count": 91,
   "id": "4a677583",
   "metadata": {},
   "outputs": [
    {
     "name": "stderr",
     "output_type": "stream",
     "text": [
      "100%|██████████| 85/85 [01:07<00:00,  1.25it/s]\n"
     ]
    }
   ],
   "source": [
    "from pyro.infer import Predictive\n",
    "\n",
    "train_loader, test_loader = load_data()\n",
    "#x_test, y_test = next(iter(test_loader))\n",
    "predictive = Predictive(bayesian_model, guide=guide, num_samples=5, return_sites=[\"_RETURN\"])\n",
    "\n",
    "all_preds = []\n",
    "all_labels = []\n",
    "\n",
    "for x_batch, y_batch in tqdm(test_loader):\n",
    "    batch_preds = predictive(x_batch)[\"_RETURN\"]  # shape: (num_samples, batch_size, ...)\n",
    "    batch_preds = torch.softmax(batch_preds, dim=-1)\n",
    "    mean_preds = batch_preds.float().mean(dim=0).squeeze()  # shape: (batch_size, num_classes)\n",
    "    mean_preds = mean_preds.argmax(dim=1)  # shape: (batch_size,)\n",
    "    all_preds.append(mean_preds)\n",
    "    all_labels.append(y_batch)\n",
    "\n",
    "# Concatenate along the batch dimension\n",
    "all_preds = torch.cat(all_preds, dim=0)   # shape: (total_test_samples, ...)\n",
    "all_labels = torch.cat(all_labels, dim=0) # shape: (total_test_samples, ...)"
   ]
  },
  {
   "cell_type": "code",
   "execution_count": 93,
   "id": "af7ce4d6",
   "metadata": {},
   "outputs": [
    {
     "name": "stdout",
     "output_type": "stream",
     "text": [
      "Accuracy of Bayesian model on test set: 10.19%\n"
     ]
    }
   ],
   "source": [
    "# print accuracy of all_preds and all_labels\n",
    "from sklearn.metrics import accuracy_score\n",
    "accuracy = accuracy_score(all_labels.cpu().numpy(), all_preds.cpu().numpy())\n",
    "print(f\"Accuracy of Bayesian model on test set: {accuracy * 100:.2f}%\")"
   ]
  },
  {
   "cell_type": "code",
   "execution_count": null,
   "id": "c24a162a",
   "metadata": {},
   "outputs": [],
   "source": []
  }
 ],
 "metadata": {
  "kernelspec": {
   "display_name": "bnntest",
   "language": "python",
   "name": "python3"
  },
  "language_info": {
   "codemirror_mode": {
    "name": "ipython",
    "version": 3
   },
   "file_extension": ".py",
   "mimetype": "text/x-python",
   "name": "python",
   "nbconvert_exporter": "python",
   "pygments_lexer": "ipython3",
   "version": "3.12.9"
  }
 },
 "nbformat": 4,
 "nbformat_minor": 5
}
