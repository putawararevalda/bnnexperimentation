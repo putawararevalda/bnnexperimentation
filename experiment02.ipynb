{
 "cells": [
  {
   "cell_type": "code",
   "execution_count": 1,
   "id": "2b415a57",
   "metadata": {},
   "outputs": [],
   "source": [
    "import torch\n",
    "import torch.nn as nn\n",
    "import torch.nn.functional as F\n",
    "import torchvision.datasets as datasets\n",
    "import torchvision.transforms as transforms\n",
    "from torch.utils.data import DataLoader, random_split, Subset\n",
    "import time\n",
    "import matplotlib.pyplot as plt\n",
    "import os\n",
    "from sklearn.model_selection import train_test_split\n",
    "\n",
    "import pickle\n",
    "from tqdm import tqdm\n",
    "import copy"
   ]
  },
  {
   "cell_type": "code",
   "execution_count": 2,
   "id": "21fc4dd2",
   "metadata": {},
   "outputs": [
    {
     "name": "stderr",
     "output_type": "stream",
     "text": [
      "c:\\Users\\Revalda Putawara\\.conda\\envs\\bnntest\\Lib\\site-packages\\tqdm\\auto.py:21: TqdmWarning: IProgress not found. Please update jupyter and ipywidgets. See https://ipywidgets.readthedocs.io/en/stable/user_install.html\n",
      "  from .autonotebook import tqdm as notebook_tqdm\n"
     ]
    }
   ],
   "source": [
    "import pyro\n",
    "import pyro.distributions as dist\n",
    "from pyro.nn import PyroModule, PyroSample\n",
    "from pyro.infer.autoguide import AutoDiagonalNormal"
   ]
  },
  {
   "cell_type": "code",
   "execution_count": 3,
   "id": "b759d2d6",
   "metadata": {},
   "outputs": [],
   "source": [
    "import pandas as pd"
   ]
  },
  {
   "cell_type": "code",
   "execution_count": 4,
   "id": "7933eaab",
   "metadata": {},
   "outputs": [],
   "source": [
    "import numpy as np\n",
    "from sklearn.metrics import confusion_matrix"
   ]
  },
  {
   "cell_type": "code",
   "execution_count": 5,
   "id": "33214803",
   "metadata": {},
   "outputs": [],
   "source": [
    "from utils.model import BayesianCNNSingleFC"
   ]
  },
  {
   "cell_type": "code",
   "execution_count": 6,
   "id": "685ec8a3",
   "metadata": {},
   "outputs": [],
   "source": [
    "from bitflip import bitflip_float32"
   ]
  },
  {
   "cell_type": "code",
   "execution_count": 7,
   "id": "5ae33ca6",
   "metadata": {},
   "outputs": [],
   "source": [
    "def load_data(batch_size=54):\n",
    "    transform = transforms.Compose([\n",
    "        transforms.Resize((64, 64)),\n",
    "        transforms.ToTensor(),\n",
    "        transforms.Normalize(mean=[0.3444, 0.3809, 0.4082], std=[0.1809, 0.1331, 0.1137])\n",
    "    ])\n",
    "\n",
    "    dataset = datasets.EuroSAT(root='./data', transform=transform, download=False)\n",
    "\n",
    "    torch.manual_seed(42)\n",
    "    \n",
    "    with open('datasplit/split_indices.pkl', 'rb') as f:\n",
    "        split = pickle.load(f)\n",
    "        train_dataset = Subset(dataset, split['train'])\n",
    "        test_dataset = Subset(dataset, split['test'])\n",
    "\n",
    "    # Add num_workers and pin_memory for faster data loading\n",
    "    train_loader = DataLoader(train_dataset, batch_size=batch_size, shuffle=True, \n",
    "                             num_workers=4, pin_memory=True, persistent_workers=True)\n",
    "    test_loader = DataLoader(test_dataset, batch_size=batch_size,\n",
    "                            num_workers=4, pin_memory=True, persistent_workers=True)\n",
    "    return train_loader, test_loader"
   ]
  },
  {
   "cell_type": "code",
   "execution_count": 8,
   "id": "593603cd",
   "metadata": {},
   "outputs": [],
   "source": [
    "train_loader, test_loader = load_data(batch_size=54)"
   ]
  },
  {
   "cell_type": "code",
   "execution_count": 9,
   "id": "7ffc34f2",
   "metadata": {},
   "outputs": [],
   "source": [
    "device = torch.device(\"cuda\")"
   ]
  },
  {
   "cell_type": "code",
   "execution_count": 10,
   "id": "91047777",
   "metadata": {},
   "outputs": [],
   "source": [
    "num_classes = 10"
   ]
  },
  {
   "cell_type": "code",
   "execution_count": 11,
   "id": "47222767",
   "metadata": {},
   "outputs": [],
   "source": [
    "bayesian_model =BayesianCNNSingleFC(num_classes=num_classes, device=device).to(device)"
   ]
  },
  {
   "cell_type": "code",
   "execution_count": 12,
   "id": "06566fe5",
   "metadata": {},
   "outputs": [],
   "source": [
    "model_path = 'results_eurosat/bayesian_cnn_model_std10_100_epoch.pth'\n",
    "guide_path = 'results_eurosat/bayesian_cnn_guide_std10_100_epoch_guide.pth'\n",
    "pyro_param_store_path = 'results_eurosat/pyro_param_store_std10_100_epoch.pkl'\n",
    "\n",
    "#guide = AutoDiagonalNormal(bayesian_model).to(device)\n",
    "\n",
    "#pyro.get_param_store().set_state(torch.load(pyro_param_store_path,weights_only=False))\n",
    "\n",
    "#original_param_store = {}\n",
    "\n",
    "#for name, value in pyro.get_param_store().items():\n",
    "#    print(f\"{name}: {value.shape}\")\n",
    "#    original_param_store[name] = torch.tensor(value.data, requires_grad=value.requires_grad)"
   ]
  },
  {
   "cell_type": "code",
   "execution_count": 13,
   "id": "b02438ff",
   "metadata": {},
   "outputs": [],
   "source": [
    "class Injector:\n",
    "    def __init__(self, trained_model, device, test_loader, num_samples):\n",
    "        \"\"\"\n",
    "        Initializes SEU injector\n",
    "        \"\"\"\n",
    "\n",
    "        #initialize device\n",
    "        if device is None:\n",
    "            self.device = torch.device(\"cuda\" if torch.cuda.is_available() else \"cpu\")\n",
    "        else:\n",
    "            self.device = device\n",
    "\n",
    "        self.trained_model = trained_model.to(self.device)\n",
    "        self.test_loader = test_loader\n",
    "        self.trained_model.eval()\n",
    "        self.num_samples = num_samples\n",
    "        \n",
    "        self.guide = AutoDiagonalNormal(self.trained_model).to(self.device)\n",
    "        pyro.get_param_store().clear()\n",
    "        pyro.get_param_store().set_state(torch.load(pyro_param_store_path,weights_only=False))\n",
    "\n",
    "        #initial_Accuracy = self.return_accuracy(num_samples)\n",
    "        initial_labels, initial_predictions, initial_logits, initial_probs = self.predict_data_probs(self.num_samples)\n",
    "        self.initial_accuracy = self.return_accuracy(initial_labels, initial_predictions)\n",
    "        \n",
    "        #print accuracy before SEU\n",
    "        print(f\"Initial accuracy: {self.initial_accuracy}\")\n",
    "        \n",
    "    def predict_data_probs(self, num_samples=10):\n",
    "        all_labels = []\n",
    "        all_predictions = []\n",
    "        all_logits = []\n",
    "        all_probs = []\n",
    "\n",
    "        with torch.no_grad():\n",
    "            for images, labels in tqdm(self.test_loader, desc=\"Evaluating\"):\n",
    "                images, labels = images.to(self.device), labels.to(self.device)\n",
    "\n",
    "                logits_mc = torch.zeros(num_samples, images.size(0), self.trained_model.fc1.out_features).to(device)\n",
    "\n",
    "                for i in range(num_samples):\n",
    "                    guide_trace = pyro.poutine.trace(self.guide).get_trace(images)\n",
    "                    replayed_model = pyro.poutine.replay(self.trained_model, trace=guide_trace)\n",
    "                    logits = replayed_model(images)\n",
    "                    logits_mc[i] = logits\n",
    "\n",
    "                avg_logits = logits_mc.mean(dim=0)\n",
    "                predictions = torch.argmax(avg_logits, dim=1)\n",
    "\n",
    "                all_labels.extend(labels.cpu().numpy())\n",
    "                all_predictions.extend(predictions.cpu().numpy())\n",
    "                all_logits.extend(avg_logits.cpu().numpy())\n",
    "                all_probs.extend(F.softmax(avg_logits, dim=1).cpu().numpy())\n",
    "\n",
    "        return all_labels, all_predictions, all_logits, all_probs\n",
    "\n",
    "    def return_accuracy(self, all_labels, all_predictions):\n",
    "        #all_labels, all_predictions, all_logits, all_probs = self.predict_data_probs(num_samples)\n",
    "        cm = confusion_matrix(all_labels, all_predictions)\n",
    "        accuracy = np.trace(cm) / np.sum(cm)\n",
    "\n",
    "        return accuracy\n",
    "    \n",
    "    def run_seu_autodiagonal_normal(self, location_index, bit_i, parameter_name=\"loc\", num_samples=10):\n",
    "        \"\"\"\n",
    "        Run SEU on the AutoDiagonalNormal guide\n",
    "        \"\"\"\n",
    "\n",
    "        assert parameter_name in [\"loc\", \"scale\"], \"Parameter name must be 'loc' or 'scale'.\"\n",
    "        assert bit_i in range(0, 33), \"Location index must be between 0 and 9.\"\n",
    "\n",
    "        if parameter_name == \"loc\":\n",
    "            param_store_name = \"AutoDiagonalNormal.loc\"\n",
    "        elif parameter_name == \"scale\":\n",
    "            param_store_name = \"AutoDiagonalNormal.scale\"\n",
    "\n",
    "        pyro.get_param_store().set_state(torch.load(pyro_param_store_path,weights_only=False))\n",
    "\n",
    "        with torch.no_grad():\n",
    "            param_dict = {}\n",
    "\n",
    "            for name, value in pyro.get_param_store().items():\n",
    "                #print(f\"{name}: {value.shape}\")\n",
    "                #print(value)\n",
    "                param_dict[name] = value.cpu().detach().numpy()\n",
    "\n",
    "            tensor_cpu = param_dict[param_store_name]\n",
    "\n",
    "            #original_val = tensor_cpu[0] #this zero index should be changed to the location_index\n",
    "            original_val = tensor_cpu[location_index]\n",
    "            seu_val = bitflip_float32(original_val, bit_i)\n",
    "\n",
    "\n",
    "            print(f\"Original value: {original_val}, SEU value: {seu_val}\")\n",
    "\n",
    "            # Get the parameter\n",
    "            param = pyro.get_param_store().get_param(param_store_name)\n",
    "\n",
    "            # Modify it safely by creating a new tensor\n",
    "            new_param = param.clone()\n",
    "            new_param[location_index] = seu_val  # New Value\n",
    "\n",
    "            # Update the parameter store\n",
    "            if parameter_name == \"loc\":\n",
    "                pyro.get_param_store().__setitem__(param_store_name, new_param) # 74%\n",
    "                #param_store[param_store_name].data.copy_(change_item(param_store_name, location_index, seu_val)) #25%\n",
    "                #pyro.get_param_store()[param_store_name].data[location_index] = seu_val # 25%\n",
    "            elif parameter_name == \"scale\":\n",
    "                pyro.get_param_store().__setitem__(param_store_name, new_param) #10%\n",
    "                #pyro.get_param_store()[param_store_name].data[location_index] = seu_val\n",
    "\n",
    "        #print accuracy after SEU\n",
    "        self.guide = AutoDiagonalNormal(bayesian_model).to(device)\n",
    "    \n",
    "\n",
    "        try:\n",
    "            after_labels, after_predictions, after_logits, after_probs = self.predict_data_probs(num_samples)\n",
    "            accuracyAfter_SEU = self.return_accuracy(after_labels, after_predictions)\n",
    "        except:\n",
    "            accuracyAfter_SEU = np.nan\n",
    "            \n",
    "        print(f\"Accuracy after SEU: {accuracyAfter_SEU}\")\n",
    "        print(\"===================================\")\n",
    "\n",
    "        return accuracyAfter_SEU - self.initial_accuracy"
   ]
  },
  {
   "cell_type": "code",
   "execution_count": 14,
   "id": "c8c04293",
   "metadata": {},
   "outputs": [
    {
     "name": "stderr",
     "output_type": "stream",
     "text": [
      "Evaluating: 100%|██████████| 100/100 [00:20<00:00,  4.97it/s]"
     ]
    },
    {
     "name": "stdout",
     "output_type": "stream",
     "text": [
      "Initial accuracy: 0.7490740740740741\n"
     ]
    },
    {
     "name": "stderr",
     "output_type": "stream",
     "text": [
      "\n"
     ]
    }
   ],
   "source": [
    "inj = Injector(trained_model=bayesian_model, device=device, test_loader=test_loader, num_samples=10)"
   ]
  },
  {
   "cell_type": "code",
   "execution_count": null,
   "id": "74fa487e",
   "metadata": {},
   "outputs": [],
   "source": [
    "#inj.run_seu_autodiagonal_normal(location_index=0, bit_i=1, parameter_name=\"scale\", num_samples=10)\n",
    "inj.run_seu_autodiagonal_normal(location_index=0, bit_i=2, parameter_name=\"loc\", num_samples=10)"
   ]
  },
  {
   "cell_type": "code",
   "execution_count": null,
   "id": "82df9983",
   "metadata": {},
   "outputs": [],
   "source": [
    "#store the result in dataframe\n",
    "import pandas as pd\n",
    "results = []\n",
    "\n",
    "for i in range(0, 32):\n",
    "    results.append(inj.run_seu_autodiagonal_normal(location_index=0, bit_i=i, parameter_name=\"scale\", num_samples=10))"
   ]
  },
  {
   "cell_type": "code",
   "execution_count": null,
   "id": "3d859840",
   "metadata": {},
   "outputs": [],
   "source": [
    "# plot the result in matplotlib\n",
    "plt.figure(figsize=(10, 5))\n",
    "plt.plot(range(0, 32), results, marker='o')\n",
    "plt.title('SEU Impact on Scale Parameter')\n",
    "plt.xlabel('Bit Position')\n",
    "plt.ylabel('Change in Accuracy')\n",
    "plt.grid()\n",
    "plt.show()"
   ]
  },
  {
   "cell_type": "code",
   "execution_count": 15,
   "id": "777800c8",
   "metadata": {},
   "outputs": [
    {
     "name": "stdout",
     "output_type": "stream",
     "text": [
      "Original value: 3.148340940475464, SEU value: -3.148340940475464\n"
     ]
    },
    {
     "name": "stderr",
     "output_type": "stream",
     "text": [
      "Evaluating: 100%|██████████| 100/100 [00:06<00:00, 15.30it/s]\n"
     ]
    },
    {
     "name": "stdout",
     "output_type": "stream",
     "text": [
      "Accuracy after SEU: 0.7403703703703703\n",
      "===================================\n",
      "Original value: 3.148340940475464, SEU value: 6.749341441734302e-39\n"
     ]
    },
    {
     "name": "stderr",
     "output_type": "stream",
     "text": [
      "Evaluating: 100%|██████████| 100/100 [00:11<00:00,  8.75it/s]\n"
     ]
    },
    {
     "name": "stdout",
     "output_type": "stream",
     "text": [
      "Accuracy after SEU: 0.7490740740740741\n",
      "===================================\n",
      "Original value: 3.148340940475464, SEU value: 5.807663958573292e+19\n"
     ]
    },
    {
     "name": "stderr",
     "output_type": "stream",
     "text": [
      "Evaluating: 100%|██████████| 100/100 [00:18<00:00,  5.43it/s]\n"
     ]
    },
    {
     "name": "stdout",
     "output_type": "stream",
     "text": [
      "Accuracy after SEU: 0.25055555555555553\n",
      "===================================\n",
      "Original value: 3.148340940475464, SEU value: 13522021376.0\n"
     ]
    },
    {
     "name": "stderr",
     "output_type": "stream",
     "text": [
      "Evaluating: 100%|██████████| 100/100 [00:18<00:00,  5.49it/s]\n"
     ]
    },
    {
     "name": "stdout",
     "output_type": "stream",
     "text": [
      "Accuracy after SEU: 0.24851851851851853\n",
      "===================================\n",
      "Original value: 3.148340940475464, SEU value: 206329.671875\n"
     ]
    },
    {
     "name": "stderr",
     "output_type": "stream",
     "text": [
      "Evaluating: 100%|██████████| 100/100 [00:18<00:00,  5.48it/s]\n"
     ]
    },
    {
     "name": "stdout",
     "output_type": "stream",
     "text": [
      "Accuracy after SEU: 0.25037037037037035\n",
      "===================================\n",
      "Original value: 3.148340940475464, SEU value: 805.9752807617188\n"
     ]
    },
    {
     "name": "stderr",
     "output_type": "stream",
     "text": [
      "Evaluating: 100%|██████████| 100/100 [00:18<00:00,  5.51it/s]\n"
     ]
    },
    {
     "name": "stdout",
     "output_type": "stream",
     "text": [
      "Accuracy after SEU: 0.28\n",
      "===================================\n",
      "Original value: 3.148340940475464, SEU value: 50.37345504760742\n"
     ]
    },
    {
     "name": "stderr",
     "output_type": "stream",
     "text": [
      "Evaluating: 100%|██████████| 100/100 [00:18<00:00,  5.47it/s]\n"
     ]
    },
    {
     "name": "stdout",
     "output_type": "stream",
     "text": [
      "Accuracy after SEU: 0.5637037037037037\n",
      "===================================\n",
      "Original value: 3.148340940475464, SEU value: 12.593363761901855\n"
     ]
    },
    {
     "name": "stderr",
     "output_type": "stream",
     "text": [
      "Evaluating: 100%|██████████| 100/100 [00:18<00:00,  5.55it/s]\n"
     ]
    },
    {
     "name": "stdout",
     "output_type": "stream",
     "text": [
      "Accuracy after SEU: 0.7174074074074074\n",
      "===================================\n",
      "Original value: 3.148340940475464, SEU value: 6.296681880950928\n"
     ]
    },
    {
     "name": "stderr",
     "output_type": "stream",
     "text": [
      "Evaluating: 100%|██████████| 100/100 [00:18<00:00,  5.50it/s]\n"
     ]
    },
    {
     "name": "stdout",
     "output_type": "stream",
     "text": [
      "Accuracy after SEU: 0.7485185185185185\n",
      "===================================\n",
      "Original value: 3.148340940475464, SEU value: 2.148340940475464\n"
     ]
    },
    {
     "name": "stderr",
     "output_type": "stream",
     "text": [
      "Evaluating: 100%|██████████| 100/100 [00:18<00:00,  5.50it/s]\n"
     ]
    },
    {
     "name": "stdout",
     "output_type": "stream",
     "text": [
      "Accuracy after SEU: 0.7472222222222222\n",
      "===================================\n",
      "Original value: 3.148340940475464, SEU value: 3.648340940475464\n"
     ]
    },
    {
     "name": "stderr",
     "output_type": "stream",
     "text": [
      "Evaluating: 100%|██████████| 100/100 [00:17<00:00,  5.56it/s]\n"
     ]
    },
    {
     "name": "stdout",
     "output_type": "stream",
     "text": [
      "Accuracy after SEU: 0.7503703703703704\n",
      "===================================\n",
      "Original value: 3.148340940475464, SEU value: 3.398340940475464\n"
     ]
    },
    {
     "name": "stderr",
     "output_type": "stream",
     "text": [
      "Evaluating: 100%|██████████| 100/100 [00:18<00:00,  5.48it/s]\n"
     ]
    },
    {
     "name": "stdout",
     "output_type": "stream",
     "text": [
      "Accuracy after SEU: 0.75\n",
      "===================================\n",
      "Original value: 3.148340940475464, SEU value: 3.023340940475464\n"
     ]
    },
    {
     "name": "stderr",
     "output_type": "stream",
     "text": [
      "Evaluating: 100%|██████████| 100/100 [00:18<00:00,  5.54it/s]\n"
     ]
    },
    {
     "name": "stdout",
     "output_type": "stream",
     "text": [
      "Accuracy after SEU: 0.7472222222222222\n",
      "===================================\n",
      "Original value: 3.148340940475464, SEU value: 3.210840940475464\n"
     ]
    },
    {
     "name": "stderr",
     "output_type": "stream",
     "text": [
      "Evaluating: 100%|██████████| 100/100 [00:17<00:00,  5.60it/s]\n"
     ]
    },
    {
     "name": "stdout",
     "output_type": "stream",
     "text": [
      "Accuracy after SEU: 0.7457407407407407\n",
      "===================================\n",
      "Original value: 3.148340940475464, SEU value: 3.179590940475464\n"
     ]
    },
    {
     "name": "stderr",
     "output_type": "stream",
     "text": [
      "Evaluating: 100%|██████████| 100/100 [00:18<00:00,  5.54it/s]\n"
     ]
    },
    {
     "name": "stdout",
     "output_type": "stream",
     "text": [
      "Accuracy after SEU: 0.7512962962962964\n",
      "===================================\n",
      "Original value: 3.148340940475464, SEU value: 3.132715940475464\n"
     ]
    },
    {
     "name": "stderr",
     "output_type": "stream",
     "text": [
      "Evaluating: 100%|██████████| 100/100 [00:18<00:00,  5.53it/s]\n"
     ]
    },
    {
     "name": "stdout",
     "output_type": "stream",
     "text": [
      "Accuracy after SEU: 0.7494444444444445\n",
      "===================================\n",
      "Original value: 3.148340940475464, SEU value: 3.156153440475464\n"
     ]
    },
    {
     "name": "stderr",
     "output_type": "stream",
     "text": [
      "Evaluating: 100%|██████████| 100/100 [00:19<00:00,  5.09it/s]\n"
     ]
    },
    {
     "name": "stdout",
     "output_type": "stream",
     "text": [
      "Accuracy after SEU: 0.7481481481481481\n",
      "===================================\n",
      "Original value: 3.148340940475464, SEU value: 3.144434690475464\n"
     ]
    },
    {
     "name": "stderr",
     "output_type": "stream",
     "text": [
      "Evaluating: 100%|██████████| 100/100 [00:19<00:00,  5.04it/s]\n"
     ]
    },
    {
     "name": "stdout",
     "output_type": "stream",
     "text": [
      "Accuracy after SEU: 0.7466666666666667\n",
      "===================================\n",
      "Original value: 3.148340940475464, SEU value: 3.146387815475464\n"
     ]
    },
    {
     "name": "stderr",
     "output_type": "stream",
     "text": [
      "Evaluating: 100%|██████████| 100/100 [00:20<00:00,  4.93it/s]\n"
     ]
    },
    {
     "name": "stdout",
     "output_type": "stream",
     "text": [
      "Accuracy after SEU: 0.7462962962962963\n",
      "===================================\n",
      "Original value: 3.148340940475464, SEU value: 3.147364377975464\n"
     ]
    },
    {
     "name": "stderr",
     "output_type": "stream",
     "text": [
      "Evaluating: 100%|██████████| 100/100 [00:20<00:00,  4.99it/s]\n"
     ]
    },
    {
     "name": "stdout",
     "output_type": "stream",
     "text": [
      "Accuracy after SEU: 0.7492592592592593\n",
      "===================================\n",
      "Original value: 3.148340940475464, SEU value: 3.147852659225464\n"
     ]
    },
    {
     "name": "stderr",
     "output_type": "stream",
     "text": [
      "Evaluating: 100%|██████████| 100/100 [00:20<00:00,  4.99it/s]\n"
     ]
    },
    {
     "name": "stdout",
     "output_type": "stream",
     "text": [
      "Accuracy after SEU: 0.7479629629629629\n",
      "===================================\n",
      "Original value: 3.148340940475464, SEU value: 3.148096799850464\n"
     ]
    },
    {
     "name": "stderr",
     "output_type": "stream",
     "text": [
      "Evaluating: 100%|██████████| 100/100 [00:24<00:00,  4.06it/s]\n"
     ]
    },
    {
     "name": "stdout",
     "output_type": "stream",
     "text": [
      "Accuracy after SEU: 0.7472222222222222\n",
      "===================================\n",
      "Original value: 3.148340940475464, SEU value: 3.148218870162964\n"
     ]
    },
    {
     "name": "stderr",
     "output_type": "stream",
     "text": [
      "Evaluating: 100%|██████████| 100/100 [00:20<00:00,  4.84it/s]\n"
     ]
    },
    {
     "name": "stdout",
     "output_type": "stream",
     "text": [
      "Accuracy after SEU: 0.7505555555555555\n",
      "===================================\n",
      "Original value: 3.148340940475464, SEU value: 3.148401975631714\n"
     ]
    },
    {
     "name": "stderr",
     "output_type": "stream",
     "text": [
      "Evaluating: 100%|██████████| 100/100 [00:20<00:00,  4.92it/s]\n"
     ]
    },
    {
     "name": "stdout",
     "output_type": "stream",
     "text": [
      "Accuracy after SEU: 0.7468518518518519\n",
      "===================================\n",
      "Original value: 3.148340940475464, SEU value: 3.148371458053589\n"
     ]
    },
    {
     "name": "stderr",
     "output_type": "stream",
     "text": [
      "Evaluating: 100%|██████████| 100/100 [00:21<00:00,  4.64it/s]\n"
     ]
    },
    {
     "name": "stdout",
     "output_type": "stream",
     "text": [
      "Accuracy after SEU: 0.7501851851851852\n",
      "===================================\n",
      "Original value: 3.148340940475464, SEU value: 3.1483256816864014\n"
     ]
    },
    {
     "name": "stderr",
     "output_type": "stream",
     "text": [
      "Evaluating: 100%|██████████| 100/100 [00:20<00:00,  4.88it/s]\n"
     ]
    },
    {
     "name": "stdout",
     "output_type": "stream",
     "text": [
      "Accuracy after SEU: 0.7483333333333333\n",
      "===================================\n",
      "Original value: 3.148340940475464, SEU value: 3.1483333110809326\n"
     ]
    },
    {
     "name": "stderr",
     "output_type": "stream",
     "text": [
      "Evaluating: 100%|██████████| 100/100 [00:20<00:00,  4.93it/s]\n"
     ]
    },
    {
     "name": "stdout",
     "output_type": "stream",
     "text": [
      "Accuracy after SEU: 0.7514814814814815\n",
      "===================================\n",
      "Original value: 3.148340940475464, SEU value: 3.1483447551727295\n"
     ]
    },
    {
     "name": "stderr",
     "output_type": "stream",
     "text": [
      "Evaluating: 100%|██████████| 100/100 [00:19<00:00,  5.01it/s]\n"
     ]
    },
    {
     "name": "stdout",
     "output_type": "stream",
     "text": [
      "Accuracy after SEU: 0.7483333333333333\n",
      "===================================\n",
      "Original value: 3.148340940475464, SEU value: 3.148339033126831\n"
     ]
    },
    {
     "name": "stderr",
     "output_type": "stream",
     "text": [
      "Evaluating: 100%|██████████| 100/100 [00:20<00:00,  4.94it/s]\n"
     ]
    },
    {
     "name": "stdout",
     "output_type": "stream",
     "text": [
      "Accuracy after SEU: 0.7459259259259259\n",
      "===================================\n",
      "Original value: 3.148340940475464, SEU value: 3.1483418941497803\n"
     ]
    },
    {
     "name": "stderr",
     "output_type": "stream",
     "text": [
      "Evaluating: 100%|██████████| 100/100 [00:20<00:00,  5.00it/s]\n"
     ]
    },
    {
     "name": "stdout",
     "output_type": "stream",
     "text": [
      "Accuracy after SEU: 0.7485185185185185\n",
      "===================================\n",
      "Original value: 3.148340940475464, SEU value: 3.1483404636383057\n"
     ]
    },
    {
     "name": "stderr",
     "output_type": "stream",
     "text": [
      "Evaluating: 100%|██████████| 100/100 [00:19<00:00,  5.00it/s]\n"
     ]
    },
    {
     "name": "stdout",
     "output_type": "stream",
     "text": [
      "Accuracy after SEU: 0.7492592592592593\n",
      "===================================\n",
      "Original value: 3.148340940475464, SEU value: 3.1483407020568848\n"
     ]
    },
    {
     "name": "stderr",
     "output_type": "stream",
     "text": [
      "Evaluating: 100%|██████████| 100/100 [00:20<00:00,  4.99it/s]"
     ]
    },
    {
     "name": "stdout",
     "output_type": "stream",
     "text": [
      "Accuracy after SEU: 0.7494444444444445\n",
      "===================================\n"
     ]
    },
    {
     "name": "stderr",
     "output_type": "stream",
     "text": [
      "\n"
     ]
    }
   ],
   "source": [
    "results_loc = []\n",
    "\n",
    "for i in range(0, 32):\n",
    "    results_loc.append(inj.run_seu_autodiagonal_normal(location_index=0, bit_i=i, parameter_name=\"loc\", num_samples=10))"
   ]
  },
  {
   "cell_type": "code",
   "execution_count": null,
   "id": "dce26354",
   "metadata": {},
   "outputs": [],
   "source": [
    "plt.figure(figsize=(10, 5))\n",
    "plt.plot(range(0, 32), results_loc, marker='o')\n",
    "plt.title('SEU Impact on Loc Parameter')\n",
    "plt.xlabel('Bit Position')\n",
    "plt.ylabel('Change in Accuracy')\n",
    "plt.grid()\n",
    "plt.show()"
   ]
  },
  {
   "cell_type": "code",
   "execution_count": null,
   "id": "c931c99e",
   "metadata": {},
   "outputs": [],
   "source": [
    "#(inj.run_seu_autodiagonal_normal(location_index=0, bit_i=0, parameter_name=\"loc\", num_samples=10))"
   ]
  },
  {
   "cell_type": "code",
   "execution_count": null,
   "id": "ac85bcc0",
   "metadata": {},
   "outputs": [],
   "source": []
  },
  {
   "cell_type": "code",
   "execution_count": 16,
   "id": "243f654e",
   "metadata": {},
   "outputs": [
    {
     "name": "stdout",
     "output_type": "stream",
     "text": [
      "Original value: 3.2035176753997803, SEU value: -3.2035176753997803\n"
     ]
    },
    {
     "name": "stderr",
     "output_type": "stream",
     "text": [
      "Evaluating: 100%|██████████| 100/100 [00:20<00:00,  4.91it/s]\n"
     ]
    },
    {
     "name": "stdout",
     "output_type": "stream",
     "text": [
      "Accuracy after SEU: 0.7503703703703704\n",
      "===================================\n",
      "Original value: 3.2035176753997803, SEU value: 7.073641142736066e-39\n"
     ]
    },
    {
     "name": "stderr",
     "output_type": "stream",
     "text": [
      "Evaluating: 100%|██████████| 100/100 [00:20<00:00,  4.93it/s]\n"
     ]
    },
    {
     "name": "stdout",
     "output_type": "stream",
     "text": [
      "Accuracy after SEU: 0.7501851851851852\n",
      "===================================\n",
      "Original value: 3.2035176753997803, SEU value: 5.9094470693704696e+19\n"
     ]
    },
    {
     "name": "stderr",
     "output_type": "stream",
     "text": [
      "Evaluating: 100%|██████████| 100/100 [00:19<00:00,  5.04it/s]\n"
     ]
    },
    {
     "name": "stdout",
     "output_type": "stream",
     "text": [
      "Accuracy after SEU: 0.1111111111111111\n",
      "===================================\n",
      "Original value: 3.2035176753997803, SEU value: 13759003648.0\n"
     ]
    },
    {
     "name": "stderr",
     "output_type": "stream",
     "text": [
      "Evaluating: 100%|██████████| 100/100 [00:22<00:00,  4.47it/s]\n"
     ]
    },
    {
     "name": "stdout",
     "output_type": "stream",
     "text": [
      "Accuracy after SEU: 0.1111111111111111\n",
      "===================================\n",
      "Original value: 3.2035176753997803, SEU value: 209945.734375\n"
     ]
    },
    {
     "name": "stderr",
     "output_type": "stream",
     "text": [
      "Evaluating: 100%|██████████| 100/100 [00:20<00:00,  4.86it/s]\n"
     ]
    },
    {
     "name": "stdout",
     "output_type": "stream",
     "text": [
      "Accuracy after SEU: 0.24962962962962962\n",
      "===================================\n",
      "Original value: 3.2035176753997803, SEU value: 820.1005249023438\n"
     ]
    },
    {
     "name": "stderr",
     "output_type": "stream",
     "text": [
      "Evaluating: 100%|██████████| 100/100 [00:20<00:00,  4.91it/s]\n"
     ]
    },
    {
     "name": "stdout",
     "output_type": "stream",
     "text": [
      "Accuracy after SEU: 0.7492592592592593\n",
      "===================================\n",
      "Original value: 3.2035176753997803, SEU value: 51.256282806396484\n"
     ]
    },
    {
     "name": "stderr",
     "output_type": "stream",
     "text": [
      "Evaluating: 100%|██████████| 100/100 [00:19<00:00,  5.06it/s]\n"
     ]
    },
    {
     "name": "stdout",
     "output_type": "stream",
     "text": [
      "Accuracy after SEU: 0.7501851851851852\n",
      "===================================\n",
      "Original value: 3.2035176753997803, SEU value: 12.814070701599121\n"
     ]
    },
    {
     "name": "stderr",
     "output_type": "stream",
     "text": [
      "Evaluating: 100%|██████████| 100/100 [00:19<00:00,  5.04it/s]\n"
     ]
    },
    {
     "name": "stdout",
     "output_type": "stream",
     "text": [
      "Accuracy after SEU: 0.7481481481481481\n",
      "===================================\n",
      "Original value: 3.2035176753997803, SEU value: 6.4070353507995605\n"
     ]
    },
    {
     "name": "stderr",
     "output_type": "stream",
     "text": [
      "Evaluating: 100%|██████████| 100/100 [00:20<00:00,  4.92it/s]\n"
     ]
    },
    {
     "name": "stdout",
     "output_type": "stream",
     "text": [
      "Accuracy after SEU: 0.7487037037037036\n",
      "===================================\n",
      "Original value: 3.2035176753997803, SEU value: 2.2035176753997803\n"
     ]
    },
    {
     "name": "stderr",
     "output_type": "stream",
     "text": [
      "Evaluating: 100%|██████████| 100/100 [00:19<00:00,  5.02it/s]\n"
     ]
    },
    {
     "name": "stdout",
     "output_type": "stream",
     "text": [
      "Accuracy after SEU: 0.7514814814814815\n",
      "===================================\n",
      "Original value: 3.2035176753997803, SEU value: 3.7035176753997803\n"
     ]
    },
    {
     "name": "stderr",
     "output_type": "stream",
     "text": [
      "Evaluating: 100%|██████████| 100/100 [00:19<00:00,  5.12it/s]\n"
     ]
    },
    {
     "name": "stdout",
     "output_type": "stream",
     "text": [
      "Accuracy after SEU: 0.7490740740740741\n",
      "===================================\n",
      "Original value: 3.2035176753997803, SEU value: 3.4535176753997803\n"
     ]
    },
    {
     "name": "stderr",
     "output_type": "stream",
     "text": [
      "Evaluating: 100%|██████████| 100/100 [00:19<00:00,  5.08it/s]\n"
     ]
    },
    {
     "name": "stdout",
     "output_type": "stream",
     "text": [
      "Accuracy after SEU: 0.7474074074074074\n",
      "===================================\n",
      "Original value: 3.2035176753997803, SEU value: 3.0785176753997803\n"
     ]
    },
    {
     "name": "stderr",
     "output_type": "stream",
     "text": [
      "Evaluating: 100%|██████████| 100/100 [00:19<00:00,  5.04it/s]\n"
     ]
    },
    {
     "name": "stdout",
     "output_type": "stream",
     "text": [
      "Accuracy after SEU: 0.75\n",
      "===================================\n",
      "Original value: 3.2035176753997803, SEU value: 3.1410176753997803\n"
     ]
    },
    {
     "name": "stderr",
     "output_type": "stream",
     "text": [
      "Evaluating: 100%|██████████| 100/100 [00:20<00:00,  4.89it/s]\n"
     ]
    },
    {
     "name": "stdout",
     "output_type": "stream",
     "text": [
      "Accuracy after SEU: 0.7468518518518519\n",
      "===================================\n",
      "Original value: 3.2035176753997803, SEU value: 3.2347676753997803\n"
     ]
    },
    {
     "name": "stderr",
     "output_type": "stream",
     "text": [
      "Evaluating: 100%|██████████| 100/100 [00:19<00:00,  5.15it/s]\n"
     ]
    },
    {
     "name": "stdout",
     "output_type": "stream",
     "text": [
      "Accuracy after SEU: 0.7479629629629629\n",
      "===================================\n",
      "Original value: 3.2035176753997803, SEU value: 3.1878926753997803\n"
     ]
    },
    {
     "name": "stderr",
     "output_type": "stream",
     "text": [
      "Evaluating: 100%|██████████| 100/100 [00:19<00:00,  5.13it/s]\n"
     ]
    },
    {
     "name": "stdout",
     "output_type": "stream",
     "text": [
      "Accuracy after SEU: 0.7503703703703704\n",
      "===================================\n",
      "Original value: 3.2035176753997803, SEU value: 3.2113301753997803\n"
     ]
    },
    {
     "name": "stderr",
     "output_type": "stream",
     "text": [
      "Evaluating: 100%|██████████| 100/100 [00:19<00:00,  5.13it/s]\n"
     ]
    },
    {
     "name": "stdout",
     "output_type": "stream",
     "text": [
      "Accuracy after SEU: 0.7507407407407407\n",
      "===================================\n",
      "Original value: 3.2035176753997803, SEU value: 3.2074239253997803\n"
     ]
    },
    {
     "name": "stderr",
     "output_type": "stream",
     "text": [
      "Evaluating: 100%|██████████| 100/100 [00:19<00:00,  5.04it/s]\n"
     ]
    },
    {
     "name": "stdout",
     "output_type": "stream",
     "text": [
      "Accuracy after SEU: 0.7503703703703704\n",
      "===================================\n",
      "Original value: 3.2035176753997803, SEU value: 3.2054708003997803\n"
     ]
    },
    {
     "name": "stderr",
     "output_type": "stream",
     "text": [
      "Evaluating: 100%|██████████| 100/100 [00:19<00:00,  5.01it/s]\n"
     ]
    },
    {
     "name": "stdout",
     "output_type": "stream",
     "text": [
      "Accuracy after SEU: 0.7481481481481481\n",
      "===================================\n",
      "Original value: 3.2035176753997803, SEU value: 3.2044942378997803\n"
     ]
    },
    {
     "name": "stderr",
     "output_type": "stream",
     "text": [
      "Evaluating: 100%|██████████| 100/100 [00:19<00:00,  5.11it/s]\n"
     ]
    },
    {
     "name": "stdout",
     "output_type": "stream",
     "text": [
      "Accuracy after SEU: 0.7490740740740741\n",
      "===================================\n",
      "Original value: 3.2035176753997803, SEU value: 3.2040059566497803\n"
     ]
    },
    {
     "name": "stderr",
     "output_type": "stream",
     "text": [
      "Evaluating: 100%|██████████| 100/100 [00:19<00:00,  5.11it/s]\n"
     ]
    },
    {
     "name": "stdout",
     "output_type": "stream",
     "text": [
      "Accuracy after SEU: 0.7462962962962963\n",
      "===================================\n",
      "Original value: 3.2035176753997803, SEU value: 3.2032735347747803\n"
     ]
    },
    {
     "name": "stderr",
     "output_type": "stream",
     "text": [
      "Evaluating: 100%|██████████| 100/100 [00:19<00:00,  5.17it/s]\n"
     ]
    },
    {
     "name": "stdout",
     "output_type": "stream",
     "text": [
      "Accuracy after SEU: 0.75\n",
      "===================================\n",
      "Original value: 3.2035176753997803, SEU value: 3.2033956050872803\n"
     ]
    },
    {
     "name": "stderr",
     "output_type": "stream",
     "text": [
      "Evaluating: 100%|██████████| 100/100 [00:19<00:00,  5.03it/s]\n"
     ]
    },
    {
     "name": "stdout",
     "output_type": "stream",
     "text": [
      "Accuracy after SEU: 0.7496296296296296\n",
      "===================================\n",
      "Original value: 3.2035176753997803, SEU value: 3.2035787105560303\n"
     ]
    },
    {
     "name": "stderr",
     "output_type": "stream",
     "text": [
      "Evaluating: 100%|██████████| 100/100 [00:19<00:00,  5.09it/s]\n"
     ]
    },
    {
     "name": "stdout",
     "output_type": "stream",
     "text": [
      "Accuracy after SEU: 0.7512962962962964\n",
      "===================================\n",
      "Original value: 3.2035176753997803, SEU value: 3.2035481929779053\n"
     ]
    },
    {
     "name": "stderr",
     "output_type": "stream",
     "text": [
      "Evaluating: 100%|██████████| 100/100 [00:19<00:00,  5.06it/s]\n"
     ]
    },
    {
     "name": "stdout",
     "output_type": "stream",
     "text": [
      "Accuracy after SEU: 0.7520370370370371\n",
      "===================================\n",
      "Original value: 3.2035176753997803, SEU value: 3.2035024166107178\n"
     ]
    },
    {
     "name": "stderr",
     "output_type": "stream",
     "text": [
      "Evaluating: 100%|██████████| 100/100 [00:19<00:00,  5.13it/s]\n"
     ]
    },
    {
     "name": "stdout",
     "output_type": "stream",
     "text": [
      "Accuracy after SEU: 0.7501851851851852\n",
      "===================================\n",
      "Original value: 3.2035176753997803, SEU value: 3.203510046005249\n"
     ]
    },
    {
     "name": "stderr",
     "output_type": "stream",
     "text": [
      "Evaluating: 100%|██████████| 100/100 [00:19<00:00,  5.12it/s]\n"
     ]
    },
    {
     "name": "stdout",
     "output_type": "stream",
     "text": [
      "Accuracy after SEU: 0.7494444444444445\n",
      "===================================\n",
      "Original value: 3.2035176753997803, SEU value: 3.203521490097046\n"
     ]
    },
    {
     "name": "stderr",
     "output_type": "stream",
     "text": [
      "Evaluating: 100%|██████████| 100/100 [00:19<00:00,  5.06it/s]\n"
     ]
    },
    {
     "name": "stdout",
     "output_type": "stream",
     "text": [
      "Accuracy after SEU: 0.7485185185185185\n",
      "===================================\n",
      "Original value: 3.2035176753997803, SEU value: 3.2035157680511475\n"
     ]
    },
    {
     "name": "stderr",
     "output_type": "stream",
     "text": [
      "Evaluating: 100%|██████████| 100/100 [00:19<00:00,  5.09it/s]\n"
     ]
    },
    {
     "name": "stdout",
     "output_type": "stream",
     "text": [
      "Accuracy after SEU: 0.7485185185185185\n",
      "===================================\n",
      "Original value: 3.2035176753997803, SEU value: 3.203516721725464\n"
     ]
    },
    {
     "name": "stderr",
     "output_type": "stream",
     "text": [
      "Evaluating: 100%|██████████| 100/100 [00:19<00:00,  5.11it/s]\n"
     ]
    },
    {
     "name": "stdout",
     "output_type": "stream",
     "text": [
      "Accuracy after SEU: 0.7453703703703703\n",
      "===================================\n",
      "Original value: 3.2035176753997803, SEU value: 3.203517198562622\n"
     ]
    },
    {
     "name": "stderr",
     "output_type": "stream",
     "text": [
      "Evaluating: 100%|██████████| 100/100 [00:19<00:00,  5.09it/s]\n"
     ]
    },
    {
     "name": "stdout",
     "output_type": "stream",
     "text": [
      "Accuracy after SEU: 0.7468518518518519\n",
      "===================================\n",
      "Original value: 3.2035176753997803, SEU value: 3.203517436981201\n"
     ]
    },
    {
     "name": "stderr",
     "output_type": "stream",
     "text": [
      "Evaluating: 100%|██████████| 100/100 [00:19<00:00,  5.09it/s]"
     ]
    },
    {
     "name": "stdout",
     "output_type": "stream",
     "text": [
      "Accuracy after SEU: 0.7466666666666667\n",
      "===================================\n"
     ]
    },
    {
     "name": "stderr",
     "output_type": "stream",
     "text": [
      "\n"
     ]
    }
   ],
   "source": [
    "results2_loc = []\n",
    "\n",
    "for i in range(0, 32):\n",
    "    results2_loc.append(inj.run_seu_autodiagonal_normal(location_index=217536, bit_i=i, parameter_name=\"loc\", num_samples=10))"
   ]
  },
  {
   "cell_type": "code",
   "execution_count": null,
   "id": "30037b8f",
   "metadata": {},
   "outputs": [],
   "source": [
    "plt.figure(figsize=(10, 5))\n",
    "plt.plot(range(0, 32), results2_loc, marker='o')\n",
    "plt.title('SEU Impact on Loc Parameter')\n",
    "plt.xlabel('Bit Position')\n",
    "plt.ylabel('Change in Accuracy')\n",
    "plt.grid()\n",
    "plt.show()"
   ]
  },
  {
   "cell_type": "code",
   "execution_count": null,
   "id": "383ac246",
   "metadata": {},
   "outputs": [],
   "source": [
    "bayesian_model"
   ]
  },
  {
   "cell_type": "code",
   "execution_count": null,
   "id": "71c97214",
   "metadata": {},
   "outputs": [],
   "source": [
    "# print the parameters of the bayesian model\n",
    "for name, value in bayesian_model.named_parameters():\n",
    "    print(f\"{name}: {value.shape}\")"
   ]
  },
  {
   "cell_type": "code",
   "execution_count": null,
   "id": "19998c08",
   "metadata": {},
   "outputs": [],
   "source": [
    "# print the parameters of pyro param store\n",
    "for name, value in pyro.get_param_store().items():\n",
    "    print(f\"{name}: {value.shape}\")"
   ]
  },
  {
   "cell_type": "code",
   "execution_count": 17,
   "id": "2218c250",
   "metadata": {},
   "outputs": [
    {
     "name": "stdout",
     "output_type": "stream",
     "text": [
      "Original value: -3.9885945320129395, SEU value: 3.9885945320129395\n"
     ]
    },
    {
     "name": "stderr",
     "output_type": "stream",
     "text": [
      "Evaluating: 100%|██████████| 100/100 [00:19<00:00,  5.10it/s]\n"
     ]
    },
    {
     "name": "stdout",
     "output_type": "stream",
     "text": [
      "Accuracy after SEU: 0.7505555555555555\n",
      "===================================\n",
      "Original value: -3.9885945320129395, SEU value: -1.1687908192286504e-38\n"
     ]
    },
    {
     "name": "stderr",
     "output_type": "stream",
     "text": [
      "Evaluating: 100%|██████████| 100/100 [00:19<00:00,  5.16it/s]\n"
     ]
    },
    {
     "name": "stdout",
     "output_type": "stream",
     "text": [
      "Accuracy after SEU: 0.7505555555555555\n",
      "===================================\n",
      "Original value: -3.9885945320129395, SEU value: -7.357658254584001e+19\n"
     ]
    },
    {
     "name": "stderr",
     "output_type": "stream",
     "text": [
      "Evaluating: 100%|██████████| 100/100 [00:19<00:00,  5.11it/s]\n"
     ]
    },
    {
     "name": "stdout",
     "output_type": "stream",
     "text": [
      "Accuracy after SEU: 0.7446296296296296\n",
      "===================================\n",
      "Original value: -3.9885945320129395, SEU value: -17130883072.0\n"
     ]
    },
    {
     "name": "stderr",
     "output_type": "stream",
     "text": [
      "Evaluating: 100%|██████████| 100/100 [00:19<00:00,  5.12it/s]\n"
     ]
    },
    {
     "name": "stdout",
     "output_type": "stream",
     "text": [
      "Accuracy after SEU: 0.7492592592592593\n",
      "===================================\n",
      "Original value: -3.9885945320129395, SEU value: -261396.53125\n"
     ]
    },
    {
     "name": "stderr",
     "output_type": "stream",
     "text": [
      "Evaluating: 100%|██████████| 100/100 [00:19<00:00,  5.13it/s]\n"
     ]
    },
    {
     "name": "stdout",
     "output_type": "stream",
     "text": [
      "Accuracy after SEU: 0.7472222222222222\n",
      "===================================\n",
      "Original value: -3.9885945320129395, SEU value: -1021.0802001953125\n"
     ]
    },
    {
     "name": "stderr",
     "output_type": "stream",
     "text": [
      "Evaluating: 100%|██████████| 100/100 [00:19<00:00,  5.08it/s]\n"
     ]
    },
    {
     "name": "stdout",
     "output_type": "stream",
     "text": [
      "Accuracy after SEU: 0.7494444444444445\n",
      "===================================\n",
      "Original value: -3.9885945320129395, SEU value: -63.81751251220703\n"
     ]
    },
    {
     "name": "stderr",
     "output_type": "stream",
     "text": [
      "Evaluating: 100%|██████████| 100/100 [00:19<00:00,  5.19it/s]\n"
     ]
    },
    {
     "name": "stdout",
     "output_type": "stream",
     "text": [
      "Accuracy after SEU: 0.75\n",
      "===================================\n",
      "Original value: -3.9885945320129395, SEU value: -15.954378128051758\n"
     ]
    },
    {
     "name": "stderr",
     "output_type": "stream",
     "text": [
      "Evaluating: 100%|██████████| 100/100 [00:19<00:00,  5.20it/s]\n"
     ]
    },
    {
     "name": "stdout",
     "output_type": "stream",
     "text": [
      "Accuracy after SEU: 0.7483333333333333\n",
      "===================================\n",
      "Original value: -3.9885945320129395, SEU value: -7.977189064025879\n"
     ]
    },
    {
     "name": "stderr",
     "output_type": "stream",
     "text": [
      "Evaluating: 100%|██████████| 100/100 [00:19<00:00,  5.15it/s]\n"
     ]
    },
    {
     "name": "stdout",
     "output_type": "stream",
     "text": [
      "Accuracy after SEU: 0.7505555555555555\n",
      "===================================\n",
      "Original value: -3.9885945320129395, SEU value: -2.9885945320129395\n"
     ]
    },
    {
     "name": "stderr",
     "output_type": "stream",
     "text": [
      "Evaluating: 100%|██████████| 100/100 [00:19<00:00,  5.11it/s]\n"
     ]
    },
    {
     "name": "stdout",
     "output_type": "stream",
     "text": [
      "Accuracy after SEU: 0.7498148148148148\n",
      "===================================\n",
      "Original value: -3.9885945320129395, SEU value: -3.4885945320129395\n"
     ]
    },
    {
     "name": "stderr",
     "output_type": "stream",
     "text": [
      "Evaluating: 100%|██████████| 100/100 [00:19<00:00,  5.14it/s]\n"
     ]
    },
    {
     "name": "stdout",
     "output_type": "stream",
     "text": [
      "Accuracy after SEU: 0.7479629629629629\n",
      "===================================\n",
      "Original value: -3.9885945320129395, SEU value: -3.7385945320129395\n"
     ]
    },
    {
     "name": "stderr",
     "output_type": "stream",
     "text": [
      "Evaluating: 100%|██████████| 100/100 [00:19<00:00,  5.01it/s]\n"
     ]
    },
    {
     "name": "stdout",
     "output_type": "stream",
     "text": [
      "Accuracy after SEU: 0.7492592592592593\n",
      "===================================\n",
      "Original value: -3.9885945320129395, SEU value: -3.8635945320129395\n"
     ]
    },
    {
     "name": "stderr",
     "output_type": "stream",
     "text": [
      "Evaluating: 100%|██████████| 100/100 [00:20<00:00,  5.00it/s]\n"
     ]
    },
    {
     "name": "stdout",
     "output_type": "stream",
     "text": [
      "Accuracy after SEU: 0.7503703703703704\n",
      "===================================\n",
      "Original value: -3.9885945320129395, SEU value: -3.9260945320129395\n"
     ]
    },
    {
     "name": "stderr",
     "output_type": "stream",
     "text": [
      "Evaluating: 100%|██████████| 100/100 [00:19<00:00,  5.12it/s]\n"
     ]
    },
    {
     "name": "stdout",
     "output_type": "stream",
     "text": [
      "Accuracy after SEU: 0.7496296296296296\n",
      "===================================\n",
      "Original value: -3.9885945320129395, SEU value: -3.9573445320129395\n"
     ]
    },
    {
     "name": "stderr",
     "output_type": "stream",
     "text": [
      "Evaluating: 100%|██████████| 100/100 [00:19<00:00,  5.07it/s]\n"
     ]
    },
    {
     "name": "stdout",
     "output_type": "stream",
     "text": [
      "Accuracy after SEU: 0.7472222222222222\n",
      "===================================\n",
      "Original value: -3.9885945320129395, SEU value: -3.9729695320129395\n"
     ]
    },
    {
     "name": "stderr",
     "output_type": "stream",
     "text": [
      "Evaluating: 100%|██████████| 100/100 [00:19<00:00,  5.10it/s]\n"
     ]
    },
    {
     "name": "stdout",
     "output_type": "stream",
     "text": [
      "Accuracy after SEU: 0.7498148148148148\n",
      "===================================\n",
      "Original value: -3.9885945320129395, SEU value: -3.9964070320129395\n"
     ]
    },
    {
     "name": "stderr",
     "output_type": "stream",
     "text": [
      "Evaluating: 100%|██████████| 100/100 [00:19<00:00,  5.20it/s]\n"
     ]
    },
    {
     "name": "stdout",
     "output_type": "stream",
     "text": [
      "Accuracy after SEU: 0.7496296296296296\n",
      "===================================\n",
      "Original value: -3.9885945320129395, SEU value: -3.9846882820129395\n"
     ]
    },
    {
     "name": "stderr",
     "output_type": "stream",
     "text": [
      "Evaluating: 100%|██████████| 100/100 [00:19<00:00,  5.13it/s]\n"
     ]
    },
    {
     "name": "stdout",
     "output_type": "stream",
     "text": [
      "Accuracy after SEU: 0.7466666666666667\n",
      "===================================\n",
      "Original value: -3.9885945320129395, SEU value: -3.9905476570129395\n"
     ]
    },
    {
     "name": "stderr",
     "output_type": "stream",
     "text": [
      "Evaluating: 100%|██████████| 100/100 [00:19<00:00,  5.20it/s]\n"
     ]
    },
    {
     "name": "stdout",
     "output_type": "stream",
     "text": [
      "Accuracy after SEU: 0.7496296296296296\n",
      "===================================\n",
      "Original value: -3.9885945320129395, SEU value: -3.9895710945129395\n"
     ]
    },
    {
     "name": "stderr",
     "output_type": "stream",
     "text": [
      "Evaluating: 100%|██████████| 100/100 [00:19<00:00,  5.11it/s]\n"
     ]
    },
    {
     "name": "stdout",
     "output_type": "stream",
     "text": [
      "Accuracy after SEU: 0.7481481481481481\n",
      "===================================\n",
      "Original value: -3.9885945320129395, SEU value: -3.9890828132629395\n"
     ]
    },
    {
     "name": "stderr",
     "output_type": "stream",
     "text": [
      "Evaluating: 100%|██████████| 100/100 [00:19<00:00,  5.11it/s]\n"
     ]
    },
    {
     "name": "stdout",
     "output_type": "stream",
     "text": [
      "Accuracy after SEU: 0.7505555555555555\n",
      "===================================\n",
      "Original value: -3.9885945320129395, SEU value: -3.9883503913879395\n"
     ]
    },
    {
     "name": "stderr",
     "output_type": "stream",
     "text": [
      "Evaluating: 100%|██████████| 100/100 [00:19<00:00,  5.23it/s]\n"
     ]
    },
    {
     "name": "stdout",
     "output_type": "stream",
     "text": [
      "Accuracy after SEU: 0.7505555555555555\n",
      "===================================\n",
      "Original value: -3.9885945320129395, SEU value: -3.9887166023254395\n"
     ]
    },
    {
     "name": "stderr",
     "output_type": "stream",
     "text": [
      "Evaluating: 100%|██████████| 100/100 [00:19<00:00,  5.19it/s]\n"
     ]
    },
    {
     "name": "stdout",
     "output_type": "stream",
     "text": [
      "Accuracy after SEU: 0.7505555555555555\n",
      "===================================\n",
      "Original value: -3.9885945320129395, SEU value: -3.9885334968566895\n"
     ]
    },
    {
     "name": "stderr",
     "output_type": "stream",
     "text": [
      "Evaluating: 100%|██████████| 100/100 [00:19<00:00,  5.19it/s]\n"
     ]
    },
    {
     "name": "stdout",
     "output_type": "stream",
     "text": [
      "Accuracy after SEU: 0.7490740740740741\n",
      "===================================\n",
      "Original value: -3.9885945320129395, SEU value: -3.9886250495910645\n"
     ]
    },
    {
     "name": "stderr",
     "output_type": "stream",
     "text": [
      "Evaluating: 100%|██████████| 100/100 [00:19<00:00,  5.17it/s]\n"
     ]
    },
    {
     "name": "stdout",
     "output_type": "stream",
     "text": [
      "Accuracy after SEU: 0.7520370370370371\n",
      "===================================\n",
      "Original value: -3.9885945320129395, SEU value: -3.988609790802002\n"
     ]
    },
    {
     "name": "stderr",
     "output_type": "stream",
     "text": [
      "Evaluating: 100%|██████████| 100/100 [00:19<00:00,  5.05it/s]\n"
     ]
    },
    {
     "name": "stdout",
     "output_type": "stream",
     "text": [
      "Accuracy after SEU: 0.7498148148148148\n",
      "===================================\n",
      "Original value: -3.9885945320129395, SEU value: -3.988586902618408\n"
     ]
    },
    {
     "name": "stderr",
     "output_type": "stream",
     "text": [
      "Evaluating: 100%|██████████| 100/100 [00:19<00:00,  5.16it/s]\n"
     ]
    },
    {
     "name": "stdout",
     "output_type": "stream",
     "text": [
      "Accuracy after SEU: 0.7485185185185185\n",
      "===================================\n",
      "Original value: -3.9885945320129395, SEU value: -3.988598346710205\n"
     ]
    },
    {
     "name": "stderr",
     "output_type": "stream",
     "text": [
      "Evaluating: 100%|██████████| 100/100 [00:19<00:00,  5.17it/s]\n"
     ]
    },
    {
     "name": "stdout",
     "output_type": "stream",
     "text": [
      "Accuracy after SEU: 0.7479629629629629\n",
      "===================================\n",
      "Original value: -3.9885945320129395, SEU value: -3.9885964393615723\n"
     ]
    },
    {
     "name": "stderr",
     "output_type": "stream",
     "text": [
      "Evaluating: 100%|██████████| 100/100 [00:19<00:00,  5.23it/s]\n"
     ]
    },
    {
     "name": "stdout",
     "output_type": "stream",
     "text": [
      "Accuracy after SEU: 0.7505555555555555\n",
      "===================================\n",
      "Original value: -3.9885945320129395, SEU value: -3.988595485687256\n"
     ]
    },
    {
     "name": "stderr",
     "output_type": "stream",
     "text": [
      "Evaluating: 100%|██████████| 100/100 [00:18<00:00,  5.41it/s]\n"
     ]
    },
    {
     "name": "stdout",
     "output_type": "stream",
     "text": [
      "Accuracy after SEU: 0.7514814814814815\n",
      "===================================\n",
      "Original value: -3.9885945320129395, SEU value: -3.9885940551757812\n"
     ]
    },
    {
     "name": "stderr",
     "output_type": "stream",
     "text": [
      "Evaluating: 100%|██████████| 100/100 [00:19<00:00,  5.18it/s]\n"
     ]
    },
    {
     "name": "stdout",
     "output_type": "stream",
     "text": [
      "Accuracy after SEU: 0.7490740740740741\n",
      "===================================\n",
      "Original value: -3.9885945320129395, SEU value: -3.9885947704315186\n"
     ]
    },
    {
     "name": "stderr",
     "output_type": "stream",
     "text": [
      "Evaluating: 100%|██████████| 100/100 [00:19<00:00,  5.16it/s]"
     ]
    },
    {
     "name": "stdout",
     "output_type": "stream",
     "text": [
      "Accuracy after SEU: 0.7505555555555555\n",
      "===================================\n"
     ]
    },
    {
     "name": "stderr",
     "output_type": "stream",
     "text": [
      "\n"
     ]
    }
   ],
   "source": [
    "results3_loc = []\n",
    "\n",
    "for i in range(0, 32):\n",
    "    results3_loc.append(inj.run_seu_autodiagonal_normal(location_index=53696, bit_i=i, parameter_name=\"loc\", num_samples=10))"
   ]
  },
  {
   "cell_type": "code",
   "execution_count": null,
   "id": "2aab5691",
   "metadata": {},
   "outputs": [],
   "source": [
    "plt.figure(figsize=(10, 5))\n",
    "plt.plot(range(0, 32), results3_loc, marker='o')\n",
    "plt.title('SEU Impact on Loc Parameter')\n",
    "plt.xlabel('Bit Position')\n",
    "plt.ylabel('Change in Accuracy')\n",
    "plt.grid()\n",
    "plt.show()"
   ]
  },
  {
   "cell_type": "code",
   "execution_count": null,
   "id": "2301095f",
   "metadata": {},
   "outputs": [],
   "source": [
    "import numpy as np\n",
    "\n",
    "def get_flat_param_index(layer_name, param_type, index_tuple):\n",
    "    # Define parameter shapes for each layer\n",
    "    param_shapes = {\n",
    "        'conv1': {\n",
    "            'weight': (32, 3, 5, 5),\n",
    "            'bias': (32,)\n",
    "        },\n",
    "        'conv2': {\n",
    "            'weight': (64, 32, 5, 5),\n",
    "            'bias': (64,)\n",
    "        },\n",
    "        'fc1': {\n",
    "            'weight': (10, 16384),\n",
    "            'bias': (10,)\n",
    "        }\n",
    "    }\n",
    "\n",
    "    # Check valid inputs\n",
    "    if layer_name not in param_shapes:\n",
    "        raise ValueError(f\"Unknown layer '{layer_name}'\")\n",
    "    if param_type not in param_shapes[layer_name]:\n",
    "        raise ValueError(f\"'{param_type}' not found in layer '{layer_name}'\")\n",
    "\n",
    "    # Compute flat offset for each param in order: conv1.weight, conv1.bias, ...\n",
    "    flat_offset = 0\n",
    "    for l in ['conv1', 'conv2', 'fc1']:\n",
    "        for p in ['weight', 'bias']:\n",
    "            shape = param_shapes[l][p]\n",
    "            numel = np.prod(shape)\n",
    "\n",
    "            if l == layer_name and p == param_type:\n",
    "                # Compute local flat index within this param\n",
    "                local_flat_index = np.ravel_multi_index(index_tuple, shape)\n",
    "                return flat_offset + local_flat_index\n",
    "\n",
    "            flat_offset += numel\n",
    "\n",
    "    raise RuntimeError(\"Should not reach here if input is valid.\")\n"
   ]
  },
  {
   "cell_type": "code",
   "execution_count": null,
   "id": "4470f9f9",
   "metadata": {},
   "outputs": [],
   "source": [
    "# Index of conv1.bias[5]\n",
    "print(get_flat_param_index(\"conv1\", \"bias\", (0,)))  # Output: 2405\n",
    "\n",
    "# Index of conv2.weight[0,0,0,0]\n",
    "print(get_flat_param_index(\"conv2\", \"weight\", (0,0,0,0)))  # Output: 2432\n",
    "\n",
    "# Index of fc1.weight[0, 0]\n",
    "print(get_flat_param_index(\"fc1\", \"weight\", (0, 0)))  # Output: 53696"
   ]
  },
  {
   "cell_type": "code",
   "execution_count": 18,
   "id": "912f6988",
   "metadata": {},
   "outputs": [
    {
     "name": "stdout",
     "output_type": "stream",
     "text": [
      "Original value: 2.013899326324463, SEU value: -2.013899326324463\n"
     ]
    },
    {
     "name": "stderr",
     "output_type": "stream",
     "text": [
      "Evaluating: 100%|██████████| 100/100 [00:19<00:00,  5.22it/s]\n"
     ]
    },
    {
     "name": "stdout",
     "output_type": "stream",
     "text": [
      "Accuracy after SEU: 0.7438888888888889\n",
      "===================================\n",
      "Original value: 2.013899326324463, SEU value: 8.169289787320819e-41\n"
     ]
    },
    {
     "name": "stderr",
     "output_type": "stream",
     "text": [
      "Evaluating: 100%|██████████| 100/100 [00:19<00:00,  5.22it/s]\n"
     ]
    },
    {
     "name": "stdout",
     "output_type": "stream",
     "text": [
      "Accuracy after SEU: 0.7451851851851852\n",
      "===================================\n",
      "Original value: 2.013899326324463, SEU value: 3.7149885462923444e+19\n"
     ]
    },
    {
     "name": "stderr",
     "output_type": "stream",
     "text": [
      "Evaluating: 100%|██████████| 100/100 [00:20<00:00,  4.93it/s]\n"
     ]
    },
    {
     "name": "stdout",
     "output_type": "stream",
     "text": [
      "Accuracy after SEU: 0.1111111111111111\n",
      "===================================\n",
      "Original value: 2.013899326324463, SEU value: 8649631744.0\n"
     ]
    },
    {
     "name": "stderr",
     "output_type": "stream",
     "text": [
      "Evaluating: 100%|██████████| 100/100 [00:19<00:00,  5.10it/s]\n"
     ]
    },
    {
     "name": "stdout",
     "output_type": "stream",
     "text": [
      "Accuracy after SEU: 0.1111111111111111\n",
      "===================================\n",
      "Original value: 2.013899326324463, SEU value: 131982.90625\n"
     ]
    },
    {
     "name": "stderr",
     "output_type": "stream",
     "text": [
      "Evaluating: 100%|██████████| 100/100 [00:19<00:00,  5.13it/s]\n"
     ]
    },
    {
     "name": "stdout",
     "output_type": "stream",
     "text": [
      "Accuracy after SEU: 0.1111111111111111\n",
      "===================================\n",
      "Original value: 2.013899326324463, SEU value: 515.5582275390625\n"
     ]
    },
    {
     "name": "stderr",
     "output_type": "stream",
     "text": [
      "Evaluating: 100%|██████████| 100/100 [00:19<00:00,  5.14it/s]\n"
     ]
    },
    {
     "name": "stdout",
     "output_type": "stream",
     "text": [
      "Accuracy after SEU: 0.11203703703703703\n",
      "===================================\n",
      "Original value: 2.013899326324463, SEU value: 32.222389221191406\n"
     ]
    },
    {
     "name": "stderr",
     "output_type": "stream",
     "text": [
      "Evaluating: 100%|██████████| 100/100 [00:19<00:00,  5.16it/s]\n"
     ]
    },
    {
     "name": "stdout",
     "output_type": "stream",
     "text": [
      "Accuracy after SEU: 0.42962962962962964\n",
      "===================================\n",
      "Original value: 2.013899326324463, SEU value: 8.055597305297852\n"
     ]
    },
    {
     "name": "stderr",
     "output_type": "stream",
     "text": [
      "Evaluating: 100%|██████████| 100/100 [00:19<00:00,  5.18it/s]\n"
     ]
    },
    {
     "name": "stdout",
     "output_type": "stream",
     "text": [
      "Accuracy after SEU: 0.7283333333333334\n",
      "===================================\n",
      "Original value: 2.013899326324463, SEU value: 4.027798652648926\n"
     ]
    },
    {
     "name": "stderr",
     "output_type": "stream",
     "text": [
      "Evaluating: 100%|██████████| 100/100 [00:19<00:00,  5.19it/s]\n"
     ]
    },
    {
     "name": "stdout",
     "output_type": "stream",
     "text": [
      "Accuracy after SEU: 0.7503703703703704\n",
      "===================================\n",
      "Original value: 2.013899326324463, SEU value: 3.013899326324463\n"
     ]
    },
    {
     "name": "stderr",
     "output_type": "stream",
     "text": [
      "Evaluating: 100%|██████████| 100/100 [00:19<00:00,  5.13it/s]\n"
     ]
    },
    {
     "name": "stdout",
     "output_type": "stream",
     "text": [
      "Accuracy after SEU: 0.7511111111111111\n",
      "===================================\n",
      "Original value: 2.013899326324463, SEU value: 2.513899326324463\n"
     ]
    },
    {
     "name": "stderr",
     "output_type": "stream",
     "text": [
      "Evaluating: 100%|██████████| 100/100 [00:19<00:00,  5.05it/s]\n"
     ]
    },
    {
     "name": "stdout",
     "output_type": "stream",
     "text": [
      "Accuracy after SEU: 0.7490740740740741\n",
      "===================================\n",
      "Original value: 2.013899326324463, SEU value: 2.263899326324463\n"
     ]
    },
    {
     "name": "stderr",
     "output_type": "stream",
     "text": [
      "Evaluating: 100%|██████████| 100/100 [00:19<00:00,  5.14it/s]\n"
     ]
    },
    {
     "name": "stdout",
     "output_type": "stream",
     "text": [
      "Accuracy after SEU: 0.7487037037037036\n",
      "===================================\n",
      "Original value: 2.013899326324463, SEU value: 2.138899326324463\n"
     ]
    },
    {
     "name": "stderr",
     "output_type": "stream",
     "text": [
      "Evaluating: 100%|██████████| 100/100 [00:19<00:00,  5.17it/s]\n"
     ]
    },
    {
     "name": "stdout",
     "output_type": "stream",
     "text": [
      "Accuracy after SEU: 0.7485185185185185\n",
      "===================================\n",
      "Original value: 2.013899326324463, SEU value: 2.076399326324463\n"
     ]
    },
    {
     "name": "stderr",
     "output_type": "stream",
     "text": [
      "Evaluating: 100%|██████████| 100/100 [00:19<00:00,  5.15it/s]\n"
     ]
    },
    {
     "name": "stdout",
     "output_type": "stream",
     "text": [
      "Accuracy after SEU: 0.7487037037037036\n",
      "===================================\n",
      "Original value: 2.013899326324463, SEU value: 2.045149326324463\n"
     ]
    },
    {
     "name": "stderr",
     "output_type": "stream",
     "text": [
      "Evaluating: 100%|██████████| 100/100 [00:19<00:00,  5.14it/s]\n"
     ]
    },
    {
     "name": "stdout",
     "output_type": "stream",
     "text": [
      "Accuracy after SEU: 0.7485185185185185\n",
      "===================================\n",
      "Original value: 2.013899326324463, SEU value: 2.029524326324463\n"
     ]
    },
    {
     "name": "stderr",
     "output_type": "stream",
     "text": [
      "Evaluating: 100%|██████████| 100/100 [00:19<00:00,  5.19it/s]\n"
     ]
    },
    {
     "name": "stdout",
     "output_type": "stream",
     "text": [
      "Accuracy after SEU: 0.7490740740740741\n",
      "===================================\n",
      "Original value: 2.013899326324463, SEU value: 2.006086826324463\n"
     ]
    },
    {
     "name": "stderr",
     "output_type": "stream",
     "text": [
      "Evaluating: 100%|██████████| 100/100 [00:19<00:00,  5.19it/s]\n"
     ]
    },
    {
     "name": "stdout",
     "output_type": "stream",
     "text": [
      "Accuracy after SEU: 0.7494444444444445\n",
      "===================================\n",
      "Original value: 2.013899326324463, SEU value: 2.009993076324463\n"
     ]
    },
    {
     "name": "stderr",
     "output_type": "stream",
     "text": [
      "Evaluating: 100%|██████████| 100/100 [00:19<00:00,  5.16it/s]\n"
     ]
    },
    {
     "name": "stdout",
     "output_type": "stream",
     "text": [
      "Accuracy after SEU: 0.7481481481481481\n",
      "===================================\n",
      "Original value: 2.013899326324463, SEU value: 2.011946201324463\n"
     ]
    },
    {
     "name": "stderr",
     "output_type": "stream",
     "text": [
      "Evaluating: 100%|██████████| 100/100 [00:19<00:00,  5.20it/s]\n"
     ]
    },
    {
     "name": "stdout",
     "output_type": "stream",
     "text": [
      "Accuracy after SEU: 0.7479629629629629\n",
      "===================================\n",
      "Original value: 2.013899326324463, SEU value: 2.014875888824463\n"
     ]
    },
    {
     "name": "stderr",
     "output_type": "stream",
     "text": [
      "Evaluating: 100%|██████████| 100/100 [00:19<00:00,  5.17it/s]\n"
     ]
    },
    {
     "name": "stdout",
     "output_type": "stream",
     "text": [
      "Accuracy after SEU: 0.7496296296296296\n",
      "===================================\n",
      "Original value: 2.013899326324463, SEU value: 2.014387607574463\n"
     ]
    },
    {
     "name": "stderr",
     "output_type": "stream",
     "text": [
      "Evaluating: 100%|██████████| 100/100 [00:19<00:00,  5.15it/s]\n"
     ]
    },
    {
     "name": "stdout",
     "output_type": "stream",
     "text": [
      "Accuracy after SEU: 0.7496296296296296\n",
      "===================================\n",
      "Original value: 2.013899326324463, SEU value: 2.014143466949463\n"
     ]
    },
    {
     "name": "stderr",
     "output_type": "stream",
     "text": [
      "Evaluating: 100%|██████████| 100/100 [00:19<00:00,  5.15it/s]\n"
     ]
    },
    {
     "name": "stdout",
     "output_type": "stream",
     "text": [
      "Accuracy after SEU: 0.7488888888888889\n",
      "===================================\n",
      "Original value: 2.013899326324463, SEU value: 2.013777256011963\n"
     ]
    },
    {
     "name": "stderr",
     "output_type": "stream",
     "text": [
      "Evaluating: 100%|██████████| 100/100 [00:19<00:00,  5.16it/s]\n"
     ]
    },
    {
     "name": "stdout",
     "output_type": "stream",
     "text": [
      "Accuracy after SEU: 0.7511111111111111\n",
      "===================================\n",
      "Original value: 2.013899326324463, SEU value: 2.013838291168213\n"
     ]
    },
    {
     "name": "stderr",
     "output_type": "stream",
     "text": [
      "Evaluating: 100%|██████████| 100/100 [00:19<00:00,  5.17it/s]\n"
     ]
    },
    {
     "name": "stdout",
     "output_type": "stream",
     "text": [
      "Accuracy after SEU: 0.7475925925925926\n",
      "===================================\n",
      "Original value: 2.013899326324463, SEU value: 2.013868808746338\n"
     ]
    },
    {
     "name": "stderr",
     "output_type": "stream",
     "text": [
      "Evaluating: 100%|██████████| 100/100 [00:19<00:00,  5.14it/s]\n"
     ]
    },
    {
     "name": "stdout",
     "output_type": "stream",
     "text": [
      "Accuracy after SEU: 0.75\n",
      "===================================\n",
      "Original value: 2.013899326324463, SEU value: 2.0139145851135254\n"
     ]
    },
    {
     "name": "stderr",
     "output_type": "stream",
     "text": [
      "Evaluating: 100%|██████████| 100/100 [00:19<00:00,  5.16it/s]\n"
     ]
    },
    {
     "name": "stdout",
     "output_type": "stream",
     "text": [
      "Accuracy after SEU: 0.7509259259259259\n",
      "===================================\n",
      "Original value: 2.013899326324463, SEU value: 2.0138916969299316\n"
     ]
    },
    {
     "name": "stderr",
     "output_type": "stream",
     "text": [
      "Evaluating: 100%|██████████| 100/100 [00:19<00:00,  5.24it/s]\n"
     ]
    },
    {
     "name": "stdout",
     "output_type": "stream",
     "text": [
      "Accuracy after SEU: 0.7485185185185185\n",
      "===================================\n",
      "Original value: 2.013899326324463, SEU value: 2.0138955116271973\n"
     ]
    },
    {
     "name": "stderr",
     "output_type": "stream",
     "text": [
      "Evaluating: 100%|██████████| 100/100 [00:19<00:00,  5.20it/s]\n"
     ]
    },
    {
     "name": "stdout",
     "output_type": "stream",
     "text": [
      "Accuracy after SEU: 0.747037037037037\n",
      "===================================\n",
      "Original value: 2.013899326324463, SEU value: 2.01389741897583\n"
     ]
    },
    {
     "name": "stderr",
     "output_type": "stream",
     "text": [
      "Evaluating: 100%|██████████| 100/100 [00:19<00:00,  5.24it/s]\n"
     ]
    },
    {
     "name": "stdout",
     "output_type": "stream",
     "text": [
      "Accuracy after SEU: 0.7490740740740741\n",
      "===================================\n",
      "Original value: 2.013899326324463, SEU value: 2.0139002799987793\n"
     ]
    },
    {
     "name": "stderr",
     "output_type": "stream",
     "text": [
      "Evaluating: 100%|██████████| 100/100 [00:19<00:00,  5.17it/s]\n"
     ]
    },
    {
     "name": "stdout",
     "output_type": "stream",
     "text": [
      "Accuracy after SEU: 0.7524074074074074\n",
      "===================================\n",
      "Original value: 2.013899326324463, SEU value: 2.0138988494873047\n"
     ]
    },
    {
     "name": "stderr",
     "output_type": "stream",
     "text": [
      "Evaluating: 100%|██████████| 100/100 [00:19<00:00,  5.19it/s]\n"
     ]
    },
    {
     "name": "stdout",
     "output_type": "stream",
     "text": [
      "Accuracy after SEU: 0.7448148148148148\n",
      "===================================\n",
      "Original value: 2.013899326324463, SEU value: 2.013899564743042\n"
     ]
    },
    {
     "name": "stderr",
     "output_type": "stream",
     "text": [
      "Evaluating: 100%|██████████| 100/100 [00:19<00:00,  5.23it/s]\n"
     ]
    },
    {
     "name": "stdout",
     "output_type": "stream",
     "text": [
      "Accuracy after SEU: 0.7472222222222222\n",
      "===================================\n"
     ]
    }
   ],
   "source": [
    "results4_loc = []\n",
    "\n",
    "for i in range(0, 32):\n",
    "    results4_loc.append(inj.run_seu_autodiagonal_normal(location_index=2400, bit_i=i, parameter_name=\"loc\", num_samples=10))"
   ]
  },
  {
   "cell_type": "code",
   "execution_count": null,
   "id": "b37f8fcc",
   "metadata": {},
   "outputs": [],
   "source": [
    "plt.figure(figsize=(10, 5))\n",
    "plt.plot(range(0, 32), results4_loc, marker='o')\n",
    "plt.title('SEU Impact on Loc Parameter')\n",
    "plt.xlabel('Bit Position')\n",
    "plt.ylabel('Change in Accuracy')\n",
    "plt.grid()\n",
    "plt.show()"
   ]
  },
  {
   "cell_type": "code",
   "execution_count": 19,
   "id": "52048018",
   "metadata": {},
   "outputs": [
    {
     "data": {
      "image/png": "[encoded data removed]",
      "text/plain": [
       "<Figure size 1000x500 with 1 Axes>"
      ]
     },
     "metadata": {},
     "output_type": "display_data"
    }
   ],
   "source": [
    "# plot results2_loc, results3_loc, results4_loc in a single plot\n",
    "plt.figure(figsize=(10, 5))\n",
    "plt.plot(range(0, 32), results_loc, marker='o', label='conv1 1st weight')\n",
    "plt.plot(range(0, 32), results4_loc, marker='o', label='conv1 1st bias')\n",
    "plt.plot(range(0, 32), results3_loc, marker='o', label='fc1 1st weight')\n",
    "plt.plot(range(0, 32), results2_loc, marker='o', label='fc1 1st bias')\n",
    "\n",
    "\n",
    "plt.title('SEU Impact on Loc Parameter')\n",
    "plt.xlabel('Bit Position')\n",
    "plt.ylabel('Change in Accuracy')\n",
    "plt.grid()\n",
    "plt.legend()\n",
    "plt.show()"
   ]
  },
  {
   "cell_type": "code",
   "execution_count": null,
   "id": "46f4c6a7",
   "metadata": {},
   "outputs": [],
   "source": [
    "#results\n",
    "#results2_scale\n",
    "#...\n",
    "#..."
   ]
  },
  {
   "cell_type": "code",
   "execution_count": 20,
   "id": "49437bcc",
   "metadata": {},
   "outputs": [
    {
     "name": "stdout",
     "output_type": "stream",
     "text": [
      "Original value: 0.04540996998548508, SEU value: -0.04540996998548508\n"
     ]
    },
    {
     "name": "stderr",
     "output_type": "stream",
     "text": [
      "Evaluating:   0%|          | 0/100 [00:00<?, ?it/s]\n"
     ]
    },
    {
     "name": "stdout",
     "output_type": "stream",
     "text": [
      "Accuracy after SEU: nan\n",
      "===================================\n",
      "Original value: 0.04540996998548508, SEU value: 1.5452212068469636e+37\n"
     ]
    },
    {
     "name": "stderr",
     "output_type": "stream",
     "text": [
      "Evaluating: 100%|██████████| 100/100 [00:18<00:00,  5.30it/s]\n"
     ]
    },
    {
     "name": "stdout",
     "output_type": "stream",
     "text": [
      "Accuracy after SEU: 0.1111111111111111\n",
      "===================================\n",
      "Original value: 0.04540996998548508, SEU value: 2.4616794055382235e-21\n"
     ]
    },
    {
     "name": "stderr",
     "output_type": "stream",
     "text": [
      "Evaluating: 100%|██████████| 100/100 [00:19<00:00,  5.21it/s]\n"
     ]
    },
    {
     "name": "stdout",
     "output_type": "stream",
     "text": [
      "Accuracy after SEU: 0.7492592592592593\n",
      "===================================\n",
      "Original value: 0.04540996998548508, SEU value: 1.0572832540023391e-11\n"
     ]
    },
    {
     "name": "stderr",
     "output_type": "stream",
     "text": [
      "Evaluating: 100%|██████████| 100/100 [00:18<00:00,  5.29it/s]\n"
     ]
    },
    {
     "name": "stdout",
     "output_type": "stream",
     "text": [
      "Accuracy after SEU: 0.7509259259259259\n",
      "===================================\n",
      "Original value: 0.04540996998548508, SEU value: 6.92901153342973e-07\n"
     ]
    },
    {
     "name": "stderr",
     "output_type": "stream",
     "text": [
      "Evaluating: 100%|██████████| 100/100 [00:18<00:00,  5.26it/s]\n"
     ]
    },
    {
     "name": "stdout",
     "output_type": "stream",
     "text": [
      "Accuracy after SEU: 0.7475925925925926\n",
      "===================================\n",
      "Original value: 0.04540996998548508, SEU value: 0.00017738269525580108\n"
     ]
    },
    {
     "name": "stderr",
     "output_type": "stream",
     "text": [
      "Evaluating: 100%|██████████| 100/100 [00:19<00:00,  5.19it/s]\n"
     ]
    },
    {
     "name": "stdout",
     "output_type": "stream",
     "text": [
      "Accuracy after SEU: 0.7501851851851852\n",
      "===================================\n",
      "Original value: 0.04540996998548508, SEU value: 0.7265595197677612\n"
     ]
    },
    {
     "name": "stderr",
     "output_type": "stream",
     "text": [
      "Evaluating: 100%|██████████| 100/100 [00:18<00:00,  5.28it/s]\n"
     ]
    },
    {
     "name": "stdout",
     "output_type": "stream",
     "text": [
      "Accuracy after SEU: 0.7498148148148148\n",
      "===================================\n",
      "Original value: 0.04540996998548508, SEU value: 0.01135249249637127\n"
     ]
    },
    {
     "name": "stderr",
     "output_type": "stream",
     "text": [
      "Evaluating: 100%|██████████| 100/100 [00:18<00:00,  5.32it/s]\n"
     ]
    },
    {
     "name": "stdout",
     "output_type": "stream",
     "text": [
      "Accuracy after SEU: 0.7496296296296296\n",
      "===================================\n",
      "Original value: 0.04540996998548508, SEU value: 0.09081993997097015\n"
     ]
    },
    {
     "name": "stderr",
     "output_type": "stream",
     "text": [
      "Evaluating: 100%|██████████| 100/100 [00:18<00:00,  5.31it/s]\n"
     ]
    },
    {
     "name": "stdout",
     "output_type": "stream",
     "text": [
      "Accuracy after SEU: 0.7479629629629629\n",
      "===================================\n",
      "Original value: 0.04540996998548508, SEU value: 0.06103496998548508\n"
     ]
    },
    {
     "name": "stderr",
     "output_type": "stream",
     "text": [
      "Evaluating: 100%|██████████| 100/100 [00:19<00:00,  5.14it/s]\n"
     ]
    },
    {
     "name": "stdout",
     "output_type": "stream",
     "text": [
      "Accuracy after SEU: 0.7496296296296296\n",
      "===================================\n",
      "Original value: 0.04540996998548508, SEU value: 0.03759746998548508\n"
     ]
    },
    {
     "name": "stderr",
     "output_type": "stream",
     "text": [
      "Evaluating: 100%|██████████| 100/100 [00:19<00:00,  5.14it/s]\n"
     ]
    },
    {
     "name": "stdout",
     "output_type": "stream",
     "text": [
      "Accuracy after SEU: 0.7509259259259259\n",
      "===================================\n",
      "Original value: 0.04540996998548508, SEU value: 0.04150371998548508\n"
     ]
    },
    {
     "name": "stderr",
     "output_type": "stream",
     "text": [
      "Evaluating: 100%|██████████| 100/100 [00:18<00:00,  5.33it/s]\n"
     ]
    },
    {
     "name": "stdout",
     "output_type": "stream",
     "text": [
      "Accuracy after SEU: 0.7490740740740741\n",
      "===================================\n",
      "Original value: 0.04540996998548508, SEU value: 0.04345684498548508\n"
     ]
    },
    {
     "name": "stderr",
     "output_type": "stream",
     "text": [
      "Evaluating: 100%|██████████| 100/100 [00:19<00:00,  5.15it/s]\n"
     ]
    },
    {
     "name": "stdout",
     "output_type": "stream",
     "text": [
      "Accuracy after SEU: 0.7511111111111111\n",
      "===================================\n",
      "Original value: 0.04540996998548508, SEU value: 0.04638653248548508\n"
     ]
    },
    {
     "name": "stderr",
     "output_type": "stream",
     "text": [
      "Evaluating: 100%|██████████| 100/100 [00:18<00:00,  5.28it/s]\n"
     ]
    },
    {
     "name": "stdout",
     "output_type": "stream",
     "text": [
      "Accuracy after SEU: 0.7490740740740741\n",
      "===================================\n",
      "Original value: 0.04540996998548508, SEU value: 0.04589825123548508\n"
     ]
    },
    {
     "name": "stderr",
     "output_type": "stream",
     "text": [
      "Evaluating: 100%|██████████| 100/100 [00:19<00:00,  5.24it/s]\n"
     ]
    },
    {
     "name": "stdout",
     "output_type": "stream",
     "text": [
      "Accuracy after SEU: 0.7520370370370371\n",
      "===================================\n",
      "Original value: 0.04540996998548508, SEU value: 0.04516582936048508\n"
     ]
    },
    {
     "name": "stderr",
     "output_type": "stream",
     "text": [
      "Evaluating: 100%|██████████| 100/100 [00:19<00:00,  5.05it/s]\n"
     ]
    },
    {
     "name": "stdout",
     "output_type": "stream",
     "text": [
      "Accuracy after SEU: 0.7494444444444445\n",
      "===================================\n",
      "Original value: 0.04540996998548508, SEU value: 0.04528789967298508\n"
     ]
    },
    {
     "name": "stderr",
     "output_type": "stream",
     "text": [
      "Evaluating: 100%|██████████| 100/100 [00:19<00:00,  5.20it/s]\n"
     ]
    },
    {
     "name": "stdout",
     "output_type": "stream",
     "text": [
      "Accuracy after SEU: 0.7488888888888889\n",
      "===================================\n",
      "Original value: 0.04540996998548508, SEU value: 0.04534893482923508\n"
     ]
    },
    {
     "name": "stderr",
     "output_type": "stream",
     "text": [
      "Evaluating: 100%|██████████| 100/100 [00:18<00:00,  5.26it/s]\n"
     ]
    },
    {
     "name": "stdout",
     "output_type": "stream",
     "text": [
      "Accuracy after SEU: 0.7477777777777778\n",
      "===================================\n",
      "Original value: 0.04540996998548508, SEU value: 0.04537945240736008\n"
     ]
    },
    {
     "name": "stderr",
     "output_type": "stream",
     "text": [
      "Evaluating: 100%|██████████| 100/100 [00:18<00:00,  5.31it/s]\n"
     ]
    },
    {
     "name": "stdout",
     "output_type": "stream",
     "text": [
      "Accuracy after SEU: 0.7488888888888889\n",
      "===================================\n",
      "Original value: 0.04540996998548508, SEU value: 0.04539471119642258\n"
     ]
    },
    {
     "name": "stderr",
     "output_type": "stream",
     "text": [
      "Evaluating: 100%|██████████| 100/100 [00:19<00:00,  5.24it/s]\n"
     ]
    },
    {
     "name": "stdout",
     "output_type": "stream",
     "text": [
      "Accuracy after SEU: 0.7481481481481481\n",
      "===================================\n",
      "Original value: 0.04540996998548508, SEU value: 0.04540234059095383\n"
     ]
    },
    {
     "name": "stderr",
     "output_type": "stream",
     "text": [
      "Evaluating: 100%|██████████| 100/100 [00:19<00:00,  5.15it/s]\n"
     ]
    },
    {
     "name": "stdout",
     "output_type": "stream",
     "text": [
      "Accuracy after SEU: 0.7487037037037036\n",
      "===================================\n",
      "Original value: 0.04540996998548508, SEU value: 0.04540615528821945\n"
     ]
    },
    {
     "name": "stderr",
     "output_type": "stream",
     "text": [
      "Evaluating: 100%|██████████| 100/100 [00:19<00:00,  5.20it/s]\n"
     ]
    },
    {
     "name": "stdout",
     "output_type": "stream",
     "text": [
      "Accuracy after SEU: 0.7498148148148148\n",
      "===================================\n",
      "Original value: 0.04540996998548508, SEU value: 0.045408062636852264\n"
     ]
    },
    {
     "name": "stderr",
     "output_type": "stream",
     "text": [
      "Evaluating: 100%|██████████| 100/100 [00:19<00:00,  5.21it/s]\n"
     ]
    },
    {
     "name": "stdout",
     "output_type": "stream",
     "text": [
      "Accuracy after SEU: 0.7472222222222222\n",
      "===================================\n",
      "Original value: 0.04540996998548508, SEU value: 0.04540901631116867\n"
     ]
    },
    {
     "name": "stderr",
     "output_type": "stream",
     "text": [
      "Evaluating: 100%|██████████| 100/100 [00:19<00:00,  5.23it/s]\n"
     ]
    },
    {
     "name": "stdout",
     "output_type": "stream",
     "text": [
      "Accuracy after SEU: 0.7455555555555555\n",
      "===================================\n",
      "Original value: 0.04540996998548508, SEU value: 0.045409493148326874\n"
     ]
    },
    {
     "name": "stderr",
     "output_type": "stream",
     "text": [
      "Evaluating: 100%|██████████| 100/100 [00:19<00:00,  5.23it/s]\n"
     ]
    },
    {
     "name": "stdout",
     "output_type": "stream",
     "text": [
      "Accuracy after SEU: 0.7490740740740741\n",
      "===================================\n",
      "Original value: 0.04540996998548508, SEU value: 0.045409731566905975\n"
     ]
    },
    {
     "name": "stderr",
     "output_type": "stream",
     "text": [
      "Evaluating: 100%|██████████| 100/100 [00:19<00:00,  5.23it/s]\n"
     ]
    },
    {
     "name": "stdout",
     "output_type": "stream",
     "text": [
      "Accuracy after SEU: 0.7492592592592593\n",
      "===================================\n",
      "Original value: 0.04540996998548508, SEU value: 0.04541008919477463\n"
     ]
    },
    {
     "name": "stderr",
     "output_type": "stream",
     "text": [
      "Evaluating: 100%|██████████| 100/100 [00:19<00:00,  5.22it/s]\n"
     ]
    },
    {
     "name": "stdout",
     "output_type": "stream",
     "text": [
      "Accuracy after SEU: 0.7503703703703704\n",
      "===================================\n",
      "Original value: 0.04540996998548508, SEU value: 0.04541002959012985\n"
     ]
    },
    {
     "name": "stderr",
     "output_type": "stream",
     "text": [
      "Evaluating: 100%|██████████| 100/100 [00:18<00:00,  5.28it/s]\n"
     ]
    },
    {
     "name": "stdout",
     "output_type": "stream",
     "text": [
      "Accuracy after SEU: 0.7488888888888889\n",
      "===================================\n",
      "Original value: 0.04540996998548508, SEU value: 0.04540994018316269\n"
     ]
    },
    {
     "name": "stderr",
     "output_type": "stream",
     "text": [
      "Evaluating: 100%|██████████| 100/100 [00:18<00:00,  5.32it/s]\n"
     ]
    },
    {
     "name": "stdout",
     "output_type": "stream",
     "text": [
      "Accuracy after SEU: 0.7492592592592593\n",
      "===================================\n",
      "Original value: 0.04540996998548508, SEU value: 0.04540995508432388\n"
     ]
    },
    {
     "name": "stderr",
     "output_type": "stream",
     "text": [
      "Evaluating: 100%|██████████| 100/100 [00:18<00:00,  5.40it/s]\n"
     ]
    },
    {
     "name": "stdout",
     "output_type": "stream",
     "text": [
      "Accuracy after SEU: 0.7468518518518519\n",
      "===================================\n",
      "Original value: 0.04540996998548508, SEU value: 0.04540996253490448\n"
     ]
    },
    {
     "name": "stderr",
     "output_type": "stream",
     "text": [
      "Evaluating: 100%|██████████| 100/100 [00:18<00:00,  5.27it/s]\n"
     ]
    },
    {
     "name": "stdout",
     "output_type": "stream",
     "text": [
      "Accuracy after SEU: 0.7501851851851852\n",
      "===================================\n",
      "Original value: 0.04540996998548508, SEU value: 0.045409973710775375\n"
     ]
    },
    {
     "name": "stderr",
     "output_type": "stream",
     "text": [
      "Evaluating: 100%|██████████| 100/100 [00:19<00:00,  5.19it/s]"
     ]
    },
    {
     "name": "stdout",
     "output_type": "stream",
     "text": [
      "Accuracy after SEU: 0.7490740740740741\n",
      "===================================\n"
     ]
    },
    {
     "name": "stderr",
     "output_type": "stream",
     "text": [
      "\n"
     ]
    }
   ],
   "source": [
    "results_scale = []\n",
    "\n",
    "for i in range(0, 32):\n",
    "    results_scale.append(inj.run_seu_autodiagonal_normal(location_index=0, bit_i=i, parameter_name=\"scale\", num_samples=10))"
   ]
  },
  {
   "cell_type": "code",
   "execution_count": 21,
   "id": "b8c3a57c",
   "metadata": {},
   "outputs": [
    {
     "name": "stdout",
     "output_type": "stream",
     "text": [
      "Original value: 6.365564346313477, SEU value: -6.365564346313477\n"
     ]
    },
    {
     "name": "stderr",
     "output_type": "stream",
     "text": [
      "Evaluating:   0%|          | 0/100 [00:00<?, ?it/s]\n"
     ]
    },
    {
     "name": "stdout",
     "output_type": "stream",
     "text": [
      "Accuracy after SEU: nan\n",
      "===================================\n",
      "Original value: 6.365564346313477, SEU value: 1.8706712322218148e-38\n"
     ]
    },
    {
     "name": "stderr",
     "output_type": "stream",
     "text": [
      "Evaluating: 100%|██████████| 100/100 [00:19<00:00,  5.26it/s]\n"
     ]
    },
    {
     "name": "stdout",
     "output_type": "stream",
     "text": [
      "Accuracy after SEU: 0.7485185185185185\n",
      "===================================\n",
      "Original value: 6.365564346313477, SEU value: 1.1742393638117494e+20\n"
     ]
    },
    {
     "name": "stderr",
     "output_type": "stream",
     "text": [
      "Evaluating: 100%|██████████| 100/100 [00:19<00:00,  5.23it/s]\n"
     ]
    },
    {
     "name": "stdout",
     "output_type": "stream",
     "text": [
      "Accuracy after SEU: 0.3964814814814815\n",
      "===================================\n",
      "Original value: 6.365564346313477, SEU value: 27339890688.0\n"
     ]
    },
    {
     "name": "stderr",
     "output_type": "stream",
     "text": [
      "Evaluating: 100%|██████████| 100/100 [00:18<00:00,  5.27it/s]\n"
     ]
    },
    {
     "name": "stdout",
     "output_type": "stream",
     "text": [
      "Accuracy after SEU: 0.4001851851851852\n",
      "===================================\n",
      "Original value: 6.365564346313477, SEU value: 417173.625\n"
     ]
    },
    {
     "name": "stderr",
     "output_type": "stream",
     "text": [
      "Evaluating: 100%|██████████| 100/100 [00:19<00:00,  5.15it/s]\n"
     ]
    },
    {
     "name": "stdout",
     "output_type": "stream",
     "text": [
      "Accuracy after SEU: 0.5474074074074075\n",
      "===================================\n",
      "Original value: 6.365564346313477, SEU value: 1629.58447265625\n"
     ]
    },
    {
     "name": "stderr",
     "output_type": "stream",
     "text": [
      "Evaluating: 100%|██████████| 100/100 [00:19<00:00,  5.19it/s]\n"
     ]
    },
    {
     "name": "stdout",
     "output_type": "stream",
     "text": [
      "Accuracy after SEU: 0.7483333333333333\n",
      "===================================\n",
      "Original value: 6.365564346313477, SEU value: 101.84902954101562\n"
     ]
    },
    {
     "name": "stderr",
     "output_type": "stream",
     "text": [
      "Evaluating: 100%|██████████| 100/100 [00:19<00:00,  5.17it/s]\n"
     ]
    },
    {
     "name": "stdout",
     "output_type": "stream",
     "text": [
      "Accuracy after SEU: 0.7496296296296296\n",
      "===================================\n",
      "Original value: 6.365564346313477, SEU value: 25.462257385253906\n"
     ]
    },
    {
     "name": "stderr",
     "output_type": "stream",
     "text": [
      "Evaluating: 100%|██████████| 100/100 [00:19<00:00,  5.18it/s]\n"
     ]
    },
    {
     "name": "stdout",
     "output_type": "stream",
     "text": [
      "Accuracy after SEU: 0.7496296296296296\n",
      "===================================\n",
      "Original value: 6.365564346313477, SEU value: 3.1827821731567383\n"
     ]
    },
    {
     "name": "stderr",
     "output_type": "stream",
     "text": [
      "Evaluating: 100%|██████████| 100/100 [00:19<00:00,  5.14it/s]\n"
     ]
    },
    {
     "name": "stdout",
     "output_type": "stream",
     "text": [
      "Accuracy after SEU: 0.747037037037037\n",
      "===================================\n",
      "Original value: 6.365564346313477, SEU value: 4.365564346313477\n"
     ]
    },
    {
     "name": "stderr",
     "output_type": "stream",
     "text": [
      "Evaluating: 100%|██████████| 100/100 [00:19<00:00,  5.20it/s]\n"
     ]
    },
    {
     "name": "stdout",
     "output_type": "stream",
     "text": [
      "Accuracy after SEU: 0.7485185185185185\n",
      "===================================\n",
      "Original value: 6.365564346313477, SEU value: 7.365564346313477\n"
     ]
    },
    {
     "name": "stderr",
     "output_type": "stream",
     "text": [
      "Evaluating: 100%|██████████| 100/100 [00:19<00:00,  5.22it/s]\n"
     ]
    },
    {
     "name": "stdout",
     "output_type": "stream",
     "text": [
      "Accuracy after SEU: 0.7468518518518519\n",
      "===================================\n",
      "Original value: 6.365564346313477, SEU value: 6.865564346313477\n"
     ]
    },
    {
     "name": "stderr",
     "output_type": "stream",
     "text": [
      "Evaluating: 100%|██████████| 100/100 [00:19<00:00,  5.09it/s]\n"
     ]
    },
    {
     "name": "stdout",
     "output_type": "stream",
     "text": [
      "Accuracy after SEU: 0.7483333333333333\n",
      "===================================\n",
      "Original value: 6.365564346313477, SEU value: 6.115564346313477\n"
     ]
    },
    {
     "name": "stderr",
     "output_type": "stream",
     "text": [
      "Evaluating: 100%|██████████| 100/100 [00:19<00:00,  5.13it/s]\n"
     ]
    },
    {
     "name": "stdout",
     "output_type": "stream",
     "text": [
      "Accuracy after SEU: 0.7490740740740741\n",
      "===================================\n",
      "Original value: 6.365564346313477, SEU value: 6.490564346313477\n"
     ]
    },
    {
     "name": "stderr",
     "output_type": "stream",
     "text": [
      "Evaluating: 100%|██████████| 100/100 [00:19<00:00,  5.14it/s]\n"
     ]
    },
    {
     "name": "stdout",
     "output_type": "stream",
     "text": [
      "Accuracy after SEU: 0.747037037037037\n",
      "===================================\n",
      "Original value: 6.365564346313477, SEU value: 6.303064346313477\n"
     ]
    },
    {
     "name": "stderr",
     "output_type": "stream",
     "text": [
      "Evaluating: 100%|██████████| 100/100 [00:19<00:00,  5.21it/s]\n"
     ]
    },
    {
     "name": "stdout",
     "output_type": "stream",
     "text": [
      "Accuracy after SEU: 0.7507407407407407\n",
      "===================================\n",
      "Original value: 6.365564346313477, SEU value: 6.334314346313477\n"
     ]
    },
    {
     "name": "stderr",
     "output_type": "stream",
     "text": [
      "Evaluating: 100%|██████████| 100/100 [00:19<00:00,  5.23it/s]\n"
     ]
    },
    {
     "name": "stdout",
     "output_type": "stream",
     "text": [
      "Accuracy after SEU: 0.7505555555555555\n",
      "===================================\n",
      "Original value: 6.365564346313477, SEU value: 6.349939346313477\n"
     ]
    },
    {
     "name": "stderr",
     "output_type": "stream",
     "text": [
      "Evaluating: 100%|██████████| 100/100 [00:19<00:00,  5.16it/s]\n"
     ]
    },
    {
     "name": "stdout",
     "output_type": "stream",
     "text": [
      "Accuracy after SEU: 0.7496296296296296\n",
      "===================================\n",
      "Original value: 6.365564346313477, SEU value: 6.373376846313477\n"
     ]
    },
    {
     "name": "stderr",
     "output_type": "stream",
     "text": [
      "Evaluating: 100%|██████████| 100/100 [00:19<00:00,  5.20it/s]\n"
     ]
    },
    {
     "name": "stdout",
     "output_type": "stream",
     "text": [
      "Accuracy after SEU: 0.7477777777777778\n",
      "===================================\n",
      "Original value: 6.365564346313477, SEU value: 6.361658096313477\n"
     ]
    },
    {
     "name": "stderr",
     "output_type": "stream",
     "text": [
      "Evaluating: 100%|██████████| 100/100 [00:19<00:00,  5.16it/s]\n"
     ]
    },
    {
     "name": "stdout",
     "output_type": "stream",
     "text": [
      "Accuracy after SEU: 0.7466666666666667\n",
      "===================================\n",
      "Original value: 6.365564346313477, SEU value: 6.363611221313477\n"
     ]
    },
    {
     "name": "stderr",
     "output_type": "stream",
     "text": [
      "Evaluating: 100%|██████████| 100/100 [00:19<00:00,  5.06it/s]\n"
     ]
    },
    {
     "name": "stdout",
     "output_type": "stream",
     "text": [
      "Accuracy after SEU: 0.745\n",
      "===================================\n",
      "Original value: 6.365564346313477, SEU value: 6.366540908813477\n"
     ]
    },
    {
     "name": "stderr",
     "output_type": "stream",
     "text": [
      "Evaluating: 100%|██████████| 100/100 [00:19<00:00,  5.11it/s]\n"
     ]
    },
    {
     "name": "stdout",
     "output_type": "stream",
     "text": [
      "Accuracy after SEU: 0.7501851851851852\n",
      "===================================\n",
      "Original value: 6.365564346313477, SEU value: 6.366052627563477\n"
     ]
    },
    {
     "name": "stderr",
     "output_type": "stream",
     "text": [
      "Evaluating: 100%|██████████| 100/100 [00:19<00:00,  5.08it/s]\n"
     ]
    },
    {
     "name": "stdout",
     "output_type": "stream",
     "text": [
      "Accuracy after SEU: 0.7516666666666667\n",
      "===================================\n",
      "Original value: 6.365564346313477, SEU value: 6.365320205688477\n"
     ]
    },
    {
     "name": "stderr",
     "output_type": "stream",
     "text": [
      "Evaluating: 100%|██████████| 100/100 [00:19<00:00,  5.26it/s]\n"
     ]
    },
    {
     "name": "stdout",
     "output_type": "stream",
     "text": [
      "Accuracy after SEU: 0.7488888888888889\n",
      "===================================\n",
      "Original value: 6.365564346313477, SEU value: 6.365686416625977\n"
     ]
    },
    {
     "name": "stderr",
     "output_type": "stream",
     "text": [
      "Evaluating: 100%|██████████| 100/100 [00:19<00:00,  5.15it/s]\n"
     ]
    },
    {
     "name": "stdout",
     "output_type": "stream",
     "text": [
      "Accuracy after SEU: 0.7490740740740741\n",
      "===================================\n",
      "Original value: 6.365564346313477, SEU value: 6.365503311157227\n"
     ]
    },
    {
     "name": "stderr",
     "output_type": "stream",
     "text": [
      "Evaluating: 100%|██████████| 100/100 [00:19<00:00,  5.15it/s]\n"
     ]
    },
    {
     "name": "stdout",
     "output_type": "stream",
     "text": [
      "Accuracy after SEU: 0.7468518518518519\n",
      "===================================\n",
      "Original value: 6.365564346313477, SEU value: 6.365594863891602\n"
     ]
    },
    {
     "name": "stderr",
     "output_type": "stream",
     "text": [
      "Evaluating: 100%|██████████| 100/100 [01:01<00:00,  1.64it/s]\n"
     ]
    },
    {
     "name": "stdout",
     "output_type": "stream",
     "text": [
      "Accuracy after SEU: 0.7509259259259259\n",
      "===================================\n",
      "Original value: 6.365564346313477, SEU value: 6.365549087524414\n"
     ]
    },
    {
     "name": "stderr",
     "output_type": "stream",
     "text": [
      "Evaluating: 100%|██████████| 100/100 [00:20<00:00,  4.94it/s]\n"
     ]
    },
    {
     "name": "stdout",
     "output_type": "stream",
     "text": [
      "Accuracy after SEU: 0.7475925925925926\n",
      "===================================\n",
      "Original value: 6.365564346313477, SEU value: 6.365556716918945\n"
     ]
    },
    {
     "name": "stderr",
     "output_type": "stream",
     "text": [
      "Evaluating: 100%|██████████| 100/100 [00:21<00:00,  4.71it/s]\n"
     ]
    },
    {
     "name": "stdout",
     "output_type": "stream",
     "text": [
      "Accuracy after SEU: 0.7483333333333333\n",
      "===================================\n",
      "Original value: 6.365564346313477, SEU value: 6.365568161010742\n"
     ]
    },
    {
     "name": "stderr",
     "output_type": "stream",
     "text": [
      "Evaluating: 100%|██████████| 100/100 [00:19<00:00,  5.07it/s]\n"
     ]
    },
    {
     "name": "stdout",
     "output_type": "stream",
     "text": [
      "Accuracy after SEU: 0.7488888888888889\n",
      "===================================\n",
      "Original value: 6.365564346313477, SEU value: 6.365562438964844\n"
     ]
    },
    {
     "name": "stderr",
     "output_type": "stream",
     "text": [
      "Evaluating: 100%|██████████| 100/100 [00:19<00:00,  5.16it/s]\n"
     ]
    },
    {
     "name": "stdout",
     "output_type": "stream",
     "text": [
      "Accuracy after SEU: 0.7524074074074074\n",
      "===================================\n",
      "Original value: 6.365564346313477, SEU value: 6.365565299987793\n"
     ]
    },
    {
     "name": "stderr",
     "output_type": "stream",
     "text": [
      "Evaluating: 100%|██████████| 100/100 [00:19<00:00,  5.22it/s]\n"
     ]
    },
    {
     "name": "stdout",
     "output_type": "stream",
     "text": [
      "Accuracy after SEU: 0.7466666666666667\n",
      "===================================\n",
      "Original value: 6.365564346313477, SEU value: 6.365564823150635\n"
     ]
    },
    {
     "name": "stderr",
     "output_type": "stream",
     "text": [
      "Evaluating: 100%|██████████| 100/100 [00:19<00:00,  5.15it/s]"
     ]
    },
    {
     "name": "stdout",
     "output_type": "stream",
     "text": [
      "Accuracy after SEU: 0.7483333333333333\n",
      "===================================\n"
     ]
    },
    {
     "name": "stderr",
     "output_type": "stream",
     "text": [
      "\n"
     ]
    }
   ],
   "source": [
    "#store the result in dataframe\n",
    "import pandas as pd\n",
    "results2_scale = []\n",
    "\n",
    "for i in range(0, 32):\n",
    "    results2_scale.append(inj.run_seu_autodiagonal_normal(location_index=217536, bit_i=i, parameter_name=\"scale\", num_samples=10))"
   ]
  },
  {
   "cell_type": "code",
   "execution_count": 22,
   "id": "93ecf5b2",
   "metadata": {},
   "outputs": [
    {
     "name": "stdout",
     "output_type": "stream",
     "text": [
      "Original value: 3.083939552307129, SEU value: -3.083939552307129\n"
     ]
    },
    {
     "name": "stderr",
     "output_type": "stream",
     "text": [
      "Evaluating:   0%|          | 0/100 [00:00<?, ?it/s]\n"
     ]
    },
    {
     "name": "stdout",
     "output_type": "stream",
     "text": [
      "Accuracy after SEU: nan\n",
      "===================================\n",
      "Original value: 3.083939552307129, SEU value: 6.370824101849347e-39\n"
     ]
    },
    {
     "name": "stderr",
     "output_type": "stream",
     "text": [
      "Evaluating: 100%|██████████| 100/100 [00:20<00:00,  4.95it/s]\n"
     ]
    },
    {
     "name": "stdout",
     "output_type": "stream",
     "text": [
      "Accuracy after SEU: 0.7542592592592593\n",
      "===================================\n",
      "Original value: 3.083939552307129, SEU value: 5.688864366020002e+19\n"
     ]
    },
    {
     "name": "stderr",
     "output_type": "stream",
     "text": [
      "Evaluating: 100%|██████████| 100/100 [00:20<00:00,  4.91it/s]\n"
     ]
    },
    {
     "name": "stdout",
     "output_type": "stream",
     "text": [
      "Accuracy after SEU: 0.7375925925925926\n",
      "===================================\n",
      "Original value: 3.083939552307129, SEU value: 13245419520.0\n"
     ]
    },
    {
     "name": "stderr",
     "output_type": "stream",
     "text": [
      "Evaluating: 100%|██████████| 100/100 [00:20<00:00,  4.81it/s]\n"
     ]
    },
    {
     "name": "stdout",
     "output_type": "stream",
     "text": [
      "Accuracy after SEU: 0.7377777777777778\n",
      "===================================\n",
      "Original value: 3.083939552307129, SEU value: 202109.0625\n"
     ]
    },
    {
     "name": "stderr",
     "output_type": "stream",
     "text": [
      "Evaluating: 100%|██████████| 100/100 [00:20<00:00,  4.99it/s]\n"
     ]
    },
    {
     "name": "stdout",
     "output_type": "stream",
     "text": [
      "Accuracy after SEU: 0.7412962962962963\n",
      "===================================\n",
      "Original value: 3.083939552307129, SEU value: 789.488525390625\n"
     ]
    },
    {
     "name": "stderr",
     "output_type": "stream",
     "text": [
      "Evaluating: 100%|██████████| 100/100 [00:21<00:00,  4.55it/s]\n"
     ]
    },
    {
     "name": "stdout",
     "output_type": "stream",
     "text": [
      "Accuracy after SEU: 0.7488888888888889\n",
      "===================================\n",
      "Original value: 3.083939552307129, SEU value: 49.34303283691406\n"
     ]
    },
    {
     "name": "stderr",
     "output_type": "stream",
     "text": [
      "Evaluating: 100%|██████████| 100/100 [00:22<00:00,  4.54it/s]\n"
     ]
    },
    {
     "name": "stdout",
     "output_type": "stream",
     "text": [
      "Accuracy after SEU: 0.7509259259259259\n",
      "===================================\n",
      "Original value: 3.083939552307129, SEU value: 12.335758209228516\n"
     ]
    },
    {
     "name": "stderr",
     "output_type": "stream",
     "text": [
      "Evaluating: 100%|██████████| 100/100 [00:20<00:00,  4.81it/s]\n"
     ]
    },
    {
     "name": "stdout",
     "output_type": "stream",
     "text": [
      "Accuracy after SEU: 0.7477777777777778\n",
      "===================================\n",
      "Original value: 3.083939552307129, SEU value: 6.167879104614258\n"
     ]
    },
    {
     "name": "stderr",
     "output_type": "stream",
     "text": [
      "Evaluating: 100%|██████████| 100/100 [00:20<00:00,  4.92it/s]\n"
     ]
    },
    {
     "name": "stdout",
     "output_type": "stream",
     "text": [
      "Accuracy after SEU: 0.7483333333333333\n",
      "===================================\n",
      "Original value: 3.083939552307129, SEU value: 2.083939552307129\n"
     ]
    },
    {
     "name": "stderr",
     "output_type": "stream",
     "text": [
      "Evaluating: 100%|██████████| 100/100 [00:20<00:00,  4.97it/s]\n"
     ]
    },
    {
     "name": "stdout",
     "output_type": "stream",
     "text": [
      "Accuracy after SEU: 0.7512962962962964\n",
      "===================================\n",
      "Original value: 3.083939552307129, SEU value: 3.583939552307129\n"
     ]
    },
    {
     "name": "stderr",
     "output_type": "stream",
     "text": [
      "Evaluating: 100%|██████████| 100/100 [00:19<00:00,  5.04it/s]\n"
     ]
    },
    {
     "name": "stdout",
     "output_type": "stream",
     "text": [
      "Accuracy after SEU: 0.7492592592592593\n",
      "===================================\n",
      "Original value: 3.083939552307129, SEU value: 3.333939552307129\n"
     ]
    },
    {
     "name": "stderr",
     "output_type": "stream",
     "text": [
      "Evaluating: 100%|██████████| 100/100 [00:19<00:00,  5.12it/s]\n"
     ]
    },
    {
     "name": "stdout",
     "output_type": "stream",
     "text": [
      "Accuracy after SEU: 0.7492592592592593\n",
      "===================================\n",
      "Original value: 3.083939552307129, SEU value: 3.208939552307129\n"
     ]
    },
    {
     "name": "stderr",
     "output_type": "stream",
     "text": [
      "Evaluating: 100%|██████████| 100/100 [00:19<00:00,  5.08it/s]\n"
     ]
    },
    {
     "name": "stdout",
     "output_type": "stream",
     "text": [
      "Accuracy after SEU: 0.7459259259259259\n",
      "===================================\n",
      "Original value: 3.083939552307129, SEU value: 3.021439552307129\n"
     ]
    },
    {
     "name": "stderr",
     "output_type": "stream",
     "text": [
      "Evaluating: 100%|██████████| 100/100 [00:19<00:00,  5.09it/s]\n"
     ]
    },
    {
     "name": "stdout",
     "output_type": "stream",
     "text": [
      "Accuracy after SEU: 0.7487037037037036\n",
      "===================================\n",
      "Original value: 3.083939552307129, SEU value: 3.115189552307129\n"
     ]
    },
    {
     "name": "stderr",
     "output_type": "stream",
     "text": [
      "Evaluating: 100%|██████████| 100/100 [00:19<00:00,  5.12it/s]\n"
     ]
    },
    {
     "name": "stdout",
     "output_type": "stream",
     "text": [
      "Accuracy after SEU: 0.7451851851851852\n",
      "===================================\n",
      "Original value: 3.083939552307129, SEU value: 3.068314552307129\n"
     ]
    },
    {
     "name": "stderr",
     "output_type": "stream",
     "text": [
      "Evaluating: 100%|██████████| 100/100 [00:19<00:00,  5.11it/s]\n"
     ]
    },
    {
     "name": "stdout",
     "output_type": "stream",
     "text": [
      "Accuracy after SEU: 0.7466666666666667\n",
      "===================================\n",
      "Original value: 3.083939552307129, SEU value: 3.091752052307129\n"
     ]
    },
    {
     "name": "stderr",
     "output_type": "stream",
     "text": [
      "Evaluating: 100%|██████████| 100/100 [00:21<00:00,  4.73it/s]\n"
     ]
    },
    {
     "name": "stdout",
     "output_type": "stream",
     "text": [
      "Accuracy after SEU: 0.7485185185185185\n",
      "===================================\n",
      "Original value: 3.083939552307129, SEU value: 3.080033302307129\n"
     ]
    },
    {
     "name": "stderr",
     "output_type": "stream",
     "text": [
      "Evaluating: 100%|██████████| 100/100 [00:22<00:00,  4.47it/s]\n"
     ]
    },
    {
     "name": "stdout",
     "output_type": "stream",
     "text": [
      "Accuracy after SEU: 0.7494444444444445\n",
      "===================================\n",
      "Original value: 3.083939552307129, SEU value: 3.085892677307129\n"
     ]
    },
    {
     "name": "stderr",
     "output_type": "stream",
     "text": [
      "Evaluating: 100%|██████████| 100/100 [00:20<00:00,  4.80it/s]\n"
     ]
    },
    {
     "name": "stdout",
     "output_type": "stream",
     "text": [
      "Accuracy after SEU: 0.7488888888888889\n",
      "===================================\n",
      "Original value: 3.083939552307129, SEU value: 3.082962989807129\n"
     ]
    },
    {
     "name": "stderr",
     "output_type": "stream",
     "text": [
      "Evaluating: 100%|██████████| 100/100 [00:19<00:00,  5.06it/s]\n"
     ]
    },
    {
     "name": "stdout",
     "output_type": "stream",
     "text": [
      "Accuracy after SEU: 0.7483333333333333\n",
      "===================================\n",
      "Original value: 3.083939552307129, SEU value: 3.083451271057129\n"
     ]
    },
    {
     "name": "stderr",
     "output_type": "stream",
     "text": [
      "Evaluating: 100%|██████████| 100/100 [00:19<00:00,  5.17it/s]\n"
     ]
    },
    {
     "name": "stdout",
     "output_type": "stream",
     "text": [
      "Accuracy after SEU: 0.7477777777777778\n",
      "===================================\n",
      "Original value: 3.083939552307129, SEU value: 3.083695411682129\n"
     ]
    },
    {
     "name": "stderr",
     "output_type": "stream",
     "text": [
      "Evaluating: 100%|██████████| 100/100 [00:19<00:00,  5.13it/s]\n"
     ]
    },
    {
     "name": "stdout",
     "output_type": "stream",
     "text": [
      "Accuracy after SEU: 0.7475925925925926\n",
      "===================================\n",
      "Original value: 3.083939552307129, SEU value: 3.083817481994629\n"
     ]
    },
    {
     "name": "stderr",
     "output_type": "stream",
     "text": [
      "Evaluating: 100%|██████████| 100/100 [00:21<00:00,  4.70it/s]\n"
     ]
    },
    {
     "name": "stdout",
     "output_type": "stream",
     "text": [
      "Accuracy after SEU: 0.7475925925925926\n",
      "===================================\n",
      "Original value: 3.083939552307129, SEU value: 3.083878517150879\n"
     ]
    },
    {
     "name": "stderr",
     "output_type": "stream",
     "text": [
      "Evaluating: 100%|██████████| 100/100 [00:19<00:00,  5.18it/s]\n"
     ]
    },
    {
     "name": "stdout",
     "output_type": "stream",
     "text": [
      "Accuracy after SEU: 0.7498148148148148\n",
      "===================================\n",
      "Original value: 3.083939552307129, SEU value: 3.083970069885254\n"
     ]
    },
    {
     "name": "stderr",
     "output_type": "stream",
     "text": [
      "Evaluating: 100%|██████████| 100/100 [00:19<00:00,  5.19it/s]\n"
     ]
    },
    {
     "name": "stdout",
     "output_type": "stream",
     "text": [
      "Accuracy after SEU: 0.7474074074074074\n",
      "===================================\n",
      "Original value: 3.083939552307129, SEU value: 3.0839242935180664\n"
     ]
    },
    {
     "name": "stderr",
     "output_type": "stream",
     "text": [
      "Evaluating: 100%|██████████| 100/100 [00:19<00:00,  5.18it/s]\n"
     ]
    },
    {
     "name": "stdout",
     "output_type": "stream",
     "text": [
      "Accuracy after SEU: 0.7466666666666667\n",
      "===================================\n",
      "Original value: 3.083939552307129, SEU value: 3.08394718170166\n"
     ]
    },
    {
     "name": "stderr",
     "output_type": "stream",
     "text": [
      "Evaluating: 100%|██████████| 100/100 [00:19<00:00,  5.17it/s]\n"
     ]
    },
    {
     "name": "stdout",
     "output_type": "stream",
     "text": [
      "Accuracy after SEU: 0.7511111111111111\n",
      "===================================\n",
      "Original value: 3.083939552307129, SEU value: 3.0839433670043945\n"
     ]
    },
    {
     "name": "stderr",
     "output_type": "stream",
     "text": [
      "Evaluating: 100%|██████████| 100/100 [00:19<00:00,  5.12it/s]\n"
     ]
    },
    {
     "name": "stdout",
     "output_type": "stream",
     "text": [
      "Accuracy after SEU: 0.7494444444444445\n",
      "===================================\n",
      "Original value: 3.083939552307129, SEU value: 3.0839414596557617\n"
     ]
    },
    {
     "name": "stderr",
     "output_type": "stream",
     "text": [
      "Evaluating: 100%|██████████| 100/100 [00:20<00:00,  4.96it/s]\n"
     ]
    },
    {
     "name": "stdout",
     "output_type": "stream",
     "text": [
      "Accuracy after SEU: 0.7509259259259259\n",
      "===================================\n",
      "Original value: 3.083939552307129, SEU value: 3.0839385986328125\n"
     ]
    },
    {
     "name": "stderr",
     "output_type": "stream",
     "text": [
      "Evaluating: 100%|██████████| 100/100 [00:18<00:00,  5.28it/s]\n"
     ]
    },
    {
     "name": "stdout",
     "output_type": "stream",
     "text": [
      "Accuracy after SEU: 0.7485185185185185\n",
      "===================================\n",
      "Original value: 3.083939552307129, SEU value: 3.083940029144287\n"
     ]
    },
    {
     "name": "stderr",
     "output_type": "stream",
     "text": [
      "Evaluating: 100%|██████████| 100/100 [00:17<00:00,  5.65it/s]\n"
     ]
    },
    {
     "name": "stdout",
     "output_type": "stream",
     "text": [
      "Accuracy after SEU: 0.7492592592592593\n",
      "===================================\n",
      "Original value: 3.083939552307129, SEU value: 3.083939790725708\n"
     ]
    },
    {
     "name": "stderr",
     "output_type": "stream",
     "text": [
      "Evaluating: 100%|██████████| 100/100 [00:17<00:00,  5.67it/s]"
     ]
    },
    {
     "name": "stdout",
     "output_type": "stream",
     "text": [
      "Accuracy after SEU: 0.7511111111111111\n",
      "===================================\n"
     ]
    },
    {
     "name": "stderr",
     "output_type": "stream",
     "text": [
      "\n"
     ]
    }
   ],
   "source": [
    "#store the result in dataframe\n",
    "import pandas as pd\n",
    "results3_scale = []\n",
    "\n",
    "for i in range(0, 32):\n",
    "    results3_scale.append(inj.run_seu_autodiagonal_normal(location_index=53696, bit_i=i, parameter_name=\"scale\", num_samples=10))"
   ]
  },
  {
   "cell_type": "code",
   "execution_count": 23,
   "id": "3ea994f9",
   "metadata": {},
   "outputs": [
    {
     "name": "stdout",
     "output_type": "stream",
     "text": [
      "Original value: 0.06122199073433876, SEU value: -0.06122199073433876\n"
     ]
    },
    {
     "name": "stderr",
     "output_type": "stream",
     "text": [
      "Evaluating:   0%|          | 0/100 [00:00<?, ?it/s]\n"
     ]
    },
    {
     "name": "stdout",
     "output_type": "stream",
     "text": [
      "Accuracy after SEU: nan\n",
      "===================================\n",
      "Original value: 0.06122199073433876, SEU value: 2.0832763914692557e+37\n"
     ]
    },
    {
     "name": "stderr",
     "output_type": "stream",
     "text": [
      "Evaluating: 100%|██████████| 100/100 [00:17<00:00,  5.59it/s]\n"
     ]
    },
    {
     "name": "stdout",
     "output_type": "stream",
     "text": [
      "Accuracy after SEU: 0.1174074074074074\n",
      "===================================\n",
      "Original value: 0.06122199073433876, SEU value: 3.3188507679028753e-21\n"
     ]
    },
    {
     "name": "stderr",
     "output_type": "stream",
     "text": [
      "Evaluating: 100%|██████████| 100/100 [00:17<00:00,  5.68it/s]\n"
     ]
    },
    {
     "name": "stdout",
     "output_type": "stream",
     "text": [
      "Accuracy after SEU: 0.7507407407407407\n",
      "===================================\n",
      "Original value: 0.06122199073433876, SEU value: 1.4254355508447336e-11\n"
     ]
    },
    {
     "name": "stderr",
     "output_type": "stream",
     "text": [
      "Evaluating: 100%|██████████| 100/100 [00:17<00:00,  5.66it/s]\n"
     ]
    },
    {
     "name": "stdout",
     "output_type": "stream",
     "text": [
      "Accuracy after SEU: 0.7483333333333333\n",
      "===================================\n",
      "Original value: 0.06122199073433876, SEU value: 9.341734426016046e-07\n"
     ]
    },
    {
     "name": "stderr",
     "output_type": "stream",
     "text": [
      "Evaluating: 100%|██████████| 100/100 [00:17<00:00,  5.63it/s]\n"
     ]
    },
    {
     "name": "stdout",
     "output_type": "stream",
     "text": [
      "Accuracy after SEU: 0.7481481481481481\n",
      "===================================\n",
      "Original value: 0.06122199073433876, SEU value: 0.00023914840130601078\n"
     ]
    },
    {
     "name": "stderr",
     "output_type": "stream",
     "text": [
      "Evaluating: 100%|██████████| 100/100 [00:17<00:00,  5.58it/s]\n"
     ]
    },
    {
     "name": "stdout",
     "output_type": "stream",
     "text": [
      "Accuracy after SEU: 0.7522222222222222\n",
      "===================================\n",
      "Original value: 0.06122199073433876, SEU value: 0.9795518517494202\n"
     ]
    },
    {
     "name": "stderr",
     "output_type": "stream",
     "text": [
      "Evaluating: 100%|██████████| 100/100 [00:18<00:00,  5.56it/s]\n"
     ]
    },
    {
     "name": "stdout",
     "output_type": "stream",
     "text": [
      "Accuracy after SEU: 0.7512962962962964\n",
      "===================================\n",
      "Original value: 0.06122199073433876, SEU value: 0.01530549768358469\n"
     ]
    },
    {
     "name": "stderr",
     "output_type": "stream",
     "text": [
      "Evaluating: 100%|██████████| 100/100 [00:19<00:00,  5.12it/s]\n"
     ]
    },
    {
     "name": "stdout",
     "output_type": "stream",
     "text": [
      "Accuracy after SEU: 0.7505555555555555\n",
      "===================================\n",
      "Original value: 0.06122199073433876, SEU value: 0.12244398146867752\n"
     ]
    },
    {
     "name": "stderr",
     "output_type": "stream",
     "text": [
      "Evaluating: 100%|██████████| 100/100 [00:18<00:00,  5.42it/s]\n"
     ]
    },
    {
     "name": "stdout",
     "output_type": "stream",
     "text": [
      "Accuracy after SEU: 0.7533333333333333\n",
      "===================================\n",
      "Original value: 0.06122199073433876, SEU value: 0.04559699073433876\n"
     ]
    },
    {
     "name": "stderr",
     "output_type": "stream",
     "text": [
      "Evaluating: 100%|██████████| 100/100 [00:18<00:00,  5.53it/s]\n"
     ]
    },
    {
     "name": "stdout",
     "output_type": "stream",
     "text": [
      "Accuracy after SEU: 0.7481481481481481\n",
      "===================================\n",
      "Original value: 0.06122199073433876, SEU value: 0.05340949073433876\n"
     ]
    },
    {
     "name": "stderr",
     "output_type": "stream",
     "text": [
      "Evaluating: 100%|██████████| 100/100 [00:18<00:00,  5.52it/s]\n"
     ]
    },
    {
     "name": "stdout",
     "output_type": "stream",
     "text": [
      "Accuracy after SEU: 0.7479629629629629\n",
      "===================================\n",
      "Original value: 0.06122199073433876, SEU value: 0.05731574073433876\n"
     ]
    },
    {
     "name": "stderr",
     "output_type": "stream",
     "text": [
      "Evaluating: 100%|██████████| 100/100 [00:18<00:00,  5.27it/s]\n"
     ]
    },
    {
     "name": "stdout",
     "output_type": "stream",
     "text": [
      "Accuracy after SEU: 0.7498148148148148\n",
      "===================================\n",
      "Original value: 0.06122199073433876, SEU value: 0.05926886573433876\n"
     ]
    },
    {
     "name": "stderr",
     "output_type": "stream",
     "text": [
      "Evaluating: 100%|██████████| 100/100 [00:19<00:00,  5.22it/s]\n"
     ]
    },
    {
     "name": "stdout",
     "output_type": "stream",
     "text": [
      "Accuracy after SEU: 0.7483333333333333\n",
      "===================================\n",
      "Original value: 0.06122199073433876, SEU value: 0.06219855323433876\n"
     ]
    },
    {
     "name": "stderr",
     "output_type": "stream",
     "text": [
      "Evaluating: 100%|██████████| 100/100 [00:19<00:00,  5.17it/s]\n"
     ]
    },
    {
     "name": "stdout",
     "output_type": "stream",
     "text": [
      "Accuracy after SEU: 0.7507407407407407\n",
      "===================================\n",
      "Original value: 0.06122199073433876, SEU value: 0.06073370948433876\n"
     ]
    },
    {
     "name": "stderr",
     "output_type": "stream",
     "text": [
      "Evaluating: 100%|██████████| 100/100 [00:19<00:00,  5.10it/s]\n"
     ]
    },
    {
     "name": "stdout",
     "output_type": "stream",
     "text": [
      "Accuracy after SEU: 0.7475925925925926\n",
      "===================================\n",
      "Original value: 0.06122199073433876, SEU value: 0.06146613135933876\n"
     ]
    },
    {
     "name": "stderr",
     "output_type": "stream",
     "text": [
      "Evaluating: 100%|██████████| 100/100 [00:19<00:00,  5.08it/s]\n"
     ]
    },
    {
     "name": "stdout",
     "output_type": "stream",
     "text": [
      "Accuracy after SEU: 0.7483333333333333\n",
      "===================================\n",
      "Original value: 0.06122199073433876, SEU value: 0.06109992042183876\n"
     ]
    },
    {
     "name": "stderr",
     "output_type": "stream",
     "text": [
      "Evaluating: 100%|██████████| 100/100 [00:20<00:00,  5.00it/s]\n"
     ]
    },
    {
     "name": "stdout",
     "output_type": "stream",
     "text": [
      "Accuracy after SEU: 0.7479629629629629\n",
      "===================================\n",
      "Original value: 0.06122199073433876, SEU value: 0.06116095557808876\n"
     ]
    },
    {
     "name": "stderr",
     "output_type": "stream",
     "text": [
      "Evaluating: 100%|██████████| 100/100 [00:19<00:00,  5.01it/s]\n"
     ]
    },
    {
     "name": "stdout",
     "output_type": "stream",
     "text": [
      "Accuracy after SEU: 0.7488888888888889\n",
      "===================================\n",
      "Original value: 0.06122199073433876, SEU value: 0.06125250831246376\n"
     ]
    },
    {
     "name": "stderr",
     "output_type": "stream",
     "text": [
      "Evaluating: 100%|██████████| 100/100 [00:19<00:00,  5.06it/s]\n"
     ]
    },
    {
     "name": "stdout",
     "output_type": "stream",
     "text": [
      "Accuracy after SEU: 0.7477777777777778\n",
      "===================================\n",
      "Original value: 0.06122199073433876, SEU value: 0.06123724952340126\n"
     ]
    },
    {
     "name": "stderr",
     "output_type": "stream",
     "text": [
      "Evaluating: 100%|██████████| 100/100 [00:19<00:00,  5.08it/s]\n"
     ]
    },
    {
     "name": "stdout",
     "output_type": "stream",
     "text": [
      "Accuracy after SEU: 0.7453703703703703\n",
      "===================================\n",
      "Original value: 0.06122199073433876, SEU value: 0.06122962012887001\n"
     ]
    },
    {
     "name": "stderr",
     "output_type": "stream",
     "text": [
      "Evaluating: 100%|██████████| 100/100 [00:19<00:00,  5.12it/s]\n"
     ]
    },
    {
     "name": "stdout",
     "output_type": "stream",
     "text": [
      "Accuracy after SEU: 0.7498148148148148\n",
      "===================================\n",
      "Original value: 0.06122199073433876, SEU value: 0.061225805431604385\n"
     ]
    },
    {
     "name": "stderr",
     "output_type": "stream",
     "text": [
      "Evaluating: 100%|██████████| 100/100 [00:19<00:00,  5.12it/s]\n"
     ]
    },
    {
     "name": "stdout",
     "output_type": "stream",
     "text": [
      "Accuracy after SEU: 0.75\n",
      "===================================\n",
      "Original value: 0.06122199073433876, SEU value: 0.06122008338570595\n"
     ]
    },
    {
     "name": "stderr",
     "output_type": "stream",
     "text": [
      "Evaluating: 100%|██████████| 100/100 [00:19<00:00,  5.11it/s]\n"
     ]
    },
    {
     "name": "stdout",
     "output_type": "stream",
     "text": [
      "Accuracy after SEU: 0.7459259259259259\n",
      "===================================\n",
      "Original value: 0.06122199073433876, SEU value: 0.061221037060022354\n"
     ]
    },
    {
     "name": "stderr",
     "output_type": "stream",
     "text": [
      "Evaluating: 100%|██████████| 100/100 [00:19<00:00,  5.11it/s]\n"
     ]
    },
    {
     "name": "stdout",
     "output_type": "stream",
     "text": [
      "Accuracy after SEU: 0.7490740740740741\n",
      "===================================\n",
      "Original value: 0.06122199073433876, SEU value: 0.06122151389718056\n"
     ]
    },
    {
     "name": "stderr",
     "output_type": "stream",
     "text": [
      "Evaluating: 100%|██████████| 100/100 [00:19<00:00,  5.15it/s]\n"
     ]
    },
    {
     "name": "stdout",
     "output_type": "stream",
     "text": [
      "Accuracy after SEU: 0.7490740740740741\n",
      "===================================\n",
      "Original value: 0.06122199073433876, SEU value: 0.06122175231575966\n"
     ]
    },
    {
     "name": "stderr",
     "output_type": "stream",
     "text": [
      "Evaluating: 100%|██████████| 100/100 [00:19<00:00,  5.25it/s]\n"
     ]
    },
    {
     "name": "stdout",
     "output_type": "stream",
     "text": [
      "Accuracy after SEU: 0.7503703703703704\n",
      "===================================\n",
      "Original value: 0.06122199073433876, SEU value: 0.06122187152504921\n"
     ]
    },
    {
     "name": "stderr",
     "output_type": "stream",
     "text": [
      "Evaluating: 100%|██████████| 100/100 [00:19<00:00,  5.25it/s]\n"
     ]
    },
    {
     "name": "stdout",
     "output_type": "stream",
     "text": [
      "Accuracy after SEU: 0.7494444444444445\n",
      "===================================\n",
      "Original value: 0.06122199073433876, SEU value: 0.061222050338983536\n"
     ]
    },
    {
     "name": "stderr",
     "output_type": "stream",
     "text": [
      "Evaluating: 100%|██████████| 100/100 [00:19<00:00,  5.17it/s]\n"
     ]
    },
    {
     "name": "stdout",
     "output_type": "stream",
     "text": [
      "Accuracy after SEU: 0.7466666666666667\n",
      "===================================\n",
      "Original value: 0.06122199073433876, SEU value: 0.06122196093201637\n"
     ]
    },
    {
     "name": "stderr",
     "output_type": "stream",
     "text": [
      "Evaluating: 100%|██████████| 100/100 [00:19<00:00,  5.19it/s]\n"
     ]
    },
    {
     "name": "stdout",
     "output_type": "stream",
     "text": [
      "Accuracy after SEU: 0.7462962962962963\n",
      "===================================\n",
      "Original value: 0.06122199073433876, SEU value: 0.061222005635499954\n"
     ]
    },
    {
     "name": "stderr",
     "output_type": "stream",
     "text": [
      "Evaluating: 100%|██████████| 100/100 [00:19<00:00,  5.16it/s]\n"
     ]
    },
    {
     "name": "stdout",
     "output_type": "stream",
     "text": [
      "Accuracy after SEU: 0.7483333333333333\n",
      "===================================\n",
      "Original value: 0.06122199073433876, SEU value: 0.06122199818491936\n"
     ]
    },
    {
     "name": "stderr",
     "output_type": "stream",
     "text": [
      "Evaluating: 100%|██████████| 100/100 [00:19<00:00,  5.06it/s]\n"
     ]
    },
    {
     "name": "stdout",
     "output_type": "stream",
     "text": [
      "Accuracy after SEU: 0.747037037037037\n",
      "===================================\n",
      "Original value: 0.06122199073433876, SEU value: 0.06122198700904846\n"
     ]
    },
    {
     "name": "stderr",
     "output_type": "stream",
     "text": [
      "Evaluating: 100%|██████████| 100/100 [00:19<00:00,  5.06it/s]"
     ]
    },
    {
     "name": "stdout",
     "output_type": "stream",
     "text": [
      "Accuracy after SEU: 0.7498148148148148\n",
      "===================================\n"
     ]
    },
    {
     "name": "stderr",
     "output_type": "stream",
     "text": [
      "\n"
     ]
    }
   ],
   "source": [
    "#store the result in dataframe\n",
    "import pandas as pd\n",
    "results4_scale = []\n",
    "\n",
    "for i in range(0, 32):\n",
    "    results4_scale.append(inj.run_seu_autodiagonal_normal(location_index=2400, bit_i=i, parameter_name=\"scale\", num_samples=10))"
   ]
  },
  {
   "cell_type": "code",
   "execution_count": 24,
   "id": "3b26896a",
   "metadata": {},
   "outputs": [
    {
     "data": {
      "image/png": "[encoded data removed]",
      "text/plain": [
       "<Figure size 1000x500 with 1 Axes>"
      ]
     },
     "metadata": {},
     "output_type": "display_data"
    }
   ],
   "source": [
    "plt.figure(figsize=(10, 5))\n",
    "plt.plot(range(0, 32), results_scale, marker='o', label='conv1 1st weight')\n",
    "plt.plot(range(0, 32), results4_scale, marker='o', label='conv1 1st bias')\n",
    "plt.plot(range(0, 32), results3_scale, marker='o', label='fc1 1st weight')\n",
    "plt.plot(range(0, 32), results2_scale, marker='o', label='fc1 1st bias')\n",
    "\n",
    "\n",
    "plt.title('SEU Impact on Scale Parameter')\n",
    "plt.xlabel('Bit Position')\n",
    "plt.ylabel('Change in Accuracy')\n",
    "plt.grid()\n",
    "plt.legend()\n",
    "plt.show()"
   ]
  },
  {
   "cell_type": "code",
   "execution_count": null,
   "id": "1cf25c49",
   "metadata": {},
   "outputs": [],
   "source": []
  }
 ],
 "metadata": {
  "kernelspec": {
   "display_name": "bnntest",
   "language": "python",
   "name": "python3"
  },
  "language_info": {
   "codemirror_mode": {
    "name": "ipython",
    "version": 3
   },
   "file_extension": ".py",
   "mimetype": "text/x-python",
   "name": "python",
   "nbconvert_exporter": "python",
   "pygments_lexer": "ipython3",
   "version": "3.12.9"
  }
 },
 "nbformat": 4,
 "nbformat_minor": 5
}
