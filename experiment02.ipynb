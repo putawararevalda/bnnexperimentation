{
 "cells": [
  {
   "cell_type": "code",
   "execution_count": 1,
   "id": "2b415a57",
   "metadata": {},
   "outputs": [],
   "source": [
    "import torch\n",
    "import torch.nn as nn\n",
    "import torch.nn.functional as F\n",
    "import torchvision.datasets as datasets\n",
    "import torchvision.transforms as transforms\n",
    "from torch.utils.data import DataLoader, random_split, Subset\n",
    "import time\n",
    "import matplotlib.pyplot as plt\n",
    "import os\n",
    "from sklearn.model_selection import train_test_split\n",
    "\n",
    "import pickle\n",
    "from tqdm import tqdm\n",
    "import copy"
   ]
  },
  {
   "cell_type": "code",
   "execution_count": 2,
   "id": "21fc4dd2",
   "metadata": {},
   "outputs": [
    {
     "name": "stderr",
     "output_type": "stream",
     "text": [
      "c:\\Users\\Revalda Putawara\\.conda\\envs\\bnntest\\Lib\\site-packages\\tqdm\\auto.py:21: TqdmWarning: IProgress not found. Please update jupyter and ipywidgets. See https://ipywidgets.readthedocs.io/en/stable/user_install.html\n",
      "  from .autonotebook import tqdm as notebook_tqdm\n"
     ]
    }
   ],
   "source": [
    "import pyro\n",
    "import pyro.distributions as dist\n",
    "from pyro.nn import PyroModule, PyroSample\n",
    "from pyro.infer.autoguide import AutoDiagonalNormal"
   ]
  },
  {
   "cell_type": "code",
   "execution_count": 3,
   "id": "7933eaab",
   "metadata": {},
   "outputs": [],
   "source": [
    "import numpy as np\n",
    "from sklearn.metrics import confusion_matrix"
   ]
  },
  {
   "cell_type": "code",
   "execution_count": 4,
   "id": "33214803",
   "metadata": {},
   "outputs": [],
   "source": [
    "from utils.model import BayesianCNNSingleFC"
   ]
  },
  {
   "cell_type": "code",
   "execution_count": 5,
   "id": "685ec8a3",
   "metadata": {},
   "outputs": [],
   "source": [
    "from bitflip import bitflip_float32"
   ]
  },
  {
   "cell_type": "code",
   "execution_count": 6,
   "id": "5ae33ca6",
   "metadata": {},
   "outputs": [],
   "source": [
    "def load_data(batch_size=54):\n",
    "    transform = transforms.Compose([\n",
    "        transforms.Resize((64, 64)),\n",
    "        transforms.ToTensor(),\n",
    "        transforms.Normalize(mean=[0.3444, 0.3809, 0.4082], std=[0.1809, 0.1331, 0.1137])\n",
    "    ])\n",
    "\n",
    "    dataset = datasets.EuroSAT(root='./data', transform=transform, download=False)\n",
    "\n",
    "    torch.manual_seed(42)\n",
    "    \n",
    "    with open('datasplit/split_indices.pkl', 'rb') as f:\n",
    "        split = pickle.load(f)\n",
    "        train_dataset = Subset(dataset, split['train'])\n",
    "        test_dataset = Subset(dataset, split['test'])\n",
    "\n",
    "    # Add num_workers and pin_memory for faster data loading\n",
    "    train_loader = DataLoader(train_dataset, batch_size=batch_size, shuffle=True, \n",
    "                             num_workers=4, pin_memory=True, persistent_workers=True)\n",
    "    test_loader = DataLoader(test_dataset, batch_size=batch_size,\n",
    "                            num_workers=4, pin_memory=True, persistent_workers=True)\n",
    "    return train_loader, test_loader"
   ]
  },
  {
   "cell_type": "code",
   "execution_count": 7,
   "id": "593603cd",
   "metadata": {},
   "outputs": [],
   "source": [
    "train_loader, test_loader = load_data(batch_size=54)"
   ]
  },
  {
   "cell_type": "code",
   "execution_count": 8,
   "id": "7ffc34f2",
   "metadata": {},
   "outputs": [],
   "source": [
    "device = torch.device(\"cuda\")"
   ]
  },
  {
   "cell_type": "code",
   "execution_count": 9,
   "id": "91047777",
   "metadata": {},
   "outputs": [],
   "source": [
    "num_classes = 10"
   ]
  },
  {
   "cell_type": "code",
   "execution_count": 10,
   "id": "47222767",
   "metadata": {},
   "outputs": [],
   "source": [
    "bayesian_model =BayesianCNNSingleFC(num_classes=num_classes, device=device).to(device)"
   ]
  },
  {
   "cell_type": "code",
   "execution_count": 11,
   "id": "06566fe5",
   "metadata": {},
   "outputs": [],
   "source": [
    "model_path = 'results_eurosat/bayesian_cnn_model_std10_100_epoch.pth'\n",
    "guide_path = 'results_eurosat/bayesian_cnn_guide_std10_100_epoch_guide.pth'\n",
    "pyro_param_store_path = 'results_eurosat/pyro_param_store_std10_100_epoch.pkl'\n",
    "\n",
    "#guide = AutoDiagonalNormal(bayesian_model).to(device)\n",
    "\n",
    "#pyro.get_param_store().set_state(torch.load(pyro_param_store_path,weights_only=False))\n",
    "\n",
    "#original_param_store = {}\n",
    "\n",
    "#for name, value in pyro.get_param_store().items():\n",
    "#    print(f\"{name}: {value.shape}\")\n",
    "#    original_param_store[name] = torch.tensor(value.data, requires_grad=value.requires_grad)"
   ]
  },
  {
   "cell_type": "code",
   "execution_count": null,
   "id": "b02438ff",
   "metadata": {},
   "outputs": [],
   "source": [
    "class Injector:\n",
    "    def __init__(self, trained_model, device, test_loader, num_samples):\n",
    "        \"\"\"\n",
    "        Initializes SEU injector\n",
    "        \"\"\"\n",
    "\n",
    "        #initialize device\n",
    "        if device is None:\n",
    "            self.device = torch.device(\"cuda\" if torch.cuda.is_available() else \"cpu\")\n",
    "        else:\n",
    "            self.device = device\n",
    "\n",
    "        self.trained_model = trained_model.to(self.device)\n",
    "        self.test_loader = test_loader\n",
    "        self.trained_model.eval()\n",
    "        self.num_samples = num_samples\n",
    "        \n",
    "        self.guide = AutoDiagonalNormal(self.trained_model).to(self.device)\n",
    "        pyro.get_param_store().clear()\n",
    "        pyro.get_param_store().set_state(torch.load(pyro_param_store_path,weights_only=False))\n",
    "\n",
    "        #initial_Accuracy = self.return_accuracy(num_samples)\n",
    "        initial_labels, initial_predictions, initial_logits, initial_probs = self.predict_data_probs(self.num_samples)\n",
    "        self.initial_accuracy = self.return_accuracy(initial_labels, initial_predictions)\n",
    "        \n",
    "        #print accuracy before SEU\n",
    "        print(f\"Initial accuracy: {self.initial_accuracy}\")\n",
    "        \n",
    "    def predict_data_probs(self, num_samples=10):\n",
    "        all_labels = []\n",
    "        all_predictions = []\n",
    "        all_logits = []\n",
    "        all_probs = []\n",
    "\n",
    "        with torch.no_grad():\n",
    "            for images, labels in tqdm(self.test_loader, desc=\"Evaluating\"):\n",
    "                images, labels = images.to(self.device), labels.to(self.device)\n",
    "\n",
    "                logits_mc = torch.zeros(num_samples, images.size(0), self.trained_model.fc1.out_features).to(device)\n",
    "\n",
    "                for i in range(num_samples):\n",
    "                    guide_trace = pyro.poutine.trace(self.guide).get_trace(images)\n",
    "                    replayed_model = pyro.poutine.replay(self.trained_model, trace=guide_trace)\n",
    "                    logits = replayed_model(images)\n",
    "                    logits_mc[i] = logits\n",
    "\n",
    "                avg_logits = logits_mc.mean(dim=0)\n",
    "                predictions = torch.argmax(avg_logits, dim=1)\n",
    "\n",
    "                all_labels.extend(labels.cpu().numpy())\n",
    "                all_predictions.extend(predictions.cpu().numpy())\n",
    "                all_logits.extend(avg_logits.cpu().numpy())\n",
    "                all_probs.extend(F.softmax(avg_logits, dim=1).cpu().numpy())\n",
    "\n",
    "        return all_labels, all_predictions, all_logits, all_probs\n",
    "\n",
    "    def return_accuracy(self, all_labels, all_predictions):\n",
    "        #all_labels, all_predictions, all_logits, all_probs = self.predict_data_probs(num_samples)\n",
    "        cm = confusion_matrix(all_labels, all_predictions)\n",
    "        accuracy = np.trace(cm) / np.sum(cm)\n",
    "\n",
    "        return accuracy\n",
    "    \n",
    "    def run_seu_autodiagonal_normal(self, location_index, bit_i, parameter_name=\"loc\", num_samples=10):\n",
    "        \"\"\"\n",
    "        Run SEU on the AutoDiagonalNormal guide\n",
    "        \"\"\"\n",
    "\n",
    "        assert parameter_name in [\"loc\", \"scale\"], \"Parameter name must be 'loc' or 'scale'.\"\n",
    "        assert bit_i in range(0, 33), \"Location index must be between 0 and 9.\"\n",
    "\n",
    "        if parameter_name == \"loc\":\n",
    "            param_store_name = \"AutoDiagonalNormal.loc\"\n",
    "        elif parameter_name == \"scale\":\n",
    "            param_store_name = \"AutoDiagonalNormal.scale\"\n",
    "\n",
    "        pyro.get_param_store().set_state(torch.load(pyro_param_store_path,weights_only=False))\n",
    "\n",
    "        with torch.no_grad():\n",
    "            param_dict = {}\n",
    "\n",
    "            for name, value in pyro.get_param_store().items():\n",
    "                #print(f\"{name}: {value.shape}\")\n",
    "                #print(value)\n",
    "                param_dict[name] = value.cpu().detach().numpy()\n",
    "\n",
    "            tensor_cpu = param_dict[param_store_name]\n",
    "\n",
    "            original_val = tensor_cpu[0]\n",
    "            seu_val = bitflip_float32(original_val, bit_i)\n",
    "\n",
    "\n",
    "            print(f\"Original value: {original_val}, SEU value: {seu_val}\")\n",
    "\n",
    "            # Get the parameter\n",
    "            param = pyro.get_param_store().get_param(param_store_name)\n",
    "\n",
    "            # Modify it safely by creating a new tensor\n",
    "            new_param = param.clone()\n",
    "            new_param[location_index] = seu_val  # New Value\n",
    "\n",
    "            # Update the parameter store\n",
    "            if parameter_name == \"loc\":\n",
    "                pyro.get_param_store().__setitem__(param_store_name, new_param) # 74%\n",
    "                #param_store[param_store_name].data.copy_(change_item(param_store_name, location_index, seu_val)) #25%\n",
    "                #pyro.get_param_store()[param_store_name].data[location_index] = seu_val # 25%\n",
    "            elif parameter_name == \"scale\":\n",
    "                pyro.get_param_store().__setitem__(param_store_name, new_param) #10%\n",
    "                #pyro.get_param_store()[param_store_name].data[location_index] = seu_val\n",
    "\n",
    "        #print accuracy after SEU\n",
    "        self.guide = AutoDiagonalNormal(bayesian_model).to(device)\n",
    "    \n",
    "\n",
    "        try:\n",
    "            after_labels, after_predictions, after_logits, after_probs = self.predict_data_probs(num_samples)\n",
    "            accuracyAfter_SEU = self.return_accuracy(after_labels, after_predictions)\n",
    "        except:\n",
    "            accuracyAfter_SEU = np.nan()\n",
    "            \n",
    "        print(f\"Accuracy after SEU: {accuracyAfter_SEU}\")\n",
    "        print(\"===================================\")\n",
    "\n",
    "        return accuracyAfter_SEU - self.initial_accuracy"
   ]
  },
  {
   "cell_type": "code",
   "execution_count": 13,
   "id": "c8c04293",
   "metadata": {},
   "outputs": [
    {
     "name": "stderr",
     "output_type": "stream",
     "text": [
      "Evaluating: 100%|██████████| 100/100 [00:35<00:00,  2.82it/s]"
     ]
    },
    {
     "name": "stdout",
     "output_type": "stream",
     "text": [
      "Initial accuracy: 0.7490740740740741\n"
     ]
    },
    {
     "name": "stderr",
     "output_type": "stream",
     "text": [
      "\n"
     ]
    }
   ],
   "source": [
    "inj = Injector(trained_model=bayesian_model, device=device, test_loader=test_loader, num_samples=10)"
   ]
  },
  {
   "cell_type": "code",
   "execution_count": 16,
   "id": "74fa487e",
   "metadata": {},
   "outputs": [
    {
     "name": "stdout",
     "output_type": "stream",
     "text": [
      "Original value: 3.148340940475464, SEU value: 5.807663958573292e+19\n"
     ]
    },
    {
     "name": "stderr",
     "output_type": "stream",
     "text": [
      "Evaluating: 100%|██████████| 100/100 [00:08<00:00, 11.60it/s]\n"
     ]
    },
    {
     "name": "stdout",
     "output_type": "stream",
     "text": [
      "Accuracy after SEU: 0.25055555555555553\n"
     ]
    },
    {
     "data": {
      "text/plain": [
       "np.float64(-0.4985185185185186)"
      ]
     },
     "execution_count": 16,
     "metadata": {},
     "output_type": "execute_result"
    }
   ],
   "source": [
    "#inj.run_seu_autodiagonal_normal(location_index=0, bit_i=1, parameter_name=\"scale\", num_samples=10)\n",
    "inj.run_seu_autodiagonal_normal(location_index=0, bit_i=2, parameter_name=\"loc\", num_samples=10)"
   ]
  },
  {
   "cell_type": "code",
   "execution_count": null,
   "id": "82df9983",
   "metadata": {},
   "outputs": [
    {
     "name": "stdout",
     "output_type": "stream",
     "text": [
      "Original value: 0.04540996998548508, SEU value: 1.5452212068469636e+37\n"
     ]
    },
    {
     "name": "stderr",
     "output_type": "stream",
     "text": [
      "Evaluating: 100%|██████████| 100/100 [00:09<00:00, 10.94it/s]\n"
     ]
    },
    {
     "name": "stdout",
     "output_type": "stream",
     "text": [
      "Accuracy after SEU: 0.1112962962962963\n",
      "Original value: 0.04540996998548508, SEU value: 2.4616794055382235e-21\n"
     ]
    },
    {
     "name": "stderr",
     "output_type": "stream",
     "text": [
      "Evaluating: 100%|██████████| 100/100 [00:08<00:00, 12.04it/s]\n"
     ]
    },
    {
     "name": "stdout",
     "output_type": "stream",
     "text": [
      "Accuracy after SEU: 0.7490740740740741\n",
      "Original value: 0.04540996998548508, SEU value: 1.0572832540023391e-11\n"
     ]
    },
    {
     "name": "stderr",
     "output_type": "stream",
     "text": [
      "Evaluating: 100%|██████████| 100/100 [00:08<00:00, 11.95it/s]\n"
     ]
    },
    {
     "name": "stdout",
     "output_type": "stream",
     "text": [
      "Accuracy after SEU: 0.7466666666666667\n",
      "Original value: 0.04540996998548508, SEU value: 6.92901153342973e-07\n"
     ]
    },
    {
     "name": "stderr",
     "output_type": "stream",
     "text": [
      "Evaluating: 100%|██████████| 100/100 [00:08<00:00, 11.91it/s]\n"
     ]
    },
    {
     "name": "stdout",
     "output_type": "stream",
     "text": [
      "Accuracy after SEU: 0.7487037037037036\n",
      "Original value: 0.04540996998548508, SEU value: 0.00017738269525580108\n"
     ]
    },
    {
     "name": "stderr",
     "output_type": "stream",
     "text": [
      "Evaluating: 100%|██████████| 100/100 [00:08<00:00, 11.78it/s]\n"
     ]
    },
    {
     "name": "stdout",
     "output_type": "stream",
     "text": [
      "Accuracy after SEU: 0.7472222222222222\n",
      "Original value: 0.04540996998548508, SEU value: 0.7265595197677612\n"
     ]
    },
    {
     "name": "stderr",
     "output_type": "stream",
     "text": [
      "Evaluating: 100%|██████████| 100/100 [00:08<00:00, 11.81it/s]\n"
     ]
    },
    {
     "name": "stdout",
     "output_type": "stream",
     "text": [
      "Accuracy after SEU: 0.7472222222222222\n",
      "Original value: 0.04540996998548508, SEU value: 0.01135249249637127\n"
     ]
    },
    {
     "name": "stderr",
     "output_type": "stream",
     "text": [
      "Evaluating: 100%|██████████| 100/100 [00:08<00:00, 11.57it/s]\n"
     ]
    },
    {
     "name": "stdout",
     "output_type": "stream",
     "text": [
      "Accuracy after SEU: 0.7487037037037036\n",
      "Original value: 0.04540996998548508, SEU value: 0.09081993997097015\n"
     ]
    },
    {
     "name": "stderr",
     "output_type": "stream",
     "text": [
      "Evaluating: 100%|██████████| 100/100 [00:08<00:00, 11.76it/s]\n"
     ]
    },
    {
     "name": "stdout",
     "output_type": "stream",
     "text": [
      "Accuracy after SEU: 0.7468518518518519\n",
      "Original value: 0.04540996998548508, SEU value: 0.06103496998548508\n"
     ]
    },
    {
     "name": "stderr",
     "output_type": "stream",
     "text": [
      "Evaluating: 100%|██████████| 100/100 [00:08<00:00, 11.68it/s]\n"
     ]
    },
    {
     "name": "stdout",
     "output_type": "stream",
     "text": [
      "Accuracy after SEU: 0.7475925925925926\n",
      "Original value: 0.04540996998548508, SEU value: 0.03759746998548508\n"
     ]
    },
    {
     "name": "stderr",
     "output_type": "stream",
     "text": [
      "Evaluating: 100%|██████████| 100/100 [00:08<00:00, 11.73it/s]\n"
     ]
    },
    {
     "name": "stdout",
     "output_type": "stream",
     "text": [
      "Accuracy after SEU: 0.7459259259259259\n",
      "Original value: 0.04540996998548508, SEU value: 0.04150371998548508\n"
     ]
    },
    {
     "name": "stderr",
     "output_type": "stream",
     "text": [
      "Evaluating: 100%|██████████| 100/100 [00:08<00:00, 11.70it/s]\n"
     ]
    },
    {
     "name": "stdout",
     "output_type": "stream",
     "text": [
      "Accuracy after SEU: 0.7490740740740741\n",
      "Original value: 0.04540996998548508, SEU value: 0.04345684498548508\n"
     ]
    },
    {
     "name": "stderr",
     "output_type": "stream",
     "text": [
      "Evaluating: 100%|██████████| 100/100 [00:08<00:00, 11.39it/s]\n"
     ]
    },
    {
     "name": "stdout",
     "output_type": "stream",
     "text": [
      "Accuracy after SEU: 0.7487037037037036\n",
      "Original value: 0.04540996998548508, SEU value: 0.04638653248548508\n"
     ]
    },
    {
     "name": "stderr",
     "output_type": "stream",
     "text": [
      "Evaluating: 100%|██████████| 100/100 [00:08<00:00, 11.21it/s]\n"
     ]
    },
    {
     "name": "stdout",
     "output_type": "stream",
     "text": [
      "Accuracy after SEU: 0.7475925925925926\n",
      "Original value: 0.04540996998548508, SEU value: 0.04589825123548508\n"
     ]
    },
    {
     "name": "stderr",
     "output_type": "stream",
     "text": [
      "Evaluating: 100%|██████████| 100/100 [00:08<00:00, 11.30it/s]\n"
     ]
    },
    {
     "name": "stdout",
     "output_type": "stream",
     "text": [
      "Accuracy after SEU: 0.7485185185185185\n",
      "Original value: 0.04540996998548508, SEU value: 0.04516582936048508\n"
     ]
    },
    {
     "name": "stderr",
     "output_type": "stream",
     "text": [
      "Evaluating: 100%|██████████| 100/100 [00:08<00:00, 11.34it/s]\n"
     ]
    },
    {
     "name": "stdout",
     "output_type": "stream",
     "text": [
      "Accuracy after SEU: 0.7505555555555555\n",
      "Original value: 0.04540996998548508, SEU value: 0.04528789967298508\n"
     ]
    },
    {
     "name": "stderr",
     "output_type": "stream",
     "text": [
      "Evaluating: 100%|██████████| 100/100 [00:08<00:00, 11.64it/s]\n"
     ]
    },
    {
     "name": "stdout",
     "output_type": "stream",
     "text": [
      "Accuracy after SEU: 0.7483333333333333\n",
      "Original value: 0.04540996998548508, SEU value: 0.04534893482923508\n"
     ]
    },
    {
     "name": "stderr",
     "output_type": "stream",
     "text": [
      "Evaluating: 100%|██████████| 100/100 [00:08<00:00, 11.63it/s]\n"
     ]
    },
    {
     "name": "stdout",
     "output_type": "stream",
     "text": [
      "Accuracy after SEU: 0.7475925925925926\n",
      "Original value: 0.04540996998548508, SEU value: 0.04537945240736008\n"
     ]
    },
    {
     "name": "stderr",
     "output_type": "stream",
     "text": [
      "Evaluating: 100%|██████████| 100/100 [00:08<00:00, 11.41it/s]\n"
     ]
    },
    {
     "name": "stdout",
     "output_type": "stream",
     "text": [
      "Accuracy after SEU: 0.7479629629629629\n",
      "Original value: 0.04540996998548508, SEU value: 0.04539471119642258\n"
     ]
    },
    {
     "name": "stderr",
     "output_type": "stream",
     "text": [
      "Evaluating: 100%|██████████| 100/100 [00:08<00:00, 11.72it/s]\n"
     ]
    },
    {
     "name": "stdout",
     "output_type": "stream",
     "text": [
      "Accuracy after SEU: 0.7481481481481481\n",
      "Original value: 0.04540996998548508, SEU value: 0.04540234059095383\n"
     ]
    },
    {
     "name": "stderr",
     "output_type": "stream",
     "text": [
      "Evaluating: 100%|██████████| 100/100 [00:08<00:00, 11.54it/s]\n"
     ]
    },
    {
     "name": "stdout",
     "output_type": "stream",
     "text": [
      "Accuracy after SEU: 0.7481481481481481\n",
      "Original value: 0.04540996998548508, SEU value: 0.04540615528821945\n"
     ]
    },
    {
     "name": "stderr",
     "output_type": "stream",
     "text": [
      "Evaluating: 100%|██████████| 100/100 [00:08<00:00, 11.73it/s]\n"
     ]
    },
    {
     "name": "stdout",
     "output_type": "stream",
     "text": [
      "Accuracy after SEU: 0.7494444444444445\n",
      "Original value: 0.04540996998548508, SEU value: 0.045408062636852264\n"
     ]
    },
    {
     "name": "stderr",
     "output_type": "stream",
     "text": [
      "Evaluating: 100%|██████████| 100/100 [00:08<00:00, 11.20it/s]\n"
     ]
    },
    {
     "name": "stdout",
     "output_type": "stream",
     "text": [
      "Accuracy after SEU: 0.7494444444444445\n",
      "Original value: 0.04540996998548508, SEU value: 0.04540901631116867\n"
     ]
    },
    {
     "name": "stderr",
     "output_type": "stream",
     "text": [
      "Evaluating: 100%|██████████| 100/100 [00:08<00:00, 11.63it/s]\n"
     ]
    },
    {
     "name": "stdout",
     "output_type": "stream",
     "text": [
      "Accuracy after SEU: 0.7509259259259259\n",
      "Original value: 0.04540996998548508, SEU value: 0.045409493148326874\n"
     ]
    },
    {
     "name": "stderr",
     "output_type": "stream",
     "text": [
      "Evaluating: 100%|██████████| 100/100 [00:08<00:00, 11.64it/s]\n"
     ]
    },
    {
     "name": "stdout",
     "output_type": "stream",
     "text": [
      "Accuracy after SEU: 0.7474074074074074\n",
      "Original value: 0.04540996998548508, SEU value: 0.045409731566905975\n"
     ]
    },
    {
     "name": "stderr",
     "output_type": "stream",
     "text": [
      "Evaluating: 100%|██████████| 100/100 [00:08<00:00, 11.53it/s]\n"
     ]
    },
    {
     "name": "stdout",
     "output_type": "stream",
     "text": [
      "Accuracy after SEU: 0.7488888888888889\n",
      "Original value: 0.04540996998548508, SEU value: 0.04541008919477463\n"
     ]
    },
    {
     "name": "stderr",
     "output_type": "stream",
     "text": [
      "Evaluating: 100%|██████████| 100/100 [00:08<00:00, 11.68it/s]\n"
     ]
    },
    {
     "name": "stdout",
     "output_type": "stream",
     "text": [
      "Accuracy after SEU: 0.75\n",
      "Original value: 0.04540996998548508, SEU value: 0.04541002959012985\n"
     ]
    },
    {
     "name": "stderr",
     "output_type": "stream",
     "text": [
      "Evaluating: 100%|██████████| 100/100 [00:08<00:00, 11.43it/s]\n"
     ]
    },
    {
     "name": "stdout",
     "output_type": "stream",
     "text": [
      "Accuracy after SEU: 0.7494444444444445\n",
      "Original value: 0.04540996998548508, SEU value: 0.04540994018316269\n"
     ]
    },
    {
     "name": "stderr",
     "output_type": "stream",
     "text": [
      "Evaluating: 100%|██████████| 100/100 [00:08<00:00, 11.58it/s]\n"
     ]
    },
    {
     "name": "stdout",
     "output_type": "stream",
     "text": [
      "Accuracy after SEU: 0.7472222222222222\n",
      "Original value: 0.04540996998548508, SEU value: 0.04540995508432388\n"
     ]
    },
    {
     "name": "stderr",
     "output_type": "stream",
     "text": [
      "Evaluating: 100%|██████████| 100/100 [00:08<00:00, 11.77it/s]\n"
     ]
    },
    {
     "name": "stdout",
     "output_type": "stream",
     "text": [
      "Accuracy after SEU: 0.7477777777777778\n",
      "Original value: 0.04540996998548508, SEU value: 0.04540996253490448\n"
     ]
    },
    {
     "name": "stderr",
     "output_type": "stream",
     "text": [
      "Evaluating: 100%|██████████| 100/100 [00:08<00:00, 11.40it/s]\n"
     ]
    },
    {
     "name": "stdout",
     "output_type": "stream",
     "text": [
      "Accuracy after SEU: 0.7492592592592593\n",
      "Original value: 0.04540996998548508, SEU value: 0.045409973710775375\n"
     ]
    },
    {
     "name": "stderr",
     "output_type": "stream",
     "text": [
      "Evaluating: 100%|██████████| 100/100 [00:08<00:00, 11.36it/s]"
     ]
    },
    {
     "name": "stdout",
     "output_type": "stream",
     "text": [
      "Accuracy after SEU: 0.7488888888888889\n"
     ]
    },
    {
     "name": "stderr",
     "output_type": "stream",
     "text": [
      "\n"
     ]
    },
    {
     "ename": "IndexError",
     "evalue": "list index out of range",
     "output_type": "error",
     "traceback": [
      "\u001b[31m---------------------------------------------------------------------------\u001b[39m",
      "\u001b[31mIndexError\u001b[39m                                Traceback (most recent call last)",
      "\u001b[36mCell\u001b[39m\u001b[36m \u001b[39m\u001b[32mIn[20]\u001b[39m\u001b[32m, line 6\u001b[39m\n\u001b[32m      3\u001b[39m results = []\n\u001b[32m      5\u001b[39m \u001b[38;5;28;01mfor\u001b[39;00m i \u001b[38;5;129;01min\u001b[39;00m \u001b[38;5;28mrange\u001b[39m(\u001b[32m1\u001b[39m, \u001b[32m33\u001b[39m):\n\u001b[32m----> \u001b[39m\u001b[32m6\u001b[39m     results.append(\u001b[43minj\u001b[49m\u001b[43m.\u001b[49m\u001b[43mrun_seu_autodiagonal_normal\u001b[49m\u001b[43m(\u001b[49m\u001b[43mlocation_index\u001b[49m\u001b[43m=\u001b[49m\u001b[32;43m0\u001b[39;49m\u001b[43m,\u001b[49m\u001b[43m \u001b[49m\u001b[43mbit_i\u001b[49m\u001b[43m=\u001b[49m\u001b[43mi\u001b[49m\u001b[43m,\u001b[49m\u001b[43m \u001b[49m\u001b[43mparameter_name\u001b[49m\u001b[43m=\u001b[49m\u001b[33;43m\"\u001b[39;49m\u001b[33;43mscale\u001b[39;49m\u001b[33;43m\"\u001b[39;49m\u001b[43m,\u001b[49m\u001b[43m \u001b[49m\u001b[43mnum_samples\u001b[49m\u001b[43m=\u001b[49m\u001b[32;43m10\u001b[39;49m\u001b[43m)\u001b[49m)\n",
      "\u001b[36mCell\u001b[39m\u001b[36m \u001b[39m\u001b[32mIn[12]\u001b[39m\u001b[32m, line 90\u001b[39m, in \u001b[36mInjector.run_seu_autodiagonal_normal\u001b[39m\u001b[34m(self, location_index, bit_i, parameter_name, num_samples)\u001b[39m\n\u001b[32m     87\u001b[39m tensor_cpu = param_dict[param_store_name]\n\u001b[32m     89\u001b[39m original_val = tensor_cpu[\u001b[32m0\u001b[39m]\n\u001b[32m---> \u001b[39m\u001b[32m90\u001b[39m seu_val = \u001b[43mbitflip_float32\u001b[49m\u001b[43m(\u001b[49m\u001b[43moriginal_val\u001b[49m\u001b[43m,\u001b[49m\u001b[43m \u001b[49m\u001b[43mbit_i\u001b[49m\u001b[43m)\u001b[49m\n\u001b[32m     93\u001b[39m \u001b[38;5;28mprint\u001b[39m(\u001b[33mf\u001b[39m\u001b[33m\"\u001b[39m\u001b[33mOriginal value: \u001b[39m\u001b[38;5;132;01m{\u001b[39;00moriginal_val\u001b[38;5;132;01m}\u001b[39;00m\u001b[33m, SEU value: \u001b[39m\u001b[38;5;132;01m{\u001b[39;00mseu_val\u001b[38;5;132;01m}\u001b[39;00m\u001b[33m\"\u001b[39m)\n\u001b[32m     95\u001b[39m \u001b[38;5;66;03m# Get the parameter\u001b[39;00m\n",
      "\u001b[36mFile \u001b[39m\u001b[32mc:\\Users\\Revalda Putawara\\OneDrive - University of Bristol\\Lectures\\Final Project\\bnntestcode\\bitflip.py:15\u001b[39m, in \u001b[36mbitflip_float32\u001b[39m\u001b[34m(x, bit_i)\u001b[39m\n\u001b[32m     13\u001b[39m \u001b[38;5;28;01melse\u001b[39;00m:\n\u001b[32m     14\u001b[39m     string = \u001b[38;5;28mlist\u001b[39m(float32_to_binary(x))\n\u001b[32m---> \u001b[39m\u001b[32m15\u001b[39m     string[bit_i] = \u001b[33m\"\u001b[39m\u001b[33m0\u001b[39m\u001b[33m\"\u001b[39m \u001b[38;5;28;01mif\u001b[39;00m \u001b[43mstring\u001b[49m\u001b[43m[\u001b[49m\u001b[43mbit_i\u001b[49m\u001b[43m]\u001b[49m == \u001b[33m\"\u001b[39m\u001b[33m1\u001b[39m\u001b[33m\"\u001b[39m \u001b[38;5;28;01melse\u001b[39;00m \u001b[33m\"\u001b[39m\u001b[33m1\u001b[39m\u001b[33m\"\u001b[39m\n\u001b[32m     16\u001b[39m     x_ = binary_to_float32(\u001b[33m\"\u001b[39m\u001b[33m\"\u001b[39m.join(string))\n\u001b[32m     18\u001b[39m \u001b[38;5;28;01mreturn\u001b[39;00m x_\n",
      "\u001b[31mIndexError\u001b[39m: list index out of range"
     ]
    }
   ],
   "source": [
    "#store the result in dataframe\n",
    "import pandas as pd\n",
    "results = []\n",
    "\n",
    "for i in range(1, 32):\n",
    "    results.append(inj.run_seu_autodiagonal_normal(location_index=0, bit_i=i, parameter_name=\"scale\", num_samples=10))"
   ]
  },
  {
   "cell_type": "code",
   "execution_count": 21,
   "id": "e5a4ccbd",
   "metadata": {},
   "outputs": [
    {
     "data": {
      "text/plain": [
       "[np.float64(-0.6377777777777778),\n",
       " np.float64(0.0),\n",
       " np.float64(-0.0024074074074074137),\n",
       " np.float64(-0.0003703703703704653),\n",
       " np.float64(-0.0018518518518518823),\n",
       " np.float64(-0.0018518518518518823),\n",
       " np.float64(-0.0003703703703704653),\n",
       " np.float64(-0.0022222222222222365),\n",
       " np.float64(-0.001481481481481528),\n",
       " np.float64(-0.003148148148148233),\n",
       " np.float64(0.0),\n",
       " np.float64(-0.0003703703703704653),\n",
       " np.float64(-0.001481481481481528),\n",
       " np.float64(-0.0005555555555556424),\n",
       " np.float64(0.001481481481481417),\n",
       " np.float64(-0.0007407407407408195),\n",
       " np.float64(-0.001481481481481528),\n",
       " np.float64(-0.0011111111111111738),\n",
       " np.float64(-0.0009259259259259967),\n",
       " np.float64(-0.0009259259259259967),\n",
       " np.float64(0.00037037037037035425),\n",
       " np.float64(0.00037037037037035425),\n",
       " np.float64(0.0018518518518517713),\n",
       " np.float64(-0.0016666666666667052),\n",
       " np.float64(-0.00018518518518517713),\n",
       " np.float64(0.0009259259259258856),\n",
       " np.float64(0.00037037037037035425),\n",
       " np.float64(-0.0018518518518518823),\n",
       " np.float64(-0.001296296296296351),\n",
       " np.float64(0.00018518518518517713),\n",
       " np.float64(-0.00018518518518517713)]"
      ]
     },
     "execution_count": 21,
     "metadata": {},
     "output_type": "execute_result"
    }
   ],
   "source": [
    "results"
   ]
  },
  {
   "cell_type": "code",
   "execution_count": 23,
   "id": "3d859840",
   "metadata": {},
   "outputs": [
    {
     "data": {
      "image/png": "[encoded data removed]",
      "text/plain": [
       "<Figure size 1000x500 with 1 Axes>"
      ]
     },
     "metadata": {},
     "output_type": "display_data"
    }
   ],
   "source": [
    "# plot the result in matplotlib\n",
    "plt.figure(figsize=(10, 5))\n",
    "plt.plot(range(1, 32), results, marker='o')\n",
    "plt.title('SEU Impact on Scale Parameter')\n",
    "plt.xlabel('Bit Position')\n",
    "plt.ylabel('Change in Accuracy')\n",
    "plt.grid()\n",
    "plt.show()"
   ]
  },
  {
   "cell_type": "code",
   "execution_count": 24,
   "id": "777800c8",
   "metadata": {},
   "outputs": [
    {
     "name": "stdout",
     "output_type": "stream",
     "text": [
      "Original value: 3.148340940475464, SEU value: 6.749341441734302e-39\n"
     ]
    },
    {
     "name": "stderr",
     "output_type": "stream",
     "text": [
      "Evaluating: 100%|██████████| 100/100 [00:08<00:00, 11.60it/s]\n"
     ]
    },
    {
     "name": "stdout",
     "output_type": "stream",
     "text": [
      "Accuracy after SEU: 0.7503703703703704\n",
      "Original value: 3.148340940475464, SEU value: 5.807663958573292e+19\n"
     ]
    },
    {
     "name": "stderr",
     "output_type": "stream",
     "text": [
      "Evaluating: 100%|██████████| 100/100 [00:08<00:00, 11.84it/s]\n"
     ]
    },
    {
     "name": "stdout",
     "output_type": "stream",
     "text": [
      "Accuracy after SEU: 0.25037037037037035\n",
      "Original value: 3.148340940475464, SEU value: 13522021376.0\n"
     ]
    },
    {
     "name": "stderr",
     "output_type": "stream",
     "text": [
      "Evaluating: 100%|██████████| 100/100 [00:08<00:00, 11.88it/s]\n"
     ]
    },
    {
     "name": "stdout",
     "output_type": "stream",
     "text": [
      "Accuracy after SEU: 0.25092592592592594\n",
      "Original value: 3.148340940475464, SEU value: 206329.671875\n"
     ]
    },
    {
     "name": "stderr",
     "output_type": "stream",
     "text": [
      "Evaluating: 100%|██████████| 100/100 [00:08<00:00, 11.91it/s]\n"
     ]
    },
    {
     "name": "stdout",
     "output_type": "stream",
     "text": [
      "Accuracy after SEU: 0.25092592592592594\n",
      "Original value: 3.148340940475464, SEU value: 805.9752807617188\n"
     ]
    },
    {
     "name": "stderr",
     "output_type": "stream",
     "text": [
      "Evaluating: 100%|██████████| 100/100 [00:08<00:00, 11.82it/s]\n"
     ]
    },
    {
     "name": "stdout",
     "output_type": "stream",
     "text": [
      "Accuracy after SEU: 0.28296296296296297\n",
      "Original value: 3.148340940475464, SEU value: 50.37345504760742\n"
     ]
    },
    {
     "name": "stderr",
     "output_type": "stream",
     "text": [
      "Evaluating: 100%|██████████| 100/100 [00:08<00:00, 11.86it/s]\n"
     ]
    },
    {
     "name": "stdout",
     "output_type": "stream",
     "text": [
      "Accuracy after SEU: 0.5590740740740741\n",
      "Original value: 3.148340940475464, SEU value: 12.593363761901855\n"
     ]
    },
    {
     "name": "stderr",
     "output_type": "stream",
     "text": [
      "Evaluating: 100%|██████████| 100/100 [00:08<00:00, 11.74it/s]\n"
     ]
    },
    {
     "name": "stdout",
     "output_type": "stream",
     "text": [
      "Accuracy after SEU: 0.7214814814814815\n",
      "Original value: 3.148340940475464, SEU value: 6.296681880950928\n"
     ]
    },
    {
     "name": "stderr",
     "output_type": "stream",
     "text": [
      "Evaluating: 100%|██████████| 100/100 [00:08<00:00, 11.61it/s]\n"
     ]
    },
    {
     "name": "stdout",
     "output_type": "stream",
     "text": [
      "Accuracy after SEU: 0.7494444444444445\n",
      "Original value: 3.148340940475464, SEU value: 2.148340940475464\n"
     ]
    },
    {
     "name": "stderr",
     "output_type": "stream",
     "text": [
      "Evaluating: 100%|██████████| 100/100 [00:08<00:00, 11.29it/s]\n"
     ]
    },
    {
     "name": "stdout",
     "output_type": "stream",
     "text": [
      "Accuracy after SEU: 0.7540740740740741\n",
      "Original value: 3.148340940475464, SEU value: 3.648340940475464\n"
     ]
    },
    {
     "name": "stderr",
     "output_type": "stream",
     "text": [
      "Evaluating: 100%|██████████| 100/100 [00:08<00:00, 11.19it/s]\n"
     ]
    },
    {
     "name": "stdout",
     "output_type": "stream",
     "text": [
      "Accuracy after SEU: 0.7496296296296296\n",
      "Original value: 3.148340940475464, SEU value: 3.398340940475464\n"
     ]
    },
    {
     "name": "stderr",
     "output_type": "stream",
     "text": [
      "Evaluating: 100%|██████████| 100/100 [00:08<00:00, 11.33it/s]\n"
     ]
    },
    {
     "name": "stdout",
     "output_type": "stream",
     "text": [
      "Accuracy after SEU: 0.7472222222222222\n",
      "Original value: 3.148340940475464, SEU value: 3.023340940475464\n"
     ]
    },
    {
     "name": "stderr",
     "output_type": "stream",
     "text": [
      "Evaluating: 100%|██████████| 100/100 [00:08<00:00, 11.65it/s]\n"
     ]
    },
    {
     "name": "stdout",
     "output_type": "stream",
     "text": [
      "Accuracy after SEU: 0.7468518518518519\n",
      "Original value: 3.148340940475464, SEU value: 3.210840940475464\n"
     ]
    },
    {
     "name": "stderr",
     "output_type": "stream",
     "text": [
      "Evaluating: 100%|██████████| 100/100 [00:08<00:00, 11.39it/s]\n"
     ]
    },
    {
     "name": "stdout",
     "output_type": "stream",
     "text": [
      "Accuracy after SEU: 0.7472222222222222\n",
      "Original value: 3.148340940475464, SEU value: 3.179590940475464\n"
     ]
    },
    {
     "name": "stderr",
     "output_type": "stream",
     "text": [
      "Evaluating: 100%|██████████| 100/100 [00:08<00:00, 11.58it/s]\n"
     ]
    },
    {
     "name": "stdout",
     "output_type": "stream",
     "text": [
      "Accuracy after SEU: 0.7479629629629629\n",
      "Original value: 3.148340940475464, SEU value: 3.132715940475464\n"
     ]
    },
    {
     "name": "stderr",
     "output_type": "stream",
     "text": [
      "Evaluating: 100%|██████████| 100/100 [00:08<00:00, 11.38it/s]\n"
     ]
    },
    {
     "name": "stdout",
     "output_type": "stream",
     "text": [
      "Accuracy after SEU: 0.7492592592592593\n",
      "Original value: 3.148340940475464, SEU value: 3.156153440475464\n"
     ]
    },
    {
     "name": "stderr",
     "output_type": "stream",
     "text": [
      "Evaluating: 100%|██████████| 100/100 [00:08<00:00, 11.51it/s]\n"
     ]
    },
    {
     "name": "stdout",
     "output_type": "stream",
     "text": [
      "Accuracy after SEU: 0.7464814814814815\n",
      "Original value: 3.148340940475464, SEU value: 3.144434690475464\n"
     ]
    },
    {
     "name": "stderr",
     "output_type": "stream",
     "text": [
      "Evaluating: 100%|██████████| 100/100 [00:08<00:00, 11.61it/s]\n"
     ]
    },
    {
     "name": "stdout",
     "output_type": "stream",
     "text": [
      "Accuracy after SEU: 0.7496296296296296\n",
      "Original value: 3.148340940475464, SEU value: 3.146387815475464\n"
     ]
    },
    {
     "name": "stderr",
     "output_type": "stream",
     "text": [
      "Evaluating: 100%|██████████| 100/100 [00:08<00:00, 11.66it/s]\n"
     ]
    },
    {
     "name": "stdout",
     "output_type": "stream",
     "text": [
      "Accuracy after SEU: 0.75\n",
      "Original value: 3.148340940475464, SEU value: 3.147364377975464\n"
     ]
    },
    {
     "name": "stderr",
     "output_type": "stream",
     "text": [
      "Evaluating: 100%|██████████| 100/100 [00:08<00:00, 11.58it/s]\n"
     ]
    },
    {
     "name": "stdout",
     "output_type": "stream",
     "text": [
      "Accuracy after SEU: 0.7492592592592593\n",
      "Original value: 3.148340940475464, SEU value: 3.147852659225464\n"
     ]
    },
    {
     "name": "stderr",
     "output_type": "stream",
     "text": [
      "Evaluating: 100%|██████████| 100/100 [00:08<00:00, 11.55it/s]\n"
     ]
    },
    {
     "name": "stdout",
     "output_type": "stream",
     "text": [
      "Accuracy after SEU: 0.7472222222222222\n",
      "Original value: 3.148340940475464, SEU value: 3.148096799850464\n"
     ]
    },
    {
     "name": "stderr",
     "output_type": "stream",
     "text": [
      "Evaluating: 100%|██████████| 100/100 [00:11<00:00,  8.54it/s]\n"
     ]
    },
    {
     "name": "stdout",
     "output_type": "stream",
     "text": [
      "Accuracy after SEU: 0.7483333333333333\n",
      "Original value: 3.148340940475464, SEU value: 3.148218870162964\n"
     ]
    },
    {
     "name": "stderr",
     "output_type": "stream",
     "text": [
      "Evaluating: 100%|██████████| 100/100 [00:11<00:00,  8.69it/s]\n"
     ]
    },
    {
     "name": "stdout",
     "output_type": "stream",
     "text": [
      "Accuracy after SEU: 0.7492592592592593\n",
      "Original value: 3.148340940475464, SEU value: 3.148401975631714\n"
     ]
    },
    {
     "name": "stderr",
     "output_type": "stream",
     "text": [
      "Evaluating: 100%|██████████| 100/100 [00:06<00:00, 14.73it/s]\n"
     ]
    },
    {
     "name": "stdout",
     "output_type": "stream",
     "text": [
      "Accuracy after SEU: 0.7507407407407407\n",
      "Original value: 3.148340940475464, SEU value: 3.148371458053589\n"
     ]
    },
    {
     "name": "stderr",
     "output_type": "stream",
     "text": [
      "Evaluating: 100%|██████████| 100/100 [00:06<00:00, 15.00it/s]\n"
     ]
    },
    {
     "name": "stdout",
     "output_type": "stream",
     "text": [
      "Accuracy after SEU: 0.7462962962962963\n",
      "Original value: 3.148340940475464, SEU value: 3.1483256816864014\n"
     ]
    },
    {
     "name": "stderr",
     "output_type": "stream",
     "text": [
      "Evaluating: 100%|██████████| 100/100 [00:06<00:00, 14.94it/s]\n"
     ]
    },
    {
     "name": "stdout",
     "output_type": "stream",
     "text": [
      "Accuracy after SEU: 0.7501851851851852\n",
      "Original value: 3.148340940475464, SEU value: 3.1483333110809326\n"
     ]
    },
    {
     "name": "stderr",
     "output_type": "stream",
     "text": [
      "Evaluating: 100%|██████████| 100/100 [00:06<00:00, 14.73it/s]\n"
     ]
    },
    {
     "name": "stdout",
     "output_type": "stream",
     "text": [
      "Accuracy after SEU: 0.7475925925925926\n",
      "Original value: 3.148340940475464, SEU value: 3.1483447551727295\n"
     ]
    },
    {
     "name": "stderr",
     "output_type": "stream",
     "text": [
      "Evaluating: 100%|██████████| 100/100 [00:06<00:00, 15.11it/s]\n"
     ]
    },
    {
     "name": "stdout",
     "output_type": "stream",
     "text": [
      "Accuracy after SEU: 0.7483333333333333\n",
      "Original value: 3.148340940475464, SEU value: 3.148339033126831\n"
     ]
    },
    {
     "name": "stderr",
     "output_type": "stream",
     "text": [
      "Evaluating: 100%|██████████| 100/100 [00:06<00:00, 15.06it/s]\n"
     ]
    },
    {
     "name": "stdout",
     "output_type": "stream",
     "text": [
      "Accuracy after SEU: 0.7455555555555555\n",
      "Original value: 3.148340940475464, SEU value: 3.1483418941497803\n"
     ]
    },
    {
     "name": "stderr",
     "output_type": "stream",
     "text": [
      "Evaluating: 100%|██████████| 100/100 [00:06<00:00, 14.91it/s]\n"
     ]
    },
    {
     "name": "stdout",
     "output_type": "stream",
     "text": [
      "Accuracy after SEU: 0.7485185185185185\n",
      "Original value: 3.148340940475464, SEU value: 3.1483404636383057\n"
     ]
    },
    {
     "name": "stderr",
     "output_type": "stream",
     "text": [
      "Evaluating: 100%|██████████| 100/100 [00:06<00:00, 14.63it/s]\n"
     ]
    },
    {
     "name": "stdout",
     "output_type": "stream",
     "text": [
      "Accuracy after SEU: 0.7455555555555555\n",
      "Original value: 3.148340940475464, SEU value: 3.1483407020568848\n"
     ]
    },
    {
     "name": "stderr",
     "output_type": "stream",
     "text": [
      "Evaluating: 100%|██████████| 100/100 [00:06<00:00, 14.79it/s]"
     ]
    },
    {
     "name": "stdout",
     "output_type": "stream",
     "text": [
      "Accuracy after SEU: 0.7479629629629629\n"
     ]
    },
    {
     "name": "stderr",
     "output_type": "stream",
     "text": [
      "\n"
     ]
    }
   ],
   "source": [
    "results_loc = []\n",
    "\n",
    "for i in range(1, 32):\n",
    "    results_loc.append(inj.run_seu_autodiagonal_normal(location_index=0, bit_i=i, parameter_name=\"loc\", num_samples=10))"
   ]
  },
  {
   "cell_type": "code",
   "execution_count": 25,
   "id": "dce26354",
   "metadata": {},
   "outputs": [
    {
     "data": {
      "image/png": "[encoded data removed]",
      "text/plain": [
       "<Figure size 1000x500 with 1 Axes>"
      ]
     },
     "metadata": {},
     "output_type": "display_data"
    }
   ],
   "source": [
    "plt.figure(figsize=(10, 5))\n",
    "plt.plot(range(1, 32), results_loc, marker='o')\n",
    "plt.title('SEU Impact on Loc Parameter')\n",
    "plt.xlabel('Bit Position')\n",
    "plt.ylabel('Change in Accuracy')\n",
    "plt.grid()\n",
    "plt.show()"
   ]
  },
  {
   "cell_type": "code",
   "execution_count": 26,
   "id": "c931c99e",
   "metadata": {},
   "outputs": [
    {
     "name": "stdout",
     "output_type": "stream",
     "text": [
      "Original value: 3.148340940475464, SEU value: -3.148340940475464\n"
     ]
    },
    {
     "name": "stderr",
     "output_type": "stream",
     "text": [
      "Evaluating: 100%|██████████| 100/100 [00:06<00:00, 14.77it/s]"
     ]
    },
    {
     "name": "stdout",
     "output_type": "stream",
     "text": [
      "Accuracy after SEU: 0.7435185185185185\n"
     ]
    },
    {
     "name": "stderr",
     "output_type": "stream",
     "text": [
      "\n"
     ]
    },
    {
     "data": {
      "text/plain": [
       "np.float64(-0.005555555555555647)"
      ]
     },
     "execution_count": 26,
     "metadata": {},
     "output_type": "execute_result"
    }
   ],
   "source": [
    "(inj.run_seu_autodiagonal_normal(location_index=0, bit_i=0, parameter_name=\"loc\", num_samples=10))"
   ]
  },
  {
   "cell_type": "code",
   "execution_count": null,
   "id": "ac85bcc0",
   "metadata": {},
   "outputs": [],
   "source": []
  }
 ],
 "metadata": {
  "kernelspec": {
   "display_name": "bnntest",
   "language": "python",
   "name": "python3"
  },
  "language_info": {
   "codemirror_mode": {
    "name": "ipython",
    "version": 3
   },
   "file_extension": ".py",
   "mimetype": "text/x-python",
   "name": "python",
   "nbconvert_exporter": "python",
   "pygments_lexer": "ipython3",
   "version": "3.12.9"
  }
 },
 "nbformat": 4,
 "nbformat_minor": 5
}
