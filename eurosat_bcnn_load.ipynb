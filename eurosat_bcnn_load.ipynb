{
 "cells": [
  {
   "cell_type": "code",
   "execution_count": 1,
   "id": "3284bd49",
   "metadata": {},
   "outputs": [],
   "source": [
    "import torch\n",
    "import torch.nn as nn\n",
    "import torch.nn.functional as F\n",
    "import torchvision.datasets as datasets\n",
    "import torchvision.transforms as transforms\n",
    "from torch.utils.data import DataLoader, random_split\n",
    "import time\n",
    "import matplotlib.pyplot as plt\n",
    "import os\n",
    "from sklearn.model_selection import train_test_split\n",
    "from torch.utils.data import Subset\n",
    "import torch\n",
    "\n",
    "import pickle"
   ]
  },
  {
   "cell_type": "code",
   "execution_count": 2,
   "id": "ccc35d52",
   "metadata": {},
   "outputs": [
    {
     "name": "stderr",
     "output_type": "stream",
     "text": [
      "c:\\Users\\Revalda Putawara\\.conda\\envs\\bnntest\\Lib\\site-packages\\tqdm\\auto.py:21: TqdmWarning: IProgress not found. Please update jupyter and ipywidgets. See https://ipywidgets.readthedocs.io/en/stable/user_install.html\n",
      "  from .autonotebook import tqdm as notebook_tqdm\n"
     ]
    }
   ],
   "source": [
    "import pyro\n",
    "import pyro.distributions as dist\n",
    "from pyro.nn import PyroModule, PyroSample"
   ]
  },
  {
   "cell_type": "code",
   "execution_count": 3,
   "id": "6c8d767e",
   "metadata": {},
   "outputs": [],
   "source": [
    "from pyro.infer.autoguide import AutoDiagonalNormal"
   ]
  },
  {
   "cell_type": "code",
   "execution_count": 4,
   "id": "77a7ed74",
   "metadata": {},
   "outputs": [],
   "source": [
    "from tqdm import tqdm"
   ]
  },
  {
   "cell_type": "code",
   "execution_count": 5,
   "id": "a7fc6d34",
   "metadata": {},
   "outputs": [],
   "source": [
    "import numpy as np\n",
    "from sklearn.metrics import confusion_matrix"
   ]
  },
  {
   "cell_type": "code",
   "execution_count": null,
   "id": "b592e12e",
   "metadata": {},
   "outputs": [],
   "source": [
    "import copy"
   ]
  },
  {
   "cell_type": "markdown",
   "id": "94c330b6",
   "metadata": {},
   "source": [
    "## Defining Model and Loading Model Training Result"
   ]
  },
  {
   "cell_type": "code",
   "execution_count": 6,
   "id": "a980a2ae",
   "metadata": {},
   "outputs": [],
   "source": [
    "device = torch.device(\"cuda\")"
   ]
  },
  {
   "cell_type": "code",
   "execution_count": 7,
   "id": "02527b0d",
   "metadata": {},
   "outputs": [],
   "source": [
    "class BayesianCNNSingleFC(PyroModule):\n",
    "    def __init__(self, num_classes):\n",
    "        super().__init__()\n",
    "\n",
    "        prior_mu = 0.\n",
    "        #prior_sigma = 0.1 #accuracy 13.203704% 2 epochs\n",
    "        #prior_sigma = 1. #accuracy 31% 2 epochs\n",
    "        prior_sigma = torch.tensor(10., device=device) #accuracy 45% 10 epochs\n",
    "        #prior_sigma = 100 #accuracy 21% 10 epochs\n",
    "\n",
    "        self.conv1 = PyroModule[nn.Conv2d](3, 32, kernel_size=5, stride=1, padding=2)\n",
    "        self.conv1.weight = PyroSample(dist.Normal(prior_mu, prior_sigma).expand([32, 3, 5, 5]).to_event(4))\n",
    "        self.conv1.bias = PyroSample(dist.Normal(prior_mu, prior_sigma).expand([32]).to_event(1))\n",
    "\n",
    "        self.conv2 = PyroModule[nn.Conv2d](32, 64, kernel_size=5, stride=1, padding=2) #initially padding=1 kernel_size=3, without stride\n",
    "        self.conv2.weight = PyroSample(dist.Normal(prior_mu, prior_sigma).expand([64, 32, 5, 5]).to_event(4))\n",
    "        self.conv2.bias = PyroSample(dist.Normal(prior_mu, prior_sigma).expand([64]).to_event(1))\n",
    "\n",
    "        self.pool = nn.MaxPool2d(kernel_size=2, stride=2)\n",
    "\n",
    "        self.fc1 = PyroModule[nn.Linear](64 * 16 * 16, num_classes)\n",
    "        self.fc1.weight = PyroSample(dist.Normal(prior_mu, prior_sigma).expand([num_classes, 64 * 16 * 16]).to_event(2))\n",
    "        self.fc1.bias = PyroSample(dist.Normal(prior_mu, prior_sigma).expand([num_classes]).to_event(1))\n",
    "\n",
    "    def forward(self, x, y=None):\n",
    "        x = self.pool(F.relu(self.conv1(x)))\n",
    "        x = self.pool(F.relu(self.conv2(x)))\n",
    "        x = x.view(x.size(0), -1)\n",
    "        logits = self.fc1(x)\n",
    "        \n",
    "        # THIS IS THE MISSING PIECE: Define the likelihood\n",
    "        if y is not None:\n",
    "            with pyro.plate(\"data\", x.shape[0]):\n",
    "                pyro.sample(\"obs\", dist.Categorical(logits=logits), obs=y)\n",
    "        \n",
    "        return logits"
   ]
  },
  {
   "cell_type": "code",
   "execution_count": 8,
   "id": "5ee23299",
   "metadata": {},
   "outputs": [],
   "source": [
    "def load_data(batch_size=54):\n",
    "    transform = transforms.Compose([\n",
    "        transforms.Resize((64, 64)),\n",
    "        transforms.ToTensor(),\n",
    "        transforms.Normalize(mean=[0.3444, 0.3809, 0.4082], std=[0.1809, 0.1331, 0.1137])\n",
    "    ])\n",
    "\n",
    "    dataset = datasets.EuroSAT(root='./data', transform=transform, download=False)\n",
    "\n",
    "    torch.manual_seed(42)\n",
    "    \n",
    "    with open('datasplit/split_indices.pkl', 'rb') as f:\n",
    "        split = pickle.load(f)\n",
    "        train_dataset = Subset(dataset, split['train'])\n",
    "        test_dataset = Subset(dataset, split['test'])\n",
    "\n",
    "    # Add num_workers and pin_memory for faster data loading\n",
    "    train_loader = DataLoader(train_dataset, batch_size=batch_size, shuffle=True, \n",
    "                             num_workers=4, pin_memory=True, persistent_workers=True)\n",
    "    test_loader = DataLoader(test_dataset, batch_size=batch_size,\n",
    "                            num_workers=4, pin_memory=True, persistent_workers=True)\n",
    "    return train_loader, test_loader"
   ]
  },
  {
   "cell_type": "code",
   "execution_count": 9,
   "id": "4804393d",
   "metadata": {},
   "outputs": [],
   "source": [
    "num_classes = 10\n",
    "bayesian_model = BayesianCNNSingleFC(num_classes=num_classes).to(device)"
   ]
  },
  {
   "cell_type": "code",
   "execution_count": 10,
   "id": "26a0cb69",
   "metadata": {},
   "outputs": [],
   "source": [
    "model_path = 'results_eurosat/bayesian_cnn_model_std10_100_epoch.pth'\n",
    "guide_path = 'results_eurosat/bayesian_cnn_guide_std10_100_epoch_guide.pth'\n",
    "pyro_param_store_path = 'results_eurosat/pyro_param_store_std10_100_epoch.pkl'\n",
    "\n",
    "guide = AutoDiagonalNormal(bayesian_model).to(device)\n",
    "#guide.load_state_dict(torch.load(guide_path))\n",
    "\n",
    "pyro.get_param_store().set_state(torch.load(pyro_param_store_path,weights_only=False))"
   ]
  },
  {
   "cell_type": "code",
   "execution_count": 11,
   "id": "75ae6e3a",
   "metadata": {},
   "outputs": [],
   "source": [
    "def predict_data_probs(model, test_loader, num_samples=10):\n",
    "    model.eval()\n",
    "\n",
    "    all_labels = []\n",
    "    all_predictions = []\n",
    "    all_logits = []\n",
    "    all_probs = []\n",
    "\n",
    "    with torch.no_grad():\n",
    "        for images, labels in tqdm(test_loader, desc=\"Evaluating\"):\n",
    "            images, labels = images.to(device), labels.to(device)\n",
    "\n",
    "            logits_mc = torch.zeros(num_samples, images.size(0), model.fc1.out_features).to(device)\n",
    "\n",
    "            for i in range(num_samples):\n",
    "                guide_trace = pyro.poutine.trace(guide).get_trace(images)\n",
    "                replayed_model = pyro.poutine.replay(model, trace=guide_trace)\n",
    "                logits = replayed_model(images)\n",
    "                logits_mc[i] = logits\n",
    "\n",
    "            avg_logits = logits_mc.mean(dim=0)\n",
    "            predictions = torch.argmax(avg_logits, dim=1)\n",
    "\n",
    "            all_labels.extend(labels.cpu().numpy())\n",
    "            all_predictions.extend(predictions.cpu().numpy())\n",
    "            all_logits.extend(avg_logits.cpu().numpy())\n",
    "            all_probs.extend(F.softmax(avg_logits, dim=1).cpu().numpy())\n",
    "\n",
    "    return all_labels, all_predictions, all_logits, all_probs"
   ]
  },
  {
   "cell_type": "code",
   "execution_count": 12,
   "id": "1631104a",
   "metadata": {},
   "outputs": [],
   "source": [
    "train_loader, test_loader = load_data(batch_size=54)"
   ]
  },
  {
   "cell_type": "code",
   "execution_count": 13,
   "id": "b5cca6ad",
   "metadata": {},
   "outputs": [
    {
     "name": "stdout",
     "output_type": "stream",
     "text": [
      "AutoDiagonalNormal.loc: torch.Size([217546])\n",
      "Parameter containing:\n",
      "tensor([ 3.1483, -2.4763, -1.0711,  ..., -2.4452,  4.6454,  1.5156],\n",
      "       device='cuda:0', requires_grad=True)\n",
      "AutoDiagonalNormal.scale: torch.Size([217546])\n",
      "tensor([0.0454, 0.0385, 0.0440,  ..., 7.7091, 6.1614, 6.6950], device='cuda:0',\n",
      "       grad_fn=<SoftplusBackward0>)\n"
     ]
    }
   ],
   "source": [
    "for name, value in pyro.get_param_store().items():\n",
    "    print(f\"{name}: {value.shape}\")\n",
    "    print(value)"
   ]
  },
  {
   "cell_type": "code",
   "execution_count": 14,
   "id": "834d68d4",
   "metadata": {},
   "outputs": [
    {
     "name": "stderr",
     "output_type": "stream",
     "text": [
      "Evaluating: 100%|██████████| 100/100 [00:43<00:00,  2.30it/s]\n"
     ]
    }
   ],
   "source": [
    "all_labels, all_predictions, all_logits, all_probs = predict_data_probs(bayesian_model, test_loader, num_samples=10)"
   ]
  },
  {
   "cell_type": "code",
   "execution_count": 15,
   "id": "a002d00a",
   "metadata": {},
   "outputs": [],
   "source": [
    "cm = confusion_matrix(all_labels, all_predictions)"
   ]
  },
  {
   "cell_type": "code",
   "execution_count": 16,
   "id": "6522a2a1",
   "metadata": {},
   "outputs": [
    {
     "name": "stdout",
     "output_type": "stream",
     "text": [
      "Accuracy from confusion matrix: 74.907407%\n"
     ]
    }
   ],
   "source": [
    "#print accuracy from confusion matrix\n",
    "accuracy = np.trace(cm) / np.sum(cm)\n",
    "print(f\"Accuracy from confusion matrix: {accuracy * 100:.6f}%\")"
   ]
  },
  {
   "cell_type": "markdown",
   "id": "0a3f2d9b",
   "metadata": {},
   "source": [
    "## Before Bitflip"
   ]
  },
  {
   "cell_type": "code",
   "execution_count": 189,
   "id": "27f063ca",
   "metadata": {},
   "outputs": [
    {
     "name": "stdout",
     "output_type": "stream",
     "text": [
      "AutoDiagonalNormal.loc: torch.Size([217546])\n",
      "AutoDiagonalNormal.scale: torch.Size([217546])\n"
     ]
    },
    {
     "name": "stderr",
     "output_type": "stream",
     "text": [
      "C:\\Users\\Revalda Putawara\\AppData\\Local\\Temp\\ipykernel_32540\\1415134443.py:13: UserWarning: To copy construct from a tensor, it is recommended to use sourceTensor.detach().clone() or sourceTensor.detach().clone().requires_grad_(True), rather than torch.tensor(sourceTensor).\n",
      "  original_param_store[name] = torch.tensor(value.data, requires_grad=value.requires_grad)\n"
     ]
    }
   ],
   "source": [
    "# clean pyro param store\n",
    "model_path = 'results_eurosat/bayesian_cnn_model_std10_100_epoch.pth'\n",
    "guide_path = 'results_eurosat/bayesian_cnn_guide_std10_100_epoch_guide.pth'\n",
    "pyro_param_store_path = 'results_eurosat/pyro_param_store_std10_100_epoch.pkl'\n",
    "\n",
    "guide = AutoDiagonalNormal(bayesian_model).to(device)\n",
    "pyro.get_param_store().set_state(torch.load(pyro_param_store_path,weights_only=False))\n",
    "\n",
    "original_param_store = {}\n",
    "\n",
    "for name, value in pyro.get_param_store().items():\n",
    "    print(f\"{name}: {value.shape}\")\n",
    "    original_param_store[name] = torch.tensor(value.data, requires_grad=value.requires_grad)"
   ]
  },
  {
   "cell_type": "code",
   "execution_count": 190,
   "id": "35727787",
   "metadata": {},
   "outputs": [
    {
     "data": {
      "text/plain": [
       "tensor([ 3.1483, -2.4763, -1.0711,  ..., -2.4452,  4.6454,  1.5156],\n",
       "       device='cuda:0', requires_grad=True)"
      ]
     },
     "execution_count": 190,
     "metadata": {},
     "output_type": "execute_result"
    }
   ],
   "source": [
    "original_param_store[\"AutoDiagonalNormal.loc\"]"
   ]
  },
  {
   "cell_type": "markdown",
   "id": "59874e23",
   "metadata": {},
   "source": [
    "## Bitflip"
   ]
  },
  {
   "cell_type": "code",
   "execution_count": 191,
   "id": "ee504020",
   "metadata": {},
   "outputs": [],
   "source": [
    "from bitflip import bitflip_float32"
   ]
  },
  {
   "cell_type": "code",
   "execution_count": 192,
   "id": "6c0e6d3a",
   "metadata": {},
   "outputs": [
    {
     "data": {
      "text/plain": [
       "Parameter containing:\n",
       "tensor([ 3.1483, -2.4763, -1.0711,  ..., -2.4452,  4.6454,  1.5156],\n",
       "       device='cuda:0', requires_grad=True)"
      ]
     },
     "execution_count": 192,
     "metadata": {},
     "output_type": "execute_result"
    }
   ],
   "source": [
    "pyro.get_param_store()[\"AutoDiagonalNormal.loc\"]"
   ]
  },
  {
   "cell_type": "code",
   "execution_count": 193,
   "id": "a295c611",
   "metadata": {},
   "outputs": [],
   "source": [
    "param_store = pyro.get_param_store()"
   ]
  },
  {
   "cell_type": "code",
   "execution_count": 194,
   "id": "edfca4c5",
   "metadata": {},
   "outputs": [],
   "source": [
    "def change_first_item(param_store, new_value):\n",
    "    pyro.get_param_store()[param_store][0] = new_value\n",
    "\n",
    "    return pyro.get_param_store()[param_store]\n",
    "\n",
    "# Change the first item with no gradient tracking\n",
    "#with torch.no_grad():\n",
    "#    param_store[\"AutoDiagonalNormal.loc\"].data.copy_(change_first_item(\"AutoDiagonalNormal.loc\", 100.0))"
   ]
  },
  {
   "cell_type": "code",
   "execution_count": 213,
   "id": "59f89035",
   "metadata": {},
   "outputs": [
    {
     "data": {
      "text/plain": [
       "217546"
      ]
     },
     "execution_count": 213,
     "metadata": {},
     "output_type": "execute_result"
    }
   ],
   "source": [
    "len(pyro.get_param_store()[f\"AutoDiagonalNormal.{\"scale\"}\"])"
   ]
  },
  {
   "cell_type": "code",
   "execution_count": null,
   "id": "96f74c1c",
   "metadata": {},
   "outputs": [],
   "source": [
    "def change_item(param_store, location_index, new_value):\n",
    "    pyro.get_param_store()[param_store][location_index] = new_value\n",
    "\n",
    "    return pyro.get_param_store()[param_store]\n",
    "\n",
    "def run_seu_autodiagonal_normal(location_index: int, bit_i: int, parameter_name: str=\"loc\"):\n",
    "    \"\"\"Perform a bitflip at index i across every variable in the AutoDiagonalNormal guide\"\"\"\n",
    "\n",
    "    assert bit_i in range(0, 33)\n",
    "    assert parameter_name in [\"loc\", \"scale\"]\n",
    "    assert location_index in range(0, len(pyro.get_param_store()[f\"AutoDiagonalNormal.{parameter_name}\"]))\n",
    "\n",
    "    if parameter_name == \"loc\":\n",
    "        param_store_name = \"AutoDiagonalNormal.loc\"\n",
    "    elif parameter_name == \"scale\":\n",
    "        param_store_name = \"AutoDiagonalNormal.scale\"\n",
    "\n",
    "    bayesian_model.to(device)\n",
    "    bayesian_model.eval()\n",
    "\n",
    "    with torch.no_grad():\n",
    "        param_dict = {}\n",
    "\n",
    "        for name, value in pyro.get_param_store().items():\n",
    "            #print(f\"{name}: {value.shape}\")\n",
    "            #print(value)\n",
    "            param_dict[name] = value.cpu().detach().numpy()\n",
    "\n",
    "        tensor_cpu = param_dict[param_store_name]\n",
    "\n",
    "        original_val = tensor_cpu[0]\n",
    "        seu_val = bitflip_float32(original_val, bit_i)\n",
    "\n",
    "        #pyro.get_param_store()[param_store][0] = seu_val\n",
    "\n",
    "        print(f\"Original value: {original_val}, SEU value: {seu_val}\")\n",
    "        #pyro.get_param_store()[\"AutoDiagonalNormal.loc\"]\n",
    "\n",
    "        if param_store_name == \"AutoDiagonalNormal.loc\":\n",
    "            param_store[param_store_name].data.copy_(change_item(param_store_name, location_index, seu_val))\n",
    "        elif param_store_name == \"AutoDiagonalNormal.scale\":\n",
    "            param_store[param_store_name].data.copy_(change_item(param_store_name, location_index, seu_val))\n",
    "\n",
    "        #pyro.get_param_store()[param_store_name]"
   ]
  },
  {
   "cell_type": "code",
   "execution_count": 230,
   "id": "06cea4c0",
   "metadata": {},
   "outputs": [],
   "source": [
    "# modify param_store[\"AutoDiagonalNormal.scale\"] with seu_val\n",
    "# .data.copy_() works on .loc but does nothing on .scale\n",
    "\n",
    "with torch.no_grad():\n",
    "    param_store[\"AutoDiagonalNormal.scale\"] = change_item(\"AutoDiagonalNormal.scale\", 0, 100)\n",
    "\n",
    "#with torch.no_grad():\n",
    "#    change_item(\"AutoDiagonalNormal.scale\", 0, 100)\n"
   ]
  },
  {
   "cell_type": "code",
   "execution_count": 220,
   "id": "d28505dd",
   "metadata": {},
   "outputs": [],
   "source": [
    "with torch.no_grad():\n",
    "    change_item(\"AutoDiagonalNormal.scale\", 0, 100)"
   ]
  },
  {
   "cell_type": "code",
   "execution_count": 231,
   "id": "22ad4130",
   "metadata": {},
   "outputs": [
    {
     "data": {
      "text/plain": [
       "tensor([0.0454, 0.0385, 0.0440,  ..., 7.7091, 6.1614, 6.6950], device='cuda:0',\n",
       "       grad_fn=<SoftplusBackward0>)"
      ]
     },
     "execution_count": 231,
     "metadata": {},
     "output_type": "execute_result"
    }
   ],
   "source": [
    "pyro.get_param_store()[\"AutoDiagonalNormal.scale\"]"
   ]
  },
  {
   "cell_type": "code",
   "execution_count": 212,
   "id": "f31bcbbc",
   "metadata": {},
   "outputs": [
    {
     "name": "stdout",
     "output_type": "stream",
     "text": [
      "Original value: 0.04540996998548508, SEU value: 2.4616794055382235e-21\n"
     ]
    }
   ],
   "source": [
    "run_seu_autodiagonal_normal(location_index= 0, bit_i=2, parameter_name=\"scale\")"
   ]
  },
  {
   "cell_type": "code",
   "execution_count": 206,
   "id": "a55384d3",
   "metadata": {},
   "outputs": [
    {
     "data": {
      "text/plain": [
       "tensor([0.0454, 0.0385, 0.0440,  ..., 7.7091, 6.1614, 6.6950], device='cuda:0',\n",
       "       grad_fn=<SoftplusBackward0>)"
      ]
     },
     "execution_count": 206,
     "metadata": {},
     "output_type": "execute_result"
    }
   ],
   "source": [
    "pyro.get_param_store()[\"AutoDiagonalNormal.scale\"]"
   ]
  },
  {
   "cell_type": "markdown",
   "id": "67ad33f3",
   "metadata": {},
   "source": [
    "## After Bitflip"
   ]
  },
  {
   "cell_type": "code",
   "execution_count": 198,
   "id": "bb9f4b49",
   "metadata": {},
   "outputs": [
    {
     "name": "stdout",
     "output_type": "stream",
     "text": [
      "Weights changed: False\n"
     ]
    }
   ],
   "source": [
    "changed = not torch.equal(pyro.get_param_store()[\"AutoDiagonalNormal.loc\"], #AFTER \n",
    "                          original_param_store[\"AutoDiagonalNormal.loc\"], #BEFORE\n",
    "                          )\n",
    "print(\"Weights changed:\", changed)"
   ]
  },
  {
   "cell_type": "code",
   "execution_count": 199,
   "id": "a79f79bd",
   "metadata": {},
   "outputs": [
    {
     "name": "stderr",
     "output_type": "stream",
     "text": [
      "Evaluating: 100%|██████████| 100/100 [00:09<00:00, 10.78it/s]\n"
     ]
    }
   ],
   "source": [
    "after_all_labels, after_all_predictions, after_all_logits, after_all_probs = predict_data_probs(bayesian_model, test_loader, num_samples=10)"
   ]
  },
  {
   "cell_type": "code",
   "execution_count": 200,
   "id": "1c0f0448",
   "metadata": {},
   "outputs": [],
   "source": [
    "after_cm = confusion_matrix(after_all_labels, after_all_predictions)"
   ]
  },
  {
   "cell_type": "code",
   "execution_count": 201,
   "id": "d06cfa09",
   "metadata": {},
   "outputs": [
    {
     "name": "stdout",
     "output_type": "stream",
     "text": [
      "Accuracy from confusion matrix: 74.851852%\n"
     ]
    }
   ],
   "source": [
    "after_accuracy = np.trace(after_cm) / np.sum(after_cm)\n",
    "print(f\"Accuracy from confusion matrix: {after_accuracy * 100:.6f}%\")"
   ]
  },
  {
   "cell_type": "code",
   "execution_count": 202,
   "id": "0c7129f7",
   "metadata": {},
   "outputs": [
    {
     "name": "stdout",
     "output_type": "stream",
     "text": [
      "Accuracy difference: -0.055556%\n"
     ]
    }
   ],
   "source": [
    "#print the difference in accuracy\n",
    "print(f\"Accuracy difference: {(after_accuracy - accuracy)*100:.6f}%\")"
   ]
  },
  {
   "cell_type": "markdown",
   "id": "d0840e33",
   "metadata": {},
   "source": []
  },
  {
   "cell_type": "markdown",
   "id": "44b13e40",
   "metadata": {},
   "source": [
    "## END OF Model Loading"
   ]
  },
  {
   "cell_type": "code",
   "execution_count": 26,
   "id": "47f06103",
   "metadata": {},
   "outputs": [
    {
     "ename": "NameError",
     "evalue": "name 'mendingdiemdeh' is not defined",
     "output_type": "error",
     "traceback": [
      "\u001b[31m---------------------------------------------------------------------------\u001b[39m",
      "\u001b[31mNameError\u001b[39m                                 Traceback (most recent call last)",
      "\u001b[36mCell\u001b[39m\u001b[36m \u001b[39m\u001b[32mIn[26]\u001b[39m\u001b[32m, line 1\u001b[39m\n\u001b[32m----> \u001b[39m\u001b[32m1\u001b[39m \u001b[43mmendingdiemdeh\u001b[49m\n",
      "\u001b[31mNameError\u001b[39m: name 'mendingdiemdeh' is not defined"
     ]
    }
   ],
   "source": [
    "mendingdiemdeh"
   ]
  },
  {
   "cell_type": "markdown",
   "id": "27109e6d",
   "metadata": {},
   "source": [
    "## Real Bitflip Experiment"
   ]
  },
  {
   "cell_type": "code",
   "execution_count": 31,
   "id": "d2163c84",
   "metadata": {},
   "outputs": [
    {
     "data": {
      "text/plain": [
       "Parameter containing:\n",
       "tensor([100.0000,  -2.4763,  -1.0711,  ...,  -2.4452,   4.6454,   1.5156],\n",
       "       device='cuda:0', requires_grad=True)"
      ]
     },
     "execution_count": 31,
     "metadata": {},
     "output_type": "execute_result"
    }
   ],
   "source": [
    "pyro.get_param_store()[\"AutoDiagonalNormal.loc\"]"
   ]
  },
  {
   "cell_type": "code",
   "execution_count": null,
   "id": "7c12088b",
   "metadata": {},
   "outputs": [],
   "source": []
  },
  {
   "cell_type": "code",
   "execution_count": null,
   "id": "822bc70d",
   "metadata": {},
   "outputs": [],
   "source": []
  },
  {
   "cell_type": "code",
   "execution_count": 77,
   "id": "8b33635d",
   "metadata": {},
   "outputs": [
    {
     "name": "stdout",
     "output_type": "stream",
     "text": [
      "AutoDiagonalNormal.loc: torch.Size([217546])\n",
      "AutoDiagonalNormal.scale: torch.Size([217546])\n"
     ]
    },
    {
     "name": "stderr",
     "output_type": "stream",
     "text": [
      "C:\\Users\\Revalda Putawara\\AppData\\Local\\Temp\\ipykernel_32540\\2792385785.py:13: UserWarning: To copy construct from a tensor, it is recommended to use sourceTensor.detach().clone() or sourceTensor.detach().clone().requires_grad_(True), rather than torch.tensor(sourceTensor).\n",
      "  original_param_store[name] = torch.tensor(value.data, requires_grad=value.requires_grad)\n"
     ]
    }
   ],
   "source": [
    "# clean pyro param store\n",
    "model_path = 'results_eurosat/bayesian_cnn_model_std10_100_epoch.pth'\n",
    "guide_path = 'results_eurosat/bayesian_cnn_guide_std10_100_epoch_guide.pth'\n",
    "pyro_param_store_path = 'results_eurosat/pyro_param_store_std10_100_epoch.pkl'\n",
    "\n",
    "guide = AutoDiagonalNormal(bayesian_model).to(device)\n",
    "pyro.get_param_store().set_state(torch.load(pyro_param_store_path,weights_only=False))\n",
    "\n",
    "original_param_store = {}\n",
    "\n",
    "for name, value in pyro.get_param_store().items():\n",
    "    print(f\"{name}: {value.shape}\")\n",
    "    original_param_store[name] = torch.tensor(value.data, requires_grad=value.requires_grad)\n"
   ]
  },
  {
   "cell_type": "code",
   "execution_count": null,
   "id": "181b343f",
   "metadata": {},
   "outputs": [],
   "source": []
  },
  {
   "cell_type": "code",
   "execution_count": 79,
   "id": "65ab1697",
   "metadata": {},
   "outputs": [
    {
     "data": {
      "text/plain": [
       "Parameter containing:\n",
       "tensor([ 3.1483, -2.4763, -1.0711,  ..., -2.4452,  4.6454,  1.5156],\n",
       "       device='cuda:0', requires_grad=True)"
      ]
     },
     "execution_count": 79,
     "metadata": {},
     "output_type": "execute_result"
    }
   ],
   "source": [
    "pyro.get_param_store()[\"AutoDiagonalNormal.loc\"]"
   ]
  },
  {
   "cell_type": "code",
   "execution_count": 80,
   "id": "829b441c",
   "metadata": {},
   "outputs": [
    {
     "name": "stdout",
     "output_type": "stream",
     "text": [
      "Original value: 3.148340940475464, SEU value: 6.749341441734302e-39\n"
     ]
    }
   ],
   "source": [
    "run_seu_autodiagonal_normal(location_index= 0, bit_i=1)"
   ]
  },
  {
   "cell_type": "code",
   "execution_count": 81,
   "id": "836c293f",
   "metadata": {},
   "outputs": [
    {
     "data": {
      "text/plain": [
       "Parameter containing:\n",
       "tensor([ 6.7493e-39, -2.4763e+00, -1.0711e+00,  ..., -2.4452e+00,\n",
       "         4.6454e+00,  1.5156e+00], device='cuda:0', requires_grad=True)"
      ]
     },
     "execution_count": 81,
     "metadata": {},
     "output_type": "execute_result"
    }
   ],
   "source": [
    "pyro.get_param_store()[\"AutoDiagonalNormal.loc\"]"
   ]
  },
  {
   "cell_type": "markdown",
   "id": "df9986a8",
   "metadata": {},
   "source": []
  },
  {
   "cell_type": "code",
   "execution_count": null,
   "id": "42583770",
   "metadata": {},
   "outputs": [],
   "source": [
    "param_shapes = {\n",
    "    \"conv1.weight\": (32, 3, 5, 5),\n",
    "    \"conv1.bias\": (32,),\n",
    "    \"conv2.weight\": (64, 32, 5, 5),\n",
    "    \"conv2.bias\": (64,),\n",
    "    \"fc1.weight\": (num_classes, 64 * 16 * 16),\n",
    "    \"fc1.bias\": (num_classes,)\n",
    "}\n",
    "\n",
    "def _unpack(vector):\n",
    "    \"\"\"Unpacks flat vector into a dict of shaped tensors\"\"\"\n",
    "    params = {}\n",
    "    offset = 0\n",
    "    for name, shape in param_shapes.items():\n",
    "        size = torch.tensor(shape).prod().item()\n",
    "        flat_param = vector[offset:offset + size]\n",
    "        params[name] = flat_param.view(shape)\n",
    "        offset += size\n",
    "    return params"
   ]
  },
  {
   "cell_type": "code",
   "execution_count": null,
   "id": "a14f2bce",
   "metadata": {},
   "outputs": [],
   "source": [
    "\n",
    "# access the value of generator pyro.get_param_store().items()\n",
    "#pyro_params = pyro.get_param_store().items()\n"
   ]
  },
  {
   "cell_type": "code",
   "execution_count": null,
   "id": "2eb92dee",
   "metadata": {},
   "outputs": [],
   "source": [
    "weight_dict = {}\n",
    "\n",
    "for name, value in pyro.get_param_store().items():\n",
    "    #print(f\"{name}: {value.shape}\")\n",
    "    #print(value)\n",
    "    weight_dict[name] = value.cpu().detach().numpy()"
   ]
  },
  {
   "cell_type": "code",
   "execution_count": null,
   "id": "1f6a3c17",
   "metadata": {},
   "outputs": [],
   "source": [
    "weight_dict"
   ]
  },
  {
   "cell_type": "code",
   "execution_count": null,
   "id": "d5a44608",
   "metadata": {},
   "outputs": [],
   "source": [
    "param_shapes = {\n",
    "    \"conv1.weight\": (32, 3, 5, 5),\n",
    "    \"conv1.bias\": (32,),\n",
    "    \"conv2.weight\": (64, 32, 5, 5),\n",
    "    \"conv2.bias\": (64,),\n",
    "    \"fc1.weight\": (num_classes, 64 * 16 * 16),\n",
    "    \"fc1.bias\": (num_classes,)\n",
    "}"
   ]
  },
  {
   "cell_type": "code",
   "execution_count": null,
   "id": "0cf70882",
   "metadata": {},
   "outputs": [],
   "source": [
    "unpacked_params_loc = {}\n",
    "offset_loc = 0\n",
    "\n",
    "for name, shape in param_shapes.items():\n",
    "    size = torch.tensor(shape).prod().item()\n",
    "    flat_param = weight_dict[\"AutoDiagonalNormal.loc\"][offset_loc:offset_loc + size]\n",
    "    unpacked_params_loc[name] = torch.tensor(flat_param).view(shape)\n",
    "    offset_loc += size"
   ]
  },
  {
   "cell_type": "code",
   "execution_count": null,
   "id": "27416e5b",
   "metadata": {},
   "outputs": [],
   "source": [
    "unpacked_params_scale = {}\n",
    "offset_scale = 0\n",
    "\n",
    "for name, shape in param_shapes.items():\n",
    "    size = torch.tensor(shape).prod().item()\n",
    "    flat_param = weight_dict[\"AutoDiagonalNormal.scale\"][offset_scale:offset_scale + size]\n",
    "    unpacked_params_scale[name] = torch.tensor(flat_param).view(shape)\n",
    "    offset_scale += size"
   ]
  },
  {
   "cell_type": "code",
   "execution_count": null,
   "id": "8cab4b63",
   "metadata": {},
   "outputs": [],
   "source": [
    "torch.cat([param.view(-1) for param in unpacked_params_loc.values()]).shape\n",
    "torch.cat([param.view(-1) for param in unpacked_params_scale.values()]).shape"
   ]
  },
  {
   "cell_type": "code",
   "execution_count": null,
   "id": "17a3893d",
   "metadata": {},
   "outputs": [],
   "source": [
    "# modify the first item of unpacked_params_weights[\"conv1.weight\"][0, 0, 0, 0]\n",
    "unpacked_params_loc[\"conv1.weight\"][0, 0, 0, 0] = 100.0\n",
    "print(unpacked_params_loc[\"conv1.weight\"][0, 0, 0, 0])"
   ]
  },
  {
   "cell_type": "code",
   "execution_count": null,
   "id": "a53ac99f",
   "metadata": {},
   "outputs": [],
   "source": [
    "# return unpacked_params back to the param store, into a flattened form\n",
    "# put unpacked_params_weights to pyro param store autodiagonalnormal.loc\n",
    "# put unpacked_params_bias to pyro param store autodiagonalnormal.scale\n",
    "unpacked_params_loc_flat = torch.cat([param.view(-1) for param in unpacked_params_loc.values()])\n",
    "unpacked_params_scale_flat = torch.cat([param.view(-1) for param in unpacked_params_scale.values()])\n",
    "\n",
    "#for name, param in unpacked_params_loc.items():\n",
    "#    pyro.get_param_store().set_param(name, param)"
   ]
  },
  {
   "cell_type": "code",
   "execution_count": null,
   "id": "1d836c06",
   "metadata": {},
   "outputs": [],
   "source": [
    "unpacked_params_scale_flat.shape"
   ]
  },
  {
   "cell_type": "code",
   "execution_count": null,
   "id": "ad79f1fb",
   "metadata": {},
   "outputs": [],
   "source": [
    "for name, value in pyro.get_param_store().items():\n",
    "    print(f\"{name}: {value.shape}\")\n",
    "    print(value)"
   ]
  },
  {
   "cell_type": "code",
   "execution_count": null,
   "id": "b5d929fb",
   "metadata": {},
   "outputs": [],
   "source": [
    "param_store = pyro.get_param_store()\n",
    "weight_loc = param_store[\"AutoDiagonalNormal.loc\"]"
   ]
  },
  {
   "cell_type": "code",
   "execution_count": null,
   "id": "5a48370f",
   "metadata": {},
   "outputs": [],
   "source": [
    "weight_loc"
   ]
  },
  {
   "cell_type": "code",
   "execution_count": null,
   "id": "f2c8455e",
   "metadata": {},
   "outputs": [],
   "source": [
    "def bitflip_tensor(tensor, bit_index=0):\n",
    "    flat_tensor = tensor.flatten()\n",
    "    raw_bytes = flat_tensor.view(torch.uint8)\n",
    "\n",
    "    # Choose a random byte and bit to flip\n",
    "    byte_idx = torch.randint(0, raw_bytes.numel(), (1,)).item()\n",
    "    mask = 1 << bit_index\n",
    "    raw_bytes[byte_idx] ^= mask  # Flip bit\n",
    "\n",
    "    return tensor"
   ]
  },
  {
   "cell_type": "code",
   "execution_count": null,
   "id": "a553aad1",
   "metadata": {},
   "outputs": [],
   "source": [
    "def flip_bit_at(tensor, index, bit_position=0):\n",
    "    val = tensor.view(torch.uint8)\n",
    "    val[index] ^= (1 << bit_position)\n",
    "    return val.view(tensor.dtype)"
   ]
  },
  {
   "cell_type": "code",
   "execution_count": null,
   "id": "949320e2",
   "metadata": {},
   "outputs": [],
   "source": [
    "# clean pyro param store\n",
    "model_path = 'results_eurosat/bayesian_cnn_model_std10_100_epoch.pth'\n",
    "guide_path = 'results_eurosat/bayesian_cnn_guide_std10_100_epoch_guide.pth'\n",
    "pyro_param_store_path = 'results_eurosat/pyro_param_store_std10_100_epoch.pkl'\n",
    "\n",
    "guide = AutoDiagonalNormal(bayesian_model).to(device)\n",
    "#guide.load_state_dict(torch.load(guide_path))\n",
    "\n",
    "pyro.get_param_store().set_state(torch.load(pyro_param_store_path,weights_only=False))"
   ]
  },
  {
   "cell_type": "code",
   "execution_count": null,
   "id": "3235d039",
   "metadata": {},
   "outputs": [],
   "source": [
    "# Flip bit at index 0, bit position 0 (least significant bit)\n",
    "original_tensor = param_store[\"AutoDiagonalNormal.loc\"]\n",
    "flipped_tensor = flip_bit_at(original_tensor, index=0, bit_position=7)\n",
    "\n",
    "# Update the parameter store with the modified tensor\n",
    "param_store[\"AutoDiagonalNormal.loc\"].data.copy_(flipped_tensor)"
   ]
  },
  {
   "cell_type": "code",
   "execution_count": null,
   "id": "579fad0c",
   "metadata": {},
   "outputs": [],
   "source": [
    "pyro.get_param_store()[\"AutoDiagonalNormal.loc\"].mean()"
   ]
  },
  {
   "cell_type": "code",
   "execution_count": null,
   "id": "c19eb5e5",
   "metadata": {},
   "outputs": [],
   "source": [
    "param_store[\"AutoDiagonalNormal.loc\"].data.copy_(flip_bit_at(param_store[\"AutoDiagonalNormal.loc\"], 30, 0))"
   ]
  },
  {
   "cell_type": "code",
   "execution_count": null,
   "id": "b777311a",
   "metadata": {},
   "outputs": [],
   "source": [
    "param_store[\"AutoDiagonalNormal.loc\"].data.copy_(bitflip_tensor(param_store[\"AutoDiagonalNormal.loc\"]))"
   ]
  },
  {
   "cell_type": "code",
   "execution_count": null,
   "id": "1b02dd5d",
   "metadata": {},
   "outputs": [],
   "source": [
    "def flip_bit_in_tensor(tensor, bit_position=1, flip_count=1):\n",
    "    flat = tensor.view(-1)\n",
    "    idx = torch.randint(0, flat.numel(), (flip_count,))\n",
    "    for i in idx:\n",
    "        val = flat[i].item()\n",
    "        int_val = np.frombuffer(np.float32(val).tobytes(), dtype=np.uint32)[0]\n",
    "        flipped = int_val ^ (1 << bit_position)\n",
    "        flipped_val = np.frombuffer(np.uint32(flipped).tobytes(), dtype=np.float32)[0]\n",
    "        flat[i] = torch.tensor(flipped_val)\n",
    "    return tensor\n",
    "\n",
    "def inject_seu_conv_layer(layer, bit_position=10, flip_count=1):\n",
    "    with torch.no_grad():\n",
    "        layer.weight.data = flip_bit_in_tensor(layer.weight.data.clone(), bit_position, flip_count)"
   ]
  },
  {
   "cell_type": "code",
   "execution_count": null,
   "id": "d10c3e60",
   "metadata": {},
   "outputs": [],
   "source": [
    "with torch.no_grad():\n",
    "    flip_bit_in_tensor(pyro.get_param_store()[\"AutoDiagonalNormal.loc\"], bit_position=3, flip_count=1)"
   ]
  },
  {
   "cell_type": "code",
   "execution_count": null,
   "id": "03011fd4",
   "metadata": {},
   "outputs": [],
   "source": [
    "pyro.get_param_store()[\"AutoDiagonalNormal.loc\"]"
   ]
  },
  {
   "cell_type": "code",
   "execution_count": null,
   "id": "b59a99cf",
   "metadata": {},
   "outputs": [],
   "source": []
  },
  {
   "cell_type": "markdown",
   "id": "a894c65c",
   "metadata": {},
   "source": [
    "## BEFORE BITFLIP"
   ]
  },
  {
   "cell_type": "code",
   "execution_count": null,
   "id": "653ec307",
   "metadata": {},
   "outputs": [],
   "source": []
  },
  {
   "cell_type": "code",
   "execution_count": null,
   "id": "a873ad1b",
   "metadata": {},
   "outputs": [],
   "source": []
  },
  {
   "cell_type": "code",
   "execution_count": null,
   "id": "6b4894b3",
   "metadata": {},
   "outputs": [],
   "source": []
  },
  {
   "cell_type": "markdown",
   "id": "6114ce02",
   "metadata": {},
   "source": [
    "## BITFLIP"
   ]
  },
  {
   "cell_type": "code",
   "execution_count": null,
   "id": "de521308",
   "metadata": {},
   "outputs": [],
   "source": [
    "#with torch.no_grad():\n",
    "#    flip_bit_in_tensor(pyro.get_param_store()[\"AutoDiagonalNormal.loc\"], bit_position=3, flip_count=1)"
   ]
  },
  {
   "cell_type": "code",
   "execution_count": null,
   "id": "d2933ac9",
   "metadata": {},
   "outputs": [],
   "source": []
  },
  {
   "cell_type": "code",
   "execution_count": null,
   "id": "6a2122f8",
   "metadata": {},
   "outputs": [],
   "source": [
    "# change the first item of pyro.get_param_store()[\"AutoDiagonalNormal.loc\"] to 100\n",
    "# pyro.get_param_store()[\"AutoDiagonalNormal.loc\"][0] = 100.0\n",
    "\n",
    "def change_first_item(param_store, new_value):\n",
    "    pyro.get_param_store()[param_store][0] = new_value\n",
    "\n",
    "    return pyro.get_param_store()[param_store]\n",
    "\n",
    "# Change the first item with no gradient tracking\n",
    "with torch.no_grad():\n",
    "    param_store[\"AutoDiagonalNormal.loc\"].data.copy_(change_first_item(\"AutoDiagonalNormal.loc\", 100.0))\n",
    "    "
   ]
  },
  {
   "cell_type": "code",
   "execution_count": null,
   "id": "37911b25",
   "metadata": {},
   "outputs": [],
   "source": [
    "pyro.get_param_store()[\"AutoDiagonalNormal.loc\"]"
   ]
  },
  {
   "cell_type": "code",
   "execution_count": null,
   "id": "e5789a62",
   "metadata": {},
   "outputs": [],
   "source": [
    "original_param_store[\"AutoDiagonalNormal.loc\"]"
   ]
  },
  {
   "cell_type": "markdown",
   "id": "9b4abec3",
   "metadata": {},
   "source": [
    "## AFTER BITFLIP"
   ]
  },
  {
   "cell_type": "code",
   "execution_count": null,
   "id": "3552822e",
   "metadata": {},
   "outputs": [],
   "source": [
    "changed = not torch.equal(pyro.get_param_store()[\"AutoDiagonalNormal.loc\"], #AFTER \n",
    "                          original_param_store[\"AutoDiagonalNormal.loc\"], #BEFORE\n",
    "                          )\n",
    "print(\"Weights changed:\", changed)"
   ]
  },
  {
   "cell_type": "code",
   "execution_count": null,
   "id": "1ad94c10",
   "metadata": {},
   "outputs": [],
   "source": [
    "#changed = not torch.equal(model_cnn.conv1.weight.data, original_weights)\n",
    "#print(\"Weights changed:\", changed)"
   ]
  },
  {
   "cell_type": "code",
   "execution_count": null,
   "id": "4a04ef9b",
   "metadata": {},
   "outputs": [],
   "source": [
    "# calculate roc auc score\n",
    "from sklearn.metrics import roc_auc_score\n",
    "\n",
    "def calculate_roc_auc_score(y_true, y_pred, num_classes):\n",
    "    # Convert to one-hot encoding\n",
    "    y_true_one_hot = np.eye(num_classes)[y_true]\n",
    "    y_pred_one_hot = np.eye(num_classes)[y_pred]\n",
    "    \n",
    "    # Calculate ROC AUC for each class\n",
    "    roc_auc_scores = []\n",
    "    for i in range(num_classes):\n",
    "        if np.sum(y_true_one_hot[:, i]) > 0:  # Check if the class is present\n",
    "            roc_auc = roc_auc_score(y_true_one_hot[:, i], y_pred[:, i])\n",
    "            roc_auc_scores.append(roc_auc)\n",
    "        else:\n",
    "            roc_auc_scores.append(np.nan)  # Class not present in the test set\n",
    "\n",
    "    return np.array(roc_auc_scores)"
   ]
  },
  {
   "cell_type": "code",
   "execution_count": null,
   "id": "2c6f7010",
   "metadata": {},
   "outputs": [],
   "source": [
    "roc_auc_scores = calculate_roc_auc_score(all_labels, all_predictions, num_classes)\n",
    "print(f\"ROC AUC scores: {roc_auc_scores}\")"
   ]
  },
  {
   "cell_type": "code",
   "execution_count": null,
   "id": "f9d08b32",
   "metadata": {},
   "outputs": [],
   "source": [
    "from sklearn.preprocessing import label_binarize\n",
    "from sklearn.metrics import roc_curve, auc\n",
    "import matplotlib.pyplot as plt\n",
    "import numpy as np\n",
    "\n",
    "# Example data\n",
    "y_true = [0, 1, 2, 2, 1]  # true labels\n",
    "y_score = [\n",
    "    [0.8, 0.1, 0.1],\n",
    "    [0.2, 0.6, 0.2],\n",
    "    [0.1, 0.2, 0.7],\n",
    "    [0.1, 0.3, 0.6],\n",
    "    [0.2, 0.7, 0.1]\n",
    "]  # predicted probabilities from model\n",
    "\n",
    "y_true = np.array(all_labels)\n",
    "y_score = np.array(all_probs)\n",
    "\n",
    "# Binarize labels\n",
    "n_classes = y_score.shape[1]\n",
    "y_true_bin = label_binarize(y_true, classes=np.arange(n_classes))\n",
    "\n",
    "# Compute ROC curve and AUC for each class\n",
    "fpr = dict()\n",
    "tpr = dict()\n",
    "roc_auc = dict()\n",
    "\n",
    "for i in range(n_classes):\n",
    "    fpr[i], tpr[i], _ = roc_curve(y_true_bin[:, i], y_score[:, i])\n",
    "    roc_auc[i] = auc(fpr[i], tpr[i])\n",
    "\n",
    "# Plot all 10 ROC curves\n",
    "plt.figure(figsize=(8, 6))\n",
    "colors = [\n",
    "    'tab:blue',      # 1\n",
    "    'tab:orange',    # 2\n",
    "    'tab:green',     # 3\n",
    "    'tab:red',       # 4\n",
    "    'tab:purple',    # 5\n",
    "    'tab:brown',     # 6\n",
    "    'tab:pink',      # 7\n",
    "    'tab:gray',      # 8\n",
    "    'tab:olive',     # 9\n",
    "    'tab:cyan'       # 10\n",
    "]\n",
    "for i in range(n_classes):\n",
    "    plt.plot(fpr[i], tpr[i], color=colors[i % len(colors)],\n",
    "             label='ROC curve of class {0} (area = {1:0.2f})'\n",
    "                   ''.format(i, roc_auc[i]))\n",
    "plt.plot([0, 1], [0, 1], color='navy', linestyle='--')\n",
    "plt.xlim([0.0, 1.0])\n",
    "plt.ylim([0.0, 1.05])\n",
    "plt.xlabel('False Positive Rate')\n",
    "plt.ylabel('True Positive Rate')\n",
    "plt.title('Receiver Operating Characteristic (ROC) Curves for Each Class')\n",
    "plt.legend(loc=\"lower right\")\n",
    "plt.grid()\n",
    "plt.show()"
   ]
  },
  {
   "cell_type": "code",
   "execution_count": null,
   "id": "e0d3d690",
   "metadata": {},
   "outputs": [],
   "source": []
  }
 ],
 "metadata": {
  "kernelspec": {
   "display_name": "bnntest",
   "language": "python",
   "name": "python3"
  },
  "language_info": {
   "codemirror_mode": {
    "name": "ipython",
    "version": 3
   },
   "file_extension": ".py",
   "mimetype": "text/x-python",
   "name": "python",
   "nbconvert_exporter": "python",
   "pygments_lexer": "ipython3",
   "version": "3.12.9"
  }
 },
 "nbformat": 4,
 "nbformat_minor": 5
}
