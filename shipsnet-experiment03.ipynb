{
 "cells": [
  {
   "cell_type": "code",
   "execution_count": 1,
   "id": "2b415a57",
   "metadata": {},
   "outputs": [],
   "source": [
    "import torch\n",
    "import torch.nn as nn\n",
    "import torch.nn.functional as F\n",
    "import torchvision.datasets as datasets\n",
    "import torchvision.transforms as transforms\n",
    "from torch.utils.data import DataLoader, random_split, Subset\n",
    "import time\n",
    "import matplotlib.pyplot as plt\n",
    "import os\n",
    "from sklearn.model_selection import train_test_split\n",
    "\n",
    "import pickle\n",
    "from tqdm import tqdm\n",
    "import copy"
   ]
  },
  {
   "cell_type": "code",
   "execution_count": 2,
   "id": "21fc4dd2",
   "metadata": {},
   "outputs": [
    {
     "name": "stderr",
     "output_type": "stream",
     "text": [
      "c:\\Users\\Revalda Putawara\\.conda\\envs\\bnntest\\Lib\\site-packages\\tqdm\\auto.py:21: TqdmWarning: IProgress not found. Please update jupyter and ipywidgets. See https://ipywidgets.readthedocs.io/en/stable/user_install.html\n",
      "  from .autonotebook import tqdm as notebook_tqdm\n"
     ]
    }
   ],
   "source": [
    "import pyro\n",
    "import pyro.distributions as dist\n",
    "from pyro.nn import PyroModule, PyroSample\n",
    "from pyro.infer.autoguide import AutoDiagonalNormal"
   ]
  },
  {
   "cell_type": "code",
   "execution_count": 3,
   "id": "b759d2d6",
   "metadata": {},
   "outputs": [],
   "source": [
    "import pandas as pd"
   ]
  },
  {
   "cell_type": "code",
   "execution_count": 4,
   "id": "7933eaab",
   "metadata": {},
   "outputs": [],
   "source": [
    "import numpy as np\n",
    "from sklearn.metrics import confusion_matrix"
   ]
  },
  {
   "cell_type": "code",
   "execution_count": 5,
   "id": "685ec8a3",
   "metadata": {},
   "outputs": [],
   "source": [
    "from bitflip import bitflip_float32"
   ]
  },
  {
   "cell_type": "code",
   "execution_count": 6,
   "id": "7da5f108",
   "metadata": {},
   "outputs": [],
   "source": [
    "from torchvision.datasets import ImageFolder"
   ]
  },
  {
   "cell_type": "code",
   "execution_count": 7,
   "id": "5ae33ca6",
   "metadata": {},
   "outputs": [],
   "source": [
    "shipsnet_mean = [0.4119, 0.4243, 0.3724]\n",
    "shipsnet_std = [0.1899, 0.1569, 0.1515]\n",
    "\n",
    "def load_data(batch_size=16):\n",
    "    transform = transforms.Compose([\n",
    "        transforms.Resize((64, 64)),\n",
    "        transforms.ToTensor(),\n",
    "        transforms.Normalize(mean=shipsnet_mean, \n",
    "                             std=shipsnet_std)\n",
    "    ])\n",
    "\n",
    "    #dataset = datasets.EuroSAT(root='./data', transform=transform, download=True)\n",
    "    dataset = ImageFolder(\n",
    "    root=\"data/shipsnet/foldered\",\n",
    "    transform=transform\n",
    "    )\n",
    "    torch.manual_seed(42)\n",
    "\n",
    "    #train_size = int(0.8 * len(dataset))\n",
    "    #test_size = len(dataset) - train_size\n",
    "    #train_dataset, test_dataset = random_split(dataset, [train_size, test_size])\n",
    "    \n",
    "    with open('datasplit/shipsnet_split_indices.pkl', 'rb') as f:\n",
    "        split = pickle.load(f)\n",
    "        train_dataset = Subset(dataset, split['train'])\n",
    "        test_dataset = Subset(dataset, split['test'])\n",
    "\n",
    "    # Add num_workers and pin_memory for faster data loading\n",
    "    train_loader = DataLoader(train_dataset, batch_size=batch_size, shuffle=True, \n",
    "                             num_workers=4, pin_memory=True, persistent_workers=True)\n",
    "    test_loader = DataLoader(test_dataset, batch_size=batch_size,\n",
    "                            num_workers=4, pin_memory=True, persistent_workers=True)\n",
    "    return train_loader, test_loader"
   ]
  },
  {
   "cell_type": "code",
   "execution_count": 8,
   "id": "593603cd",
   "metadata": {},
   "outputs": [],
   "source": [
    "train_loader, test_loader = load_data(batch_size=16)"
   ]
  },
  {
   "cell_type": "code",
   "execution_count": 9,
   "id": "7ffc34f2",
   "metadata": {},
   "outputs": [],
   "source": [
    "device = torch.device(\"cuda\")"
   ]
  },
  {
   "cell_type": "code",
   "execution_count": 10,
   "id": "91047777",
   "metadata": {},
   "outputs": [],
   "source": [
    "num_classes = 2"
   ]
  },
  {
   "cell_type": "code",
   "execution_count": 25,
   "id": "12ed5890",
   "metadata": {},
   "outputs": [],
   "source": [
    "class BayesShipsCNN(PyroModule):\n",
    "    def __init__(\n",
    "        self,\n",
    "        num_classes=2,\n",
    "        device= torch.device(\"cuda\"),\n",
    "        activation='relu',\n",
    "        prior_dist='gaussian',\n",
    "        mu=0.0,\n",
    "        b=1.0,\n",
    "        prior_params=None\n",
    "    ):\n",
    "        super().__init__()\n",
    "\n",
    "        # Store device\n",
    "        self.device = device\n",
    "\n",
    "        # Activation setup: accept string or callable\n",
    "        if isinstance(activation, str):\n",
    "            act_map = {\n",
    "                'relu': F.relu,\n",
    "                'tanh': F.tanh,\n",
    "                'sigmoid': F.sigmoid,\n",
    "                'sinusoidal': torch.sin,\n",
    "                'relu6': F.relu6,\n",
    "                'leaky_relu': F.leaky_relu,\n",
    "                'selu': F.selu,\n",
    "                'wg':self.actWG,\n",
    "                'rwg':self.actRWG,\n",
    "            }\n",
    "            try:\n",
    "                self.activation_fn = act_map[activation]\n",
    "            except KeyError:\n",
    "                raise ValueError(f\"Unsupported activation: {activation}\")\n",
    "        elif callable(activation):\n",
    "            self.activation_fn = activation\n",
    "        else:\n",
    "            raise ValueError(\"activation must be a string or callable\")\n",
    "\n",
    "        # Prior distribution setup\n",
    "        self.prior_dist = prior_dist\n",
    "        default_params = {'mu': mu, 'b': b}\n",
    "        params = default_params if prior_params is None else prior_params\n",
    "        self.prior_mu = torch.tensor(params.get('mu', mu), device=device)\n",
    "        self.prior_b  = torch.tensor(params.get('b', b), device=device)\n",
    "\n",
    "        print(f\"Using activation function: {activation}\")\n",
    "        print(f\"Using prior distribution: {self.prior_dist} with mu={self.prior_mu.item()} and b={self.prior_b.item()}\")\n",
    "\n",
    "        # Layer definitions with priors\n",
    "        self.conv1 = PyroModule[nn.Conv2d](3, 32, kernel_size=3, stride=1, padding=1)\n",
    "        self.conv1.weight = PyroSample(self._make_prior([32, 3, 3, 3]))\n",
    "        self.conv1.bias   = PyroSample(self._make_prior([32]))\n",
    "\n",
    "        self.conv2 = PyroModule[nn.Conv2d](32, 64, kernel_size=3, stride=1, padding=1)\n",
    "        self.conv2.weight = PyroSample(self._make_prior([64, 32, 3, 3]))\n",
    "        self.conv2.bias   = PyroSample(self._make_prior([64]))\n",
    "\n",
    "        self.conv3 = PyroModule[nn.Conv2d](64, 128, kernel_size=3, stride=1, padding=1)\n",
    "        self.conv3.weight = PyroSample(self._make_prior([128, 64, 3, 3]))\n",
    "        self.conv3.bias   = PyroSample(self._make_prior([128]))\n",
    "\n",
    "        # Pooling and global average pooling\n",
    "        self.pool = nn.MaxPool2d(kernel_size=2, stride=2)\n",
    "        self.gap  = nn.AdaptiveAvgPool2d((1, 1))\n",
    "\n",
    "        # Fully connected layers\n",
    "        self.fc1 = PyroModule[nn.Linear](128, 256)\n",
    "        self.fc1.weight = PyroSample(self._make_prior([256, 128]))\n",
    "        self.fc1.bias   = PyroSample(self._make_prior([256]))\n",
    "\n",
    "        self.fc2 = PyroModule[nn.Linear](256, num_classes)\n",
    "        self.fc2.weight = PyroSample(self._make_prior([num_classes, 256]))\n",
    "        self.fc2.bias   = PyroSample(self._make_prior([num_classes]))\n",
    "\n",
    "    def actWG(self, x, alpha=1.0):\n",
    "        # Weight-gradient activation\n",
    "        return x * torch.exp(-alpha * x ** 2)\n",
    "    \n",
    "    def actRWG(self, x, alpha=1.0):\n",
    "        wg = x * torch.exp(-alpha * x ** 2)\n",
    "        # compare elementwise with zero\n",
    "        return torch.max(torch.zeros_like(wg), wg)\n",
    "\n",
    "    def _make_prior(self, shape):\n",
    "        \"\"\"\n",
    "        Construct a prior distribution based on self.prior_dist and parameters.\n",
    "        \"\"\"\n",
    "        if self.prior_dist == 'gaussian':\n",
    "            base = dist.Normal(self.prior_mu, self.prior_b)\n",
    "        elif self.prior_dist == 'laplace':\n",
    "            base = dist.Laplace(self.prior_mu, self.prior_b)\n",
    "        elif self.prior_dist == 'uniform':\n",
    "            base = dist.Uniform(-self.prior_b, self.prior_b)\n",
    "        else:\n",
    "            raise ValueError(f\"Unsupported prior distribution: {self.prior_dist}\")\n",
    "        return base.expand(shape).to_event(len(shape))\n",
    "\n",
    "    def forward(self, x, y=None):\n",
    "        x = self.activation_fn(self.conv1(x).to(self.device))\n",
    "        x = self.pool(x)\n",
    "\n",
    "        x = self.activation_fn(self.conv2(x))\n",
    "        x = self.pool(x)\n",
    "\n",
    "        x = self.activation_fn(self.conv3(x))\n",
    "        x = self.pool(x)\n",
    "\n",
    "        x = self.gap(x)\n",
    "        x = x.view(x.size(0), -1)\n",
    "\n",
    "        x = self.activation_fn(self.fc1(x))\n",
    "        logits = self.fc2(x)\n",
    "\n",
    "        if y is not None:\n",
    "            with pyro.plate(\"data\", x.size(0)):\n",
    "                pyro.sample(\"obs\", dist.Categorical(logits=logits), obs=y)\n",
    "        return logits"
   ]
  },
  {
   "cell_type": "code",
   "execution_count": 50,
   "id": "b8ca1019",
   "metadata": {},
   "outputs": [],
   "source": [
    "model_param_index = {\n",
    "    'conv1': {\n",
    "        'weight': {\n",
    "            'shape': (32, 3, 3, 3),\n",
    "            'start_idx': 0,\n",
    "            'end_idx': 863,\n",
    "            'total_size': 864\n",
    "        },\n",
    "        'bias': {\n",
    "            'shape': (32,),\n",
    "            'start_idx': 864,\n",
    "            'end_idx': 895,\n",
    "            'total_size': 32\n",
    "        }\n",
    "    },\n",
    "    'conv2': {\n",
    "        'weight': {\n",
    "            'shape': (64, 32, 3, 3),\n",
    "            'start_idx': 896,\n",
    "            'end_idx': 19327,\n",
    "            'total_size': 18432\n",
    "        },\n",
    "        'bias': {\n",
    "            'shape': (64,),\n",
    "            'start_idx': 19328,\n",
    "            'end_idx': 19391,\n",
    "            'total_size': 64\n",
    "        }\n",
    "    },\n",
    "    'conv3': {\n",
    "        'weight': {\n",
    "            'shape': (128, 64, 3, 3),\n",
    "            'start_idx': 19392,\n",
    "            'end_idx': 93119,\n",
    "            'total_size': 73728\n",
    "        },\n",
    "        'bias': {\n",
    "            'shape': (128,),\n",
    "            'start_idx': 93120,\n",
    "            'end_idx': 93247,\n",
    "            'total_size': 128\n",
    "        }\n",
    "    },\n",
    "    'fc1': {\n",
    "        'weight': {\n",
    "            'shape': (256, 128),\n",
    "            'start_idx': 93248,\n",
    "            'end_idx': 126015,\n",
    "            'total_size': 32768\n",
    "        },\n",
    "        'bias': {\n",
    "            'shape': (256,),\n",
    "            'start_idx': 126016,\n",
    "            'end_idx': 126271,\n",
    "            'total_size': 256\n",
    "        }\n",
    "    },\n",
    "    'fc2': {\n",
    "        'weight': {\n",
    "            'shape': (2, 256),\n",
    "            'start_idx': 126272,\n",
    "            'end_idx': 126783,\n",
    "            'total_size': 512\n",
    "        },\n",
    "        'bias': {\n",
    "            'shape': (2,),\n",
    "            'start_idx': 126784,\n",
    "            'end_idx': 126785,\n",
    "            'total_size': 2\n",
    "        }\n",
    "    }\n",
    "}"
   ]
  },
  {
   "cell_type": "code",
   "execution_count": 26,
   "id": "b148cf0d",
   "metadata": {},
   "outputs": [],
   "source": [
    "import os\n",
    "\n",
    "search_dir = 'inj_base_ships'\n",
    "#list all .json files in the directory\n",
    "all_files = [f for f in os.listdir(search_dir)]\n",
    "json_files = [f for f in os.listdir(search_dir) if f.endswith('.json')]\n",
    "\n",
    "# excluding the format, get the last 16 characters of each filename\n",
    "timestamps = [f[:-5][-16:] for f in json_files]\n",
    "\n",
    "# for each timestamp, look for every other files in the directory that contains the timestamp\n",
    "\n",
    "config_files = {}\n",
    "guide_files = {}\n",
    "model_files = {}\n",
    "param_files = {}\n",
    "\n",
    "for timestamp in timestamps:\n",
    "    config_files[timestamp] = [f for f in all_files if timestamp in f and f.endswith('.json')][0]\n",
    "    guide_files[timestamp] = [f for f in all_files if timestamp in f and f.startswith('guide')][0]\n",
    "    model_files[timestamp] = [f for f in all_files if timestamp in f and f.startswith('model')][0]\n",
    "    param_files[timestamp] = [f for f in all_files if timestamp in f and f.startswith('param')][0]\n"
   ]
  },
  {
   "cell_type": "code",
   "execution_count": 27,
   "id": "427a3f4b",
   "metadata": {},
   "outputs": [
    {
     "data": {
      "text/plain": [
       "{'_20250715_165043': 'config_relu_gaussian_20250715_165043.json',\n",
       " '_20250715_160541': 'config_tanh_gaussian_20250715_160541.json'}"
      ]
     },
     "execution_count": 27,
     "metadata": {},
     "output_type": "execute_result"
    }
   ],
   "source": [
    "config_files"
   ]
  },
  {
   "cell_type": "code",
   "execution_count": 28,
   "id": "9f2b78cc",
   "metadata": {},
   "outputs": [],
   "source": [
    "#load the model\n",
    "import json\n",
    "\n",
    "def load_model(timestamp):\n",
    "    config_path = os.path.join(search_dir, config_files[timestamp])\n",
    "    guide_path = os.path.join(search_dir, guide_files[timestamp])\n",
    "    model_path = os.path.join(search_dir, model_files[timestamp])\n",
    "    param_path = os.path.join(search_dir, param_files[timestamp])\n",
    "\n",
    "    print(f\"Loading model with config_path: {config_path}\")\n",
    "\n",
    "    with open(config_path, 'r') as f:\n",
    "        config = json.load(f)\n",
    "\n",
    "    model = BayesShipsCNN(\n",
    "        num_classes=num_classes,\n",
    "        device=device,\n",
    "        activation=config['activation'],\n",
    "        prior_dist=config['prior'],\n",
    "        mu=config['prior_params']['mu'],\n",
    "        b=config['prior_params'],\n",
    "        prior_params=config.get('prior_params', None)\n",
    "    ).to(device)\n",
    "\n",
    "    # Load the guide\n",
    "    #guide = AutoDiagonalNormal(model)\n",
    "\n",
    "    # Load the model state\n",
    "    model.load_state_dict(torch.load(model_path))\n",
    "    \n",
    "    # Load the guide state\n",
    "    #guide.load_state_dict(torch.load(guide_path))\n",
    "\n",
    "    return model, param_path"
   ]
  },
  {
   "cell_type": "code",
   "execution_count": 29,
   "id": "d3cb7296",
   "metadata": {},
   "outputs": [
    {
     "data": {
      "text/plain": [
       "['_20250715_165043', '_20250715_160541']"
      ]
     },
     "execution_count": 29,
     "metadata": {},
     "output_type": "execute_result"
    }
   ],
   "source": [
    "timestamps"
   ]
  },
  {
   "cell_type": "code",
   "execution_count": 30,
   "id": "53921dd9",
   "metadata": {},
   "outputs": [
    {
     "name": "stdout",
     "output_type": "stream",
     "text": [
      "Loading model with config_path: inj_base_ships\\config_tanh_gaussian_20250715_160541.json\n",
      "Using activation function: tanh\n",
      "Using prior distribution: gaussian with mu=0.0 and b=10.0\n"
     ]
    }
   ],
   "source": [
    "bayesian_model, pyro_param_store_path = load_model(timestamps[1])"
   ]
  },
  {
   "cell_type": "code",
   "execution_count": null,
   "id": "47222767",
   "metadata": {},
   "outputs": [],
   "source": [
    "#prior_iter = 'gaussian'\n",
    "#activation_iter = 'relu'\n",
    "#b_iter = 10.0\n",
    "\n",
    "#bayesian_model = BayesShipsCNN(num_classes,\n",
    "#                        device,\n",
    "#                        activation=activation_iter,\n",
    "#                        prior_dist=prior_iter,\n",
    "#                        mu = 0.0,\n",
    "#                        b= b_iter,\n",
    "#                        #prior_params={'mu': 0.0, 'b': b_iter})\n",
    "#                        )"
   ]
  },
  {
   "cell_type": "code",
   "execution_count": null,
   "id": "06566fe5",
   "metadata": {},
   "outputs": [],
   "source": [
    "#model_path = 'inj_base_ships/model_relu_gaussian_epoch_best_20250715_165043.pth'\n",
    "#guide_path = 'inj_base_ships/guide_relu_gaussian_epoch_best_20250715_165043.pth'\n",
    "#pyro_param_store_path = 'inj_base_ships/param_store_relu_gaussian_epoch_best_20250715_165043.pkl'\n",
    "\n",
    "#guide = AutoDiagonalNormal(bayesian_model).to(device)\n",
    "\n",
    "#pyro.get_param_store().set_state(torch.load(pyro_param_store_path,weights_only=False))\n",
    "\n",
    "#original_param_store = {}\n",
    "\n",
    "#for name, value in pyro.get_param_store().items():\n",
    "#    print(f\"{name}: {value.shape}\")\n",
    "#    original_param_store[name] = torch.tensor(value.data, requires_grad=value.requires_grad)"
   ]
  },
  {
   "cell_type": "code",
   "execution_count": null,
   "id": "b02438ff",
   "metadata": {},
   "outputs": [],
   "source": [
    "class Injector:\n",
    "    def __init__(self, trained_model, device, test_loader, num_samples):\n",
    "        \"\"\"\n",
    "        Initializes SEU injector\n",
    "        \"\"\"\n",
    "\n",
    "        #initialize device\n",
    "        if device is None:\n",
    "            self.device = torch.device(\"cuda\" if torch.cuda.is_available() else \"cpu\")\n",
    "        else:\n",
    "            self.device = device\n",
    "\n",
    "        self.trained_model = trained_model.to(self.device)\n",
    "        self.test_loader = test_loader\n",
    "        self.trained_model.eval()\n",
    "        self.num_samples = num_samples\n",
    "        \n",
    "        self.guide = AutoDiagonalNormal(self.trained_model).to(self.device)\n",
    "        pyro.get_param_store().clear()\n",
    "        pyro.get_param_store().set_state(torch.load(pyro_param_store_path,weights_only=False))\n",
    "\n",
    "        #initial_Accuracy = self.return_accuracy(num_samples)\n",
    "        initial_labels, initial_predictions, initial_logits, initial_probs = self.predict_data_probs(self.num_samples)\n",
    "        self.initial_accuracy = self.return_accuracy(initial_labels, initial_predictions)\n",
    "        \n",
    "        #print accuracy before SEU\n",
    "        print(f\"Initial accuracy: {self.initial_accuracy}\")\n",
    "        \n",
    "    def predict_data_probs(self, num_samples=10):\n",
    "        all_labels = []\n",
    "        all_predictions = []\n",
    "        all_logits = []\n",
    "        all_probs = []\n",
    "\n",
    "        with torch.no_grad():\n",
    "            for images, labels in tqdm(self.test_loader, desc=\"Evaluating\"):\n",
    "                images, labels = images.to(self.device), labels.to(self.device)\n",
    "\n",
    "                logits_mc = torch.zeros(num_samples, images.size(0), self.trained_model.fc2.out_features).to(device)\n",
    "\n",
    "                for i in range(num_samples):\n",
    "                    guide_trace = pyro.poutine.trace(self.guide).get_trace(images)\n",
    "                    replayed_model = pyro.poutine.replay(self.trained_model, trace=guide_trace)\n",
    "                    logits = replayed_model(images)\n",
    "                    logits_mc[i] = logits\n",
    "\n",
    "                avg_logits = logits_mc.mean(dim=0)\n",
    "                predictions = torch.argmax(avg_logits, dim=1)\n",
    "\n",
    "                all_labels.extend(labels.cpu().numpy())\n",
    "                all_predictions.extend(predictions.cpu().numpy())\n",
    "                all_logits.extend(avg_logits.cpu().numpy())\n",
    "                all_probs.extend(F.softmax(avg_logits, dim=1).cpu().numpy())\n",
    "\n",
    "        return all_labels, all_predictions, all_logits, all_probs\n",
    "\n",
    "    def return_accuracy(self, all_labels, all_predictions):\n",
    "        #all_labels, all_predictions, all_logits, all_probs = self.predict_data_probs(num_samples)\n",
    "        cm = confusion_matrix(all_labels, all_predictions)\n",
    "        accuracy = np.trace(cm) / np.sum(cm)\n",
    "\n",
    "        return accuracy\n",
    "    \n",
    "    def run_seu_autodiagonal_normal(self, location_index, bit_i, parameter_name=\"loc\", num_samples=10):\n",
    "        \"\"\"\n",
    "        Run SEU on the AutoDiagonalNormal guide\n",
    "        \"\"\"\n",
    "\n",
    "        assert parameter_name in [\"loc\", \"scale\"], \"Parameter name must be 'loc' or 'scale'.\"\n",
    "        assert bit_i in range(0, 33), \"Location index must be between 0 and 9.\"\n",
    "\n",
    "        if parameter_name == \"loc\":\n",
    "            param_store_name = \"AutoDiagonalNormal.loc\"\n",
    "        elif parameter_name == \"scale\":\n",
    "            param_store_name = \"AutoDiagonalNormal.scale\"\n",
    "\n",
    "        pyro.get_param_store().set_state(torch.load(pyro_param_store_path,weights_only=False))\n",
    "\n",
    "        with torch.no_grad():\n",
    "            param_dict = {}\n",
    "\n",
    "            for name, value in pyro.get_param_store().items():\n",
    "                #print(f\"{name}: {value.shape}\")\n",
    "                #print(value)\n",
    "                param_dict[name] = value.cpu().detach().numpy()\n",
    "\n",
    "            tensor_cpu = param_dict[param_store_name]\n",
    "\n",
    "            #original_val = tensor_cpu[0] #this zero index should be changed to the location_index\n",
    "            original_val = tensor_cpu[location_index]\n",
    "            seu_val = bitflip_float32(original_val, bit_i)\n",
    "\n",
    "\n",
    "            print(f\"Original value: {original_val}, SEU value: {seu_val}\")\n",
    "\n",
    "            # Get the parameter\n",
    "            param = pyro.get_param_store().get_param(param_store_name)\n",
    "\n",
    "            # Modify it safely by creating a new tensor\n",
    "            new_param = param.clone()\n",
    "            new_param[location_index] = seu_val  # New Value\n",
    "\n",
    "            # Update the parameter store\n",
    "            if parameter_name == \"loc\":\n",
    "                pyro.get_param_store().__setitem__(param_store_name, new_param) # 74%\n",
    "                #param_store[param_store_name].data.copy_(change_item(param_store_name, location_index, seu_val)) #25%\n",
    "                #pyro.get_param_store()[param_store_name].data[location_index] = seu_val # 25%\n",
    "            elif parameter_name == \"scale\":\n",
    "                pyro.get_param_store().__setitem__(param_store_name, new_param) #10%\n",
    "                #pyro.get_param_store()[param_store_name].data[location_index] = seu_val\n",
    "\n",
    "        #print accuracy after SEU\n",
    "        self.guide = AutoDiagonalNormal(bayesian_model).to(device)\n",
    "    \n",
    "\n",
    "        try:\n",
    "            after_labels, after_predictions, after_logits, after_probs = self.predict_data_probs(num_samples)\n",
    "            accuracyAfter_SEU = self.return_accuracy(after_labels, after_predictions)\n",
    "        except:\n",
    "            accuracyAfter_SEU = np.nan\n",
    "            \n",
    "        print(f\"Accuracy after SEU: {accuracyAfter_SEU}\")\n",
    "        print(\"===================================\")\n",
    "\n",
    "        return accuracyAfter_SEU - self.initial_accuracy\n",
    "    \n",
    "    def run_seu_autodiagonal_normal_multi(self, location_indices, bit_i, parameter_name=\"loc\", attack_ratio=1.0, num_samples=10, seed=None):\n",
    "        \"\"\"\n",
    "        Run SEU on the AutoDiagonalNormal guide with multiple location attacks\n",
    "        \n",
    "        Args:\n",
    "            location_indices: list of indices or single index to attack\n",
    "            bit_i: bit position to flip (0-32)\n",
    "            parameter_name: \"loc\" or \"scale\"\n",
    "            attack_ratio: ratio of locations to attack (0.0-1.0)\n",
    "            num_samples: number of MC samples for evaluation\n",
    "            seed: random seed for reproducible attacks\n",
    "        \"\"\"\n",
    "        \n",
    "        assert parameter_name in [\"loc\", \"scale\"], \"Parameter name must be 'loc' or 'scale'.\"\n",
    "        assert bit_i in range(0, 33), \"Bit index must be between 0 and 32.\"\n",
    "        assert 0.0 <= attack_ratio <= 1.0, \"Attack ratio must be between 0.0 and 1.0.\"\n",
    "        \n",
    "        # Convert single index to list for uniform handling\n",
    "        if isinstance(location_indices, int):\n",
    "            location_indices = [location_indices]\n",
    "        \n",
    "        # Set random seed if provided\n",
    "        if seed is not None:\n",
    "            np.random.seed(seed)\n",
    "            torch.manual_seed(seed)\n",
    "        \n",
    "        # Calculate number of locations to attack\n",
    "        num_attacks = max(1, int(len(location_indices) * attack_ratio))\n",
    "        \n",
    "        # Randomly select locations to attack\n",
    "        attack_locations = np.random.choice(location_indices, size=num_attacks, replace=False)\n",
    "        \n",
    "        if parameter_name == \"loc\":\n",
    "            param_store_name = \"AutoDiagonalNormal.loc\"\n",
    "        elif parameter_name == \"scale\":\n",
    "            param_store_name = \"AutoDiagonalNormal.scale\"\n",
    "\n",
    "        # Reset parameter store to original state\n",
    "        pyro.get_param_store().set_state(torch.load(pyro_param_store_path, weights_only=False))\n",
    "\n",
    "        with torch.no_grad():\n",
    "            # Get the parameter\n",
    "            param = pyro.get_param_store().get_param(param_store_name)\n",
    "            \n",
    "            # Create a new tensor to modify\n",
    "            new_param = param.clone()\n",
    "            \n",
    "            print(f\"Attacking {num_attacks} out of {len(location_indices)} locations:\")\n",
    "            \n",
    "            # Attack each selected location\n",
    "            for location_index in attack_locations:\n",
    "                original_val = new_param[location_index].cpu().item()\n",
    "                seu_val = bitflip_float32(original_val, bit_i)\n",
    "                new_param[location_index] = seu_val\n",
    "                \n",
    "                print(f\"  Location {location_index}: {original_val} -> {seu_val}\")\n",
    "            \n",
    "            # Update the parameter store\n",
    "            pyro.get_param_store().__setitem__(param_store_name, new_param)\n",
    "\n",
    "        # Reinitialize guide with modified parameters\n",
    "        self.guide = AutoDiagonalNormal(bayesian_model).to(device)\n",
    "\n",
    "        try:\n",
    "            after_labels, after_predictions, after_logits, after_probs = self.predict_data_probs(num_samples)\n",
    "            accuracyAfter_SEU = self.return_accuracy(after_labels, after_predictions)\n",
    "        except:\n",
    "            accuracyAfter_SEU = np.nan\n",
    "            \n",
    "        print(f\"Accuracy after SEU: {accuracyAfter_SEU}\")\n",
    "        print(\"===================================\")\n",
    "\n",
    "        return accuracyAfter_SEU - self.initial_accuracy\n",
    "    \n",
    "#inj = Injector(trained_model=bayesian_model, device=device, test_loader=test_loader, num_samples=10)"
   ]
  },
  {
   "cell_type": "code",
   "execution_count": 43,
   "id": "8311a0dd",
   "metadata": {},
   "outputs": [],
   "source": [
    "import torch\n",
    "import torch.nn.functional as F\n",
    "import numpy as np\n",
    "import pyro\n",
    "from pyro.infer.autoguide import AutoDiagonalNormal\n",
    "from sklearn.metrics import confusion_matrix\n",
    "from tqdm import tqdm\n",
    "import math\n",
    "\n",
    "class NewInjector:\n",
    "    def __init__(self, trained_model, device, test_loader, num_samples):\n",
    "        \"\"\"\n",
    "        Initializes SEU injector\n",
    "        \"\"\"\n",
    "        self.device = device or torch.device(\"cuda\" if torch.cuda.is_available() else \"cpu\")\n",
    "        self.trained_model = trained_model.to(self.device)\n",
    "        self.test_loader = test_loader\n",
    "        self.trained_model.eval()\n",
    "        self.num_samples = num_samples\n",
    "\n",
    "        self.guide = AutoDiagonalNormal(self.trained_model).to(self.device)\n",
    "        pyro.get_param_store().clear()\n",
    "        pyro.get_param_store().set_state(torch.load(pyro_param_store_path, weights_only=False))\n",
    "\n",
    "        initial_labels, initial_predictions, initial_logits, initial_probs = self.predict_data_probs(self.num_samples)\n",
    "        self.initial_accuracy = self.return_accuracy(initial_labels, initial_predictions)\n",
    "        self.initial_probs = np.array(initial_probs)\n",
    "\n",
    "        print(f\"Initial accuracy: {self.initial_accuracy}\")\n",
    "\n",
    "    def predict_data_probs(self, num_samples=10):\n",
    "        all_labels = []\n",
    "        all_predictions = []\n",
    "        all_logits = []\n",
    "        all_probs = []\n",
    "\n",
    "        with torch.no_grad():\n",
    "            for images, labels in tqdm(self.test_loader, desc=\"Evaluating\"):\n",
    "                images, labels = images.to(self.device), labels.to(self.device)\n",
    "                logits_mc = torch.zeros(num_samples, images.size(0), self.trained_model.fc2.out_features).to(self.device)\n",
    "\n",
    "                for i in range(num_samples):\n",
    "                    guide_trace = pyro.poutine.trace(self.guide).get_trace(images)\n",
    "                    replayed_model = pyro.poutine.replay(self.trained_model, trace=guide_trace)\n",
    "                    logits = replayed_model(images)\n",
    "                    logits_mc[i] = logits\n",
    "\n",
    "                avg_logits = logits_mc.mean(dim=0)\n",
    "                predictions = torch.argmax(avg_logits, dim=1)\n",
    "\n",
    "                all_labels.extend(labels.cpu().numpy())\n",
    "                all_predictions.extend(predictions.cpu().numpy())\n",
    "                all_logits.extend(avg_logits.cpu().numpy())\n",
    "                all_probs.extend(F.softmax(avg_logits, dim=1).cpu().numpy())\n",
    "\n",
    "        return all_labels, all_predictions, all_logits, all_probs\n",
    "\n",
    "    def return_accuracy(self, all_labels, all_predictions):\n",
    "        cm = confusion_matrix(all_labels, all_predictions)\n",
    "        return np.trace(cm) / np.sum(cm)\n",
    "\n",
    "    def compute_softmax_difference(self, before_probs, after_probs):\n",
    "        before_probs = np.array(before_probs)\n",
    "        after_probs = np.array(after_probs)\n",
    "        diff = np.abs(before_probs - after_probs)\n",
    "        return np.max(diff, axis=1).mean()\n",
    "\n",
    "    def compute_difference(self, original_val, modified_val):\n",
    "        return abs(original_val - modified_val)\n",
    "\n",
    "    def run_seu_autodiagonal_normal(self, location_index, bit_i, parameter_name=\"loc\", num_samples=10):\n",
    "        assert parameter_name in [\"loc\", \"scale\"], \"Parameter name must be 'loc' or 'scale'.\"\n",
    "        assert bit_i in range(0, 33), \"Bit index must be between 0 and 32.\"\n",
    "\n",
    "        param_store_name = f\"AutoDiagonalNormal.{parameter_name}\"\n",
    "        pyro.get_param_store().set_state(torch.load(pyro_param_store_path, weights_only=False))\n",
    "\n",
    "        with torch.no_grad():\n",
    "            param = pyro.get_param_store().get_param(param_store_name)\n",
    "            new_param = param.clone()\n",
    "            original_val = new_param[location_index].cpu().item()\n",
    "            seu_val = bitflip_float32(original_val, bit_i)\n",
    "            abs_diff = self.compute_difference(original_val, seu_val)\n",
    "            new_param[location_index] = seu_val\n",
    "            pyro.get_param_store().__setitem__(param_store_name, new_param)\n",
    "\n",
    "            print(f\"Original value: {original_val}, SEU value: {seu_val}, Abs difference: {abs_diff}\")\n",
    "\n",
    "        self.guide = AutoDiagonalNormal(self.trained_model).to(self.device)\n",
    "\n",
    "        try:\n",
    "            after_labels, after_predictions, after_logits, after_probs = self.predict_data_probs(num_samples)\n",
    "            accuracy_after = self.return_accuracy(after_labels, after_predictions)\n",
    "            softmax_diff = self.compute_softmax_difference(self.initial_probs, after_probs)\n",
    "        except:\n",
    "            accuracy_after = np.nan\n",
    "            softmax_diff = np.nan\n",
    "\n",
    "        print(f\"Accuracy after SEU: {accuracy_after}\")\n",
    "        print(\"===================================\")\n",
    "\n",
    "        return {\n",
    "            \"accuracy_change\": accuracy_after - self.initial_accuracy,\n",
    "            \"softmax_difference\": softmax_diff,\n",
    "            \"absolute_difference\": abs_diff\n",
    "        }\n",
    "\n",
    "    def run_seu_autodiagonal_normal_multi(self, location_indices, bit_i, parameter_name=\"loc\",\n",
    "                                          attack_ratio=1.0, num_samples=10, seed=None):\n",
    "        assert parameter_name in [\"loc\", \"scale\"], \"Parameter name must be 'loc' or 'scale'.\"\n",
    "        assert bit_i in range(0, 33), \"Bit index must be between 0 and 32.\"\n",
    "        assert 0.0 <= attack_ratio <= 1.0, \"Attack ratio must be between 0.0 and 1.0.\"\n",
    "\n",
    "        if isinstance(location_indices, int):\n",
    "            location_indices = [location_indices]\n",
    "\n",
    "        if seed is not None:\n",
    "            np.random.seed(seed)\n",
    "            torch.manual_seed(seed)\n",
    "\n",
    "        num_attacks = max(1, int(len(location_indices) * attack_ratio))\n",
    "        attack_locations = np.random.choice(location_indices, size=num_attacks, replace=False)\n",
    "        param_store_name = f\"AutoDiagonalNormal.{parameter_name}\"\n",
    "        pyro.get_param_store().set_state(torch.load(pyro_param_store_path, weights_only=False))\n",
    "\n",
    "        abs_differences = []\n",
    "\n",
    "        with torch.no_grad():\n",
    "            param = pyro.get_param_store().get_param(param_store_name)\n",
    "            new_param = param.clone()\n",
    "\n",
    "            #print(f\"Attacking {num_attacks} out of {len(location_indices)} locations:\")\n",
    "\n",
    "            for location_index in attack_locations:\n",
    "                original_val = new_param[location_index].cpu().item()\n",
    "                seu_val = bitflip_float32(original_val, bit_i)\n",
    "                abs_diff = self.compute_difference(original_val, seu_val)\n",
    "                abs_differences.append(abs_diff)\n",
    "                new_param[location_index] = seu_val\n",
    "                print(f\"  Location {location_index}: {original_val} -> {seu_val}, Log diff: {abs_diff}\")\n",
    "\n",
    "            pyro.get_param_store().__setitem__(param_store_name, new_param)\n",
    "\n",
    "        self.guide = AutoDiagonalNormal(self.trained_model).to(self.device)\n",
    "\n",
    "        try:\n",
    "            after_labels, after_predictions, after_logits, after_probs = self.predict_data_probs(num_samples)\n",
    "            accuracy_after = self.return_accuracy(after_labels, after_predictions)\n",
    "            softmax_diff = self.compute_softmax_difference(self.initial_probs, after_probs)\n",
    "            mean_abs_diff = float(np.mean(abs_differences))\n",
    "        except:\n",
    "            accuracy_after = np.nan\n",
    "            softmax_diff = np.nan\n",
    "            mean_abs_diff = np.nan\n",
    "\n",
    "        #print(f\"Accuracy after SEU: {accuracy_after}\")\n",
    "        #print(\"===================================\")\n",
    "\n",
    "        return {\n",
    "            \"accuracy_change\": accuracy_after - self.initial_accuracy,\n",
    "            \"softmax_difference\": softmax_diff,\n",
    "            \"mean_abs_difference\": mean_abs_diff\n",
    "        }\n"
   ]
  },
  {
   "cell_type": "code",
   "execution_count": 44,
   "id": "f8228186",
   "metadata": {},
   "outputs": [
    {
     "name": "stderr",
     "output_type": "stream",
     "text": [
      "Evaluating: 100%|██████████| 50/50 [00:03<00:00, 13.71it/s]"
     ]
    },
    {
     "name": "stdout",
     "output_type": "stream",
     "text": [
      "Initial accuracy: 0.71625\n"
     ]
    },
    {
     "name": "stderr",
     "output_type": "stream",
     "text": [
      "\n"
     ]
    }
   ],
   "source": [
    "newinj = NewInjector(trained_model=bayesian_model, device=device, test_loader=test_loader, num_samples=10)"
   ]
  },
  {
   "cell_type": "code",
   "execution_count": 45,
   "id": "7561146c",
   "metadata": {},
   "outputs": [],
   "source": [
    "def load_model_config(timestamp):\n",
    "    config_path = os.path.join(search_dir, config_files[timestamp])\n",
    "\n",
    "    with open(config_path, 'r') as f:\n",
    "        model_config = json.load(f)\n",
    "\n",
    "    return model_config"
   ]
  },
  {
   "cell_type": "code",
   "execution_count": 49,
   "id": "a2791c7e",
   "metadata": {},
   "outputs": [
    {
     "name": "stdout",
     "output_type": "stream",
     "text": [
      "AutoDiagonalNormal.loc: torch.Size([126786])\n",
      "AutoDiagonalNormal.scale: torch.Size([126786])\n"
     ]
    }
   ],
   "source": [
    "# print pyro param store name and shape\n",
    "for name, value in pyro.get_param_store().items():\n",
    "    print(f\"{name}: {value.shape}\")"
   ]
  },
  {
   "cell_type": "code",
   "execution_count": 46,
   "id": "50e42516",
   "metadata": {},
   "outputs": [
    {
     "data": {
      "text/plain": [
       "['_20250715_165043', '_20250715_160541']"
      ]
     },
     "execution_count": 46,
     "metadata": {},
     "output_type": "execute_result"
    }
   ],
   "source": [
    "timestamps"
   ]
  },
  {
   "cell_type": "code",
   "execution_count": 47,
   "id": "186f0376",
   "metadata": {},
   "outputs": [
    {
     "data": {
      "text/plain": [
       "{'activation': 'tanh',\n",
       " 'prior': 'gaussian',\n",
       " 'num_epochs': 100,\n",
       " 'best_accuracy_at_epoch': 10,\n",
       " 'best_accuracy': 0.7140625,\n",
       " 'batch_size': 16,\n",
       " 'train_size': 3200,\n",
       " 'prior_params': {'mu': 0.0, 'b': 10.0}}"
      ]
     },
     "execution_count": 47,
     "metadata": {},
     "output_type": "execute_result"
    }
   ],
   "source": [
    "model_config = load_model_config(timestamps[1])\n",
    "model_config"
   ]
  },
  {
   "cell_type": "code",
   "execution_count": null,
   "id": "9e343882",
   "metadata": {},
   "outputs": [],
   "source": [
    "# loop through model param index\n"
   ]
  },
  {
   "cell_type": "code",
   "execution_count": 52,
   "id": "2a663ecd",
   "metadata": {},
   "outputs": [
    {
     "name": "stdout",
     "output_type": "stream",
     "text": [
      "conv1.weight: (32, 3, 3, 3) (start: 0, end: 863)\n",
      "conv1.bias: (32,) (start: 864, end: 895)\n",
      "conv2.weight: (64, 32, 3, 3) (start: 896, end: 19327)\n",
      "conv2.bias: (64,) (start: 19328, end: 19391)\n",
      "conv3.weight: (128, 64, 3, 3) (start: 19392, end: 93119)\n",
      "conv3.bias: (128,) (start: 93120, end: 93247)\n",
      "fc1.weight: (256, 128) (start: 93248, end: 126015)\n",
      "fc1.bias: (256,) (start: 126016, end: 126271)\n",
      "fc2.weight: (2, 256) (start: 126272, end: 126783)\n",
      "fc2.bias: (2,) (start: 126784, end: 126785)\n"
     ]
    }
   ],
   "source": [
    "# loop through model param index\n",
    "for layer, params in model_param_index.items():\n",
    "    for param_name, param_info in params.items():\n",
    "        print(f\"{layer}.{param_name}: {param_info['shape']} (start: {param_info['start_idx']}, end: {param_info['end_idx']})\")"
   ]
  },
  {
   "cell_type": "code",
   "execution_count": null,
   "id": "5e7e7f89",
   "metadata": {},
   "outputs": [
    {
     "name": "stdout",
     "output_type": "stream",
     "text": [
      "Running SEU on conv1.weight at index 0 with bit flip 0\n",
      "Running SEU on conv1.bias at index 864 with bit flip 0\n",
      "Running SEU on conv2.weight at index 896 with bit flip 0\n",
      "Running SEU on conv2.bias at index 19328 with bit flip 0\n",
      "Running SEU on conv3.weight at index 19392 with bit flip 0\n",
      "Running SEU on conv3.bias at index 93120 with bit flip 0\n",
      "Running SEU on fc1.weight at index 93248 with bit flip 0\n",
      "Running SEU on fc1.bias at index 126016 with bit flip 0\n",
      "Running SEU on fc2.weight at index 126272 with bit flip 0\n",
      "Running SEU on fc2.bias at index 126784 with bit flip 0\n",
      "Running SEU on conv1.weight at index 863 with bit flip 0\n",
      "Running SEU on conv1.bias at index 895 with bit flip 0\n",
      "Running SEU on conv2.weight at index 19327 with bit flip 0\n",
      "Running SEU on conv2.bias at index 19391 with bit flip 0\n",
      "Running SEU on conv3.weight at index 93119 with bit flip 0\n",
      "Running SEU on conv3.bias at index 93247 with bit flip 0\n",
      "Running SEU on fc1.weight at index 126015 with bit flip 0\n",
      "Running SEU on fc1.bias at index 126271 with bit flip 0\n",
      "Running SEU on fc2.weight at index 126783 with bit flip 0\n",
      "Running SEU on fc2.bias at index 126785 with bit flip 0\n"
     ]
    }
   ],
   "source": [
    "attack_locations = [\"beginning\", \"end\"]\n",
    "\n",
    "for attack_location in attack_locations:\n",
    "    for layer, params in model_param_index.items():\n",
    "        for param_name, param_info in params.items():\n",
    "            \n",
    "            if attack_location == \"beginning\":\n",
    "                target_index = param_info['start_idx']\n",
    "            elif attack_location == \"end\":\n",
    "                target_index = param_info['end_idx']\n",
    "\n",
    "            print(f\"Running SEU on {layer}.{param_name} at index {target_index} with bit flip 0\")"
   ]
  },
  {
   "cell_type": "code",
   "execution_count": 57,
   "id": "b18e4c9a",
   "metadata": {},
   "outputs": [
    {
     "name": "stdout",
     "output_type": "stream",
     "text": [
      "Running SEU for bit index 0 for parameter loc\n",
      "Original value: 2.0283055305480957, SEU value: -2.0283055305480957, Abs difference: 4.056611061096191\n"
     ]
    },
    {
     "name": "stderr",
     "output_type": "stream",
     "text": [
      "Evaluating: 100%|██████████| 50/50 [00:04<00:00, 11.37it/s]\n",
      "C:\\Users\\Revalda Putawara\\AppData\\Local\\Temp\\ipykernel_32748\\1048480182.py:60: FutureWarning: The behavior of DataFrame concatenation with empty or all-NA entries is deprecated. In a future version, this will no longer exclude empty or all-NA columns when determining the result dtypes. To retain the old behavior, exclude the relevant entries before the concat operation.\n",
      "  results_df = pd.concat([results_df, iter_df], ignore_index=True)\n"
     ]
    },
    {
     "name": "stdout",
     "output_type": "stream",
     "text": [
      "Accuracy after SEU: 0.735\n",
      "===================================\n",
      "Running SEU for bit index 0 for parameter scale\n",
      "Original value: 0.10241174697875977, SEU value: -0.10241174697875977, Abs difference: 0.20482349395751953\n"
     ]
    },
    {
     "name": "stderr",
     "output_type": "stream",
     "text": [
      "Evaluating:   0%|          | 0/50 [00:00<?, ?it/s]\n"
     ]
    },
    {
     "name": "stdout",
     "output_type": "stream",
     "text": [
      "Accuracy after SEU: nan\n",
      "===================================\n",
      "Running SEU for bit index 1 for parameter loc\n",
      "Original value: 2.0283055305480957, SEU value: 1.6636495628157093e-40, Abs difference: 2.0283055305480957\n"
     ]
    },
    {
     "name": "stderr",
     "output_type": "stream",
     "text": [
      "Evaluating: 100%|██████████| 50/50 [00:03<00:00, 13.36it/s]\n"
     ]
    },
    {
     "name": "stdout",
     "output_type": "stream",
     "text": [
      "Accuracy after SEU: 0.73\n",
      "===================================\n",
      "Running SEU for bit index 1 for parameter scale\n",
      "Original value: 0.10241174697875977, SEU value: 3.484891166244064e+37, Abs difference: 3.484891166244064e+37\n"
     ]
    },
    {
     "name": "stderr",
     "output_type": "stream",
     "text": [
      "Evaluating: 100%|██████████| 50/50 [00:03<00:00, 13.37it/s]\n"
     ]
    },
    {
     "name": "stdout",
     "output_type": "stream",
     "text": [
      "Accuracy after SEU: 0.72625\n",
      "===================================\n",
      "Running SEU for bit index 2 for parameter loc\n",
      "Original value: 2.0283055305480957, SEU value: 3.741563302531039e+19, Abs difference: 3.741563302531039e+19\n"
     ]
    },
    {
     "name": "stderr",
     "output_type": "stream",
     "text": [
      "Evaluating: 100%|██████████| 50/50 [00:04<00:00, 12.35it/s]\n"
     ]
    },
    {
     "name": "stdout",
     "output_type": "stream",
     "text": [
      "Accuracy after SEU: 0.7325\n",
      "===================================\n",
      "Running SEU for bit index 2 for parameter scale\n",
      "Original value: 0.10241174697875977, SEU value: 5.551751928120357e-21, Abs difference: 0.10241174697875977\n"
     ]
    },
    {
     "name": "stderr",
     "output_type": "stream",
     "text": [
      "Evaluating: 100%|██████████| 50/50 [00:03<00:00, 12.97it/s]\n"
     ]
    },
    {
     "name": "stdout",
     "output_type": "stream",
     "text": [
      "Accuracy after SEU: 0.73125\n",
      "===================================\n",
      "Running SEU for bit index 0 for parameter loc\n",
      "Original value: 1.3170245885849, SEU value: -1.3170245885849, Abs difference: 2.6340491771698\n"
     ]
    },
    {
     "name": "stderr",
     "output_type": "stream",
     "text": [
      "Evaluating: 100%|██████████| 50/50 [00:03<00:00, 13.23it/s]\n"
     ]
    },
    {
     "name": "stdout",
     "output_type": "stream",
     "text": [
      "Accuracy after SEU: 0.7275\n",
      "===================================\n",
      "Running SEU for bit index 0 for parameter scale\n",
      "Original value: 0.09753139317035675, SEU value: -0.09753139317035675, Abs difference: 0.1950627863407135\n"
     ]
    },
    {
     "name": "stderr",
     "output_type": "stream",
     "text": [
      "Evaluating:   0%|          | 0/50 [00:00<?, ?it/s]\n",
      "C:\\Users\\Revalda Putawara\\AppData\\Local\\Temp\\ipykernel_32748\\1048480182.py:60: FutureWarning: The behavior of DataFrame concatenation with empty or all-NA entries is deprecated. In a future version, this will no longer exclude empty or all-NA columns when determining the result dtypes. To retain the old behavior, exclude the relevant entries before the concat operation.\n",
      "  results_df = pd.concat([results_df, iter_df], ignore_index=True)\n"
     ]
    },
    {
     "name": "stdout",
     "output_type": "stream",
     "text": [
      "Accuracy after SEU: nan\n",
      "===================================\n",
      "Running SEU for bit index 1 for parameter loc\n",
      "Original value: 1.3170245885849, SEU value: nan, Abs difference: nan\n"
     ]
    },
    {
     "name": "stderr",
     "output_type": "stream",
     "text": [
      "Evaluating:   0%|          | 0/50 [00:00<?, ?it/s]\n"
     ]
    },
    {
     "name": "stdout",
     "output_type": "stream",
     "text": [
      "Accuracy after SEU: nan\n",
      "===================================\n",
      "Running SEU for bit index 1 for parameter scale\n",
      "Original value: 0.09753139317035675, SEU value: 3.3188213317105647e+37, Abs difference: 3.3188213317105647e+37\n"
     ]
    },
    {
     "name": "stderr",
     "output_type": "stream",
     "text": [
      "Evaluating: 100%|██████████| 50/50 [00:03<00:00, 13.15it/s]\n"
     ]
    },
    {
     "name": "stdout",
     "output_type": "stream",
     "text": [
      "Accuracy after SEU: 0.73\n",
      "===================================\n",
      "Running SEU for bit index 2 for parameter loc\n",
      "Original value: 1.3170245885849, SEU value: 7.139604600802881e-20, Abs difference: 1.3170245885849\n"
     ]
    },
    {
     "name": "stderr",
     "output_type": "stream",
     "text": [
      "Evaluating: 100%|██████████| 50/50 [00:03<00:00, 13.30it/s]\n"
     ]
    },
    {
     "name": "stdout",
     "output_type": "stream",
     "text": [
      "Accuracy after SEU: 0.73625\n",
      "===================================\n",
      "Running SEU for bit index 2 for parameter scale\n",
      "Original value: 0.09753139317035675, SEU value: 5.287187418041934e-21, Abs difference: 0.09753139317035675\n"
     ]
    },
    {
     "name": "stderr",
     "output_type": "stream",
     "text": [
      "Evaluating: 100%|██████████| 50/50 [00:03<00:00, 13.12it/s]\n"
     ]
    },
    {
     "name": "stdout",
     "output_type": "stream",
     "text": [
      "Accuracy after SEU: 0.72125\n",
      "===================================\n",
      "Running SEU for bit index 0 for parameter loc\n",
      "Original value: -5.167908668518066, SEU value: 5.167908668518066, Abs difference: 10.335817337036133\n"
     ]
    },
    {
     "name": "stderr",
     "output_type": "stream",
     "text": [
      "Evaluating: 100%|██████████| 50/50 [00:03<00:00, 13.12it/s]\n"
     ]
    },
    {
     "name": "stdout",
     "output_type": "stream",
     "text": [
      "Accuracy after SEU: 0.7325\n",
      "===================================\n",
      "Running SEU for bit index 0 for parameter scale\n",
      "Original value: 0.18035991489887238, SEU value: -0.18035991489887238, Abs difference: 0.36071982979774475\n"
     ]
    },
    {
     "name": "stderr",
     "output_type": "stream",
     "text": [
      "Evaluating:   0%|          | 0/50 [00:00<?, ?it/s]\n",
      "C:\\Users\\Revalda Putawara\\AppData\\Local\\Temp\\ipykernel_32748\\1048480182.py:60: FutureWarning: The behavior of DataFrame concatenation with empty or all-NA entries is deprecated. In a future version, this will no longer exclude empty or all-NA columns when determining the result dtypes. To retain the old behavior, exclude the relevant entries before the concat operation.\n",
      "  results_df = pd.concat([results_df, iter_df], ignore_index=True)\n"
     ]
    },
    {
     "name": "stdout",
     "output_type": "stream",
     "text": [
      "Accuracy after SEU: nan\n",
      "===================================\n",
      "Running SEU for bit index 1 for parameter loc\n",
      "Original value: -5.167908668518066, SEU value: -1.5187118613521292e-38, Abs difference: 5.167908668518066\n"
     ]
    },
    {
     "name": "stderr",
     "output_type": "stream",
     "text": [
      "Evaluating: 100%|██████████| 50/50 [00:03<00:00, 13.10it/s]\n"
     ]
    },
    {
     "name": "stdout",
     "output_type": "stream",
     "text": [
      "Accuracy after SEU: 0.72875\n",
      "===================================\n",
      "Running SEU for bit index 1 for parameter scale\n",
      "Original value: 0.18035991489887238, SEU value: 6.137329873944733e+37, Abs difference: 6.137329873944733e+37\n"
     ]
    },
    {
     "name": "stderr",
     "output_type": "stream",
     "text": [
      "Evaluating: 100%|██████████| 50/50 [00:03<00:00, 12.95it/s]\n"
     ]
    },
    {
     "name": "stdout",
     "output_type": "stream",
     "text": [
      "Accuracy after SEU: 0.71875\n",
      "===================================\n",
      "Running SEU for bit index 2 for parameter loc\n",
      "Original value: -5.167908668518066, SEU value: -9.533108860445786e+19, Abs difference: 9.533108860445786e+19\n"
     ]
    },
    {
     "name": "stderr",
     "output_type": "stream",
     "text": [
      "Evaluating: 100%|██████████| 50/50 [00:03<00:00, 13.08it/s]\n"
     ]
    },
    {
     "name": "stdout",
     "output_type": "stream",
     "text": [
      "Accuracy after SEU: 0.71\n",
      "===================================\n",
      "Running SEU for bit index 2 for parameter scale\n",
      "Original value: 0.18035991489887238, SEU value: 9.777330578132906e-21, Abs difference: 0.18035991489887238\n"
     ]
    },
    {
     "name": "stderr",
     "output_type": "stream",
     "text": [
      "Evaluating: 100%|██████████| 50/50 [00:03<00:00, 12.97it/s]\n"
     ]
    },
    {
     "name": "stdout",
     "output_type": "stream",
     "text": [
      "Accuracy after SEU: 0.715\n",
      "===================================\n",
      "Running SEU for bit index 0 for parameter loc\n",
      "Original value: -6.990065574645996, SEU value: 6.990065574645996, Abs difference: 13.980131149291992\n"
     ]
    },
    {
     "name": "stderr",
     "output_type": "stream",
     "text": [
      "Evaluating: 100%|██████████| 50/50 [00:03<00:00, 13.31it/s]\n"
     ]
    },
    {
     "name": "stdout",
     "output_type": "stream",
     "text": [
      "Accuracy after SEU: 0.72125\n",
      "===================================\n",
      "Running SEU for bit index 0 for parameter scale\n",
      "Original value: 0.1759982705116272, SEU value: -0.1759982705116272, Abs difference: 0.3519965410232544\n"
     ]
    },
    {
     "name": "stderr",
     "output_type": "stream",
     "text": [
      "Evaluating:   0%|          | 0/50 [00:00<?, ?it/s]\n",
      "C:\\Users\\Revalda Putawara\\AppData\\Local\\Temp\\ipykernel_32748\\1048480182.py:60: FutureWarning: The behavior of DataFrame concatenation with empty or all-NA entries is deprecated. In a future version, this will no longer exclude empty or all-NA columns when determining the result dtypes. To retain the old behavior, exclude the relevant entries before the concat operation.\n",
      "  results_df = pd.concat([results_df, iter_df], ignore_index=True)\n"
     ]
    },
    {
     "name": "stdout",
     "output_type": "stream",
     "text": [
      "Accuracy after SEU: nan\n",
      "===================================\n",
      "Running SEU for bit index 1 for parameter loc\n",
      "Original value: -6.990065574645996, SEU value: -2.0541956487184288e-38, Abs difference: 6.990065574645996\n"
     ]
    },
    {
     "name": "stderr",
     "output_type": "stream",
     "text": [
      "Evaluating: 100%|██████████| 50/50 [00:03<00:00, 12.76it/s]\n"
     ]
    },
    {
     "name": "stdout",
     "output_type": "stream",
     "text": [
      "Accuracy after SEU: 0.74625\n",
      "===================================\n",
      "Running SEU for bit index 1 for parameter scale\n",
      "Original value: 0.1759982705116272, SEU value: 5.988910806368811e+37, Abs difference: 5.988910806368811e+37\n"
     ]
    },
    {
     "name": "stderr",
     "output_type": "stream",
     "text": [
      "Evaluating: 100%|██████████| 50/50 [00:03<00:00, 12.90it/s]\n"
     ]
    },
    {
     "name": "stdout",
     "output_type": "stream",
     "text": [
      "Accuracy after SEU: 0.7325\n",
      "===================================\n",
      "Running SEU for bit index 2 for parameter loc\n",
      "Original value: -6.990065574645996, SEU value: -1.2894395071394218e+20, Abs difference: 1.2894395071394218e+20\n"
     ]
    },
    {
     "name": "stderr",
     "output_type": "stream",
     "text": [
      "Evaluating: 100%|██████████| 50/50 [00:03<00:00, 12.94it/s]\n"
     ]
    },
    {
     "name": "stdout",
     "output_type": "stream",
     "text": [
      "Accuracy after SEU: 0.70875\n",
      "===================================\n",
      "Running SEU for bit index 2 for parameter scale\n",
      "Original value: 0.1759982705116272, SEU value: 9.540885362119885e-21, Abs difference: 0.1759982705116272\n"
     ]
    },
    {
     "name": "stderr",
     "output_type": "stream",
     "text": [
      "Evaluating: 100%|██████████| 50/50 [00:03<00:00, 12.74it/s]\n"
     ]
    },
    {
     "name": "stdout",
     "output_type": "stream",
     "text": [
      "Accuracy after SEU: 0.7275\n",
      "===================================\n",
      "Running SEU for bit index 0 for parameter loc\n",
      "Original value: -12.550386428833008, SEU value: 12.550386428833008, Abs difference: 25.100772857666016\n"
     ]
    },
    {
     "name": "stderr",
     "output_type": "stream",
     "text": [
      "Evaluating: 100%|██████████| 50/50 [00:03<00:00, 13.30it/s]\n"
     ]
    },
    {
     "name": "stdout",
     "output_type": "stream",
     "text": [
      "Accuracy after SEU: 0.7375\n",
      "===================================\n",
      "Running SEU for bit index 0 for parameter scale\n",
      "Original value: 0.43199533224105835, SEU value: -0.43199533224105835, Abs difference: 0.8639906644821167\n"
     ]
    },
    {
     "name": "stderr",
     "output_type": "stream",
     "text": [
      "Evaluating:   0%|          | 0/50 [00:00<?, ?it/s]\n",
      "C:\\Users\\Revalda Putawara\\AppData\\Local\\Temp\\ipykernel_32748\\1048480182.py:60: FutureWarning: The behavior of DataFrame concatenation with empty or all-NA entries is deprecated. In a future version, this will no longer exclude empty or all-NA columns when determining the result dtypes. To retain the old behavior, exclude the relevant entries before the concat operation.\n",
      "  results_df = pd.concat([results_df, iter_df], ignore_index=True)\n"
     ]
    },
    {
     "name": "stdout",
     "output_type": "stream",
     "text": [
      "Accuracy after SEU: nan\n",
      "===================================\n",
      "Running SEU for bit index 1 for parameter loc\n",
      "Original value: -12.550386428833008, SEU value: -3.688227086932476e-38, Abs difference: 12.550386428833008\n"
     ]
    },
    {
     "name": "stderr",
     "output_type": "stream",
     "text": [
      "Evaluating: 100%|██████████| 50/50 [00:03<00:00, 12.79it/s]\n"
     ]
    },
    {
     "name": "stdout",
     "output_type": "stream",
     "text": [
      "Accuracy after SEU: 0.72625\n",
      "===================================\n",
      "Running SEU for bit index 1 for parameter scale\n",
      "Original value: 0.43199533224105835, SEU value: 1.4700039415378454e+38, Abs difference: 1.4700039415378454e+38\n"
     ]
    },
    {
     "name": "stderr",
     "output_type": "stream",
     "text": [
      "Evaluating: 100%|██████████| 50/50 [00:03<00:00, 12.93it/s]\n"
     ]
    },
    {
     "name": "stdout",
     "output_type": "stream",
     "text": [
      "Accuracy after SEU: 0.74625\n",
      "===================================\n",
      "Running SEU for bit index 2 for parameter loc\n",
      "Original value: -12.550386428833008, SEU value: -2.3151376647884007e+20, Abs difference: 2.3151376647884007e+20\n"
     ]
    },
    {
     "name": "stderr",
     "output_type": "stream",
     "text": [
      "Evaluating: 100%|██████████| 50/50 [00:03<00:00, 13.39it/s]\n"
     ]
    },
    {
     "name": "stdout",
     "output_type": "stream",
     "text": [
      "Accuracy after SEU: 0.71875\n",
      "===================================\n",
      "Running SEU for bit index 2 for parameter scale\n",
      "Original value: 0.43199533224105835, SEU value: 2.3418513885967637e-20, Abs difference: 0.43199533224105835\n"
     ]
    },
    {
     "name": "stderr",
     "output_type": "stream",
     "text": [
      "Evaluating: 100%|██████████| 50/50 [00:03<00:00, 12.77it/s]\n"
     ]
    },
    {
     "name": "stdout",
     "output_type": "stream",
     "text": [
      "Accuracy after SEU: 0.75125\n",
      "===================================\n",
      "Running SEU for bit index 0 for parameter loc\n",
      "Original value: 14.50163459777832, SEU value: -14.50163459777832, Abs difference: 29.00326919555664\n"
     ]
    },
    {
     "name": "stderr",
     "output_type": "stream",
     "text": [
      "Evaluating: 100%|██████████| 50/50 [00:03<00:00, 13.14it/s]\n"
     ]
    },
    {
     "name": "stdout",
     "output_type": "stream",
     "text": [
      "Accuracy after SEU: 0.73\n",
      "===================================\n",
      "Running SEU for bit index 0 for parameter scale\n",
      "Original value: 0.4228810667991638, SEU value: -0.4228810667991638, Abs difference: 0.8457621335983276\n"
     ]
    },
    {
     "name": "stderr",
     "output_type": "stream",
     "text": [
      "Evaluating:   0%|          | 0/50 [00:00<?, ?it/s]\n",
      "C:\\Users\\Revalda Putawara\\AppData\\Local\\Temp\\ipykernel_32748\\1048480182.py:60: FutureWarning: The behavior of DataFrame concatenation with empty or all-NA entries is deprecated. In a future version, this will no longer exclude empty or all-NA columns when determining the result dtypes. To retain the old behavior, exclude the relevant entries before the concat operation.\n",
      "  results_df = pd.concat([results_df, iter_df], ignore_index=True)\n"
     ]
    },
    {
     "name": "stdout",
     "output_type": "stream",
     "text": [
      "Accuracy after SEU: nan\n",
      "===================================\n",
      "Running SEU for bit index 1 for parameter loc\n",
      "Original value: 14.50163459777832, SEU value: 4.261647386844363e-38, Abs difference: 14.50163459777832\n"
     ]
    },
    {
     "name": "stderr",
     "output_type": "stream",
     "text": [
      "Evaluating: 100%|██████████| 50/50 [00:03<00:00, 12.96it/s]\n"
     ]
    },
    {
     "name": "stdout",
     "output_type": "stream",
     "text": [
      "Accuracy after SEU: 0.7325\n",
      "===================================\n",
      "Running SEU for bit index 1 for parameter scale\n",
      "Original value: 0.4228810667991638, SEU value: 1.4389897033647095e+38, Abs difference: 1.4389897033647095e+38\n"
     ]
    },
    {
     "name": "stderr",
     "output_type": "stream",
     "text": [
      "Evaluating: 100%|██████████| 50/50 [00:03<00:00, 12.86it/s]\n"
     ]
    },
    {
     "name": "stdout",
     "output_type": "stream",
     "text": [
      "Accuracy after SEU: 0.735\n",
      "===================================\n",
      "Running SEU for bit index 2 for parameter loc\n",
      "Original value: 14.50163459777832, SEU value: 2.6750794207566863e+20, Abs difference: 2.6750794207566863e+20\n"
     ]
    },
    {
     "name": "stderr",
     "output_type": "stream",
     "text": [
      "Evaluating: 100%|██████████| 50/50 [00:03<00:00, 13.36it/s]\n"
     ]
    },
    {
     "name": "stdout",
     "output_type": "stream",
     "text": [
      "Accuracy after SEU: 0.7125\n",
      "===================================\n",
      "Running SEU for bit index 2 for parameter scale\n",
      "Original value: 0.4228810667991638, SEU value: 2.2924428566332057e-20, Abs difference: 0.4228810667991638\n"
     ]
    },
    {
     "name": "stderr",
     "output_type": "stream",
     "text": [
      "Evaluating: 100%|██████████| 50/50 [00:03<00:00, 12.97it/s]\n"
     ]
    },
    {
     "name": "stdout",
     "output_type": "stream",
     "text": [
      "Accuracy after SEU: 0.73\n",
      "===================================\n",
      "Running SEU for bit index 0 for parameter loc\n",
      "Original value: -16.708065032958984, SEU value: 16.708065032958984, Abs difference: 33.41613006591797\n"
     ]
    },
    {
     "name": "stderr",
     "output_type": "stream",
     "text": [
      "Evaluating: 100%|██████████| 50/50 [00:03<00:00, 13.08it/s]\n"
     ]
    },
    {
     "name": "stdout",
     "output_type": "stream",
     "text": [
      "Accuracy after SEU: 0.735\n",
      "===================================\n",
      "Running SEU for bit index 0 for parameter scale\n",
      "Original value: 0.5356348752975464, SEU value: -0.5356348752975464, Abs difference: 1.0712697505950928\n"
     ]
    },
    {
     "name": "stderr",
     "output_type": "stream",
     "text": [
      "Evaluating:   0%|          | 0/50 [00:00<?, ?it/s]\n",
      "C:\\Users\\Revalda Putawara\\AppData\\Local\\Temp\\ipykernel_32748\\1048480182.py:60: FutureWarning: The behavior of DataFrame concatenation with empty or all-NA entries is deprecated. In a future version, this will no longer exclude empty or all-NA columns when determining the result dtypes. To retain the old behavior, exclude the relevant entries before the concat operation.\n",
      "  results_df = pd.concat([results_df, iter_df], ignore_index=True)\n"
     ]
    },
    {
     "name": "stdout",
     "output_type": "stream",
     "text": [
      "Accuracy after SEU: nan\n",
      "===================================\n",
      "Running SEU for bit index 1 for parameter loc\n",
      "Original value: -16.708065032958984, SEU value: -4.910059014853671e-38, Abs difference: 16.708065032958984\n"
     ]
    },
    {
     "name": "stderr",
     "output_type": "stream",
     "text": [
      "Evaluating: 100%|██████████| 50/50 [00:03<00:00, 12.75it/s]\n"
     ]
    },
    {
     "name": "stdout",
     "output_type": "stream",
     "text": [
      "Accuracy after SEU: 0.7175\n",
      "===================================\n",
      "Running SEU for bit index 1 for parameter scale\n",
      "Original value: 0.5356348752975464, SEU value: 1.822671031716508e+38, Abs difference: 1.822671031716508e+38\n"
     ]
    },
    {
     "name": "stderr",
     "output_type": "stream",
     "text": [
      "Evaluating: 100%|██████████| 50/50 [00:03<00:00, 13.02it/s]\n"
     ]
    },
    {
     "name": "stdout",
     "output_type": "stream",
     "text": [
      "Accuracy after SEU: 0.73\n",
      "===================================\n",
      "Running SEU for bit index 2 for parameter loc\n",
      "Original value: -16.708065032958984, SEU value: -3.082093996298899e+20, Abs difference: 3.082093996298899e+20\n"
     ]
    },
    {
     "name": "stderr",
     "output_type": "stream",
     "text": [
      "Evaluating: 100%|██████████| 50/50 [00:03<00:00, 13.06it/s]\n"
     ]
    },
    {
     "name": "stdout",
     "output_type": "stream",
     "text": [
      "Accuracy after SEU: 0.73125\n",
      "===================================\n",
      "Running SEU for bit index 2 for parameter scale\n",
      "Original value: 0.5356348752975464, SEU value: 2.90368247728301e-20, Abs difference: 0.5356348752975464\n"
     ]
    },
    {
     "name": "stderr",
     "output_type": "stream",
     "text": [
      "Evaluating: 100%|██████████| 50/50 [00:03<00:00, 13.16it/s]\n"
     ]
    },
    {
     "name": "stdout",
     "output_type": "stream",
     "text": [
      "Accuracy after SEU: 0.73375\n",
      "===================================\n",
      "Running SEU for bit index 0 for parameter loc\n",
      "Original value: 7.667250156402588, SEU value: -7.667250156402588, Abs difference: 15.334500312805176\n"
     ]
    },
    {
     "name": "stderr",
     "output_type": "stream",
     "text": [
      "Evaluating: 100%|██████████| 50/50 [00:03<00:00, 12.63it/s]\n"
     ]
    },
    {
     "name": "stdout",
     "output_type": "stream",
     "text": [
      "Accuracy after SEU: 0.73\n",
      "===================================\n",
      "Running SEU for bit index 0 for parameter scale\n",
      "Original value: 0.5388327240943909, SEU value: -0.5388327240943909, Abs difference: 1.0776654481887817\n"
     ]
    },
    {
     "name": "stderr",
     "output_type": "stream",
     "text": [
      "Evaluating:   0%|          | 0/50 [00:00<?, ?it/s]\n",
      "C:\\Users\\Revalda Putawara\\AppData\\Local\\Temp\\ipykernel_32748\\1048480182.py:60: FutureWarning: The behavior of DataFrame concatenation with empty or all-NA entries is deprecated. In a future version, this will no longer exclude empty or all-NA columns when determining the result dtypes. To retain the old behavior, exclude the relevant entries before the concat operation.\n",
      "  results_df = pd.concat([results_df, iter_df], ignore_index=True)\n"
     ]
    },
    {
     "name": "stdout",
     "output_type": "stream",
     "text": [
      "Accuracy after SEU: nan\n",
      "===================================\n",
      "Running SEU for bit index 1 for parameter loc\n",
      "Original value: 7.667250156402588, SEU value: 2.2532023112981356e-38, Abs difference: 7.667250156402588\n"
     ]
    },
    {
     "name": "stderr",
     "output_type": "stream",
     "text": [
      "Evaluating: 100%|██████████| 50/50 [00:03<00:00, 12.66it/s]\n"
     ]
    },
    {
     "name": "stdout",
     "output_type": "stream",
     "text": [
      "Accuracy after SEU: 0.725\n",
      "===================================\n",
      "Running SEU for bit index 1 for parameter scale\n",
      "Original value: 0.5388327240943909, SEU value: 1.833552747292963e+38, Abs difference: 1.833552747292963e+38\n"
     ]
    },
    {
     "name": "stderr",
     "output_type": "stream",
     "text": [
      "Evaluating: 100%|██████████| 50/50 [00:03<00:00, 12.97it/s]\n"
     ]
    },
    {
     "name": "stdout",
     "output_type": "stream",
     "text": [
      "Accuracy after SEU: 0.73375\n",
      "===================================\n",
      "Running SEU for bit index 2 for parameter loc\n",
      "Original value: 7.667250156402588, SEU value: 1.4143580138426807e+20, Abs difference: 1.4143580138426807e+20\n"
     ]
    },
    {
     "name": "stderr",
     "output_type": "stream",
     "text": [
      "Evaluating: 100%|██████████| 50/50 [00:03<00:00, 13.03it/s]\n"
     ]
    },
    {
     "name": "stdout",
     "output_type": "stream",
     "text": [
      "Accuracy after SEU: 0.73875\n",
      "===================================\n",
      "Running SEU for bit index 2 for parameter scale\n",
      "Original value: 0.5388327240943909, SEU value: 2.921018050347105e-20, Abs difference: 0.5388327240943909\n"
     ]
    },
    {
     "name": "stderr",
     "output_type": "stream",
     "text": [
      "Evaluating: 100%|██████████| 50/50 [00:03<00:00, 13.12it/s]\n"
     ]
    },
    {
     "name": "stdout",
     "output_type": "stream",
     "text": [
      "Accuracy after SEU: 0.73\n",
      "===================================\n",
      "Running SEU for bit index 0 for parameter loc\n",
      "Original value: 8.24804401397705, SEU value: -8.24804401397705, Abs difference: 16.4960880279541\n"
     ]
    },
    {
     "name": "stderr",
     "output_type": "stream",
     "text": [
      "Evaluating: 100%|██████████| 50/50 [00:03<00:00, 13.38it/s]\n"
     ]
    },
    {
     "name": "stdout",
     "output_type": "stream",
     "text": [
      "Accuracy after SEU: 0.74\n",
      "===================================\n",
      "Running SEU for bit index 0 for parameter scale\n",
      "Original value: 0.48200052976608276, SEU value: -0.48200052976608276, Abs difference: 0.9640010595321655\n"
     ]
    },
    {
     "name": "stderr",
     "output_type": "stream",
     "text": [
      "Evaluating:   0%|          | 0/50 [00:00<?, ?it/s]\n",
      "C:\\Users\\Revalda Putawara\\AppData\\Local\\Temp\\ipykernel_32748\\1048480182.py:60: FutureWarning: The behavior of DataFrame concatenation with empty or all-NA entries is deprecated. In a future version, this will no longer exclude empty or all-NA columns when determining the result dtypes. To retain the old behavior, exclude the relevant entries before the concat operation.\n",
      "  results_df = pd.concat([results_df, iter_df], ignore_index=True)\n"
     ]
    },
    {
     "name": "stdout",
     "output_type": "stream",
     "text": [
      "Accuracy after SEU: nan\n",
      "===================================\n",
      "Running SEU for bit index 1 for parameter loc\n",
      "Original value: 8.24804401397705, SEU value: 2.423882285940902e-38, Abs difference: 8.24804401397705\n"
     ]
    },
    {
     "name": "stderr",
     "output_type": "stream",
     "text": [
      "Evaluating: 100%|██████████| 50/50 [00:03<00:00, 13.24it/s]\n"
     ]
    },
    {
     "name": "stdout",
     "output_type": "stream",
     "text": [
      "Accuracy after SEU: 0.73875\n",
      "===================================\n",
      "Running SEU for bit index 1 for parameter scale\n",
      "Original value: 0.48200052976608276, SEU value: 1.640162811259489e+38, Abs difference: 1.640162811259489e+38\n"
     ]
    },
    {
     "name": "stderr",
     "output_type": "stream",
     "text": [
      "Evaluating: 100%|██████████| 50/50 [00:03<00:00, 13.12it/s]\n"
     ]
    },
    {
     "name": "stdout",
     "output_type": "stream",
     "text": [
      "Accuracy after SEU: 0.57\n",
      "===================================\n",
      "Running SEU for bit index 2 for parameter loc\n",
      "Original value: 8.24804401397705, SEU value: 1.521495570345267e+20, Abs difference: 1.521495570345267e+20\n"
     ]
    },
    {
     "name": "stderr",
     "output_type": "stream",
     "text": [
      "Evaluating: 100%|██████████| 50/50 [00:03<00:00, 12.92it/s]\n"
     ]
    },
    {
     "name": "stdout",
     "output_type": "stream",
     "text": [
      "Accuracy after SEU: 0.26\n",
      "===================================\n",
      "Running SEU for bit index 2 for parameter scale\n",
      "Original value: 0.48200052976608276, SEU value: 2.612930107557755e-20, Abs difference: 0.48200052976608276\n"
     ]
    },
    {
     "name": "stderr",
     "output_type": "stream",
     "text": [
      "Evaluating: 100%|██████████| 50/50 [00:03<00:00, 13.09it/s]\n"
     ]
    },
    {
     "name": "stdout",
     "output_type": "stream",
     "text": [
      "Accuracy after SEU: 0.7275\n",
      "===================================\n",
      "Running SEU for bit index 0 for parameter loc\n",
      "Original value: 9.741053581237793, SEU value: -9.741053581237793, Abs difference: 19.482107162475586\n"
     ]
    },
    {
     "name": "stderr",
     "output_type": "stream",
     "text": [
      "Evaluating: 100%|██████████| 50/50 [00:03<00:00, 12.93it/s]\n"
     ]
    },
    {
     "name": "stdout",
     "output_type": "stream",
     "text": [
      "Accuracy after SEU: 0.71125\n",
      "===================================\n",
      "Running SEU for bit index 0 for parameter scale\n",
      "Original value: 0.4716618061065674, SEU value: -0.4716618061065674, Abs difference: 0.9433236122131348\n"
     ]
    },
    {
     "name": "stderr",
     "output_type": "stream",
     "text": [
      "Evaluating:   0%|          | 0/50 [00:00<?, ?it/s]\n",
      "C:\\Users\\Revalda Putawara\\AppData\\Local\\Temp\\ipykernel_32748\\1048480182.py:60: FutureWarning: The behavior of DataFrame concatenation with empty or all-NA entries is deprecated. In a future version, this will no longer exclude empty or all-NA columns when determining the result dtypes. To retain the old behavior, exclude the relevant entries before the concat operation.\n",
      "  results_df = pd.concat([results_df, iter_df], ignore_index=True)\n"
     ]
    },
    {
     "name": "stdout",
     "output_type": "stream",
     "text": [
      "Accuracy after SEU: nan\n",
      "===================================\n",
      "Running SEU for bit index 1 for parameter loc\n",
      "Original value: 9.741053581237793, SEU value: 2.8626383639505596e-38, Abs difference: 9.741053581237793\n"
     ]
    },
    {
     "name": "stderr",
     "output_type": "stream",
     "text": [
      "Evaluating: 100%|██████████| 50/50 [00:03<00:00, 13.49it/s]\n"
     ]
    },
    {
     "name": "stdout",
     "output_type": "stream",
     "text": [
      "Accuracy after SEU: 0.71\n",
      "===================================\n",
      "Running SEU for bit index 1 for parameter scale\n",
      "Original value: 0.4716618061065674, SEU value: 1.604981957681475e+38, Abs difference: 1.604981957681475e+38\n"
     ]
    },
    {
     "name": "stderr",
     "output_type": "stream",
     "text": [
      "Evaluating: 100%|██████████| 50/50 [00:03<00:00, 13.12it/s]\n"
     ]
    },
    {
     "name": "stdout",
     "output_type": "stream",
     "text": [
      "Accuracy after SEU: 0.535\n",
      "===================================\n",
      "Running SEU for bit index 2 for parameter loc\n",
      "Original value: 9.741053581237793, SEU value: 1.7969072242138546e+20, Abs difference: 1.7969072242138546e+20\n"
     ]
    },
    {
     "name": "stderr",
     "output_type": "stream",
     "text": [
      "Evaluating: 100%|██████████| 50/50 [00:03<00:00, 12.99it/s]\n"
     ]
    },
    {
     "name": "stdout",
     "output_type": "stream",
     "text": [
      "Accuracy after SEU: 0.75\n",
      "===================================\n",
      "Running SEU for bit index 2 for parameter scale\n",
      "Original value: 0.4716618061065674, SEU value: 2.5568837742958856e-20, Abs difference: 0.4716618061065674\n"
     ]
    },
    {
     "name": "stderr",
     "output_type": "stream",
     "text": [
      "Evaluating: 100%|██████████| 50/50 [00:03<00:00, 13.13it/s]\n"
     ]
    },
    {
     "name": "stdout",
     "output_type": "stream",
     "text": [
      "Accuracy after SEU: 0.73\n",
      "===================================\n",
      "Running SEU for bit index 0 for parameter loc\n",
      "Original value: 14.664698600769043, SEU value: -14.664698600769043, Abs difference: 29.329397201538086\n"
     ]
    },
    {
     "name": "stderr",
     "output_type": "stream",
     "text": [
      "Evaluating: 100%|██████████| 50/50 [00:03<00:00, 13.00it/s]\n"
     ]
    },
    {
     "name": "stdout",
     "output_type": "stream",
     "text": [
      "Accuracy after SEU: 0.74\n",
      "===================================\n",
      "Running SEU for bit index 0 for parameter scale\n",
      "Original value: 0.10922883450984955, SEU value: -0.10922883450984955, Abs difference: 0.2184576690196991\n"
     ]
    },
    {
     "name": "stderr",
     "output_type": "stream",
     "text": [
      "Evaluating:   0%|          | 0/50 [00:00<?, ?it/s]\n",
      "C:\\Users\\Revalda Putawara\\AppData\\Local\\Temp\\ipykernel_32748\\1048480182.py:60: FutureWarning: The behavior of DataFrame concatenation with empty or all-NA entries is deprecated. In a future version, this will no longer exclude empty or all-NA columns when determining the result dtypes. To retain the old behavior, exclude the relevant entries before the concat operation.\n",
      "  results_df = pd.concat([results_df, iter_df], ignore_index=True)\n"
     ]
    },
    {
     "name": "stdout",
     "output_type": "stream",
     "text": [
      "Accuracy after SEU: nan\n",
      "===================================\n",
      "Running SEU for bit index 1 for parameter loc\n",
      "Original value: 14.664698600769043, SEU value: 4.3095675904288785e-38, Abs difference: 14.664698600769043\n"
     ]
    },
    {
     "name": "stderr",
     "output_type": "stream",
     "text": [
      "Evaluating: 100%|██████████| 50/50 [00:03<00:00, 13.05it/s]\n"
     ]
    },
    {
     "name": "stdout",
     "output_type": "stream",
     "text": [
      "Accuracy after SEU: 0.7325\n",
      "===================================\n",
      "Running SEU for bit index 1 for parameter scale\n",
      "Original value: 0.10922883450984955, SEU value: 3.716864634302709e+37, Abs difference: 3.716864634302709e+37\n"
     ]
    },
    {
     "name": "stderr",
     "output_type": "stream",
     "text": [
      "Evaluating: 100%|██████████| 50/50 [00:03<00:00, 13.05it/s]\n"
     ]
    },
    {
     "name": "stdout",
     "output_type": "stream",
     "text": [
      "Accuracy after SEU: 0.71625\n",
      "===================================\n",
      "Running SEU for bit index 2 for parameter loc\n",
      "Original value: 14.664698600769043, SEU value: 2.705159420064731e+20, Abs difference: 2.705159420064731e+20\n"
     ]
    },
    {
     "name": "stderr",
     "output_type": "stream",
     "text": [
      "Evaluating: 100%|██████████| 50/50 [00:03<00:00, 13.19it/s]\n"
     ]
    },
    {
     "name": "stdout",
     "output_type": "stream",
     "text": [
      "Accuracy after SEU: 0.72625\n",
      "===================================\n",
      "Running SEU for bit index 2 for parameter scale\n",
      "Original value: 0.10922883450984955, SEU value: 5.921306983681926e-21, Abs difference: 0.10922883450984955\n"
     ]
    },
    {
     "name": "stderr",
     "output_type": "stream",
     "text": [
      "Evaluating: 100%|██████████| 50/50 [00:03<00:00, 13.38it/s]\n"
     ]
    },
    {
     "name": "stdout",
     "output_type": "stream",
     "text": [
      "Accuracy after SEU: 0.7225\n",
      "===================================\n",
      "Running SEU for bit index 0 for parameter loc\n",
      "Original value: -9.986615180969238, SEU value: 9.986615180969238, Abs difference: 19.973230361938477\n"
     ]
    },
    {
     "name": "stderr",
     "output_type": "stream",
     "text": [
      "Evaluating: 100%|██████████| 50/50 [00:03<00:00, 13.32it/s]\n"
     ]
    },
    {
     "name": "stdout",
     "output_type": "stream",
     "text": [
      "Accuracy after SEU: 0.72125\n",
      "===================================\n",
      "Running SEU for bit index 0 for parameter scale\n",
      "Original value: 0.09933142364025116, SEU value: -0.09933142364025116, Abs difference: 0.19866284728050232\n"
     ]
    },
    {
     "name": "stderr",
     "output_type": "stream",
     "text": [
      "Evaluating:   0%|          | 0/50 [00:00<?, ?it/s]\n",
      "C:\\Users\\Revalda Putawara\\AppData\\Local\\Temp\\ipykernel_32748\\1048480182.py:60: FutureWarning: The behavior of DataFrame concatenation with empty or all-NA entries is deprecated. In a future version, this will no longer exclude empty or all-NA columns when determining the result dtypes. To retain the old behavior, exclude the relevant entries before the concat operation.\n",
      "  results_df = pd.concat([results_df, iter_df], ignore_index=True)\n"
     ]
    },
    {
     "name": "stdout",
     "output_type": "stream",
     "text": [
      "Accuracy after SEU: nan\n",
      "===================================\n",
      "Running SEU for bit index 1 for parameter loc\n",
      "Original value: -9.986615180969238, SEU value: -2.934802432266359e-38, Abs difference: 9.986615180969238\n"
     ]
    },
    {
     "name": "stderr",
     "output_type": "stream",
     "text": [
      "Evaluating: 100%|██████████| 50/50 [00:03<00:00, 12.59it/s]\n"
     ]
    },
    {
     "name": "stdout",
     "output_type": "stream",
     "text": [
      "Accuracy after SEU: 0.72375\n",
      "===================================\n",
      "Running SEU for bit index 1 for parameter scale\n",
      "Original value: 0.09933142364025116, SEU value: 3.3800731945931126e+37, Abs difference: 3.3800731945931126e+37\n"
     ]
    },
    {
     "name": "stderr",
     "output_type": "stream",
     "text": [
      "Evaluating: 100%|██████████| 50/50 [00:04<00:00, 12.17it/s]\n"
     ]
    },
    {
     "name": "stdout",
     "output_type": "stream",
     "text": [
      "Accuracy after SEU: 0.7025\n",
      "===================================\n",
      "Running SEU for bit index 2 for parameter loc\n",
      "Original value: -9.986615180969238, SEU value: -1.8422053440596214e+20, Abs difference: 1.8422053440596214e+20\n"
     ]
    },
    {
     "name": "stderr",
     "output_type": "stream",
     "text": [
      "Evaluating: 100%|██████████| 50/50 [00:03<00:00, 12.92it/s]\n"
     ]
    },
    {
     "name": "stdout",
     "output_type": "stream",
     "text": [
      "Accuracy after SEU: 0.735\n",
      "===================================\n",
      "Running SEU for bit index 2 for parameter scale\n",
      "Original value: 0.09933142364025116, SEU value: 5.384767265341915e-21, Abs difference: 0.09933142364025116\n"
     ]
    },
    {
     "name": "stderr",
     "output_type": "stream",
     "text": [
      "Evaluating: 100%|██████████| 50/50 [00:03<00:00, 13.12it/s]\n"
     ]
    },
    {
     "name": "stdout",
     "output_type": "stream",
     "text": [
      "Accuracy after SEU: 0.72875\n",
      "===================================\n",
      "Running SEU for bit index 0 for parameter loc\n",
      "Original value: -10.8047456741333, SEU value: 10.8047456741333, Abs difference: 21.6094913482666\n"
     ]
    },
    {
     "name": "stderr",
     "output_type": "stream",
     "text": [
      "Evaluating: 100%|██████████| 50/50 [00:03<00:00, 13.06it/s]\n"
     ]
    },
    {
     "name": "stdout",
     "output_type": "stream",
     "text": [
      "Accuracy after SEU: 0.73\n",
      "===================================\n",
      "Running SEU for bit index 0 for parameter scale\n",
      "Original value: 0.13375911116600037, SEU value: -0.13375911116600037, Abs difference: 0.26751822233200073\n"
     ]
    },
    {
     "name": "stderr",
     "output_type": "stream",
     "text": [
      "Evaluating:   0%|          | 0/50 [00:00<?, ?it/s]\n",
      "C:\\Users\\Revalda Putawara\\AppData\\Local\\Temp\\ipykernel_32748\\1048480182.py:60: FutureWarning: The behavior of DataFrame concatenation with empty or all-NA entries is deprecated. In a future version, this will no longer exclude empty or all-NA columns when determining the result dtypes. To retain the old behavior, exclude the relevant entries before the concat operation.\n",
      "  results_df = pd.concat([results_df, iter_df], ignore_index=True)\n"
     ]
    },
    {
     "name": "stdout",
     "output_type": "stream",
     "text": [
      "Accuracy after SEU: nan\n",
      "===================================\n",
      "Running SEU for bit index 1 for parameter loc\n",
      "Original value: -10.8047456741333, SEU value: -3.175229375503811e-38, Abs difference: 10.8047456741333\n"
     ]
    },
    {
     "name": "stderr",
     "output_type": "stream",
     "text": [
      "Evaluating: 100%|██████████| 50/50 [00:03<00:00, 13.00it/s]\n"
     ]
    },
    {
     "name": "stdout",
     "output_type": "stream",
     "text": [
      "Accuracy after SEU: 0.735\n",
      "===================================\n",
      "Running SEU for bit index 1 for parameter scale\n",
      "Original value: 0.13375911116600037, SEU value: 4.551586694480753e+37, Abs difference: 4.551586694480753e+37\n"
     ]
    },
    {
     "name": "stderr",
     "output_type": "stream",
     "text": [
      "Evaluating: 100%|██████████| 50/50 [00:03<00:00, 12.90it/s]\n"
     ]
    },
    {
     "name": "stdout",
     "output_type": "stream",
     "text": [
      "Accuracy after SEU: 0.73375\n",
      "===================================\n",
      "Running SEU for bit index 2 for parameter loc\n",
      "Original value: -10.8047456741333, SEU value: -1.9931237823225738e+20, Abs difference: 1.9931237823225738e+20\n"
     ]
    },
    {
     "name": "stderr",
     "output_type": "stream",
     "text": [
      "Evaluating: 100%|██████████| 50/50 [00:03<00:00, 12.58it/s]\n"
     ]
    },
    {
     "name": "stdout",
     "output_type": "stream",
     "text": [
      "Accuracy after SEU: 0.7275\n",
      "===================================\n",
      "Running SEU for bit index 2 for parameter scale\n",
      "Original value: 0.13375911116600037, SEU value: 7.251095945795385e-21, Abs difference: 0.13375911116600037\n"
     ]
    },
    {
     "name": "stderr",
     "output_type": "stream",
     "text": [
      "Evaluating: 100%|██████████| 50/50 [00:03<00:00, 12.91it/s]\n"
     ]
    },
    {
     "name": "stdout",
     "output_type": "stream",
     "text": [
      "Accuracy after SEU: 0.73625\n",
      "===================================\n",
      "Running SEU for bit index 0 for parameter loc\n",
      "Original value: -0.2043866366147995, SEU value: 0.2043866366147995, Abs difference: 0.408773273229599\n"
     ]
    },
    {
     "name": "stderr",
     "output_type": "stream",
     "text": [
      "Evaluating: 100%|██████████| 50/50 [00:03<00:00, 13.44it/s]\n"
     ]
    },
    {
     "name": "stdout",
     "output_type": "stream",
     "text": [
      "Accuracy after SEU: 0.7275\n",
      "===================================\n",
      "Running SEU for bit index 0 for parameter scale\n",
      "Original value: 0.12989819049835205, SEU value: -0.12989819049835205, Abs difference: 0.2597963809967041\n"
     ]
    },
    {
     "name": "stderr",
     "output_type": "stream",
     "text": [
      "Evaluating:   0%|          | 0/50 [00:00<?, ?it/s]\n",
      "C:\\Users\\Revalda Putawara\\AppData\\Local\\Temp\\ipykernel_32748\\1048480182.py:60: FutureWarning: The behavior of DataFrame concatenation with empty or all-NA entries is deprecated. In a future version, this will no longer exclude empty or all-NA columns when determining the result dtypes. To retain the old behavior, exclude the relevant entries before the concat operation.\n",
      "  results_df = pd.concat([results_df, iter_df], ignore_index=True)\n"
     ]
    },
    {
     "name": "stdout",
     "output_type": "stream",
     "text": [
      "Accuracy after SEU: nan\n",
      "===================================\n",
      "Running SEU for bit index 1 for parameter loc\n",
      "Original value: -0.2043866366147995, SEU value: -6.954916847429372e+37, Abs difference: 6.954916847429372e+37\n"
     ]
    },
    {
     "name": "stderr",
     "output_type": "stream",
     "text": [
      "Evaluating: 100%|██████████| 50/50 [00:03<00:00, 12.73it/s]\n"
     ]
    },
    {
     "name": "stdout",
     "output_type": "stream",
     "text": [
      "Accuracy after SEU: 0.73375\n",
      "===================================\n",
      "Running SEU for bit index 1 for parameter scale\n",
      "Original value: 0.12989819049835205, SEU value: 4.4202063721526195e+37, Abs difference: 4.4202063721526195e+37\n"
     ]
    },
    {
     "name": "stderr",
     "output_type": "stream",
     "text": [
      "Evaluating: 100%|██████████| 50/50 [00:03<00:00, 13.42it/s]\n"
     ]
    },
    {
     "name": "stdout",
     "output_type": "stream",
     "text": [
      "Accuracy after SEU: 0.725\n",
      "===================================\n",
      "Running SEU for bit index 2 for parameter loc\n",
      "Original value: -0.2043866366147995, SEU value: -1.1079821772238548e-20, Abs difference: 0.2043866366147995\n"
     ]
    },
    {
     "name": "stderr",
     "output_type": "stream",
     "text": [
      "Evaluating: 100%|██████████| 50/50 [00:03<00:00, 12.73it/s]\n"
     ]
    },
    {
     "name": "stdout",
     "output_type": "stream",
     "text": [
      "Accuracy after SEU: 0.72875\n",
      "===================================\n",
      "Running SEU for bit index 2 for parameter scale\n",
      "Original value: 0.12989819049835205, SEU value: 7.04179501701246e-21, Abs difference: 0.12989819049835205\n"
     ]
    },
    {
     "name": "stderr",
     "output_type": "stream",
     "text": [
      "Evaluating: 100%|██████████| 50/50 [00:03<00:00, 12.59it/s]\n"
     ]
    },
    {
     "name": "stdout",
     "output_type": "stream",
     "text": [
      "Accuracy after SEU: 0.735\n",
      "===================================\n",
      "Running SEU for bit index 0 for parameter loc\n",
      "Original value: 17.780092239379883, SEU value: -17.780092239379883, Abs difference: 35.560184478759766\n"
     ]
    },
    {
     "name": "stderr",
     "output_type": "stream",
     "text": [
      "Evaluating: 100%|██████████| 50/50 [00:03<00:00, 13.05it/s]\n"
     ]
    },
    {
     "name": "stdout",
     "output_type": "stream",
     "text": [
      "Accuracy after SEU: 0.74\n",
      "===================================\n",
      "Running SEU for bit index 0 for parameter scale\n",
      "Original value: 0.43516314029693604, SEU value: -0.43516314029693604, Abs difference: 0.8703262805938721\n"
     ]
    },
    {
     "name": "stderr",
     "output_type": "stream",
     "text": [
      "Evaluating:   0%|          | 0/50 [00:00<?, ?it/s]\n",
      "C:\\Users\\Revalda Putawara\\AppData\\Local\\Temp\\ipykernel_32748\\1048480182.py:60: FutureWarning: The behavior of DataFrame concatenation with empty or all-NA entries is deprecated. In a future version, this will no longer exclude empty or all-NA columns when determining the result dtypes. To retain the old behavior, exclude the relevant entries before the concat operation.\n",
      "  results_df = pd.concat([results_df, iter_df], ignore_index=True)\n"
     ]
    },
    {
     "name": "stdout",
     "output_type": "stream",
     "text": [
      "Accuracy after SEU: nan\n",
      "===================================\n",
      "Running SEU for bit index 1 for parameter loc\n",
      "Original value: 17.780092239379883, SEU value: 5.225099496122562e-38, Abs difference: 17.780092239379883\n"
     ]
    },
    {
     "name": "stderr",
     "output_type": "stream",
     "text": [
      "Evaluating: 100%|██████████| 50/50 [00:04<00:00, 12.31it/s]\n"
     ]
    },
    {
     "name": "stdout",
     "output_type": "stream",
     "text": [
      "Accuracy after SEU: 0.7275\n",
      "===================================\n",
      "Running SEU for bit index 1 for parameter scale\n",
      "Original value: 0.43516314029693604, SEU value: 1.4807834337698981e+38, Abs difference: 1.4807834337698981e+38\n"
     ]
    },
    {
     "name": "stderr",
     "output_type": "stream",
     "text": [
      "Evaluating: 100%|██████████| 50/50 [00:03<00:00, 12.66it/s]\n"
     ]
    },
    {
     "name": "stdout",
     "output_type": "stream",
     "text": [
      "Accuracy after SEU: 0.72\n",
      "===================================\n",
      "Running SEU for bit index 2 for parameter loc\n",
      "Original value: 17.780092239379883, SEU value: 3.2798481114679004e+20, Abs difference: 3.2798481114679004e+20\n"
     ]
    },
    {
     "name": "stderr",
     "output_type": "stream",
     "text": [
      "Evaluating: 100%|██████████| 50/50 [00:03<00:00, 13.39it/s]\n"
     ]
    },
    {
     "name": "stdout",
     "output_type": "stream",
     "text": [
      "Accuracy after SEU: 0.735\n",
      "===================================\n",
      "Running SEU for bit index 2 for parameter scale\n",
      "Original value: 0.43516314029693604, SEU value: 2.359024110477762e-20, Abs difference: 0.43516314029693604\n"
     ]
    },
    {
     "name": "stderr",
     "output_type": "stream",
     "text": [
      "Evaluating: 100%|██████████| 50/50 [00:03<00:00, 13.12it/s]\n"
     ]
    },
    {
     "name": "stdout",
     "output_type": "stream",
     "text": [
      "Accuracy after SEU: 0.7225\n",
      "===================================\n",
      "Running SEU for bit index 0 for parameter loc\n",
      "Original value: 1.601302146911621, SEU value: -1.601302146911621, Abs difference: 3.202604293823242\n"
     ]
    },
    {
     "name": "stderr",
     "output_type": "stream",
     "text": [
      "Evaluating: 100%|██████████| 50/50 [00:03<00:00, 12.70it/s]\n"
     ]
    },
    {
     "name": "stdout",
     "output_type": "stream",
     "text": [
      "Accuracy after SEU: 0.71625\n",
      "===================================\n",
      "Running SEU for bit index 0 for parameter scale\n",
      "Original value: 0.43048033118247986, SEU value: -0.43048033118247986, Abs difference: 0.8609606623649597\n"
     ]
    },
    {
     "name": "stderr",
     "output_type": "stream",
     "text": [
      "Evaluating:   0%|          | 0/50 [00:00<?, ?it/s]\n",
      "C:\\Users\\Revalda Putawara\\AppData\\Local\\Temp\\ipykernel_32748\\1048480182.py:60: FutureWarning: The behavior of DataFrame concatenation with empty or all-NA entries is deprecated. In a future version, this will no longer exclude empty or all-NA columns when determining the result dtypes. To retain the old behavior, exclude the relevant entries before the concat operation.\n",
      "  results_df = pd.concat([results_df, iter_df], ignore_index=True)\n"
     ]
    },
    {
     "name": "stdout",
     "output_type": "stream",
     "text": [
      "Accuracy after SEU: nan\n",
      "===================================\n",
      "Running SEU for bit index 1 for parameter loc\n",
      "Original value: 1.601302146911621, SEU value: nan, Abs difference: nan\n"
     ]
    },
    {
     "name": "stderr",
     "output_type": "stream",
     "text": [
      "Evaluating:   0%|          | 0/50 [00:00<?, ?it/s]\n"
     ]
    },
    {
     "name": "stdout",
     "output_type": "stream",
     "text": [
      "Accuracy after SEU: nan\n",
      "===================================\n",
      "Running SEU for bit index 1 for parameter scale\n",
      "Original value: 0.43048033118247986, SEU value: 1.4648486600768372e+38, Abs difference: 1.4648486600768372e+38\n"
     ]
    },
    {
     "name": "stderr",
     "output_type": "stream",
     "text": [
      "Evaluating: 100%|██████████| 50/50 [00:03<00:00, 13.17it/s]\n"
     ]
    },
    {
     "name": "stdout",
     "output_type": "stream",
     "text": [
      "Accuracy after SEU: 0.72\n",
      "===================================\n",
      "Running SEU for bit index 2 for parameter loc\n",
      "Original value: 1.601302146911621, SEU value: 8.68067633243641e-20, Abs difference: 1.601302146911621\n"
     ]
    },
    {
     "name": "stderr",
     "output_type": "stream",
     "text": [
      "Evaluating: 100%|██████████| 50/50 [00:03<00:00, 12.97it/s]\n"
     ]
    },
    {
     "name": "stdout",
     "output_type": "stream",
     "text": [
      "Accuracy after SEU: 0.725\n",
      "===================================\n",
      "Running SEU for bit index 2 for parameter scale\n",
      "Original value: 0.43048033118247986, SEU value: 2.3336385514016205e-20, Abs difference: 0.43048033118247986\n"
     ]
    },
    {
     "name": "stderr",
     "output_type": "stream",
     "text": [
      "Evaluating: 100%|██████████| 50/50 [00:03<00:00, 13.03it/s]\n"
     ]
    },
    {
     "name": "stdout",
     "output_type": "stream",
     "text": [
      "Accuracy after SEU: 0.72875\n",
      "===================================\n",
      "Running SEU for bit index 0 for parameter loc\n",
      "Original value: -2.030679225921631, SEU value: 2.030679225921631, Abs difference: 4.061358451843262\n"
     ]
    },
    {
     "name": "stderr",
     "output_type": "stream",
     "text": [
      "Evaluating: 100%|██████████| 50/50 [00:03<00:00, 12.52it/s]\n"
     ]
    },
    {
     "name": "stdout",
     "output_type": "stream",
     "text": [
      "Accuracy after SEU: 0.74\n",
      "===================================\n",
      "Running SEU for bit index 0 for parameter scale\n",
      "Original value: 0.5212327837944031, SEU value: -0.5212327837944031, Abs difference: 1.0424655675888062\n"
     ]
    },
    {
     "name": "stderr",
     "output_type": "stream",
     "text": [
      "Evaluating:   0%|          | 0/50 [00:00<?, ?it/s]\n",
      "C:\\Users\\Revalda Putawara\\AppData\\Local\\Temp\\ipykernel_32748\\1048480182.py:60: FutureWarning: The behavior of DataFrame concatenation with empty or all-NA entries is deprecated. In a future version, this will no longer exclude empty or all-NA columns when determining the result dtypes. To retain the old behavior, exclude the relevant entries before the concat operation.\n",
      "  results_df = pd.concat([results_df, iter_df], ignore_index=True)\n"
     ]
    },
    {
     "name": "stdout",
     "output_type": "stream",
     "text": [
      "Accuracy after SEU: nan\n",
      "===================================\n",
      "Running SEU for bit index 1 for parameter loc\n",
      "Original value: -2.030679225921631, SEU value: -1.8031628379238881e-40, Abs difference: 2.030679225921631\n"
     ]
    },
    {
     "name": "stderr",
     "output_type": "stream",
     "text": [
      "Evaluating: 100%|██████████| 50/50 [00:03<00:00, 12.67it/s]\n"
     ]
    },
    {
     "name": "stdout",
     "output_type": "stream",
     "text": [
      "Accuracy after SEU: 0.72875\n",
      "===================================\n",
      "Running SEU for bit index 1 for parameter scale\n",
      "Original value: 0.5212327837944031, SEU value: 1.7736632538634926e+38, Abs difference: 1.7736632538634926e+38\n"
     ]
    },
    {
     "name": "stderr",
     "output_type": "stream",
     "text": [
      "Evaluating: 100%|██████████| 50/50 [00:04<00:00, 11.95it/s]\n"
     ]
    },
    {
     "name": "stdout",
     "output_type": "stream",
     "text": [
      "Accuracy after SEU: 0.7475\n",
      "===================================\n",
      "Running SEU for bit index 2 for parameter loc\n",
      "Original value: -2.030679225921631, SEU value: -3.745941997637494e+19, Abs difference: 3.745941997637494e+19\n"
     ]
    },
    {
     "name": "stderr",
     "output_type": "stream",
     "text": [
      "Evaluating: 100%|██████████| 50/50 [00:03<00:00, 12.72it/s]\n"
     ]
    },
    {
     "name": "stdout",
     "output_type": "stream",
     "text": [
      "Accuracy after SEU: 0.73875\n",
      "===================================\n",
      "Running SEU for bit index 2 for parameter scale\n",
      "Original value: 0.5212327837944031, SEU value: 2.825608582802795e-20, Abs difference: 0.5212327837944031\n"
     ]
    },
    {
     "name": "stderr",
     "output_type": "stream",
     "text": [
      "Evaluating: 100%|██████████| 50/50 [00:03<00:00, 13.03it/s]\n"
     ]
    },
    {
     "name": "stdout",
     "output_type": "stream",
     "text": [
      "Accuracy after SEU: 0.72375\n",
      "===================================\n",
      "Running SEU for bit index 0 for parameter loc\n",
      "Original value: -11.970732688903809, SEU value: 11.970732688903809, Abs difference: 23.941465377807617\n"
     ]
    },
    {
     "name": "stderr",
     "output_type": "stream",
     "text": [
      "Evaluating: 100%|██████████| 50/50 [00:03<00:00, 12.85it/s]\n"
     ]
    },
    {
     "name": "stdout",
     "output_type": "stream",
     "text": [
      "Accuracy after SEU: 0.72\n",
      "===================================\n",
      "Running SEU for bit index 0 for parameter scale\n",
      "Original value: 0.4921266436576843, SEU value: -0.4921266436576843, Abs difference: 0.9842532873153687\n"
     ]
    },
    {
     "name": "stderr",
     "output_type": "stream",
     "text": [
      "Evaluating:   0%|          | 0/50 [00:00<?, ?it/s]\n",
      "C:\\Users\\Revalda Putawara\\AppData\\Local\\Temp\\ipykernel_32748\\1048480182.py:60: FutureWarning: The behavior of DataFrame concatenation with empty or all-NA entries is deprecated. In a future version, this will no longer exclude empty or all-NA columns when determining the result dtypes. To retain the old behavior, exclude the relevant entries before the concat operation.\n",
      "  results_df = pd.concat([results_df, iter_df], ignore_index=True)\n"
     ]
    },
    {
     "name": "stdout",
     "output_type": "stream",
     "text": [
      "Accuracy after SEU: nan\n",
      "===================================\n",
      "Running SEU for bit index 1 for parameter loc\n",
      "Original value: -11.970732688903809, SEU value: -3.5178821627525297e-38, Abs difference: 11.970732688903809\n"
     ]
    },
    {
     "name": "stderr",
     "output_type": "stream",
     "text": [
      "Evaluating: 100%|██████████| 50/50 [00:03<00:00, 12.73it/s]\n"
     ]
    },
    {
     "name": "stdout",
     "output_type": "stream",
     "text": [
      "Accuracy after SEU: 0.72125\n",
      "===================================\n",
      "Running SEU for bit index 1 for parameter scale\n",
      "Original value: 0.4921266436576843, SEU value: 1.6746201912869407e+38, Abs difference: 1.6746201912869407e+38\n"
     ]
    },
    {
     "name": "stderr",
     "output_type": "stream",
     "text": [
      "Evaluating: 100%|██████████| 50/50 [00:04<00:00, 12.28it/s]\n"
     ]
    },
    {
     "name": "stdout",
     "output_type": "stream",
     "text": [
      "Accuracy after SEU: 0.74875\n",
      "===================================\n",
      "Running SEU for bit index 2 for parameter loc\n",
      "Original value: -11.970732688903809, SEU value: -2.2082104228699754e+20, Abs difference: 2.2082104228699754e+20\n"
     ]
    },
    {
     "name": "stderr",
     "output_type": "stream",
     "text": [
      "Evaluating: 100%|██████████| 50/50 [00:03<00:00, 12.50it/s]\n"
     ]
    },
    {
     "name": "stdout",
     "output_type": "stream",
     "text": [
      "Accuracy after SEU: 0.74375\n",
      "===================================\n",
      "Running SEU for bit index 2 for parameter scale\n",
      "Original value: 0.4921266436576843, SEU value: 2.6678238809583052e-20, Abs difference: 0.4921266436576843\n"
     ]
    },
    {
     "name": "stderr",
     "output_type": "stream",
     "text": [
      "Evaluating: 100%|██████████| 50/50 [00:03<00:00, 12.58it/s]\n"
     ]
    },
    {
     "name": "stdout",
     "output_type": "stream",
     "text": [
      "Accuracy after SEU: 0.72\n",
      "===================================\n",
      "Running SEU for bit index 0 for parameter loc\n",
      "Original value: 2.2186999320983887, SEU value: -2.2186999320983887, Abs difference: 4.437399864196777\n"
     ]
    },
    {
     "name": "stderr",
     "output_type": "stream",
     "text": [
      "Evaluating: 100%|██████████| 50/50 [00:04<00:00, 11.82it/s]\n"
     ]
    },
    {
     "name": "stdout",
     "output_type": "stream",
     "text": [
      "Accuracy after SEU: 0.72375\n",
      "===================================\n",
      "Running SEU for bit index 0 for parameter scale\n",
      "Original value: 0.4802702069282532, SEU value: -0.4802702069282532, Abs difference: 0.9605404138565063\n"
     ]
    },
    {
     "name": "stderr",
     "output_type": "stream",
     "text": [
      "Evaluating:   0%|          | 0/50 [00:00<?, ?it/s]\n",
      "C:\\Users\\Revalda Putawara\\AppData\\Local\\Temp\\ipykernel_32748\\1048480182.py:60: FutureWarning: The behavior of DataFrame concatenation with empty or all-NA entries is deprecated. In a future version, this will no longer exclude empty or all-NA columns when determining the result dtypes. To retain the old behavior, exclude the relevant entries before the concat operation.\n",
      "  results_df = pd.concat([results_df, iter_df], ignore_index=True)\n"
     ]
    },
    {
     "name": "stdout",
     "output_type": "stream",
     "text": [
      "Accuracy after SEU: nan\n",
      "===================================\n",
      "Running SEU for bit index 1 for parameter loc\n",
      "Original value: 2.2186999320983887, SEU value: 1.2854026735343688e-39, Abs difference: 2.2186999320983887\n"
     ]
    },
    {
     "name": "stderr",
     "output_type": "stream",
     "text": [
      "Evaluating: 100%|██████████| 50/50 [00:03<00:00, 13.23it/s]\n"
     ]
    },
    {
     "name": "stdout",
     "output_type": "stream",
     "text": [
      "Accuracy after SEU: 0.7375\n",
      "===================================\n",
      "Running SEU for bit index 1 for parameter scale\n",
      "Original value: 0.4802702069282532, SEU value: 1.6342748277515489e+38, Abs difference: 1.6342748277515489e+38\n"
     ]
    },
    {
     "name": "stderr",
     "output_type": "stream",
     "text": [
      "Evaluating: 100%|██████████| 50/50 [00:03<00:00, 13.12it/s]\n"
     ]
    },
    {
     "name": "stdout",
     "output_type": "stream",
     "text": [
      "Accuracy after SEU: 0.45875\n",
      "===================================\n",
      "Running SEU for bit index 2 for parameter loc\n",
      "Original value: 2.2186999320983887, SEU value: 4.0927789823775736e+19, Abs difference: 4.0927789823775736e+19\n"
     ]
    },
    {
     "name": "stderr",
     "output_type": "stream",
     "text": [
      "Evaluating: 100%|██████████| 50/50 [00:03<00:00, 13.13it/s]\n"
     ]
    },
    {
     "name": "stdout",
     "output_type": "stream",
     "text": [
      "Accuracy after SEU: 0.26125\n",
      "===================================\n",
      "Running SEU for bit index 2 for parameter scale\n",
      "Original value: 0.4802702069282532, SEU value: 2.6035500086583743e-20, Abs difference: 0.4802702069282532\n"
     ]
    },
    {
     "name": "stderr",
     "output_type": "stream",
     "text": [
      "Evaluating: 100%|██████████| 50/50 [00:03<00:00, 12.66it/s]\n"
     ]
    },
    {
     "name": "stdout",
     "output_type": "stream",
     "text": [
      "Accuracy after SEU: 0.7275\n",
      "===================================\n",
      "Running SEU for bit index 0 for parameter loc\n",
      "Original value: 16.365169525146484, SEU value: -16.365169525146484, Abs difference: 32.73033905029297\n"
     ]
    },
    {
     "name": "stderr",
     "output_type": "stream",
     "text": [
      "Evaluating: 100%|██████████| 50/50 [00:03<00:00, 12.59it/s]\n"
     ]
    },
    {
     "name": "stdout",
     "output_type": "stream",
     "text": [
      "Accuracy after SEU: 0.74625\n",
      "===================================\n",
      "Running SEU for bit index 0 for parameter scale\n",
      "Original value: 0.46620631217956543, SEU value: -0.46620631217956543, Abs difference: 0.9324126243591309\n"
     ]
    },
    {
     "name": "stderr",
     "output_type": "stream",
     "text": [
      "Evaluating:   0%|          | 0/50 [00:00<?, ?it/s]\n",
      "C:\\Users\\Revalda Putawara\\AppData\\Local\\Temp\\ipykernel_32748\\1048480182.py:60: FutureWarning: The behavior of DataFrame concatenation with empty or all-NA entries is deprecated. In a future version, this will no longer exclude empty or all-NA columns when determining the result dtypes. To retain the old behavior, exclude the relevant entries before the concat operation.\n",
      "  results_df = pd.concat([results_df, iter_df], ignore_index=True)\n"
     ]
    },
    {
     "name": "stdout",
     "output_type": "stream",
     "text": [
      "Accuracy after SEU: nan\n",
      "===================================\n",
      "Running SEU for bit index 1 for parameter loc\n",
      "Original value: 16.365169525146484, SEU value: 4.809291081764687e-38, Abs difference: 16.365169525146484\n"
     ]
    },
    {
     "name": "stderr",
     "output_type": "stream",
     "text": [
      "Evaluating: 100%|██████████| 50/50 [00:03<00:00, 12.78it/s]\n"
     ]
    },
    {
     "name": "stdout",
     "output_type": "stream",
     "text": [
      "Accuracy after SEU: 0.75\n",
      "===================================\n",
      "Running SEU for bit index 1 for parameter scale\n",
      "Original value: 0.46620631217956543, SEU value: 1.5864178738194447e+38, Abs difference: 1.5864178738194447e+38\n"
     ]
    },
    {
     "name": "stderr",
     "output_type": "stream",
     "text": [
      "Evaluating: 100%|██████████| 50/50 [00:03<00:00, 13.07it/s]\n"
     ]
    },
    {
     "name": "stdout",
     "output_type": "stream",
     "text": [
      "Accuracy after SEU: 0.5025\n",
      "===================================\n",
      "Running SEU for bit index 2 for parameter loc\n",
      "Original value: 16.365169525146484, SEU value: 3.018840939532481e+20, Abs difference: 3.018840939532481e+20\n"
     ]
    },
    {
     "name": "stderr",
     "output_type": "stream",
     "text": [
      "Evaluating: 100%|██████████| 50/50 [00:03<00:00, 13.20it/s]\n"
     ]
    },
    {
     "name": "stdout",
     "output_type": "stream",
     "text": [
      "Accuracy after SEU: 0.25\n",
      "===================================\n",
      "Running SEU for bit index 2 for parameter scale\n",
      "Original value: 0.46620631217956543, SEU value: 2.5273094824577006e-20, Abs difference: 0.46620631217956543\n"
     ]
    },
    {
     "name": "stderr",
     "output_type": "stream",
     "text": [
      "Evaluating: 100%|██████████| 50/50 [00:03<00:00, 12.99it/s]"
     ]
    },
    {
     "name": "stdout",
     "output_type": "stream",
     "text": [
      "Accuracy after SEU: 0.74\n",
      "===================================\n"
     ]
    },
    {
     "name": "stderr",
     "output_type": "stream",
     "text": [
      "\n"
     ]
    },
    {
     "data": {
      "text/html": [
       "<div>\n",
       "<style scoped>\n",
       "    .dataframe tbody tr th:only-of-type {\n",
       "        vertical-align: middle;\n",
       "    }\n",
       "\n",
       "    .dataframe tbody tr th {\n",
       "        vertical-align: top;\n",
       "    }\n",
       "\n",
       "    .dataframe thead th {\n",
       "        text-align: right;\n",
       "    }\n",
       "</style>\n",
       "<table border=\"1\" class=\"dataframe\">\n",
       "  <thead>\n",
       "    <tr style=\"text-align: right;\">\n",
       "      <th></th>\n",
       "      <th>activation_fn</th>\n",
       "      <th>prior</th>\n",
       "      <th>best_accuracy</th>\n",
       "      <th>prior_mu</th>\n",
       "      <th>prior_b</th>\n",
       "      <th>param_type</th>\n",
       "      <th>location_index</th>\n",
       "      <th>location_layer</th>\n",
       "      <th>location_module</th>\n",
       "      <th>bit_index</th>\n",
       "      <th>initial_accuracy</th>\n",
       "      <th>accuracy_after_seu</th>\n",
       "      <th>accuracy_change</th>\n",
       "      <th>softmax_difference</th>\n",
       "      <th>mean_abs_difference</th>\n",
       "    </tr>\n",
       "  </thead>\n",
       "  <tbody>\n",
       "    <tr>\n",
       "      <th>0</th>\n",
       "      <td>tanh</td>\n",
       "      <td>gaussian</td>\n",
       "      <td>0.714063</td>\n",
       "      <td>0.0</td>\n",
       "      <td>10.0</td>\n",
       "      <td>loc</td>\n",
       "      <td>0</td>\n",
       "      <td>conv1</td>\n",
       "      <td>weight</td>\n",
       "      <td>0</td>\n",
       "      <td>0.71625</td>\n",
       "      <td>0.73500</td>\n",
       "      <td>0.01875</td>\n",
       "      <td>0.084771</td>\n",
       "      <td>4.056611e+00</td>\n",
       "    </tr>\n",
       "    <tr>\n",
       "      <th>1</th>\n",
       "      <td>tanh</td>\n",
       "      <td>gaussian</td>\n",
       "      <td>0.714063</td>\n",
       "      <td>0.0</td>\n",
       "      <td>10.0</td>\n",
       "      <td>scale</td>\n",
       "      <td>0</td>\n",
       "      <td>conv1</td>\n",
       "      <td>weight</td>\n",
       "      <td>0</td>\n",
       "      <td>0.71625</td>\n",
       "      <td>NaN</td>\n",
       "      <td>NaN</td>\n",
       "      <td>NaN</td>\n",
       "      <td>2.048235e-01</td>\n",
       "    </tr>\n",
       "    <tr>\n",
       "      <th>2</th>\n",
       "      <td>tanh</td>\n",
       "      <td>gaussian</td>\n",
       "      <td>0.714063</td>\n",
       "      <td>0.0</td>\n",
       "      <td>10.0</td>\n",
       "      <td>loc</td>\n",
       "      <td>0</td>\n",
       "      <td>conv1</td>\n",
       "      <td>weight</td>\n",
       "      <td>1</td>\n",
       "      <td>0.71625</td>\n",
       "      <td>0.73000</td>\n",
       "      <td>0.01375</td>\n",
       "      <td>0.084719</td>\n",
       "      <td>2.028306e+00</td>\n",
       "    </tr>\n",
       "    <tr>\n",
       "      <th>3</th>\n",
       "      <td>tanh</td>\n",
       "      <td>gaussian</td>\n",
       "      <td>0.714063</td>\n",
       "      <td>0.0</td>\n",
       "      <td>10.0</td>\n",
       "      <td>scale</td>\n",
       "      <td>0</td>\n",
       "      <td>conv1</td>\n",
       "      <td>weight</td>\n",
       "      <td>1</td>\n",
       "      <td>0.71625</td>\n",
       "      <td>0.72625</td>\n",
       "      <td>0.01000</td>\n",
       "      <td>0.191886</td>\n",
       "      <td>3.484891e+37</td>\n",
       "    </tr>\n",
       "    <tr>\n",
       "      <th>4</th>\n",
       "      <td>tanh</td>\n",
       "      <td>gaussian</td>\n",
       "      <td>0.714063</td>\n",
       "      <td>0.0</td>\n",
       "      <td>10.0</td>\n",
       "      <td>loc</td>\n",
       "      <td>0</td>\n",
       "      <td>conv1</td>\n",
       "      <td>weight</td>\n",
       "      <td>2</td>\n",
       "      <td>0.71625</td>\n",
       "      <td>0.73250</td>\n",
       "      <td>0.01625</td>\n",
       "      <td>0.109688</td>\n",
       "      <td>3.741563e+19</td>\n",
       "    </tr>\n",
       "    <tr>\n",
       "      <th>...</th>\n",
       "      <td>...</td>\n",
       "      <td>...</td>\n",
       "      <td>...</td>\n",
       "      <td>...</td>\n",
       "      <td>...</td>\n",
       "      <td>...</td>\n",
       "      <td>...</td>\n",
       "      <td>...</td>\n",
       "      <td>...</td>\n",
       "      <td>...</td>\n",
       "      <td>...</td>\n",
       "      <td>...</td>\n",
       "      <td>...</td>\n",
       "      <td>...</td>\n",
       "      <td>...</td>\n",
       "    </tr>\n",
       "    <tr>\n",
       "      <th>115</th>\n",
       "      <td>tanh</td>\n",
       "      <td>gaussian</td>\n",
       "      <td>0.714063</td>\n",
       "      <td>0.0</td>\n",
       "      <td>10.0</td>\n",
       "      <td>scale</td>\n",
       "      <td>126785</td>\n",
       "      <td>fc2</td>\n",
       "      <td>bias</td>\n",
       "      <td>0</td>\n",
       "      <td>0.71625</td>\n",
       "      <td>NaN</td>\n",
       "      <td>NaN</td>\n",
       "      <td>NaN</td>\n",
       "      <td>9.324126e-01</td>\n",
       "    </tr>\n",
       "    <tr>\n",
       "      <th>116</th>\n",
       "      <td>tanh</td>\n",
       "      <td>gaussian</td>\n",
       "      <td>0.714063</td>\n",
       "      <td>0.0</td>\n",
       "      <td>10.0</td>\n",
       "      <td>loc</td>\n",
       "      <td>126785</td>\n",
       "      <td>fc2</td>\n",
       "      <td>bias</td>\n",
       "      <td>1</td>\n",
       "      <td>0.71625</td>\n",
       "      <td>0.75000</td>\n",
       "      <td>0.03375</td>\n",
       "      <td>0.085478</td>\n",
       "      <td>1.636517e+01</td>\n",
       "    </tr>\n",
       "    <tr>\n",
       "      <th>117</th>\n",
       "      <td>tanh</td>\n",
       "      <td>gaussian</td>\n",
       "      <td>0.714063</td>\n",
       "      <td>0.0</td>\n",
       "      <td>10.0</td>\n",
       "      <td>scale</td>\n",
       "      <td>126785</td>\n",
       "      <td>fc2</td>\n",
       "      <td>bias</td>\n",
       "      <td>1</td>\n",
       "      <td>0.71625</td>\n",
       "      <td>0.50250</td>\n",
       "      <td>-0.21375</td>\n",
       "      <td>NaN</td>\n",
       "      <td>1.586418e+38</td>\n",
       "    </tr>\n",
       "    <tr>\n",
       "      <th>118</th>\n",
       "      <td>tanh</td>\n",
       "      <td>gaussian</td>\n",
       "      <td>0.714063</td>\n",
       "      <td>0.0</td>\n",
       "      <td>10.0</td>\n",
       "      <td>loc</td>\n",
       "      <td>126785</td>\n",
       "      <td>fc2</td>\n",
       "      <td>bias</td>\n",
       "      <td>2</td>\n",
       "      <td>0.71625</td>\n",
       "      <td>0.25000</td>\n",
       "      <td>-0.46625</td>\n",
       "      <td>0.771068</td>\n",
       "      <td>3.018841e+20</td>\n",
       "    </tr>\n",
       "    <tr>\n",
       "      <th>119</th>\n",
       "      <td>tanh</td>\n",
       "      <td>gaussian</td>\n",
       "      <td>0.714063</td>\n",
       "      <td>0.0</td>\n",
       "      <td>10.0</td>\n",
       "      <td>scale</td>\n",
       "      <td>126785</td>\n",
       "      <td>fc2</td>\n",
       "      <td>bias</td>\n",
       "      <td>2</td>\n",
       "      <td>0.71625</td>\n",
       "      <td>0.74000</td>\n",
       "      <td>0.02375</td>\n",
       "      <td>0.077054</td>\n",
       "      <td>4.662063e-01</td>\n",
       "    </tr>\n",
       "  </tbody>\n",
       "</table>\n",
       "<p>120 rows × 15 columns</p>\n",
       "</div>"
      ],
      "text/plain": [
       "    activation_fn     prior  best_accuracy  prior_mu  prior_b param_type  \\\n",
       "0            tanh  gaussian       0.714063       0.0     10.0        loc   \n",
       "1            tanh  gaussian       0.714063       0.0     10.0      scale   \n",
       "2            tanh  gaussian       0.714063       0.0     10.0        loc   \n",
       "3            tanh  gaussian       0.714063       0.0     10.0      scale   \n",
       "4            tanh  gaussian       0.714063       0.0     10.0        loc   \n",
       "..            ...       ...            ...       ...      ...        ...   \n",
       "115          tanh  gaussian       0.714063       0.0     10.0      scale   \n",
       "116          tanh  gaussian       0.714063       0.0     10.0        loc   \n",
       "117          tanh  gaussian       0.714063       0.0     10.0      scale   \n",
       "118          tanh  gaussian       0.714063       0.0     10.0        loc   \n",
       "119          tanh  gaussian       0.714063       0.0     10.0      scale   \n",
       "\n",
       "    location_index location_layer location_module bit_index  initial_accuracy  \\\n",
       "0                0          conv1          weight         0           0.71625   \n",
       "1                0          conv1          weight         0           0.71625   \n",
       "2                0          conv1          weight         1           0.71625   \n",
       "3                0          conv1          weight         1           0.71625   \n",
       "4                0          conv1          weight         2           0.71625   \n",
       "..             ...            ...             ...       ...               ...   \n",
       "115         126785            fc2            bias         0           0.71625   \n",
       "116         126785            fc2            bias         1           0.71625   \n",
       "117         126785            fc2            bias         1           0.71625   \n",
       "118         126785            fc2            bias         2           0.71625   \n",
       "119         126785            fc2            bias         2           0.71625   \n",
       "\n",
       "     accuracy_after_seu  accuracy_change  softmax_difference  \\\n",
       "0               0.73500          0.01875            0.084771   \n",
       "1                   NaN              NaN                 NaN   \n",
       "2               0.73000          0.01375            0.084719   \n",
       "3               0.72625          0.01000            0.191886   \n",
       "4               0.73250          0.01625            0.109688   \n",
       "..                  ...              ...                 ...   \n",
       "115                 NaN              NaN                 NaN   \n",
       "116             0.75000          0.03375            0.085478   \n",
       "117             0.50250         -0.21375                 NaN   \n",
       "118             0.25000         -0.46625            0.771068   \n",
       "119             0.74000          0.02375            0.077054   \n",
       "\n",
       "     mean_abs_difference  \n",
       "0           4.056611e+00  \n",
       "1           2.048235e-01  \n",
       "2           2.028306e+00  \n",
       "3           3.484891e+37  \n",
       "4           3.741563e+19  \n",
       "..                   ...  \n",
       "115         9.324126e-01  \n",
       "116         1.636517e+01  \n",
       "117         1.586418e+38  \n",
       "118         3.018841e+20  \n",
       "119         4.662063e-01  \n",
       "\n",
       "[120 rows x 15 columns]"
      ]
     },
     "execution_count": 57,
     "metadata": {},
     "output_type": "execute_result"
    }
   ],
   "source": [
    "## MAIN LOOP CODE\n",
    "\n",
    "results_df = pd.DataFrame(columns=[\"activation_fn\",\n",
    "                                   \"prior\",\n",
    "                                   \"best_accuracy\",\n",
    "                                   \"prior_mu\",\n",
    "                                    \"prior_b\",\n",
    "                                    \"param_type\",\n",
    "                                   \"location_index\",\n",
    "                                   \"location_layer\",\n",
    "                                   \"location_module\",\n",
    "                                   \"bit_index\", \n",
    "                                   \"initial_accuracy\", \n",
    "                                   \"accuracy_after_seu\", \n",
    "                                   \"accuracy_change\", \n",
    "                                   \"softmax_difference\", \n",
    "                                   \"mean_abs_difference\",\n",
    "                                   ])\n",
    "\n",
    "# get the initial accuracy from the newinj object\n",
    "initial_accuracy = newinj.initial_accuracy\n",
    "\n",
    "attack_locations = [\"beginning\", \"end\"]\n",
    "\n",
    "for attack_location in attack_locations:\n",
    "    for layer, params in model_param_index.items():\n",
    "        for param_name, param_info in params.items():\n",
    "            \n",
    "            if attack_location == \"beginning\":\n",
    "                target_index = param_info['start_idx']\n",
    "            elif attack_location == \"end\":\n",
    "                target_index = param_info['end_idx']\n",
    "\n",
    "            #print(f\"Running SEU on {layer}.{param_name} at index {target_index} with bit flip 0\")\n",
    "\n",
    "            for bit_iter in range(0, 3):\n",
    "                for parameter_name in [\"loc\", \"scale\"]:\n",
    "                    print(f\"Running SEU for bit index {bit_iter} for parameter {parameter_name}\")\n",
    "                    result = newinj.run_seu_autodiagonal_normal(location_index=target_index, bit_i=bit_iter, parameter_name=parameter_name, num_samples=10)\n",
    "                    # use concat to save the result to a dataframe\n",
    "                    #print(initial_accuracy)\n",
    "                    iter_df = pd.DataFrame({\n",
    "                        \"activation_fn\": model_config['activation'],\n",
    "                        \"prior\": model_config['prior'],\n",
    "                        \"best_accuracy\": model_config['best_accuracy'],\n",
    "                        \"prior_mu\": model_config['prior_params']['mu'],\n",
    "                        \"prior_b\": model_config['prior_params']['b'],\n",
    "                        \"param_type\": parameter_name,\n",
    "                        \"location_index\": target_index,\n",
    "                        \"location_layer\": layer,\n",
    "                        \"location_module\": param_name,\n",
    "                        \"bit_index\": bit_iter,\n",
    "                        \"initial_accuracy\": initial_accuracy,\n",
    "                        \"accuracy_after_seu\": initial_accuracy + result[\"accuracy_change\"],\n",
    "                        \"accuracy_change\": result[\"accuracy_change\"],\n",
    "                        \"softmax_difference\": result[\"softmax_difference\"],\n",
    "                        \"mean_abs_difference\": result[\"absolute_difference\"]\n",
    "                    }, index=[0])\n",
    "\n",
    "                    results_df = pd.concat([results_df, iter_df], ignore_index=True)\n",
    "\n",
    "results_df"
   ]
  },
  {
   "cell_type": "code",
   "execution_count": 58,
   "id": "c162d2dc",
   "metadata": {},
   "outputs": [],
   "source": [
    "# save the results to a csv file\n",
    "results_df.to_csv(f'shipsnet_seu_result/{timestamps[1]}.csv', index=False)"
   ]
  },
  {
   "cell_type": "code",
   "execution_count": null,
   "id": "74fa487e",
   "metadata": {},
   "outputs": [],
   "source": [
    "#inj.run_seu_autodiagonal_normal(location_index=0, bit_i=1, parameter_name=\"scale\", num_samples=10)\n",
    "#inj.run_seu_autodiagonal_normal(location_index=0, bit_i=2, parameter_name=\"loc\", num_samples=10)"
   ]
  },
  {
   "cell_type": "code",
   "execution_count": null,
   "id": "82df9983",
   "metadata": {},
   "outputs": [],
   "source": [
    "#store the result in dataframe\n",
    "import pandas as pd\n",
    "results = []\n",
    "\n",
    "for i in range(0, 32):\n",
    "    results.append(inj.run_seu_autodiagonal_normal(location_index=0, bit_i=i, parameter_name=\"scale\", num_samples=10))"
   ]
  },
  {
   "cell_type": "code",
   "execution_count": null,
   "id": "3d859840",
   "metadata": {},
   "outputs": [],
   "source": [
    "# plot the result in matplotlib\n",
    "plt.figure(figsize=(10, 5))\n",
    "plt.plot(range(0, 32), results, marker='o')\n",
    "plt.title('SEU Impact on Scale Parameter')\n",
    "plt.xlabel('Bit Position')\n",
    "plt.ylabel('Change in Accuracy')\n",
    "plt.grid()\n",
    "plt.show()"
   ]
  },
  {
   "cell_type": "code",
   "execution_count": null,
   "id": "777800c8",
   "metadata": {},
   "outputs": [],
   "source": [
    "results_loc = []\n",
    "\n",
    "for i in range(0, 32):\n",
    "    results_loc.append(inj.run_seu_autodiagonal_normal(location_index=0, bit_i=i, parameter_name=\"loc\", num_samples=10))"
   ]
  },
  {
   "cell_type": "code",
   "execution_count": null,
   "id": "dce26354",
   "metadata": {},
   "outputs": [],
   "source": [
    "plt.figure(figsize=(10, 5))\n",
    "plt.plot(range(0, 32), results_loc, marker='o')\n",
    "plt.title('SEU Impact on Loc Parameter')\n",
    "plt.xlabel('Bit Position')\n",
    "plt.ylabel('Change in Accuracy')\n",
    "plt.grid()\n",
    "plt.show()"
   ]
  },
  {
   "cell_type": "code",
   "execution_count": null,
   "id": "c931c99e",
   "metadata": {},
   "outputs": [],
   "source": [
    "#(inj.run_seu_autodiagonal_normal(location_index=0, bit_i=0, parameter_name=\"loc\", num_samples=10))"
   ]
  },
  {
   "cell_type": "code",
   "execution_count": null,
   "id": "ac85bcc0",
   "metadata": {},
   "outputs": [],
   "source": []
  },
  {
   "cell_type": "code",
   "execution_count": null,
   "id": "243f654e",
   "metadata": {},
   "outputs": [],
   "source": [
    "results2_loc = []\n",
    "\n",
    "for i in range(0, 32):\n",
    "    results2_loc.append(inj.run_seu_autodiagonal_normal(location_index=217536, bit_i=i, parameter_name=\"loc\", num_samples=10))"
   ]
  },
  {
   "cell_type": "code",
   "execution_count": null,
   "id": "30037b8f",
   "metadata": {},
   "outputs": [],
   "source": [
    "plt.figure(figsize=(10, 5))\n",
    "plt.plot(range(0, 32), results2_loc, marker='o')\n",
    "plt.title('SEU Impact on Loc Parameter')\n",
    "plt.xlabel('Bit Position')\n",
    "plt.ylabel('Change in Accuracy')\n",
    "plt.grid()\n",
    "plt.show()"
   ]
  },
  {
   "cell_type": "code",
   "execution_count": null,
   "id": "383ac246",
   "metadata": {},
   "outputs": [],
   "source": [
    "bayesian_model"
   ]
  },
  {
   "cell_type": "code",
   "execution_count": null,
   "id": "71c97214",
   "metadata": {},
   "outputs": [],
   "source": [
    "# print the parameters of the bayesian model\n",
    "for name, value in bayesian_model.named_parameters():\n",
    "    print(f\"{name}: {value.shape}\")"
   ]
  },
  {
   "cell_type": "code",
   "execution_count": null,
   "id": "19998c08",
   "metadata": {},
   "outputs": [],
   "source": [
    "# print the parameters of pyro param store\n",
    "for name, value in pyro.get_param_store().items():\n",
    "    print(f\"{name}: {value.shape}\")"
   ]
  },
  {
   "cell_type": "code",
   "execution_count": null,
   "id": "2218c250",
   "metadata": {},
   "outputs": [],
   "source": [
    "results3_loc = []\n",
    "\n",
    "for i in range(0, 32):\n",
    "    results3_loc.append(inj.run_seu_autodiagonal_normal(location_index=53696, bit_i=i, parameter_name=\"loc\", num_samples=10))"
   ]
  },
  {
   "cell_type": "code",
   "execution_count": null,
   "id": "2aab5691",
   "metadata": {},
   "outputs": [],
   "source": [
    "plt.figure(figsize=(10, 5))\n",
    "plt.plot(range(0, 32), results3_loc, marker='o')\n",
    "plt.title('SEU Impact on Loc Parameter')\n",
    "plt.xlabel('Bit Position')\n",
    "plt.ylabel('Change in Accuracy')\n",
    "plt.grid()\n",
    "plt.show()"
   ]
  },
  {
   "cell_type": "code",
   "execution_count": null,
   "id": "2301095f",
   "metadata": {},
   "outputs": [],
   "source": [
    "import numpy as np\n",
    "\n",
    "def get_flat_param_index(layer_name, param_type, index_tuple):\n",
    "    # Define parameter shapes for each layer\n",
    "    param_shapes = {\n",
    "        'conv1': {\n",
    "            'weight': (32, 3, 5, 5),\n",
    "            'bias': (32,)\n",
    "        },\n",
    "        'conv2': {\n",
    "            'weight': (64, 32, 5, 5),\n",
    "            'bias': (64,)\n",
    "        },\n",
    "        'fc1': {\n",
    "            'weight': (10, 16384),\n",
    "            'bias': (10,)\n",
    "        }\n",
    "    }\n",
    "\n",
    "    # Check valid inputs\n",
    "    if layer_name not in param_shapes:\n",
    "        raise ValueError(f\"Unknown layer '{layer_name}'\")\n",
    "    if param_type not in param_shapes[layer_name]:\n",
    "        raise ValueError(f\"'{param_type}' not found in layer '{layer_name}'\")\n",
    "\n",
    "    # Compute flat offset for each param in order: conv1.weight, conv1.bias, ...\n",
    "    flat_offset = 0\n",
    "    for l in ['conv1', 'conv2', 'fc1']:\n",
    "        for p in ['weight', 'bias']:\n",
    "            shape = param_shapes[l][p]\n",
    "            numel = np.prod(shape)\n",
    "\n",
    "            if l == layer_name and p == param_type:\n",
    "                # Compute local flat index within this param\n",
    "                local_flat_index = np.ravel_multi_index(index_tuple, shape)\n",
    "                return flat_offset + local_flat_index\n",
    "\n",
    "            flat_offset += numel\n",
    "\n",
    "    raise RuntimeError(\"Should not reach here if input is valid.\")\n"
   ]
  },
  {
   "cell_type": "code",
   "execution_count": null,
   "id": "4470f9f9",
   "metadata": {},
   "outputs": [],
   "source": [
    "# Index of conv1.bias[5]\n",
    "print(get_flat_param_index(\"conv1\", \"bias\", (0,)))  # Output: 2405\n",
    "\n",
    "# Index of conv2.weight[0,0,0,0]\n",
    "print(get_flat_param_index(\"conv2\", \"weight\", (0,0,0,0)))  # Output: 2432\n",
    "\n",
    "# Index of fc1.weight[0, 0]\n",
    "print(get_flat_param_index(\"fc1\", \"weight\", (0, 0)))  # Output: 53696"
   ]
  },
  {
   "cell_type": "code",
   "execution_count": null,
   "id": "912f6988",
   "metadata": {},
   "outputs": [],
   "source": [
    "results4_loc = []\n",
    "\n",
    "for i in range(0, 32):\n",
    "    results4_loc.append(inj.run_seu_autodiagonal_normal(location_index=2400, bit_i=i, parameter_name=\"loc\", num_samples=10))"
   ]
  },
  {
   "cell_type": "code",
   "execution_count": null,
   "id": "b37f8fcc",
   "metadata": {},
   "outputs": [],
   "source": [
    "plt.figure(figsize=(10, 5))\n",
    "plt.plot(range(0, 32), results4_loc, marker='o')\n",
    "plt.title('SEU Impact on Loc Parameter')\n",
    "plt.xlabel('Bit Position')\n",
    "plt.ylabel('Change in Accuracy')\n",
    "plt.grid()\n",
    "plt.show()"
   ]
  },
  {
   "cell_type": "code",
   "execution_count": null,
   "id": "52048018",
   "metadata": {},
   "outputs": [],
   "source": [
    "# plot results2_loc, results3_loc, results4_loc in a single plot\n",
    "plt.figure(figsize=(10, 5))\n",
    "plt.plot(range(0, 32), results_loc, marker='o', label='conv1 1st weight')\n",
    "plt.plot(range(0, 32), results4_loc, marker='o', label='conv1 1st bias')\n",
    "plt.plot(range(0, 32), results3_loc, marker='o', label='fc1 1st weight')\n",
    "plt.plot(range(0, 32), results2_loc, marker='o', label='fc1 1st bias')\n",
    "\n",
    "\n",
    "plt.title('SEU Impact on Loc Parameter')\n",
    "plt.xlabel('Bit Position')\n",
    "plt.ylabel('Change in Accuracy')\n",
    "plt.grid()\n",
    "plt.legend()\n",
    "plt.show()"
   ]
  },
  {
   "cell_type": "code",
   "execution_count": null,
   "id": "46f4c6a7",
   "metadata": {},
   "outputs": [],
   "source": [
    "#results\n",
    "#results2_scale\n",
    "#...\n",
    "#..."
   ]
  },
  {
   "cell_type": "code",
   "execution_count": null,
   "id": "49437bcc",
   "metadata": {},
   "outputs": [],
   "source": [
    "results_scale = []\n",
    "\n",
    "for i in range(0, 32):\n",
    "    results_scale.append(inj.run_seu_autodiagonal_normal(location_index=0, bit_i=i, parameter_name=\"scale\", num_samples=10))"
   ]
  },
  {
   "cell_type": "code",
   "execution_count": null,
   "id": "b8c3a57c",
   "metadata": {},
   "outputs": [],
   "source": [
    "#store the result in dataframe\n",
    "import pandas as pd\n",
    "results2_scale = []\n",
    "\n",
    "for i in range(0, 32):\n",
    "    results2_scale.append(inj.run_seu_autodiagonal_normal(location_index=217536, bit_i=i, parameter_name=\"scale\", num_samples=10))"
   ]
  },
  {
   "cell_type": "code",
   "execution_count": null,
   "id": "93ecf5b2",
   "metadata": {},
   "outputs": [],
   "source": [
    "#store the result in dataframe\n",
    "import pandas as pd\n",
    "results3_scale = []\n",
    "\n",
    "for i in range(0, 32):\n",
    "    results3_scale.append(inj.run_seu_autodiagonal_normal(location_index=53696, bit_i=i, parameter_name=\"scale\", num_samples=10))"
   ]
  },
  {
   "cell_type": "code",
   "execution_count": null,
   "id": "3ea994f9",
   "metadata": {},
   "outputs": [],
   "source": [
    "#store the result in dataframe\n",
    "import pandas as pd\n",
    "results4_scale = []\n",
    "\n",
    "for i in range(0, 32):\n",
    "    results4_scale.append(inj.run_seu_autodiagonal_normal(location_index=2400, bit_i=i, parameter_name=\"scale\", num_samples=10))"
   ]
  },
  {
   "cell_type": "code",
   "execution_count": null,
   "id": "3b26896a",
   "metadata": {},
   "outputs": [],
   "source": [
    "plt.figure(figsize=(10, 5))\n",
    "plt.plot(range(0, 32), results_scale, marker='o', label='conv1 1st weight')\n",
    "plt.plot(range(0, 32), results4_scale, marker='o', label='conv1 1st bias')\n",
    "plt.plot(range(0, 32), results3_scale, marker='o', label='fc1 1st weight')\n",
    "plt.plot(range(0, 32), results2_scale, marker='o', label='fc1 1st bias')\n",
    "\n",
    "\n",
    "plt.title('SEU Impact on Scale Parameter')\n",
    "plt.xlabel('Bit Position')\n",
    "plt.ylabel('Change in Accuracy')\n",
    "plt.grid()\n",
    "plt.legend()\n",
    "plt.show()"
   ]
  },
  {
   "cell_type": "code",
   "execution_count": null,
   "id": "1cf25c49",
   "metadata": {},
   "outputs": [],
   "source": []
  }
 ],
 "metadata": {
  "kernelspec": {
   "display_name": "bnntest",
   "language": "python",
   "name": "python3"
  },
  "language_info": {
   "codemirror_mode": {
    "name": "ipython",
    "version": 3
   },
   "file_extension": ".py",
   "mimetype": "text/x-python",
   "name": "python",
   "nbconvert_exporter": "python",
   "pygments_lexer": "ipython3",
   "version": "3.12.9"
  }
 },
 "nbformat": 4,
 "nbformat_minor": 5
}
