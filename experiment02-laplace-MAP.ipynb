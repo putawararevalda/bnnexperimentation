{
 "cells": [
  {
   "cell_type": "code",
   "execution_count": 1,
   "id": "2b415a57",
   "metadata": {},
   "outputs": [],
   "source": [
    "import torch\n",
    "import torch.nn as nn\n",
    "import torch.nn.functional as F\n",
    "import torchvision.datasets as datasets\n",
    "import torchvision.transforms as transforms\n",
    "from torch.utils.data import DataLoader, random_split, Subset\n",
    "import time\n",
    "import matplotlib.pyplot as plt\n",
    "import os\n",
    "from sklearn.model_selection import train_test_split\n",
    "\n",
    "import pickle\n",
    "from tqdm import tqdm\n",
    "import copy"
   ]
  },
  {
   "cell_type": "code",
   "execution_count": 2,
   "id": "21fc4dd2",
   "metadata": {},
   "outputs": [
    {
     "name": "stderr",
     "output_type": "stream",
     "text": [
      "c:\\Users\\Revalda Putawara\\.conda\\envs\\bnntest\\Lib\\site-packages\\tqdm\\auto.py:21: TqdmWarning: IProgress not found. Please update jupyter and ipywidgets. See https://ipywidgets.readthedocs.io/en/stable/user_install.html\n",
      "  from .autonotebook import tqdm as notebook_tqdm\n"
     ]
    }
   ],
   "source": [
    "import pyro\n",
    "import pyro.distributions as dist\n",
    "from pyro.nn import PyroModule, PyroSample\n",
    "from pyro.infer.autoguide import AutoLaplaceApproximation"
   ]
  },
  {
   "cell_type": "code",
   "execution_count": 3,
   "id": "b759d2d6",
   "metadata": {},
   "outputs": [],
   "source": [
    "import pandas as pd"
   ]
  },
  {
   "cell_type": "code",
   "execution_count": 4,
   "id": "7933eaab",
   "metadata": {},
   "outputs": [],
   "source": [
    "import numpy as np\n",
    "from sklearn.metrics import confusion_matrix"
   ]
  },
  {
   "cell_type": "code",
   "execution_count": 5,
   "id": "33214803",
   "metadata": {},
   "outputs": [],
   "source": [
    "from utils.model import LaplaceBayesianCNNSingleFC"
   ]
  },
  {
   "cell_type": "code",
   "execution_count": 6,
   "id": "685ec8a3",
   "metadata": {},
   "outputs": [],
   "source": [
    "from bitflip import bitflip_float32"
   ]
  },
  {
   "cell_type": "code",
   "execution_count": 7,
   "id": "5ae33ca6",
   "metadata": {},
   "outputs": [],
   "source": [
    "def load_data(batch_size=54):\n",
    "    transform = transforms.Compose([\n",
    "        transforms.Resize((64, 64)),\n",
    "        transforms.ToTensor(),\n",
    "        transforms.Normalize(mean=[0.3444, 0.3809, 0.4082], std=[0.1809, 0.1331, 0.1137])\n",
    "    ])\n",
    "\n",
    "    dataset = datasets.EuroSAT(root='./data', transform=transform, download=False)\n",
    "\n",
    "    torch.manual_seed(42)\n",
    "    \n",
    "    with open('datasplit/split_indices.pkl', 'rb') as f:\n",
    "        split = pickle.load(f)\n",
    "        train_dataset = Subset(dataset, split['train'])\n",
    "        test_dataset = Subset(dataset, split['test'])\n",
    "\n",
    "    # Add num_workers and pin_memory for faster data loading\n",
    "    train_loader = DataLoader(train_dataset, batch_size=batch_size, shuffle=True, \n",
    "                             num_workers=4, pin_memory=True, persistent_workers=True)\n",
    "    test_loader = DataLoader(test_dataset, batch_size=batch_size,\n",
    "                            num_workers=4, pin_memory=True, persistent_workers=True)\n",
    "    return train_loader, test_loader"
   ]
  },
  {
   "cell_type": "code",
   "execution_count": 8,
   "id": "593603cd",
   "metadata": {},
   "outputs": [],
   "source": [
    "train_loader, test_loader = load_data(batch_size=54)"
   ]
  },
  {
   "cell_type": "code",
   "execution_count": 9,
   "id": "7ffc34f2",
   "metadata": {},
   "outputs": [],
   "source": [
    "device = torch.device(\"cuda\")"
   ]
  },
  {
   "cell_type": "code",
   "execution_count": 10,
   "id": "91047777",
   "metadata": {},
   "outputs": [],
   "source": [
    "num_classes = 10"
   ]
  },
  {
   "cell_type": "code",
   "execution_count": 11,
   "id": "47222767",
   "metadata": {},
   "outputs": [],
   "source": [
    "bayesian_model =LaplaceBayesianCNNSingleFC(num_classes=num_classes, device=device).to(device)"
   ]
  },
  {
   "cell_type": "code",
   "execution_count": 12,
   "id": "06566fe5",
   "metadata": {},
   "outputs": [],
   "source": [
    "#model_path = 'results_eurosat/bayesian_cnn_model_std10_100_epoch_laplace.pth'\n",
    "#guide_path = 'results_eurosat/bayesian_cnn_guide_std10_100_epoch_guide_laplace.pth'\n",
    "pyro_param_store_path = 'results_eurosat/pyro_param_store_std10_100_epoch_laplace_MAP.pkl'\n",
    "\n",
    "#guide = AutoDiagonalNormal(bayesian_model).to(device)\n",
    "\n",
    "#pyro.get_param_store().set_state(torch.load(pyro_param_store_path,weights_only=False))\n",
    "\n",
    "#original_param_store = {}\n",
    "\n",
    "#for name, value in pyro.get_param_store().items():\n",
    "#    print(f\"{name}: {value.shape}\")\n",
    "#    original_param_store[name] = torch.tensor(value.data, requires_grad=value.requires_grad)"
   ]
  },
  {
   "cell_type": "code",
   "execution_count": 13,
   "id": "b02438ff",
   "metadata": {},
   "outputs": [],
   "source": [
    "class LaplaceInjector:\n",
    "    def __init__(self, trained_model, device, test_loader, num_samples):\n",
    "        \"\"\"\n",
    "        Initializes SEU injector\n",
    "        \"\"\"\n",
    "\n",
    "        #initialize device\n",
    "        if device is None:\n",
    "            self.device = torch.device(\"cuda\" if torch.cuda.is_available() else \"cpu\")\n",
    "        else:\n",
    "            self.device = device\n",
    "\n",
    "        self.trained_model = trained_model.to(self.device)\n",
    "        self.test_loader = test_loader\n",
    "        self.trained_model.eval()\n",
    "        self.num_samples = num_samples\n",
    "        \n",
    "        self.guide = AutoLaplaceApproximation(self.trained_model).to(self.device)\n",
    "        pyro.get_param_store().clear()\n",
    "        pyro.get_param_store().set_state(torch.load(pyro_param_store_path,weights_only=False))\n",
    "\n",
    "        #initial_Accuracy = self.return_accuracy(num_samples)\n",
    "        initial_labels, initial_predictions, initial_logits, initial_probs = self.predict_data_probs(self.num_samples)\n",
    "        self.initial_accuracy = self.return_accuracy(initial_labels, initial_predictions)\n",
    "        \n",
    "        #print accuracy before SEU\n",
    "        print(f\"Initial accuracy: {self.initial_accuracy}\")\n",
    "        \n",
    "    def predict_data_probs(self, num_samples=10):\n",
    "        all_labels = []\n",
    "        all_predictions = []\n",
    "        all_logits = []\n",
    "        all_probs = []\n",
    "\n",
    "        with torch.no_grad():\n",
    "            for images, labels in tqdm(self.test_loader, desc=\"Evaluating\"):\n",
    "                images, labels = images.to(self.device), labels.to(self.device)\n",
    "\n",
    "                logits_mc = torch.zeros(num_samples, images.size(0), self.trained_model.fc1.out_features).to(device)\n",
    "\n",
    "                for i in range(num_samples):\n",
    "                    guide_trace = pyro.poutine.trace(self.guide).get_trace(images)\n",
    "                    replayed_model = pyro.poutine.replay(self.trained_model, trace=guide_trace)\n",
    "                    logits = replayed_model(images)\n",
    "                    logits_mc[i] = logits\n",
    "\n",
    "                avg_logits = logits_mc.mean(dim=0)\n",
    "                predictions = torch.argmax(avg_logits, dim=1)\n",
    "\n",
    "                all_labels.extend(labels.cpu().numpy())\n",
    "                all_predictions.extend(predictions.cpu().numpy())\n",
    "                all_logits.extend(avg_logits.cpu().numpy())\n",
    "                all_probs.extend(F.softmax(avg_logits, dim=1).cpu().numpy())\n",
    "\n",
    "        return all_labels, all_predictions, all_logits, all_probs\n",
    "\n",
    "    def return_accuracy(self, all_labels, all_predictions):\n",
    "        #all_labels, all_predictions, all_logits, all_probs = self.predict_data_probs(num_samples)\n",
    "        cm = confusion_matrix(all_labels, all_predictions)\n",
    "        accuracy = np.trace(cm) / np.sum(cm)\n",
    "\n",
    "        return accuracy\n",
    "    \n",
    "    def run_seu_autolaplace_approximation(self, location_index, bit_i, parameter_name=\"loc\", num_samples=10):\n",
    "        \"\"\"\n",
    "        Run SEU on the AutoDiagonalNormal guide\n",
    "        \"\"\"\n",
    "\n",
    "        assert parameter_name in [\"loc\"], \"Parameter name must be 'loc' or 'scale'.\"\n",
    "        assert bit_i in range(0, 33), \"Location index must be between 0 and 9.\"\n",
    "\n",
    "        if parameter_name == \"loc\":\n",
    "            param_store_name = \"AutoLaplaceApproximation.loc\"\n",
    "\n",
    "        pyro.get_param_store().set_state(torch.load(pyro_param_store_path,weights_only=False))\n",
    "\n",
    "        with torch.no_grad():\n",
    "            param_dict = {}\n",
    "\n",
    "            for name, value in pyro.get_param_store().items():\n",
    "                #print(f\"{name}: {value.shape}\")\n",
    "                #print(value)\n",
    "                param_dict[name] = value.cpu().detach().numpy()\n",
    "\n",
    "            tensor_cpu = param_dict[param_store_name]\n",
    "\n",
    "            #original_val = tensor_cpu[0] #this zero index should be changed to the location_index\n",
    "            original_val = tensor_cpu[location_index]\n",
    "            seu_val = bitflip_float32(original_val, bit_i)\n",
    "\n",
    "\n",
    "            print(f\"Original value: {original_val}, SEU value: {seu_val}\")\n",
    "\n",
    "            # Get the parameter\n",
    "            param = pyro.get_param_store().get_param(param_store_name)\n",
    "\n",
    "            # Modify it safely by creating a new tensor\n",
    "            new_param = param.clone()\n",
    "            new_param[location_index] = seu_val  # New Value\n",
    "\n",
    "            # Update the parameter store\n",
    "            if parameter_name == \"loc\":\n",
    "                pyro.get_param_store().__setitem__(param_store_name, new_param) # 74%\n",
    "                #param_store[param_store_name].data.copy_(change_item(param_store_name, location_index, seu_val)) #25%\n",
    "                #pyro.get_param_store()[param_store_name].data[location_index] = seu_val # 25%\n",
    "            elif parameter_name == \"scale\":\n",
    "                pyro.get_param_store().__setitem__(param_store_name, new_param) #10%\n",
    "                #pyro.get_param_store()[param_store_name].data[location_index] = seu_val\n",
    "\n",
    "        #print accuracy after SEU\n",
    "        self.guide = AutoLaplaceApproximation(bayesian_model).to(device)\n",
    "    \n",
    "\n",
    "        try:\n",
    "            after_labels, after_predictions, after_logits, after_probs = self.predict_data_probs(num_samples)\n",
    "            accuracyAfter_SEU = self.return_accuracy(after_labels, after_predictions)\n",
    "        except:\n",
    "            accuracyAfter_SEU = np.nan\n",
    "            \n",
    "        print(f\"Accuracy after SEU: {accuracyAfter_SEU}\")\n",
    "        print(\"===================================\")\n",
    "\n",
    "        return accuracyAfter_SEU - self.initial_accuracy"
   ]
  },
  {
   "cell_type": "code",
   "execution_count": 14,
   "id": "c8c04293",
   "metadata": {},
   "outputs": [
    {
     "name": "stderr",
     "output_type": "stream",
     "text": [
      "Evaluating: 100%|██████████| 100/100 [00:33<00:00,  3.03it/s]"
     ]
    },
    {
     "name": "stdout",
     "output_type": "stream",
     "text": [
      "Initial accuracy: 0.9362962962962963\n"
     ]
    },
    {
     "name": "stderr",
     "output_type": "stream",
     "text": [
      "\n"
     ]
    }
   ],
   "source": [
    "inj = LaplaceInjector(trained_model=bayesian_model, device=device, test_loader=test_loader, num_samples=10)"
   ]
  },
  {
   "cell_type": "code",
   "execution_count": null,
   "id": "74fa487e",
   "metadata": {},
   "outputs": [],
   "source": [
    "#inj.run_seu_autodiagonal_normal(location_index=0, bit_i=1, parameter_name=\"scale\", num_samples=10)\n",
    "#inj.run_seu_autolaplace_approximation(location_index=0, bit_i=2, parameter_name=\"loc\", num_samples=10)"
   ]
  },
  {
   "cell_type": "code",
   "execution_count": null,
   "id": "8657926f",
   "metadata": {},
   "outputs": [],
   "source": [
    "# print pyro parameters\n",
    "for name, value in pyro.get_param_store().items():\n",
    "     print(f\"{name}: {value.shape}\")"
   ]
  },
  {
   "cell_type": "code",
   "execution_count": null,
   "id": "e5787468",
   "metadata": {},
   "outputs": [],
   "source": [
    "inj.guide.get_posterior()"
   ]
  },
  {
   "cell_type": "code",
   "execution_count": null,
   "id": "82df9983",
   "metadata": {},
   "outputs": [],
   "source": [
    "#store the result in dataframe\n",
    "import pandas as pd\n",
    "results = []\n",
    "\n",
    "for i in range(0, 32):\n",
    "    results.append(inj.run_seu_autolaplace_approximation(location_index=0, bit_i=i, parameter_name=\"loc\", num_samples=10))"
   ]
  },
  {
   "cell_type": "code",
   "execution_count": null,
   "id": "3d859840",
   "metadata": {},
   "outputs": [],
   "source": [
    "# plot the result in matplotlib\n",
    "plt.figure(figsize=(10, 5))\n",
    "plt.plot(range(0, 32), results, marker='o')\n",
    "plt.title('SEU Impact on Scale Parameter')\n",
    "plt.xlabel('Bit Position')\n",
    "plt.ylabel('Change in Accuracy')\n",
    "plt.grid()\n",
    "plt.show()"
   ]
  },
  {
   "cell_type": "code",
   "execution_count": 15,
   "id": "777800c8",
   "metadata": {},
   "outputs": [
    {
     "name": "stdout",
     "output_type": "stream",
     "text": [
      "Original value: 2.0336058139801025, SEU value: -2.0336058139801025\n"
     ]
    },
    {
     "name": "stderr",
     "output_type": "stream",
     "text": [
      "Evaluating: 100%|██████████| 100/100 [00:08<00:00, 12.49it/s]\n"
     ]
    },
    {
     "name": "stdout",
     "output_type": "stream",
     "text": [
      "Accuracy after SEU: 0.8883333333333333\n",
      "===================================\n",
      "Original value: 2.0336058139801025, SEU value: 1.9751722244197594e-40\n"
     ]
    },
    {
     "name": "stderr",
     "output_type": "stream",
     "text": [
      "Evaluating: 100%|██████████| 100/100 [00:07<00:00, 12.89it/s]\n"
     ]
    },
    {
     "name": "stdout",
     "output_type": "stream",
     "text": [
      "Accuracy after SEU: 0.9237037037037037\n",
      "===================================\n",
      "Original value: 2.0336058139801025, SEU value: 3.7513405997298745e+19\n"
     ]
    },
    {
     "name": "stderr",
     "output_type": "stream",
     "text": [
      "Evaluating: 100%|██████████| 100/100 [00:07<00:00, 12.78it/s]\n"
     ]
    },
    {
     "name": "stdout",
     "output_type": "stream",
     "text": [
      "Accuracy after SEU: 0.2783333333333333\n",
      "===================================\n",
      "Original value: 2.0336058139801025, SEU value: 8734270464.0\n"
     ]
    },
    {
     "name": "stderr",
     "output_type": "stream",
     "text": [
      "Evaluating: 100%|██████████| 100/100 [00:07<00:00, 12.97it/s]\n"
     ]
    },
    {
     "name": "stdout",
     "output_type": "stream",
     "text": [
      "Accuracy after SEU: 0.2783333333333333\n",
      "===================================\n",
      "Original value: 2.0336058139801025, SEU value: 133274.390625\n"
     ]
    },
    {
     "name": "stderr",
     "output_type": "stream",
     "text": [
      "Evaluating: 100%|██████████| 100/100 [00:07<00:00, 12.97it/s]\n"
     ]
    },
    {
     "name": "stdout",
     "output_type": "stream",
     "text": [
      "Accuracy after SEU: 0.2783333333333333\n",
      "===================================\n",
      "Original value: 2.0336058139801025, SEU value: 520.6030883789062\n"
     ]
    },
    {
     "name": "stderr",
     "output_type": "stream",
     "text": [
      "Evaluating: 100%|██████████| 100/100 [00:07<00:00, 12.88it/s]\n"
     ]
    },
    {
     "name": "stdout",
     "output_type": "stream",
     "text": [
      "Accuracy after SEU: 0.32296296296296295\n",
      "===================================\n",
      "Original value: 2.0336058139801025, SEU value: 32.53769302368164\n"
     ]
    },
    {
     "name": "stderr",
     "output_type": "stream",
     "text": [
      "Evaluating: 100%|██████████| 100/100 [00:07<00:00, 13.14it/s]\n"
     ]
    },
    {
     "name": "stdout",
     "output_type": "stream",
     "text": [
      "Accuracy after SEU: 0.67\n",
      "===================================\n",
      "Original value: 2.0336058139801025, SEU value: 8.13442325592041\n"
     ]
    },
    {
     "name": "stderr",
     "output_type": "stream",
     "text": [
      "Evaluating: 100%|██████████| 100/100 [00:13<00:00,  7.25it/s]\n"
     ]
    },
    {
     "name": "stdout",
     "output_type": "stream",
     "text": [
      "Accuracy after SEU: 0.877962962962963\n",
      "===================================\n",
      "Original value: 2.0336058139801025, SEU value: 4.067211627960205\n"
     ]
    },
    {
     "name": "stderr",
     "output_type": "stream",
     "text": [
      "Evaluating: 100%|██████████| 100/100 [00:19<00:00,  5.03it/s]\n"
     ]
    },
    {
     "name": "stdout",
     "output_type": "stream",
     "text": [
      "Accuracy after SEU: 0.9251851851851852\n",
      "===================================\n",
      "Original value: 2.0336058139801025, SEU value: 3.0336058139801025\n"
     ]
    },
    {
     "name": "stderr",
     "output_type": "stream",
     "text": [
      "Evaluating: 100%|██████████| 100/100 [00:10<00:00,  9.95it/s]\n"
     ]
    },
    {
     "name": "stdout",
     "output_type": "stream",
     "text": [
      "Accuracy after SEU: 0.9337037037037037\n",
      "===================================\n",
      "Original value: 2.0336058139801025, SEU value: 2.5336058139801025\n"
     ]
    },
    {
     "name": "stderr",
     "output_type": "stream",
     "text": [
      "Evaluating: 100%|██████████| 100/100 [00:07<00:00, 13.04it/s]\n"
     ]
    },
    {
     "name": "stdout",
     "output_type": "stream",
     "text": [
      "Accuracy after SEU: 0.9355555555555556\n",
      "===================================\n",
      "Original value: 2.0336058139801025, SEU value: 2.2836058139801025\n"
     ]
    },
    {
     "name": "stderr",
     "output_type": "stream",
     "text": [
      "Evaluating: 100%|██████████| 100/100 [00:14<00:00,  6.91it/s]\n"
     ]
    },
    {
     "name": "stdout",
     "output_type": "stream",
     "text": [
      "Accuracy after SEU: 0.9362962962962963\n",
      "===================================\n",
      "Original value: 2.0336058139801025, SEU value: 2.1586058139801025\n"
     ]
    },
    {
     "name": "stderr",
     "output_type": "stream",
     "text": [
      "Evaluating: 100%|██████████| 100/100 [00:19<00:00,  5.00it/s]\n"
     ]
    },
    {
     "name": "stdout",
     "output_type": "stream",
     "text": [
      "Accuracy after SEU: 0.9361111111111111\n",
      "===================================\n",
      "Original value: 2.0336058139801025, SEU value: 2.0961058139801025\n"
     ]
    },
    {
     "name": "stderr",
     "output_type": "stream",
     "text": [
      "Evaluating: 100%|██████████| 100/100 [00:12<00:00,  7.89it/s]\n"
     ]
    },
    {
     "name": "stdout",
     "output_type": "stream",
     "text": [
      "Accuracy after SEU: 0.9366666666666666\n",
      "===================================\n",
      "Original value: 2.0336058139801025, SEU value: 2.0023558139801025\n"
     ]
    },
    {
     "name": "stderr",
     "output_type": "stream",
     "text": [
      "Evaluating: 100%|██████████| 100/100 [00:07<00:00, 12.97it/s]\n"
     ]
    },
    {
     "name": "stdout",
     "output_type": "stream",
     "text": [
      "Accuracy after SEU: 0.9357407407407408\n",
      "===================================\n",
      "Original value: 2.0336058139801025, SEU value: 2.0492308139801025\n"
     ]
    },
    {
     "name": "stderr",
     "output_type": "stream",
     "text": [
      "Evaluating: 100%|██████████| 100/100 [00:15<00:00,  6.55it/s]\n"
     ]
    },
    {
     "name": "stdout",
     "output_type": "stream",
     "text": [
      "Accuracy after SEU: 0.9362962962962963\n",
      "===================================\n",
      "Original value: 2.0336058139801025, SEU value: 2.0414183139801025\n"
     ]
    },
    {
     "name": "stderr",
     "output_type": "stream",
     "text": [
      "Evaluating: 100%|██████████| 100/100 [00:20<00:00,  4.97it/s]\n"
     ]
    },
    {
     "name": "stdout",
     "output_type": "stream",
     "text": [
      "Accuracy after SEU: 0.9362962962962963\n",
      "===================================\n",
      "Original value: 2.0336058139801025, SEU value: 2.0375120639801025\n"
     ]
    },
    {
     "name": "stderr",
     "output_type": "stream",
     "text": [
      "Evaluating: 100%|██████████| 100/100 [00:13<00:00,  7.67it/s]\n"
     ]
    },
    {
     "name": "stdout",
     "output_type": "stream",
     "text": [
      "Accuracy after SEU: 0.9362962962962963\n",
      "===================================\n",
      "Original value: 2.0336058139801025, SEU value: 2.0316526889801025\n"
     ]
    },
    {
     "name": "stderr",
     "output_type": "stream",
     "text": [
      "Evaluating: 100%|██████████| 100/100 [00:07<00:00, 13.09it/s]\n"
     ]
    },
    {
     "name": "stdout",
     "output_type": "stream",
     "text": [
      "Accuracy after SEU: 0.9362962962962963\n",
      "===================================\n",
      "Original value: 2.0336058139801025, SEU value: 2.0345823764801025\n"
     ]
    },
    {
     "name": "stderr",
     "output_type": "stream",
     "text": [
      "Evaluating: 100%|██████████| 100/100 [00:13<00:00,  7.60it/s]\n"
     ]
    },
    {
     "name": "stdout",
     "output_type": "stream",
     "text": [
      "Accuracy after SEU: 0.9362962962962963\n",
      "===================================\n",
      "Original value: 2.0336058139801025, SEU value: 2.0340940952301025\n"
     ]
    },
    {
     "name": "stderr",
     "output_type": "stream",
     "text": [
      "Evaluating: 100%|██████████| 100/100 [00:19<00:00,  5.07it/s]\n"
     ]
    },
    {
     "name": "stdout",
     "output_type": "stream",
     "text": [
      "Accuracy after SEU: 0.9362962962962963\n",
      "===================================\n",
      "Original value: 2.0336058139801025, SEU value: 2.0333616733551025\n"
     ]
    },
    {
     "name": "stderr",
     "output_type": "stream",
     "text": [
      "Evaluating: 100%|██████████| 100/100 [00:19<00:00,  5.15it/s]\n"
     ]
    },
    {
     "name": "stdout",
     "output_type": "stream",
     "text": [
      "Accuracy after SEU: 0.9362962962962963\n",
      "===================================\n",
      "Original value: 2.0336058139801025, SEU value: 2.0334837436676025\n"
     ]
    },
    {
     "name": "stderr",
     "output_type": "stream",
     "text": [
      "Evaluating: 100%|██████████| 100/100 [00:07<00:00, 13.01it/s]\n"
     ]
    },
    {
     "name": "stdout",
     "output_type": "stream",
     "text": [
      "Accuracy after SEU: 0.9362962962962963\n",
      "===================================\n",
      "Original value: 2.0336058139801025, SEU value: 2.0336668491363525\n"
     ]
    },
    {
     "name": "stderr",
     "output_type": "stream",
     "text": [
      "Evaluating: 100%|██████████| 100/100 [00:07<00:00, 13.03it/s]\n"
     ]
    },
    {
     "name": "stdout",
     "output_type": "stream",
     "text": [
      "Accuracy after SEU: 0.9362962962962963\n",
      "===================================\n",
      "Original value: 2.0336058139801025, SEU value: 2.0335752964019775\n"
     ]
    },
    {
     "name": "stderr",
     "output_type": "stream",
     "text": [
      "Evaluating: 100%|██████████| 100/100 [00:18<00:00,  5.38it/s]\n"
     ]
    },
    {
     "name": "stdout",
     "output_type": "stream",
     "text": [
      "Accuracy after SEU: 0.9362962962962963\n",
      "===================================\n",
      "Original value: 2.0336058139801025, SEU value: 2.033621072769165\n"
     ]
    },
    {
     "name": "stderr",
     "output_type": "stream",
     "text": [
      "Evaluating: 100%|██████████| 100/100 [00:19<00:00,  5.05it/s]\n"
     ]
    },
    {
     "name": "stdout",
     "output_type": "stream",
     "text": [
      "Accuracy after SEU: 0.9362962962962963\n",
      "===================================\n",
      "Original value: 2.0336058139801025, SEU value: 2.033613443374634\n"
     ]
    },
    {
     "name": "stderr",
     "output_type": "stream",
     "text": [
      "Evaluating: 100%|██████████| 100/100 [00:17<00:00,  5.79it/s]\n"
     ]
    },
    {
     "name": "stdout",
     "output_type": "stream",
     "text": [
      "Accuracy after SEU: 0.9362962962962963\n",
      "===================================\n",
      "Original value: 2.0336058139801025, SEU value: 2.033601999282837\n"
     ]
    },
    {
     "name": "stderr",
     "output_type": "stream",
     "text": [
      "Evaluating: 100%|██████████| 100/100 [00:07<00:00, 13.06it/s]\n"
     ]
    },
    {
     "name": "stdout",
     "output_type": "stream",
     "text": [
      "Accuracy after SEU: 0.9362962962962963\n",
      "===================================\n",
      "Original value: 2.0336058139801025, SEU value: 2.0336039066314697\n"
     ]
    },
    {
     "name": "stderr",
     "output_type": "stream",
     "text": [
      "Evaluating: 100%|██████████| 100/100 [00:08<00:00, 11.34it/s]\n"
     ]
    },
    {
     "name": "stdout",
     "output_type": "stream",
     "text": [
      "Accuracy after SEU: 0.9362962962962963\n",
      "===================================\n",
      "Original value: 2.0336058139801025, SEU value: 2.033606767654419\n"
     ]
    },
    {
     "name": "stderr",
     "output_type": "stream",
     "text": [
      "Evaluating: 100%|██████████| 100/100 [00:19<00:00,  5.06it/s]\n"
     ]
    },
    {
     "name": "stdout",
     "output_type": "stream",
     "text": [
      "Accuracy after SEU: 0.9362962962962963\n",
      "===================================\n",
      "Original value: 2.0336058139801025, SEU value: 2.0336062908172607\n"
     ]
    },
    {
     "name": "stderr",
     "output_type": "stream",
     "text": [
      "Evaluating: 100%|██████████| 100/100 [00:19<00:00,  5.08it/s]\n"
     ]
    },
    {
     "name": "stdout",
     "output_type": "stream",
     "text": [
      "Accuracy after SEU: 0.9362962962962963\n",
      "===================================\n",
      "Original value: 2.0336058139801025, SEU value: 2.0336055755615234\n"
     ]
    },
    {
     "name": "stderr",
     "output_type": "stream",
     "text": [
      "Evaluating: 100%|██████████| 100/100 [00:15<00:00,  6.34it/s]"
     ]
    },
    {
     "name": "stdout",
     "output_type": "stream",
     "text": [
      "Accuracy after SEU: 0.9362962962962963\n",
      "===================================\n"
     ]
    },
    {
     "name": "stderr",
     "output_type": "stream",
     "text": [
      "\n"
     ]
    }
   ],
   "source": [
    "results_loc = []\n",
    "\n",
    "for i in range(0, 32):\n",
    "    results_loc.append(inj.run_seu_autolaplace_approximation(location_index=0, bit_i=i, parameter_name=\"loc\", num_samples=10))"
   ]
  },
  {
   "cell_type": "code",
   "execution_count": 16,
   "id": "dce26354",
   "metadata": {},
   "outputs": [
    {
     "data": {
      "image/png": "[encoded data removed]",
      "text/plain": [
       "<Figure size 1000x500 with 1 Axes>"
      ]
     },
     "metadata": {},
     "output_type": "display_data"
    }
   ],
   "source": [
    "plt.figure(figsize=(10, 5))\n",
    "plt.plot(range(0, 32), results_loc, marker='o')\n",
    "plt.title('SEU Impact on Loc Parameter')\n",
    "plt.xlabel('Bit Position')\n",
    "plt.ylabel('Change in Accuracy')\n",
    "plt.grid()\n",
    "plt.show()"
   ]
  },
  {
   "cell_type": "code",
   "execution_count": null,
   "id": "c931c99e",
   "metadata": {},
   "outputs": [],
   "source": [
    "#(inj.run_seu_autodiagonal_normal(location_index=0, bit_i=0, parameter_name=\"loc\", num_samples=10))"
   ]
  },
  {
   "cell_type": "code",
   "execution_count": null,
   "id": "ac85bcc0",
   "metadata": {},
   "outputs": [],
   "source": []
  },
  {
   "cell_type": "code",
   "execution_count": 18,
   "id": "243f654e",
   "metadata": {},
   "outputs": [
    {
     "name": "stdout",
     "output_type": "stream",
     "text": [
      "Original value: 0.0001677002728683874, SEU value: -0.0001677002728683874\n"
     ]
    },
    {
     "name": "stderr",
     "output_type": "stream",
     "text": [
      "Evaluating: 100%|██████████| 100/100 [00:08<00:00, 12.48it/s]\n"
     ]
    },
    {
     "name": "stdout",
     "output_type": "stream",
     "text": [
      "Accuracy after SEU: 0.9362962962962963\n",
      "===================================\n",
      "Original value: 0.0001677002728683874, SEU value: 5.70654457849421e+34\n"
     ]
    },
    {
     "name": "stderr",
     "output_type": "stream",
     "text": [
      "Evaluating: 100%|██████████| 100/100 [00:07<00:00, 12.84it/s]\n"
     ]
    },
    {
     "name": "stdout",
     "output_type": "stream",
     "text": [
      "Accuracy after SEU: 0.1111111111111111\n",
      "===================================\n",
      "Original value: 0.0001677002728683874, SEU value: 9.091050008515876e-24\n"
     ]
    },
    {
     "name": "stderr",
     "output_type": "stream",
     "text": [
      "Evaluating: 100%|██████████| 100/100 [00:07<00:00, 12.96it/s]\n"
     ]
    },
    {
     "name": "stdout",
     "output_type": "stream",
     "text": [
      "Accuracy after SEU: 0.9362962962962963\n",
      "===================================\n",
      "Original value: 0.0001677002728683874, SEU value: 3.904576247287621e-14\n"
     ]
    },
    {
     "name": "stderr",
     "output_type": "stream",
     "text": [
      "Evaluating: 100%|██████████| 100/100 [00:07<00:00, 13.19it/s]\n"
     ]
    },
    {
     "name": "stdout",
     "output_type": "stream",
     "text": [
      "Accuracy after SEU: 0.9362962962962963\n",
      "===================================\n",
      "Original value: 0.0001677002728683874, SEU value: 2.558903089422415e-09\n"
     ]
    },
    {
     "name": "stderr",
     "output_type": "stream",
     "text": [
      "Evaluating: 100%|██████████| 100/100 [00:07<00:00, 13.24it/s]\n"
     ]
    },
    {
     "name": "stdout",
     "output_type": "stream",
     "text": [
      "Accuracy after SEU: 0.9362962962962963\n",
      "===================================\n",
      "Original value: 0.0001677002728683874, SEU value: 0.042931269854307175\n"
     ]
    },
    {
     "name": "stderr",
     "output_type": "stream",
     "text": [
      "Evaluating: 100%|██████████| 100/100 [00:07<00:00, 12.95it/s]\n"
     ]
    },
    {
     "name": "stdout",
     "output_type": "stream",
     "text": [
      "Accuracy after SEU: 0.9362962962962963\n",
      "===================================\n",
      "Original value: 0.0001677002728683874, SEU value: 0.0026832043658941984\n"
     ]
    },
    {
     "name": "stderr",
     "output_type": "stream",
     "text": [
      "Evaluating: 100%|██████████| 100/100 [00:11<00:00,  8.59it/s]\n"
     ]
    },
    {
     "name": "stdout",
     "output_type": "stream",
     "text": [
      "Accuracy after SEU: 0.9362962962962963\n",
      "===================================\n",
      "Original value: 0.0001677002728683874, SEU value: 4.192506821709685e-05\n"
     ]
    },
    {
     "name": "stderr",
     "output_type": "stream",
     "text": [
      "Evaluating: 100%|██████████| 100/100 [00:20<00:00,  4.96it/s]\n"
     ]
    },
    {
     "name": "stdout",
     "output_type": "stream",
     "text": [
      "Accuracy after SEU: 0.9362962962962963\n",
      "===================================\n",
      "Original value: 0.0001677002728683874, SEU value: 0.0003354005457367748\n"
     ]
    },
    {
     "name": "stderr",
     "output_type": "stream",
     "text": [
      "Evaluating: 100%|██████████| 100/100 [00:19<00:00,  5.16it/s]\n"
     ]
    },
    {
     "name": "stdout",
     "output_type": "stream",
     "text": [
      "Accuracy after SEU: 0.9362962962962963\n",
      "===================================\n",
      "Original value: 0.0001677002728683874, SEU value: 0.0002287354291183874\n"
     ]
    },
    {
     "name": "stderr",
     "output_type": "stream",
     "text": [
      "Evaluating: 100%|██████████| 100/100 [00:07<00:00, 13.04it/s]\n"
     ]
    },
    {
     "name": "stdout",
     "output_type": "stream",
     "text": [
      "Accuracy after SEU: 0.9362962962962963\n",
      "===================================\n",
      "Original value: 0.0001677002728683874, SEU value: 0.0001371826947433874\n"
     ]
    },
    {
     "name": "stderr",
     "output_type": "stream",
     "text": [
      "Evaluating: 100%|██████████| 100/100 [00:07<00:00, 12.91it/s]\n"
     ]
    },
    {
     "name": "stdout",
     "output_type": "stream",
     "text": [
      "Accuracy after SEU: 0.9362962962962963\n",
      "===================================\n",
      "Original value: 0.0001677002728683874, SEU value: 0.0001829590619308874\n"
     ]
    },
    {
     "name": "stderr",
     "output_type": "stream",
     "text": [
      "Evaluating: 100%|██████████| 100/100 [00:18<00:00,  5.28it/s]\n"
     ]
    },
    {
     "name": "stdout",
     "output_type": "stream",
     "text": [
      "Accuracy after SEU: 0.9362962962962963\n",
      "===================================\n",
      "Original value: 0.0001677002728683874, SEU value: 0.0001600708783371374\n"
     ]
    },
    {
     "name": "stderr",
     "output_type": "stream",
     "text": [
      "Evaluating: 100%|██████████| 100/100 [00:19<00:00,  5.09it/s]\n"
     ]
    },
    {
     "name": "stdout",
     "output_type": "stream",
     "text": [
      "Accuracy after SEU: 0.9362962962962963\n",
      "===================================\n",
      "Original value: 0.0001677002728683874, SEU value: 0.0001638855756027624\n"
     ]
    },
    {
     "name": "stderr",
     "output_type": "stream",
     "text": [
      "Evaluating: 100%|██████████| 100/100 [00:11<00:00,  8.40it/s]\n"
     ]
    },
    {
     "name": "stdout",
     "output_type": "stream",
     "text": [
      "Accuracy after SEU: 0.9362962962962963\n",
      "===================================\n",
      "Original value: 0.0001677002728683874, SEU value: 0.0001657929242355749\n"
     ]
    },
    {
     "name": "stderr",
     "output_type": "stream",
     "text": [
      "Evaluating: 100%|██████████| 100/100 [00:07<00:00, 13.19it/s]\n"
     ]
    },
    {
     "name": "stdout",
     "output_type": "stream",
     "text": [
      "Accuracy after SEU: 0.9362962962962963\n",
      "===================================\n",
      "Original value: 0.0001677002728683874, SEU value: 0.00016674659855198115\n"
     ]
    },
    {
     "name": "stderr",
     "output_type": "stream",
     "text": [
      "Evaluating: 100%|██████████| 100/100 [00:13<00:00,  7.22it/s]\n"
     ]
    },
    {
     "name": "stdout",
     "output_type": "stream",
     "text": [
      "Accuracy after SEU: 0.9362962962962963\n",
      "===================================\n",
      "Original value: 0.0001677002728683874, SEU value: 0.00016722343571018428\n"
     ]
    },
    {
     "name": "stderr",
     "output_type": "stream",
     "text": [
      "Evaluating: 100%|██████████| 100/100 [00:19<00:00,  5.09it/s]\n"
     ]
    },
    {
     "name": "stdout",
     "output_type": "stream",
     "text": [
      "Accuracy after SEU: 0.9362962962962963\n",
      "===================================\n",
      "Original value: 0.0001677002728683874, SEU value: 0.00016746185428928584\n"
     ]
    },
    {
     "name": "stderr",
     "output_type": "stream",
     "text": [
      "Evaluating: 100%|██████████| 100/100 [00:18<00:00,  5.37it/s]\n"
     ]
    },
    {
     "name": "stdout",
     "output_type": "stream",
     "text": [
      "Accuracy after SEU: 0.9362962962962963\n",
      "===================================\n",
      "Original value: 0.0001677002728683874, SEU value: 0.00016781948215793818\n"
     ]
    },
    {
     "name": "stderr",
     "output_type": "stream",
     "text": [
      "Evaluating: 100%|██████████| 100/100 [00:07<00:00, 13.08it/s]\n"
     ]
    },
    {
     "name": "stdout",
     "output_type": "stream",
     "text": [
      "Accuracy after SEU: 0.9362962962962963\n",
      "===================================\n",
      "Original value: 0.0001677002728683874, SEU value: 0.000167640668223612\n"
     ]
    },
    {
     "name": "stderr",
     "output_type": "stream",
     "text": [
      "Evaluating: 100%|██████████| 100/100 [00:12<00:00,  8.17it/s]\n"
     ]
    },
    {
     "name": "stdout",
     "output_type": "stream",
     "text": [
      "Accuracy after SEU: 0.9362962962962963\n",
      "===================================\n",
      "Original value: 0.0001677002728683874, SEU value: 0.0001676704705459997\n"
     ]
    },
    {
     "name": "stderr",
     "output_type": "stream",
     "text": [
      "Evaluating: 100%|██████████| 100/100 [00:19<00:00,  5.03it/s]\n"
     ]
    },
    {
     "name": "stdout",
     "output_type": "stream",
     "text": [
      "Accuracy after SEU: 0.9362962962962963\n",
      "===================================\n",
      "Original value: 0.0001677002728683874, SEU value: 0.00016771517402958125\n"
     ]
    },
    {
     "name": "stderr",
     "output_type": "stream",
     "text": [
      "Evaluating: 100%|██████████| 100/100 [00:19<00:00,  5.23it/s]\n"
     ]
    },
    {
     "name": "stdout",
     "output_type": "stream",
     "text": [
      "Accuracy after SEU: 0.9362962962962963\n",
      "===================================\n",
      "Original value: 0.0001677002728683874, SEU value: 0.00016770772344898432\n"
     ]
    },
    {
     "name": "stderr",
     "output_type": "stream",
     "text": [
      "Evaluating: 100%|██████████| 100/100 [00:07<00:00, 12.85it/s]\n"
     ]
    },
    {
     "name": "stdout",
     "output_type": "stream",
     "text": [
      "Accuracy after SEU: 0.9362962962962963\n",
      "===================================\n",
      "Original value: 0.0001677002728683874, SEU value: 0.00016770399815868586\n"
     ]
    },
    {
     "name": "stderr",
     "output_type": "stream",
     "text": [
      "Evaluating: 100%|██████████| 100/100 [00:15<00:00,  6.28it/s]\n"
     ]
    },
    {
     "name": "stdout",
     "output_type": "stream",
     "text": [
      "Accuracy after SEU: 0.9362962962962963\n",
      "===================================\n",
      "Original value: 0.0001677002728683874, SEU value: 0.00016769841022323817\n"
     ]
    },
    {
     "name": "stderr",
     "output_type": "stream",
     "text": [
      "Evaluating: 100%|██████████| 100/100 [00:19<00:00,  5.03it/s]\n"
     ]
    },
    {
     "name": "stdout",
     "output_type": "stream",
     "text": [
      "Accuracy after SEU: 0.9362962962962963\n",
      "===================================\n",
      "Original value: 0.0001677002728683874, SEU value: 0.00016770120419096202\n"
     ]
    },
    {
     "name": "stderr",
     "output_type": "stream",
     "text": [
      "Evaluating: 100%|██████████| 100/100 [00:14<00:00,  6.85it/s]\n"
     ]
    },
    {
     "name": "stdout",
     "output_type": "stream",
     "text": [
      "Accuracy after SEU: 0.9362962962962963\n",
      "===================================\n",
      "Original value: 0.0001677002728683874, SEU value: 0.0001676998072071001\n"
     ]
    },
    {
     "name": "stderr",
     "output_type": "stream",
     "text": [
      "Evaluating: 100%|██████████| 100/100 [00:07<00:00, 13.05it/s]\n"
     ]
    },
    {
     "name": "stdout",
     "output_type": "stream",
     "text": [
      "Accuracy after SEU: 0.9362962962962963\n",
      "===================================\n",
      "Original value: 0.0001677002728683874, SEU value: 0.00016770004003774375\n"
     ]
    },
    {
     "name": "stderr",
     "output_type": "stream",
     "text": [
      "Evaluating: 100%|██████████| 100/100 [00:18<00:00,  5.42it/s]\n"
     ]
    },
    {
     "name": "stdout",
     "output_type": "stream",
     "text": [
      "Accuracy after SEU: 0.9362962962962963\n",
      "===================================\n",
      "Original value: 0.0001677002728683874, SEU value: 0.00016770038928370923\n"
     ]
    },
    {
     "name": "stderr",
     "output_type": "stream",
     "text": [
      "Evaluating: 100%|██████████| 100/100 [00:19<00:00,  5.11it/s]\n"
     ]
    },
    {
     "name": "stdout",
     "output_type": "stream",
     "text": [
      "Accuracy after SEU: 0.9362962962962963\n",
      "===================================\n",
      "Original value: 0.0001677002728683874, SEU value: 0.00016770033107604831\n"
     ]
    },
    {
     "name": "stderr",
     "output_type": "stream",
     "text": [
      "Evaluating: 100%|██████████| 100/100 [00:12<00:00,  7.75it/s]\n"
     ]
    },
    {
     "name": "stdout",
     "output_type": "stream",
     "text": [
      "Accuracy after SEU: 0.9362962962962963\n",
      "===================================\n",
      "Original value: 0.0001677002728683874, SEU value: 0.00016770024376455694\n"
     ]
    },
    {
     "name": "stderr",
     "output_type": "stream",
     "text": [
      "Evaluating: 100%|██████████| 100/100 [00:07<00:00, 13.05it/s]\n"
     ]
    },
    {
     "name": "stdout",
     "output_type": "stream",
     "text": [
      "Accuracy after SEU: 0.9362962962962963\n",
      "===================================\n",
      "Original value: 0.0001677002728683874, SEU value: 0.00016770025831647217\n"
     ]
    },
    {
     "name": "stderr",
     "output_type": "stream",
     "text": [
      "Evaluating: 100%|██████████| 100/100 [00:13<00:00,  7.57it/s]"
     ]
    },
    {
     "name": "stdout",
     "output_type": "stream",
     "text": [
      "Accuracy after SEU: 0.9362962962962963\n",
      "===================================\n"
     ]
    },
    {
     "name": "stderr",
     "output_type": "stream",
     "text": [
      "\n"
     ]
    }
   ],
   "source": [
    "results2_loc = []\n",
    "\n",
    "for i in range(0, 32):\n",
    "    results2_loc.append(inj.run_seu_autolaplace_approximation(location_index=217536, bit_i=i, parameter_name=\"loc\", num_samples=10))"
   ]
  },
  {
   "cell_type": "code",
   "execution_count": 19,
   "id": "30037b8f",
   "metadata": {},
   "outputs": [
    {
     "data": {
      "image/png": "[encoded data removed]",
      "text/plain": [
       "<Figure size 1000x500 with 1 Axes>"
      ]
     },
     "metadata": {},
     "output_type": "display_data"
    }
   ],
   "source": [
    "plt.figure(figsize=(10, 5))\n",
    "plt.plot(range(0, 32), results2_loc, marker='o')\n",
    "plt.title('SEU Impact on Loc Parameter')\n",
    "plt.xlabel('Bit Position')\n",
    "plt.ylabel('Change in Accuracy')\n",
    "plt.grid()\n",
    "plt.show()"
   ]
  },
  {
   "cell_type": "code",
   "execution_count": null,
   "id": "383ac246",
   "metadata": {},
   "outputs": [],
   "source": [
    "bayesian_model"
   ]
  },
  {
   "cell_type": "code",
   "execution_count": null,
   "id": "71c97214",
   "metadata": {},
   "outputs": [],
   "source": [
    "# print the parameters of the bayesian model\n",
    "for name, value in bayesian_model.named_parameters():\n",
    "    print(f\"{name}: {value.shape}\")"
   ]
  },
  {
   "cell_type": "code",
   "execution_count": null,
   "id": "19998c08",
   "metadata": {},
   "outputs": [],
   "source": [
    "# print the parameters of pyro param store\n",
    "for name, value in pyro.get_param_store().items():\n",
    "    print(f\"{name}: {value.shape}\")"
   ]
  },
  {
   "cell_type": "code",
   "execution_count": 20,
   "id": "2218c250",
   "metadata": {},
   "outputs": [
    {
     "name": "stdout",
     "output_type": "stream",
     "text": [
      "Original value: 4.140442848205566, SEU value: -4.140442848205566\n"
     ]
    },
    {
     "name": "stderr",
     "output_type": "stream",
     "text": [
      "Evaluating: 100%|██████████| 100/100 [00:19<00:00,  5.10it/s]\n"
     ]
    },
    {
     "name": "stdout",
     "output_type": "stream",
     "text": [
      "Accuracy after SEU: 0.9362962962962963\n",
      "===================================\n",
      "Original value: 4.140442848205566, SEU value: 1.2167667944920463e-38\n"
     ]
    },
    {
     "name": "stderr",
     "output_type": "stream",
     "text": [
      "Evaluating: 100%|██████████| 100/100 [00:19<00:00,  5.04it/s]\n"
     ]
    },
    {
     "name": "stdout",
     "output_type": "stream",
     "text": [
      "Accuracy after SEU: 0.9362962962962963\n",
      "===================================\n",
      "Original value: 4.140442848205566, SEU value: 7.637768957266913e+19\n"
     ]
    },
    {
     "name": "stderr",
     "output_type": "stream",
     "text": [
      "Evaluating: 100%|██████████| 100/100 [00:14<00:00,  6.90it/s]\n"
     ]
    },
    {
     "name": "stdout",
     "output_type": "stream",
     "text": [
      "Accuracy after SEU: 0.8553703703703703\n",
      "===================================\n",
      "Original value: 4.140442848205566, SEU value: 17783066624.0\n"
     ]
    },
    {
     "name": "stderr",
     "output_type": "stream",
     "text": [
      "Evaluating: 100%|██████████| 100/100 [00:08<00:00, 11.92it/s]\n"
     ]
    },
    {
     "name": "stdout",
     "output_type": "stream",
     "text": [
      "Accuracy after SEU: 0.8553703703703703\n",
      "===================================\n",
      "Original value: 4.140442848205566, SEU value: 271348.0625\n"
     ]
    },
    {
     "name": "stderr",
     "output_type": "stream",
     "text": [
      "Evaluating: 100%|██████████| 100/100 [00:19<00:00,  5.07it/s]\n"
     ]
    },
    {
     "name": "stdout",
     "output_type": "stream",
     "text": [
      "Accuracy after SEU: 0.8553703703703703\n",
      "===================================\n",
      "Original value: 4.140442848205566, SEU value: 1059.953369140625\n"
     ]
    },
    {
     "name": "stderr",
     "output_type": "stream",
     "text": [
      "Evaluating: 100%|██████████| 100/100 [00:19<00:00,  5.06it/s]\n"
     ]
    },
    {
     "name": "stdout",
     "output_type": "stream",
     "text": [
      "Accuracy after SEU: 0.8975925925925926\n",
      "===================================\n",
      "Original value: 4.140442848205566, SEU value: 66.24708557128906\n"
     ]
    },
    {
     "name": "stderr",
     "output_type": "stream",
     "text": [
      "Evaluating: 100%|██████████| 100/100 [00:10<00:00,  9.68it/s]\n"
     ]
    },
    {
     "name": "stdout",
     "output_type": "stream",
     "text": [
      "Accuracy after SEU: 0.9346296296296296\n",
      "===================================\n",
      "Original value: 4.140442848205566, SEU value: 16.561771392822266\n"
     ]
    },
    {
     "name": "stderr",
     "output_type": "stream",
     "text": [
      "Evaluating: 100%|██████████| 100/100 [00:12<00:00,  7.92it/s]\n"
     ]
    },
    {
     "name": "stdout",
     "output_type": "stream",
     "text": [
      "Accuracy after SEU: 0.9361111111111111\n",
      "===================================\n",
      "Original value: 4.140442848205566, SEU value: 2.070221424102783\n"
     ]
    },
    {
     "name": "stderr",
     "output_type": "stream",
     "text": [
      "Evaluating: 100%|██████████| 100/100 [00:19<00:00,  5.07it/s]\n"
     ]
    },
    {
     "name": "stdout",
     "output_type": "stream",
     "text": [
      "Accuracy after SEU: 0.9362962962962963\n",
      "===================================\n",
      "Original value: 4.140442848205566, SEU value: 6.140442848205566\n"
     ]
    },
    {
     "name": "stderr",
     "output_type": "stream",
     "text": [
      "Evaluating: 100%|██████████| 100/100 [00:19<00:00,  5.03it/s]\n"
     ]
    },
    {
     "name": "stdout",
     "output_type": "stream",
     "text": [
      "Accuracy after SEU: 0.9362962962962963\n",
      "===================================\n",
      "Original value: 4.140442848205566, SEU value: 5.140442848205566\n"
     ]
    },
    {
     "name": "stderr",
     "output_type": "stream",
     "text": [
      "Evaluating: 100%|██████████| 100/100 [00:07<00:00, 12.64it/s]\n"
     ]
    },
    {
     "name": "stdout",
     "output_type": "stream",
     "text": [
      "Accuracy after SEU: 0.9362962962962963\n",
      "===================================\n",
      "Original value: 4.140442848205566, SEU value: 4.640442848205566\n"
     ]
    },
    {
     "name": "stderr",
     "output_type": "stream",
     "text": [
      "Evaluating: 100%|██████████| 100/100 [00:11<00:00,  8.70it/s]\n"
     ]
    },
    {
     "name": "stdout",
     "output_type": "stream",
     "text": [
      "Accuracy after SEU: 0.9362962962962963\n",
      "===================================\n",
      "Original value: 4.140442848205566, SEU value: 4.390442848205566\n"
     ]
    },
    {
     "name": "stderr",
     "output_type": "stream",
     "text": [
      "Evaluating: 100%|██████████| 100/100 [00:19<00:00,  5.01it/s]\n"
     ]
    },
    {
     "name": "stdout",
     "output_type": "stream",
     "text": [
      "Accuracy after SEU: 0.9362962962962963\n",
      "===================================\n",
      "Original value: 4.140442848205566, SEU value: 4.015442848205566\n"
     ]
    },
    {
     "name": "stderr",
     "output_type": "stream",
     "text": [
      "Evaluating: 100%|██████████| 100/100 [00:19<00:00,  5.04it/s]\n"
     ]
    },
    {
     "name": "stdout",
     "output_type": "stream",
     "text": [
      "Accuracy after SEU: 0.9362962962962963\n",
      "===================================\n",
      "Original value: 4.140442848205566, SEU value: 4.202942848205566\n"
     ]
    },
    {
     "name": "stderr",
     "output_type": "stream",
     "text": [
      "Evaluating: 100%|██████████| 100/100 [00:16<00:00,  6.21it/s]\n"
     ]
    },
    {
     "name": "stdout",
     "output_type": "stream",
     "text": [
      "Accuracy after SEU: 0.9362962962962963\n",
      "===================================\n",
      "Original value: 4.140442848205566, SEU value: 4.171692848205566\n"
     ]
    },
    {
     "name": "stderr",
     "output_type": "stream",
     "text": [
      "Evaluating: 100%|██████████| 100/100 [00:07<00:00, 12.98it/s]\n"
     ]
    },
    {
     "name": "stdout",
     "output_type": "stream",
     "text": [
      "Accuracy after SEU: 0.9362962962962963\n",
      "===================================\n",
      "Original value: 4.140442848205566, SEU value: 4.156067848205566\n"
     ]
    },
    {
     "name": "stderr",
     "output_type": "stream",
     "text": [
      "Evaluating: 100%|██████████| 100/100 [00:15<00:00,  6.61it/s]\n"
     ]
    },
    {
     "name": "stdout",
     "output_type": "stream",
     "text": [
      "Accuracy after SEU: 0.9362962962962963\n",
      "===================================\n",
      "Original value: 4.140442848205566, SEU value: 4.132630348205566\n"
     ]
    },
    {
     "name": "stderr",
     "output_type": "stream",
     "text": [
      "Evaluating: 100%|██████████| 100/100 [00:19<00:00,  5.05it/s]\n"
     ]
    },
    {
     "name": "stdout",
     "output_type": "stream",
     "text": [
      "Accuracy after SEU: 0.9362962962962963\n",
      "===================================\n",
      "Original value: 4.140442848205566, SEU value: 4.136536598205566\n"
     ]
    },
    {
     "name": "stderr",
     "output_type": "stream",
     "text": [
      "Evaluating: 100%|██████████| 100/100 [00:19<00:00,  5.03it/s]\n"
     ]
    },
    {
     "name": "stdout",
     "output_type": "stream",
     "text": [
      "Accuracy after SEU: 0.9362962962962963\n",
      "===================================\n",
      "Original value: 4.140442848205566, SEU value: 4.138489723205566\n"
     ]
    },
    {
     "name": "stderr",
     "output_type": "stream",
     "text": [
      "Evaluating: 100%|██████████| 100/100 [00:12<00:00,  7.95it/s]\n"
     ]
    },
    {
     "name": "stdout",
     "output_type": "stream",
     "text": [
      "Accuracy after SEU: 0.9362962962962963\n",
      "===================================\n",
      "Original value: 4.140442848205566, SEU value: 4.139466285705566\n"
     ]
    },
    {
     "name": "stderr",
     "output_type": "stream",
     "text": [
      "Evaluating: 100%|██████████| 100/100 [00:08<00:00, 11.83it/s]\n"
     ]
    },
    {
     "name": "stdout",
     "output_type": "stream",
     "text": [
      "Accuracy after SEU: 0.9362962962962963\n",
      "===================================\n",
      "Original value: 4.140442848205566, SEU value: 4.139954566955566\n"
     ]
    },
    {
     "name": "stderr",
     "output_type": "stream",
     "text": [
      "Evaluating: 100%|██████████| 100/100 [00:19<00:00,  5.04it/s]\n"
     ]
    },
    {
     "name": "stdout",
     "output_type": "stream",
     "text": [
      "Accuracy after SEU: 0.9362962962962963\n",
      "===================================\n",
      "Original value: 4.140442848205566, SEU value: 4.140198707580566\n"
     ]
    },
    {
     "name": "stderr",
     "output_type": "stream",
     "text": [
      "Evaluating: 100%|██████████| 100/100 [00:19<00:00,  5.05it/s]\n"
     ]
    },
    {
     "name": "stdout",
     "output_type": "stream",
     "text": [
      "Accuracy after SEU: 0.9362962962962963\n",
      "===================================\n",
      "Original value: 4.140442848205566, SEU value: 4.140564918518066\n"
     ]
    },
    {
     "name": "stderr",
     "output_type": "stream",
     "text": [
      "Evaluating: 100%|██████████| 100/100 [00:19<00:00,  5.06it/s]\n"
     ]
    },
    {
     "name": "stdout",
     "output_type": "stream",
     "text": [
      "Accuracy after SEU: 0.9362962962962963\n",
      "===================================\n",
      "Original value: 4.140442848205566, SEU value: 4.140381813049316\n"
     ]
    },
    {
     "name": "stderr",
     "output_type": "stream",
     "text": [
      "Evaluating: 100%|██████████| 100/100 [00:07<00:00, 12.74it/s]\n"
     ]
    },
    {
     "name": "stdout",
     "output_type": "stream",
     "text": [
      "Accuracy after SEU: 0.9362962962962963\n",
      "===================================\n",
      "Original value: 4.140442848205566, SEU value: 4.140473365783691\n"
     ]
    },
    {
     "name": "stderr",
     "output_type": "stream",
     "text": [
      "Evaluating: 100%|██████████| 100/100 [00:11<00:00,  8.72it/s]\n"
     ]
    },
    {
     "name": "stdout",
     "output_type": "stream",
     "text": [
      "Accuracy after SEU: 0.9362962962962963\n",
      "===================================\n",
      "Original value: 4.140442848205566, SEU value: 4.140458106994629\n"
     ]
    },
    {
     "name": "stderr",
     "output_type": "stream",
     "text": [
      "Evaluating: 100%|██████████| 100/100 [00:19<00:00,  5.07it/s]\n"
     ]
    },
    {
     "name": "stdout",
     "output_type": "stream",
     "text": [
      "Accuracy after SEU: 0.9362962962962963\n",
      "===================================\n",
      "Original value: 4.140442848205566, SEU value: 4.140450477600098\n"
     ]
    },
    {
     "name": "stderr",
     "output_type": "stream",
     "text": [
      "Evaluating: 100%|██████████| 100/100 [00:19<00:00,  5.08it/s]\n"
     ]
    },
    {
     "name": "stdout",
     "output_type": "stream",
     "text": [
      "Accuracy after SEU: 0.9362962962962963\n",
      "===================================\n",
      "Original value: 4.140442848205566, SEU value: 4.140446662902832\n"
     ]
    },
    {
     "name": "stderr",
     "output_type": "stream",
     "text": [
      "Evaluating: 100%|██████████| 100/100 [00:17<00:00,  5.63it/s]\n"
     ]
    },
    {
     "name": "stdout",
     "output_type": "stream",
     "text": [
      "Accuracy after SEU: 0.9362962962962963\n",
      "===================================\n",
      "Original value: 4.140442848205566, SEU value: 4.140444755554199\n"
     ]
    },
    {
     "name": "stderr",
     "output_type": "stream",
     "text": [
      "Evaluating: 100%|██████████| 100/100 [00:07<00:00, 12.89it/s]\n"
     ]
    },
    {
     "name": "stdout",
     "output_type": "stream",
     "text": [
      "Accuracy after SEU: 0.9362962962962963\n",
      "===================================\n",
      "Original value: 4.140442848205566, SEU value: 4.14044189453125\n"
     ]
    },
    {
     "name": "stderr",
     "output_type": "stream",
     "text": [
      "Evaluating: 100%|██████████| 100/100 [00:17<00:00,  5.81it/s]\n"
     ]
    },
    {
     "name": "stdout",
     "output_type": "stream",
     "text": [
      "Accuracy after SEU: 0.9362962962962963\n",
      "===================================\n",
      "Original value: 4.140442848205566, SEU value: 4.140443325042725\n"
     ]
    },
    {
     "name": "stderr",
     "output_type": "stream",
     "text": [
      "Evaluating: 100%|██████████| 100/100 [00:19<00:00,  5.04it/s]"
     ]
    },
    {
     "name": "stdout",
     "output_type": "stream",
     "text": [
      "Accuracy after SEU: 0.9362962962962963\n",
      "===================================\n"
     ]
    },
    {
     "name": "stderr",
     "output_type": "stream",
     "text": [
      "\n"
     ]
    }
   ],
   "source": [
    "results3_loc = []\n",
    "\n",
    "for i in range(0, 32):\n",
    "    results3_loc.append(inj.run_seu_autolaplace_approximation(location_index=53696, bit_i=i, parameter_name=\"loc\", num_samples=10))"
   ]
  },
  {
   "cell_type": "code",
   "execution_count": 21,
   "id": "2aab5691",
   "metadata": {},
   "outputs": [
    {
     "data": {
      "image/png": "[encoded data removed]",
      "text/plain": [
       "<Figure size 1000x500 with 1 Axes>"
      ]
     },
     "metadata": {},
     "output_type": "display_data"
    }
   ],
   "source": [
    "plt.figure(figsize=(10, 5))\n",
    "plt.plot(range(0, 32), results3_loc, marker='o')\n",
    "plt.title('SEU Impact on Loc Parameter')\n",
    "plt.xlabel('Bit Position')\n",
    "plt.ylabel('Change in Accuracy')\n",
    "plt.grid()\n",
    "plt.show()"
   ]
  },
  {
   "cell_type": "code",
   "execution_count": null,
   "id": "2301095f",
   "metadata": {},
   "outputs": [],
   "source": [
    "import numpy as np\n",
    "\n",
    "def get_flat_param_index(layer_name, param_type, index_tuple):\n",
    "    # Define parameter shapes for each layer\n",
    "    param_shapes = {\n",
    "        'conv1': {\n",
    "            'weight': (32, 3, 5, 5),\n",
    "            'bias': (32,)\n",
    "        },\n",
    "        'conv2': {\n",
    "            'weight': (64, 32, 5, 5),\n",
    "            'bias': (64,)\n",
    "        },\n",
    "        'fc1': {\n",
    "            'weight': (10, 16384),\n",
    "            'bias': (10,)\n",
    "        }\n",
    "    }\n",
    "\n",
    "    # Check valid inputs\n",
    "    if layer_name not in param_shapes:\n",
    "        raise ValueError(f\"Unknown layer '{layer_name}'\")\n",
    "    if param_type not in param_shapes[layer_name]:\n",
    "        raise ValueError(f\"'{param_type}' not found in layer '{layer_name}'\")\n",
    "\n",
    "    # Compute flat offset for each param in order: conv1.weight, conv1.bias, ...\n",
    "    flat_offset = 0\n",
    "    for l in ['conv1', 'conv2', 'fc1']:\n",
    "        for p in ['weight', 'bias']:\n",
    "            shape = param_shapes[l][p]\n",
    "            numel = np.prod(shape)\n",
    "\n",
    "            if l == layer_name and p == param_type:\n",
    "                # Compute local flat index within this param\n",
    "                local_flat_index = np.ravel_multi_index(index_tuple, shape)\n",
    "                return flat_offset + local_flat_index\n",
    "\n",
    "            flat_offset += numel\n",
    "\n",
    "    raise RuntimeError(\"Should not reach here if input is valid.\")\n"
   ]
  },
  {
   "cell_type": "code",
   "execution_count": null,
   "id": "4470f9f9",
   "metadata": {},
   "outputs": [],
   "source": [
    "# Index of conv1.bias[5]\n",
    "print(get_flat_param_index(\"conv1\", \"bias\", (0,)))  # Output: 2405\n",
    "\n",
    "# Index of conv2.weight[0,0,0,0]\n",
    "print(get_flat_param_index(\"conv2\", \"weight\", (0,0,0,0)))  # Output: 2432\n",
    "\n",
    "# Index of fc1.weight[0, 0]\n",
    "print(get_flat_param_index(\"fc1\", \"weight\", (0, 0)))  # Output: 53696"
   ]
  },
  {
   "cell_type": "code",
   "execution_count": 22,
   "id": "912f6988",
   "metadata": {},
   "outputs": [
    {
     "name": "stdout",
     "output_type": "stream",
     "text": [
      "Original value: -0.3891051709651947, SEU value: 0.3891051709651947\n"
     ]
    },
    {
     "name": "stderr",
     "output_type": "stream",
     "text": [
      "Evaluating: 100%|██████████| 100/100 [00:19<00:00,  5.11it/s]\n"
     ]
    },
    {
     "name": "stdout",
     "output_type": "stream",
     "text": [
      "Accuracy after SEU: 0.9337037037037037\n",
      "===================================\n",
      "Original value: -0.3891051709651947, SEU value: -1.3240562855721288e+38\n"
     ]
    },
    {
     "name": "stderr",
     "output_type": "stream",
     "text": [
      "Evaluating: 100%|██████████| 100/100 [00:08<00:00, 12.12it/s]\n"
     ]
    },
    {
     "name": "stdout",
     "output_type": "stream",
     "text": [
      "Accuracy after SEU: 0.7827777777777778\n",
      "===================================\n",
      "Original value: -0.3891051709651947, SEU value: -2.1093433584290386e-20\n"
     ]
    },
    {
     "name": "stderr",
     "output_type": "stream",
     "text": [
      "Evaluating: 100%|██████████| 100/100 [00:15<00:00,  6.27it/s]\n"
     ]
    },
    {
     "name": "stdout",
     "output_type": "stream",
     "text": [
      "Accuracy after SEU: 0.9351851851851852\n",
      "===================================\n",
      "Original value: -0.3891051709651947, SEU value: -9.059560740487527e-11\n"
     ]
    },
    {
     "name": "stderr",
     "output_type": "stream",
     "text": [
      "Evaluating: 100%|██████████| 100/100 [00:19<00:00,  5.10it/s]\n"
     ]
    },
    {
     "name": "stdout",
     "output_type": "stream",
     "text": [
      "Accuracy after SEU: 0.9351851851851852\n",
      "===================================\n",
      "Original value: -0.3891051709651947, SEU value: -5.9372737268859055e-06\n"
     ]
    },
    {
     "name": "stderr",
     "output_type": "stream",
     "text": [
      "Evaluating: 100%|██████████| 100/100 [00:19<00:00,  5.14it/s]\n"
     ]
    },
    {
     "name": "stdout",
     "output_type": "stream",
     "text": [
      "Accuracy after SEU: 0.9351851851851852\n",
      "===================================\n",
      "Original value: -0.3891051709651947, SEU value: -0.0015199420740827918\n"
     ]
    },
    {
     "name": "stderr",
     "output_type": "stream",
     "text": [
      "Evaluating: 100%|██████████| 100/100 [00:08<00:00, 11.51it/s]\n"
     ]
    },
    {
     "name": "stdout",
     "output_type": "stream",
     "text": [
      "Accuracy after SEU: 0.9351851851851852\n",
      "===================================\n",
      "Original value: -0.3891051709651947, SEU value: -0.02431907318532467\n"
     ]
    },
    {
     "name": "stderr",
     "output_type": "stream",
     "text": [
      "Evaluating: 100%|██████████| 100/100 [00:10<00:00,  9.85it/s]\n"
     ]
    },
    {
     "name": "stdout",
     "output_type": "stream",
     "text": [
      "Accuracy after SEU: 0.9355555555555556\n",
      "===================================\n",
      "Original value: -0.3891051709651947, SEU value: -1.5564206838607788\n"
     ]
    },
    {
     "name": "stderr",
     "output_type": "stream",
     "text": [
      "Evaluating: 100%|██████████| 100/100 [00:19<00:00,  5.03it/s]\n"
     ]
    },
    {
     "name": "stdout",
     "output_type": "stream",
     "text": [
      "Accuracy after SEU: 0.929074074074074\n",
      "===================================\n",
      "Original value: -0.3891051709651947, SEU value: -0.19455258548259735\n"
     ]
    },
    {
     "name": "stderr",
     "output_type": "stream",
     "text": [
      "Evaluating: 100%|██████████| 100/100 [00:19<00:00,  5.08it/s]\n"
     ]
    },
    {
     "name": "stdout",
     "output_type": "stream",
     "text": [
      "Accuracy after SEU: 0.9364814814814815\n",
      "===================================\n",
      "Original value: -0.3891051709651947, SEU value: -0.2641051709651947\n"
     ]
    },
    {
     "name": "stderr",
     "output_type": "stream",
     "text": [
      "Evaluating: 100%|██████████| 100/100 [00:15<00:00,  6.44it/s]\n"
     ]
    },
    {
     "name": "stdout",
     "output_type": "stream",
     "text": [
      "Accuracy after SEU: 0.9362962962962963\n",
      "===================================\n",
      "Original value: -0.3891051709651947, SEU value: -0.4516051709651947\n"
     ]
    },
    {
     "name": "stderr",
     "output_type": "stream",
     "text": [
      "Evaluating: 100%|██████████| 100/100 [00:07<00:00, 13.02it/s]\n"
     ]
    },
    {
     "name": "stdout",
     "output_type": "stream",
     "text": [
      "Accuracy after SEU: 0.9361111111111111\n",
      "===================================\n",
      "Original value: -0.3891051709651947, SEU value: -0.4203551709651947\n"
     ]
    },
    {
     "name": "stderr",
     "output_type": "stream",
     "text": [
      "Evaluating: 100%|██████████| 100/100 [00:15<00:00,  6.40it/s]\n"
     ]
    },
    {
     "name": "stdout",
     "output_type": "stream",
     "text": [
      "Accuracy after SEU: 0.9361111111111111\n",
      "===================================\n",
      "Original value: -0.3891051709651947, SEU value: -0.4047301709651947\n"
     ]
    },
    {
     "name": "stderr",
     "output_type": "stream",
     "text": [
      "Evaluating: 100%|██████████| 100/100 [00:19<00:00,  5.10it/s]\n"
     ]
    },
    {
     "name": "stdout",
     "output_type": "stream",
     "text": [
      "Accuracy after SEU: 0.9359259259259259\n",
      "===================================\n",
      "Original value: -0.3891051709651947, SEU value: -0.3812926709651947\n"
     ]
    },
    {
     "name": "stderr",
     "output_type": "stream",
     "text": [
      "Evaluating: 100%|██████████| 100/100 [00:19<00:00,  5.13it/s]\n"
     ]
    },
    {
     "name": "stdout",
     "output_type": "stream",
     "text": [
      "Accuracy after SEU: 0.9362962962962963\n",
      "===================================\n",
      "Original value: -0.3891051709651947, SEU value: -0.3851989209651947\n"
     ]
    },
    {
     "name": "stderr",
     "output_type": "stream",
     "text": [
      "Evaluating: 100%|██████████| 100/100 [00:11<00:00,  8.63it/s]\n"
     ]
    },
    {
     "name": "stdout",
     "output_type": "stream",
     "text": [
      "Accuracy after SEU: 0.9362962962962963\n",
      "===================================\n",
      "Original value: -0.3891051709651947, SEU value: -0.3871520459651947\n"
     ]
    },
    {
     "name": "stderr",
     "output_type": "stream",
     "text": [
      "Evaluating: 100%|██████████| 100/100 [00:10<00:00,  9.33it/s]\n"
     ]
    },
    {
     "name": "stdout",
     "output_type": "stream",
     "text": [
      "Accuracy after SEU: 0.9362962962962963\n",
      "===================================\n",
      "Original value: -0.3891051709651947, SEU value: -0.3900817334651947\n"
     ]
    },
    {
     "name": "stderr",
     "output_type": "stream",
     "text": [
      "Evaluating: 100%|██████████| 100/100 [00:19<00:00,  5.03it/s]\n"
     ]
    },
    {
     "name": "stdout",
     "output_type": "stream",
     "text": [
      "Accuracy after SEU: 0.9362962962962963\n",
      "===================================\n",
      "Original value: -0.3891051709651947, SEU value: -0.3895934522151947\n"
     ]
    },
    {
     "name": "stderr",
     "output_type": "stream",
     "text": [
      "Evaluating: 100%|██████████| 100/100 [00:19<00:00,  5.05it/s]\n"
     ]
    },
    {
     "name": "stdout",
     "output_type": "stream",
     "text": [
      "Accuracy after SEU: 0.9362962962962963\n",
      "===================================\n",
      "Original value: -0.3891051709651947, SEU value: -0.3888610303401947\n"
     ]
    },
    {
     "name": "stderr",
     "output_type": "stream",
     "text": [
      "Evaluating: 100%|██████████| 100/100 [00:11<00:00,  8.67it/s]\n"
     ]
    },
    {
     "name": "stdout",
     "output_type": "stream",
     "text": [
      "Accuracy after SEU: 0.9362962962962963\n",
      "===================================\n",
      "Original value: -0.3891051709651947, SEU value: -0.3889831006526947\n"
     ]
    },
    {
     "name": "stderr",
     "output_type": "stream",
     "text": [
      "Evaluating: 100%|██████████| 100/100 [00:07<00:00, 13.17it/s]\n"
     ]
    },
    {
     "name": "stdout",
     "output_type": "stream",
     "text": [
      "Accuracy after SEU: 0.9362962962962963\n",
      "===================================\n",
      "Original value: -0.3891051709651947, SEU value: -0.3890441358089447\n"
     ]
    },
    {
     "name": "stderr",
     "output_type": "stream",
     "text": [
      "Evaluating: 100%|██████████| 100/100 [00:19<00:00,  5.21it/s]\n"
     ]
    },
    {
     "name": "stdout",
     "output_type": "stream",
     "text": [
      "Accuracy after SEU: 0.9362962962962963\n",
      "===================================\n",
      "Original value: -0.3891051709651947, SEU value: -0.3891356885433197\n"
     ]
    },
    {
     "name": "stderr",
     "output_type": "stream",
     "text": [
      "Evaluating: 100%|██████████| 100/100 [00:19<00:00,  5.17it/s]\n"
     ]
    },
    {
     "name": "stdout",
     "output_type": "stream",
     "text": [
      "Accuracy after SEU: 0.9362962962962963\n",
      "===================================\n",
      "Original value: -0.3891051709651947, SEU value: -0.3891204297542572\n"
     ]
    },
    {
     "name": "stderr",
     "output_type": "stream",
     "text": [
      "Evaluating: 100%|██████████| 100/100 [00:18<00:00,  5.35it/s]\n"
     ]
    },
    {
     "name": "stdout",
     "output_type": "stream",
     "text": [
      "Accuracy after SEU: 0.9362962962962963\n",
      "===================================\n",
      "Original value: -0.3891051709651947, SEU value: -0.38911280035972595\n"
     ]
    },
    {
     "name": "stderr",
     "output_type": "stream",
     "text": [
      "Evaluating: 100%|██████████| 100/100 [00:07<00:00, 13.25it/s]\n"
     ]
    },
    {
     "name": "stdout",
     "output_type": "stream",
     "text": [
      "Accuracy after SEU: 0.9362962962962963\n",
      "===================================\n",
      "Original value: -0.3891051709651947, SEU value: -0.3891013562679291\n"
     ]
    },
    {
     "name": "stderr",
     "output_type": "stream",
     "text": [
      "Evaluating: 100%|██████████| 100/100 [00:13<00:00,  7.49it/s]\n"
     ]
    },
    {
     "name": "stdout",
     "output_type": "stream",
     "text": [
      "Accuracy after SEU: 0.9362962962962963\n",
      "===================================\n",
      "Original value: -0.3891051709651947, SEU value: -0.3891032636165619\n"
     ]
    },
    {
     "name": "stderr",
     "output_type": "stream",
     "text": [
      "Evaluating: 100%|██████████| 100/100 [00:19<00:00,  5.13it/s]\n"
     ]
    },
    {
     "name": "stdout",
     "output_type": "stream",
     "text": [
      "Accuracy after SEU: 0.9362962962962963\n",
      "===================================\n",
      "Original value: -0.3891051709651947, SEU value: -0.3891061246395111\n"
     ]
    },
    {
     "name": "stderr",
     "output_type": "stream",
     "text": [
      "Evaluating: 100%|██████████| 100/100 [00:19<00:00,  5.15it/s]\n"
     ]
    },
    {
     "name": "stdout",
     "output_type": "stream",
     "text": [
      "Accuracy after SEU: 0.9362962962962963\n",
      "===================================\n",
      "Original value: -0.3891051709651947, SEU value: -0.3891056478023529\n"
     ]
    },
    {
     "name": "stderr",
     "output_type": "stream",
     "text": [
      "Evaluating: 100%|██████████| 100/100 [00:12<00:00,  7.92it/s]\n"
     ]
    },
    {
     "name": "stdout",
     "output_type": "stream",
     "text": [
      "Accuracy after SEU: 0.9362962962962963\n",
      "===================================\n",
      "Original value: -0.3891051709651947, SEU value: -0.3891049325466156\n"
     ]
    },
    {
     "name": "stderr",
     "output_type": "stream",
     "text": [
      "Evaluating: 100%|██████████| 100/100 [00:07<00:00, 13.14it/s]\n"
     ]
    },
    {
     "name": "stdout",
     "output_type": "stream",
     "text": [
      "Accuracy after SEU: 0.9362962962962963\n",
      "===================================\n",
      "Original value: -0.3891051709651947, SEU value: -0.38910529017448425\n"
     ]
    },
    {
     "name": "stderr",
     "output_type": "stream",
     "text": [
      "Evaluating: 100%|██████████| 100/100 [00:19<00:00,  5.17it/s]\n"
     ]
    },
    {
     "name": "stdout",
     "output_type": "stream",
     "text": [
      "Accuracy after SEU: 0.9362962962962963\n",
      "===================================\n",
      "Original value: -0.3891051709651947, SEU value: -0.3891051113605499\n"
     ]
    },
    {
     "name": "stderr",
     "output_type": "stream",
     "text": [
      "Evaluating: 100%|██████████| 100/100 [00:19<00:00,  5.16it/s]\n"
     ]
    },
    {
     "name": "stdout",
     "output_type": "stream",
     "text": [
      "Accuracy after SEU: 0.9362962962962963\n",
      "===================================\n",
      "Original value: -0.3891051709651947, SEU value: -0.3891051411628723\n"
     ]
    },
    {
     "name": "stderr",
     "output_type": "stream",
     "text": [
      "Evaluating: 100%|██████████| 100/100 [00:19<00:00,  5.16it/s]"
     ]
    },
    {
     "name": "stdout",
     "output_type": "stream",
     "text": [
      "Accuracy after SEU: 0.9362962962962963\n",
      "===================================\n"
     ]
    },
    {
     "name": "stderr",
     "output_type": "stream",
     "text": [
      "\n"
     ]
    }
   ],
   "source": [
    "results4_loc = []\n",
    "\n",
    "for i in range(0, 32):\n",
    "    results4_loc.append(inj.run_seu_autolaplace_approximation(location_index=2400, bit_i=i, parameter_name=\"loc\", num_samples=10))"
   ]
  },
  {
   "cell_type": "code",
   "execution_count": 23,
   "id": "b37f8fcc",
   "metadata": {},
   "outputs": [
    {
     "data": {
      "image/png": "[encoded data removed]",
      "text/plain": [
       "<Figure size 1000x500 with 1 Axes>"
      ]
     },
     "metadata": {},
     "output_type": "display_data"
    }
   ],
   "source": [
    "plt.figure(figsize=(10, 5))\n",
    "plt.plot(range(0, 32), results4_loc, marker='o')\n",
    "plt.title('SEU Impact on Loc Parameter')\n",
    "plt.xlabel('Bit Position')\n",
    "plt.ylabel('Change in Accuracy')\n",
    "plt.grid()\n",
    "plt.show()"
   ]
  },
  {
   "cell_type": "code",
   "execution_count": 24,
   "id": "52048018",
   "metadata": {},
   "outputs": [
    {
     "data": {
      "image/png": "[encoded data removed]",
      "text/plain": [
       "<Figure size 1000x500 with 1 Axes>"
      ]
     },
     "metadata": {},
     "output_type": "display_data"
    }
   ],
   "source": [
    "# plot results2_loc, results3_loc, results4_loc in a single plot\n",
    "plt.figure(figsize=(10, 5))\n",
    "plt.plot(range(0, 32), results_loc, marker='o', label='conv1 1st weight')\n",
    "plt.plot(range(0, 32), results4_loc, marker='o', label='conv1 1st bias')\n",
    "plt.plot(range(0, 32), results3_loc, marker='o', label='fc1 1st weight')\n",
    "plt.plot(range(0, 32), results2_loc, marker='o', label='fc1 1st bias')\n",
    "\n",
    "\n",
    "plt.title('SEU Impact on Loc Parameter')\n",
    "plt.xlabel('Bit Position')\n",
    "plt.ylabel('Change in Accuracy')\n",
    "plt.grid()\n",
    "plt.legend()\n",
    "plt.show()"
   ]
  },
  {
   "cell_type": "code",
   "execution_count": null,
   "id": "46f4c6a7",
   "metadata": {},
   "outputs": [],
   "source": [
    "#results\n",
    "#results2_scale\n",
    "#...\n",
    "#..."
   ]
  },
  {
   "cell_type": "code",
   "execution_count": null,
   "id": "49437bcc",
   "metadata": {},
   "outputs": [],
   "source": [
    "results_scale = []\n",
    "\n",
    "for i in range(0, 32):\n",
    "    results_scale.append(inj.run_seu_autodiagonal_normal(location_index=0, bit_i=i, parameter_name=\"scale\", num_samples=10))"
   ]
  },
  {
   "cell_type": "code",
   "execution_count": null,
   "id": "b8c3a57c",
   "metadata": {},
   "outputs": [],
   "source": [
    "#store the result in dataframe\n",
    "import pandas as pd\n",
    "results2_scale = []\n",
    "\n",
    "for i in range(0, 32):\n",
    "    results2_scale.append(inj.run_seu_autodiagonal_normal(location_index=217536, bit_i=i, parameter_name=\"scale\", num_samples=10))"
   ]
  },
  {
   "cell_type": "code",
   "execution_count": null,
   "id": "93ecf5b2",
   "metadata": {},
   "outputs": [],
   "source": [
    "#store the result in dataframe\n",
    "import pandas as pd\n",
    "results3_scale = []\n",
    "\n",
    "for i in range(0, 32):\n",
    "    results3_scale.append(inj.run_seu_autodiagonal_normal(location_index=53696, bit_i=i, parameter_name=\"scale\", num_samples=10))"
   ]
  },
  {
   "cell_type": "code",
   "execution_count": null,
   "id": "3ea994f9",
   "metadata": {},
   "outputs": [],
   "source": [
    "#store the result in dataframe\n",
    "import pandas as pd\n",
    "results4_scale = []\n",
    "\n",
    "for i in range(0, 32):\n",
    "    results4_scale.append(inj.run_seu_autodiagonal_normal(location_index=2400, bit_i=i, parameter_name=\"scale\", num_samples=10))"
   ]
  },
  {
   "cell_type": "code",
   "execution_count": null,
   "id": "3b26896a",
   "metadata": {},
   "outputs": [],
   "source": [
    "plt.figure(figsize=(10, 5))\n",
    "plt.plot(range(0, 32), results_scale, marker='o', label='conv1 1st weight')\n",
    "plt.plot(range(0, 32), results4_scale, marker='o', label='conv1 1st bias')\n",
    "plt.plot(range(0, 32), results3_scale, marker='o', label='fc1 1st weight')\n",
    "plt.plot(range(0, 32), results2_scale, marker='o', label='fc1 1st bias')\n",
    "\n",
    "\n",
    "plt.title('SEU Impact on Scale Parameter')\n",
    "plt.xlabel('Bit Position')\n",
    "plt.ylabel('Change in Accuracy')\n",
    "plt.grid()\n",
    "plt.legend()\n",
    "plt.show()"
   ]
  },
  {
   "cell_type": "code",
   "execution_count": null,
   "id": "1cf25c49",
   "metadata": {},
   "outputs": [],
   "source": []
  }
 ],
 "metadata": {
  "kernelspec": {
   "display_name": "bnntest",
   "language": "python",
   "name": "python3"
  },
  "language_info": {
   "codemirror_mode": {
    "name": "ipython",
    "version": 3
   },
   "file_extension": ".py",
   "mimetype": "text/x-python",
   "name": "python",
   "nbconvert_exporter": "python",
   "pygments_lexer": "ipython3",
   "version": "3.12.9"
  }
 },
 "nbformat": 4,
 "nbformat_minor": 5
}
