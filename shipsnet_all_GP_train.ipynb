{
 "cells": [
  {
   "cell_type": "code",
   "execution_count": 1,
   "id": "e8f77272",
   "metadata": {},
   "outputs": [],
   "source": [
    "import torch\n",
    "import torch.nn as nn\n",
    "import torch.nn.functional as F\n",
    "import torchvision.datasets as datasets\n",
    "import torchvision.transforms as transforms\n",
    "from torch.utils.data import DataLoader, random_split\n",
    "import time\n",
    "import matplotlib.pyplot as plt\n",
    "import os\n",
    "from sklearn.model_selection import train_test_split\n",
    "from torch.utils.data import Subset\n",
    "import torch\n",
    "\n",
    "import pickle"
   ]
  },
  {
   "cell_type": "code",
   "execution_count": 2,
   "id": "bfad9b94",
   "metadata": {},
   "outputs": [
    {
     "name": "stderr",
     "output_type": "stream",
     "text": [
      "c:\\Users\\Revalda Putawara\\.conda\\envs\\bnntest\\Lib\\site-packages\\tqdm\\auto.py:21: TqdmWarning: IProgress not found. Please update jupyter and ipywidgets. See https://ipywidgets.readthedocs.io/en/stable/user_install.html\n",
      "  from .autonotebook import tqdm as notebook_tqdm\n"
     ]
    }
   ],
   "source": [
    "import pyro\n",
    "import pyro.distributions as dist\n",
    "from pyro.nn import PyroModule, PyroSample"
   ]
  },
  {
   "cell_type": "code",
   "execution_count": 3,
   "id": "f88cba04",
   "metadata": {},
   "outputs": [],
   "source": [
    "import pandas as pd"
   ]
  },
  {
   "cell_type": "code",
   "execution_count": 4,
   "id": "58a06e01",
   "metadata": {},
   "outputs": [],
   "source": [
    "import torch\n",
    "from torch.utils.data import DataLoader\n",
    "from torchvision import transforms\n",
    "from torchvision.datasets import ImageFolder"
   ]
  },
  {
   "cell_type": "code",
   "execution_count": 5,
   "id": "f3af76a2",
   "metadata": {},
   "outputs": [],
   "source": [
    "device = torch.device(\"cuda\")\n",
    "#device = \"cpu\""
   ]
  },
  {
   "cell_type": "code",
   "execution_count": 6,
   "id": "66aae8f3",
   "metadata": {},
   "outputs": [],
   "source": [
    "from torchvision.datasets import ImageFolder"
   ]
  },
  {
   "cell_type": "code",
   "execution_count": 7,
   "id": "3a104651",
   "metadata": {},
   "outputs": [],
   "source": [
    "import torch\n",
    "from torch.utils.data import DataLoader\n",
    "from torchvision import transforms"
   ]
  },
  {
   "cell_type": "markdown",
   "id": "3538d012",
   "metadata": {},
   "source": [
    "### Load Data"
   ]
  },
  {
   "cell_type": "code",
   "execution_count": 8,
   "id": "de6f4d8d",
   "metadata": {},
   "outputs": [],
   "source": [
    "shipsnet_mean = [0.4119, 0.4243, 0.3724]\n",
    "shipsnet_std = [0.1899, 0.1569, 0.1515]\n",
    "\n",
    "def load_data(batch_size=16):\n",
    "    transform = transforms.Compose([\n",
    "        transforms.Resize((64, 64)),\n",
    "        transforms.ToTensor(),\n",
    "        transforms.Normalize(mean=shipsnet_mean, \n",
    "                             std=shipsnet_std)\n",
    "    ])\n",
    "\n",
    "    dataset = ImageFolder(\n",
    "    root=\"data/shipsnet/foldered\",\n",
    "    transform=transform\n",
    "    )\n",
    "\n",
    "    torch.manual_seed(42)\n",
    "\n",
    "    #train_size = int(0.8 * len(dataset))\n",
    "    #test_size = len(dataset) - train_size\n",
    "    #train_dataset, test_dataset = random_split(dataset, [train_size, test_size])\n",
    "    \n",
    "    with open('datasplit/shipsnet_split_indices.pkl', 'rb') as f:\n",
    "        split = pickle.load(f)\n",
    "        train_dataset = Subset(dataset, split['train'])\n",
    "        test_dataset = Subset(dataset, split['test'])\n",
    "\n",
    "    # Add num_workers and pin_memory for faster data loading\n",
    "    train_loader = DataLoader(train_dataset, batch_size=batch_size, shuffle=True, \n",
    "                             num_workers=4, pin_memory=True, persistent_workers=True)\n",
    "    test_loader = DataLoader(test_dataset, batch_size=batch_size,\n",
    "                            num_workers=4, pin_memory=True, persistent_workers=True)\n",
    "    return train_loader, test_loader"
   ]
  },
  {
   "cell_type": "code",
   "execution_count": 9,
   "id": "934458d4",
   "metadata": {},
   "outputs": [],
   "source": [
    "import torch\n",
    "import torch.nn as nn\n",
    "import torch.nn.functional as F\n",
    "import torchvision.datasets as datasets\n",
    "import torchvision.transforms as transforms\n",
    "from torch.utils.data import DataLoader, random_split\n",
    "import time\n",
    "import matplotlib.pyplot as plt\n",
    "import os\n",
    "from sklearn.model_selection import train_test_split\n",
    "from torch.utils.data import Subset\n",
    "import torch\n",
    "\n",
    "import pickle"
   ]
  },
  {
   "cell_type": "code",
   "execution_count": 10,
   "id": "9695c78a",
   "metadata": {},
   "outputs": [],
   "source": [
    "train_loader, test_loader = load_data(16)"
   ]
  },
  {
   "cell_type": "code",
   "execution_count": null,
   "id": "1d4a1cf6",
   "metadata": {},
   "outputs": [],
   "source": [
    "import torch.nn as nn\n",
    "import pyro\n",
    "import pyro.distributions as dist\n",
    "from pyro.nn import PyroModule, PyroSample\n",
    "\n",
    "class BayesShipsCNN(PyroModule):\n",
    "    def __init__(self, prior_std=torch.tensor(1.0, device=device)):\n",
    "        super().__init__()\n",
    "        # build your conv‐feature extractor\n",
    "        self.features = PyroModule[nn.Sequential](\n",
    "            PyroModule[nn.Conv2d](3, 32, 3, padding=1), nn.ReLU(inplace=True), nn.MaxPool2d(2),\n",
    "            PyroModule[nn.Conv2d](32, 64, 3, padding=1), nn.ReLU(inplace=True), nn.MaxPool2d(2),\n",
    "            PyroModule[nn.Conv2d](64,128, 3, padding=1), nn.ReLU(inplace=True), nn.MaxPool2d(2),\n",
    "            nn.AdaptiveAvgPool2d((1,1))\n",
    "        )\n",
    "\n",
    "        # attach Gaussian(0, prior_std²) priors to **any** Conv2d you find\n",
    "        for layer in self.features:\n",
    "            if isinstance(layer, nn.Conv2d):\n",
    "                # weight: shape = [out_c, in_c, kH, kW] → 4 event dims\n",
    "                layer.weight = PyroSample(\n",
    "                    dist.Normal(0., prior_std)\n",
    "                       .expand(layer.weight.shape)\n",
    "                       .to_event(4)\n",
    "                )\n",
    "                # bias: shape = [out_c] → 1 event dim\n",
    "                layer.bias = PyroSample(\n",
    "                    dist.Normal(0., prior_std)\n",
    "                       .expand(layer.bias.shape)\n",
    "                       .to_event(1)\n",
    "                )\n",
    "\n",
    "        # likewise for your classifier\n",
    "        self.classifier = PyroModule[nn.Sequential](\n",
    "            nn.Flatten(),\n",
    "            PyroModule[nn.Linear](128, 256),\n",
    "            nn.ReLU(inplace=True),\n",
    "            nn.Dropout(0.5),\n",
    "            PyroModule[nn.Linear](256, 2),\n",
    "        )\n",
    "        for layer in self.classifier:\n",
    "            if isinstance(layer, nn.Linear):\n",
    "                layer.weight = PyroSample(\n",
    "                    dist.Normal(0., prior_std)\n",
    "                       .expand(layer.weight.shape)\n",
    "                       .to_event(2)\n",
    "                )\n",
    "                layer.bias = PyroSample(\n",
    "                    dist.Normal(0., prior_std)\n",
    "                       .expand(layer.bias.shape)\n",
    "                       .to_event(1)\n",
    "                )\n",
    "\n",
    "    def forward(self, x, y=None):\n",
    "        x = self.features(x)\n",
    "        logits = self.classifier(x)\n",
    "        with pyro.plate(\"data\", x.size(0)):\n",
    "            pyro.sample(\"obs\",\n",
    "                        dist.Categorical(logits=logits),\n",
    "                        obs=y)\n",
    "        return logits"
   ]
  },
  {
   "cell_type": "code",
   "execution_count": null,
   "id": "a74a7815",
   "metadata": {},
   "outputs": [],
   "source": [
    "import torch\n",
    "import torch.nn as nn\n",
    "import torch.nn.functional as F\n",
    "import pyro\n",
    "import pyro.distributions as dist\n",
    "from pyro.nn import PyroModule, PyroSample\n",
    "\n",
    "class BayesShipsCNN(PyroModule):\n",
    "    def __init__(\n",
    "        self,\n",
    "        num_classes=2,\n",
    "        device= torch.device(\"cuda\"),\n",
    "        activation='relu',\n",
    "        prior_dist='gaussian',\n",
    "        mu=0.0,\n",
    "        b=1.0,\n",
    "        prior_params=None\n",
    "    ):\n",
    "        super().__init__()\n",
    "\n",
    "        # Store device\n",
    "        self.device = device\n",
    "\n",
    "        self.z_stats = {\n",
    "            \"conv1\": {\"mean\": [], \"std\": []},\n",
    "            \"conv2\": {\"mean\": [], \"std\": []},\n",
    "            \"conv3\": {\"mean\": [], \"std\": []},\n",
    "            \"fc1\":   {\"mean\": [], \"std\": []},\n",
    "        }\n",
    "\n",
    "        # Activation setup: accept string or callable\n",
    "        if isinstance(activation, str):\n",
    "            act_map = {\n",
    "                'relu': F.relu,\n",
    "                'tanh': F.tanh,\n",
    "                'sigmoid': F.sigmoid,\n",
    "                'sinusoidal': torch.sin,\n",
    "                'relu6': F.relu6,\n",
    "                'leaky_relu': F.leaky_relu,\n",
    "                'selu': F.selu,\n",
    "            }\n",
    "            try:\n",
    "                self.activation_fn = act_map[activation]\n",
    "            except KeyError:\n",
    "                raise ValueError(f\"Unsupported activation: {activation}\")\n",
    "        elif callable(activation):\n",
    "            self.activation_fn = activation\n",
    "        else:\n",
    "            raise ValueError(\"activation must be a string or callable\")\n",
    "\n",
    "        # Prior distribution setup\n",
    "        self.prior_dist = prior_dist\n",
    "        default_params = {'mu': mu, 'b': b}\n",
    "        params = default_params if prior_params is None else prior_params\n",
    "        self.prior_mu = torch.tensor(params.get('mu', mu), device=device)\n",
    "        self.prior_b  = torch.tensor(params.get('b', b), device=device)\n",
    "\n",
    "        print(f\"Using prior distribution: {self.prior_dist} with mu={self.prior_mu.item()} and b={self.prior_b.item()}\")\n",
    "\n",
    "        # Layer definitions with priors\n",
    "        self.conv1 = PyroModule[nn.Conv2d](3, 32, kernel_size=3, stride=1, padding=1)\n",
    "        self.conv1.weight = PyroSample(self._make_prior([32, 3, 3, 3]))\n",
    "        self.conv1.bias   = PyroSample(self._make_prior([32]))\n",
    "\n",
    "        self.conv2 = PyroModule[nn.Conv2d](32, 64, kernel_size=3, stride=1, padding=1)\n",
    "        self.conv2.weight = PyroSample(self._make_prior([64, 32, 3, 3]))\n",
    "        self.conv2.bias   = PyroSample(self._make_prior([64]))\n",
    "\n",
    "        self.conv3 = PyroModule[nn.Conv2d](64, 128, kernel_size=3, stride=1, padding=1)\n",
    "        self.conv3.weight = PyroSample(self._make_prior([128, 64, 3, 3]))\n",
    "        self.conv3.bias   = PyroSample(self._make_prior([128]))\n",
    "\n",
    "        # Pooling and global average pooling\n",
    "        self.pool = nn.MaxPool2d(kernel_size=2, stride=2)\n",
    "        self.gap  = nn.AdaptiveAvgPool2d((1, 1))\n",
    "\n",
    "        # Fully connected layers\n",
    "        self.fc1 = PyroModule[nn.Linear](128, 256)\n",
    "        self.fc1.weight = PyroSample(self._make_prior([256, 128]))\n",
    "        self.fc1.bias   = PyroSample(self._make_prior([256]))\n",
    "\n",
    "        self.fc2 = PyroModule[nn.Linear](256, num_classes)\n",
    "        self.fc2.weight = PyroSample(self._make_prior([num_classes, 256]))\n",
    "        self.fc2.bias   = PyroSample(self._make_prior([num_classes]))\n",
    "\n",
    "    def _make_prior(self, shape):\n",
    "        \"\"\"\n",
    "        Construct a prior distribution based on self.prior_dist and parameters.\n",
    "        \"\"\"\n",
    "        if self.prior_dist == 'gaussian':\n",
    "            base = dist.Normal(self.prior_mu, self.prior_b)\n",
    "        elif self.prior_dist == 'laplace':\n",
    "            base = dist.Laplace(self.prior_mu, self.prior_b)\n",
    "        elif self.prior_dist == 'uniform':\n",
    "            base = dist.Uniform(-self.prior_b, self.prior_b)\n",
    "        else:\n",
    "            raise ValueError(f\"Unsupported prior distribution: {self.prior_dist}\")\n",
    "        return base.expand(shape).to_event(len(shape))\n",
    "\n",
    "    def forward(self, x, y=None):\n",
    "        #z1 = self.conv1(x).to(self.device)\n",
    "        # conv1\n",
    "        z1 = self.conv1(x).to(self.device)\n",
    "        # record stats\n",
    "        self.z_stats[\"conv1\"][\"mean\"].append(z1.mean().item())\n",
    "        self.z_stats[\"conv1\"][\"std\"].append( z1.std().item()   )\n",
    "        x = self.activation_fn(z1)\n",
    "        x = self.pool(x)\n",
    "\n",
    "        #z2 = self.conv2(x)\n",
    "        # conv2\n",
    "        z2 = self.conv2(x)\n",
    "        self.z_stats[\"conv2\"][\"mean\"].append(z2.mean().item())\n",
    "        self.z_stats[\"conv2\"][\"std\"].append( z2.std().item()   )\n",
    "        x = self.activation_fn(z2)\n",
    "        x = self.pool(x)\n",
    "\n",
    "        #x = self.gap(x)\n",
    "        #x = x.view(x.size(0), -1)\n",
    "\n",
    "        z3 = self.conv3(x)\n",
    "        self.z_stats[\"conv3\"][\"mean\"].append(z3.mean().item())\n",
    "        self.z_stats[\"conv3\"][\"std\"].append( z3.std().item()   )\n",
    "        x = self.activation_fn(z3)\n",
    "        x = self.pool(x)\n",
    "\n",
    "        # global pooling + flatten\n",
    "        x = self.gap(x)\n",
    "        x = x.view(x.size(0), -1)\n",
    "\n",
    "        #z3 = self.fc1(x)\n",
    "        # fc1\n",
    "        z4 = self.fc1(x)\n",
    "        self.z_stats[\"fc1\"][\"mean\"].append(z4.mean().item())\n",
    "        self.z_stats[\"fc1\"][\"std\"].append( z4.std().item()   )\n",
    "        x = self.activation_fn(z4)\n",
    "        logits = self.fc2(x)\n",
    "\n",
    "        if y is not None:\n",
    "            with pyro.plate(\"data\", x.size(0)):\n",
    "                pyro.sample(\"obs\", dist.Categorical(logits=logits), obs=y)\n",
    "        return logits\n"
   ]
  },
  {
   "cell_type": "code",
   "execution_count": 11,
   "id": "04551d81",
   "metadata": {},
   "outputs": [],
   "source": [
    "import torch\n",
    "import torch.nn as nn\n",
    "import torch.nn.functional as F\n",
    "import pyro\n",
    "import pyro.distributions as dist\n",
    "from pyro.nn import PyroModule, PyroSample\n",
    "\n",
    "class BayesShipsCNN(PyroModule):\n",
    "    def __init__(\n",
    "        self,\n",
    "        num_classes=2,\n",
    "        device=torch.device(\"cuda\"),\n",
    "        activation='relu',\n",
    "        prior_dist='gaussian',\n",
    "        mu=0.0,\n",
    "        b=1.0,\n",
    "        prior_params=None\n",
    "    ):\n",
    "        super().__init__()\n",
    "        self.device = device\n",
    "\n",
    "        self.z_stats = {\n",
    "            \"conv1\": {\"mean\": [], \"std\": []},\n",
    "            \"conv2\": {\"mean\": [], \"std\": []},\n",
    "            \"conv3\": {\"mean\": [], \"std\": []},\n",
    "            \"fc1\":   {\"mean\": [], \"std\": []},\n",
    "        }\n",
    "\n",
    "        # Activation\n",
    "        if isinstance(activation, str):\n",
    "            act_map = {\n",
    "                'relu': F.relu,\n",
    "                'tanh': F.tanh,\n",
    "                'sigmoid': F.sigmoid,\n",
    "                'sinusoidal': torch.sin,\n",
    "                'relu6': F.relu6,\n",
    "                'leaky_relu': F.leaky_relu,\n",
    "                'selu': F.selu,\n",
    "            }\n",
    "            self.activation_fn = act_map[activation]\n",
    "        else:\n",
    "            self.activation_fn = activation\n",
    "\n",
    "        # Prior setup\n",
    "        self.prior_dist = prior_dist\n",
    "        default_params = {'mu': mu, 'b': b}\n",
    "        params = default_params if prior_params is None else prior_params\n",
    "        self.prior_mu = torch.tensor(params['mu'], device=device)\n",
    "        self.prior_b  = torch.tensor(params['b'], device=device)\n",
    "        print(f\"Using prior: {prior_dist} μ={self.prior_mu.item()} σ={self.prior_b.item()}\")\n",
    "\n",
    "        # conv1 + BN\n",
    "        self.conv1 = PyroModule[nn.Conv2d](3,  32, kernel_size=3, padding=1)\n",
    "        self.conv1.weight = PyroSample(self._make_prior([32, 3, 3, 3]))\n",
    "        self.conv1.bias   = PyroSample(self._make_prior([32]))\n",
    "        self.bn1   = nn.BatchNorm2d(32)            # ← added BN\n",
    "\n",
    "        # conv2 + BN\n",
    "        self.conv2 = PyroModule[nn.Conv2d](32, 64, kernel_size=3, padding=1)\n",
    "        self.conv2.weight = PyroSample(self._make_prior([64, 32, 3, 3]))\n",
    "        self.conv2.bias   = PyroSample(self._make_prior([64]))\n",
    "        self.bn2   = nn.BatchNorm2d(64)            # ← added BN\n",
    "\n",
    "        # conv3 + BN\n",
    "        self.conv3 = PyroModule[nn.Conv2d](64, 128, kernel_size=3, padding=1)\n",
    "        self.conv3.weight = PyroSample(self._make_prior([128, 64, 3, 3]))\n",
    "        self.conv3.bias   = PyroSample(self._make_prior([128]))\n",
    "        self.bn3   = nn.BatchNorm2d(128)           # ← added BN\n",
    "\n",
    "        # Pooling\n",
    "        self.pool = nn.MaxPool2d(2, 2)\n",
    "        self.gap  = nn.AdaptiveAvgPool2d((1, 1))\n",
    "\n",
    "        # fc1\n",
    "        self.fc1 = PyroModule[nn.Linear](128, 256)\n",
    "        self.fc1.weight = PyroSample(self._make_prior([256, 128]))\n",
    "        self.fc1.bias   = PyroSample(self._make_prior([256]))\n",
    "        #self.bn4   = nn.BatchNorm2d(256)\n",
    "\n",
    "        # fc2\n",
    "        self.fc2 = PyroModule[nn.Linear](256, num_classes)\n",
    "        self.fc2.weight = PyroSample(self._make_prior([num_classes, 256]))\n",
    "        self.fc2.bias   = PyroSample(self._make_prior([num_classes]))\n",
    "\n",
    "    def _make_prior(self, shape):\n",
    "        if self.prior_dist == 'gaussian':\n",
    "            base = dist.Normal(self.prior_mu, self.prior_b)\n",
    "        elif self.prior_dist == 'laplace':\n",
    "            base = dist.Laplace(self.prior_mu, self.prior_b)\n",
    "        elif self.prior_dist == 'uniform':\n",
    "            base = dist.Uniform(-self.prior_b, self.prior_b)\n",
    "        else:\n",
    "            raise ValueError(f\"Unsupported prior: {self.prior_dist}\")\n",
    "        return base.expand(shape).to_event(len(shape))\n",
    "\n",
    "    def forward(self, x, y=None):\n",
    "        # conv1\n",
    "        x = self.conv1(x).to(self.device)\n",
    "        z1 = self.bn1(x) \n",
    "        self.z_stats[\"conv1\"][\"mean\"].append(z1.mean().item())\n",
    "        self.z_stats[\"conv1\"][\"std\"].append( z1.std().item() )\n",
    "                                          # ← apply BN\n",
    "        x = self.activation_fn(z1)\n",
    "        x = self.pool(x)\n",
    "\n",
    "        # conv2\n",
    "        x = self.conv2(x)\n",
    "        z2 = self.bn2(x)  \n",
    "        self.z_stats[\"conv2\"][\"mean\"].append(z2.mean().item())\n",
    "        self.z_stats[\"conv2\"][\"std\"].append( z2.std().item() )                                # ← apply BN\n",
    "        x = self.activation_fn(z2)\n",
    "        x = self.pool(x)\n",
    "\n",
    "        # conv3\n",
    "        x = self.conv3(x)\n",
    "        z3 = self.bn3(x) \n",
    "        self.z_stats[\"conv3\"][\"mean\"].append(z3.mean().item())\n",
    "        self.z_stats[\"conv3\"][\"std\"].append( z3.std().item() )\n",
    "                                          # ← apply BN\n",
    "        x = self.activation_fn(z3)\n",
    "        x = self.pool(x)\n",
    "\n",
    "        # global pool + flatten\n",
    "        x = self.gap(x)\n",
    "        x = x.view(x.size(0), -1)\n",
    "\n",
    "        # fc1\n",
    "        z4 = self.fc1(x)\n",
    "        #x = self.bn4(z4)\n",
    "        self.z_stats[\"fc1\"][\"mean\"].append(z4.mean().item())\n",
    "        self.z_stats[\"fc1\"][\"std\"].append( z4.std().item() )\n",
    "        #x = self.activation_fn(z4)\n",
    "                           # ← apply BN to bring σ≈1\n",
    "        x = self.activation_fn(z4)\n",
    "\n",
    "        logits = self.fc2(x)\n",
    "        if y is not None:\n",
    "            with pyro.plate(\"data\", x.size(0)):\n",
    "                pyro.sample(\"obs\", dist.Categorical(logits=logits), obs=y)\n",
    "        return logits\n"
   ]
  },
  {
   "cell_type": "code",
   "execution_count": 12,
   "id": "5f66d2e1",
   "metadata": {},
   "outputs": [],
   "source": [
    "import torch\n",
    "import pyro.poutine as poutine\n",
    "from pyro.infer import Trace_ELBO\n",
    "\n",
    "elbo = Trace_ELBO()"
   ]
  },
  {
   "cell_type": "code",
   "execution_count": 13,
   "id": "56178246",
   "metadata": {},
   "outputs": [],
   "source": [
    "# training SVI function\n",
    "\n",
    "import os\n",
    "import torch\n",
    "import pyro\n",
    "from tqdm import tqdm\n",
    "import numpy as np\n",
    "\n",
    "def train_svi_with_stats(\n",
    "    model,\n",
    "    guide,\n",
    "    svi,\n",
    "    train_loader,\n",
    "    device,\n",
    "    num_epochs=10,\n",
    "    save_epochs=None,\n",
    "    save_dir='results',\n",
    "    model_filename_pattern='model_{activation}_{prior}_epoch_{epoch}_{timestamp}.pth',\n",
    "    guide_filename_pattern='guide_{activation}_{prior}_epoch_{epoch}_{timestamp}.pth',\n",
    "    param_store_filename_pattern='param_store_{activation}_{prior}_epoch_{epoch}_{timestamp}.pkl',\n",
    "    accuracies_filename_pattern='accuracy_results_{activation}_{prior}_{timestamp}.csv',\n",
    "    losses_filename_pattern='losses_{activation}_{prior}_{timestamp}.csv',\n",
    "    model_config_filename_pattern='config_{activation}_{prior}_{timestamp}.json'\n",
    "):\n",
    "    \"\"\"\n",
    "    Train the SVI model, track losses/accuracies, and\n",
    "    save artifacts only when accuracy improves, naming files\n",
    "    like `model_relu_gaussian_epoch_3.pth`.\n",
    "    \"\"\"\n",
    "    \n",
    "    # Pull names off the model if available, else fall back\n",
    "    #act_name  = getattr(model, 'activation', getattr(model, 'activation_name', 'act'))\n",
    "    #act_name = model.activation_fn.__name__ if hasattr(model.activation_fn, '__name__') else str(model.activation_fn)\n",
    "    act_name = \"a\"\n",
    "    prior_name = \"b\"\n",
    "    #prior_name = getattr(model, 'prior_dist', 'prior')\n",
    "    timestamp = time.strftime(\"%Y%m%d_%H%M%S\")\n",
    "\n",
    "    os.makedirs(save_dir, exist_ok=True)\n",
    "    save_epochs = set(save_epochs or range(1, num_epochs+1))\n",
    "\n",
    "    pyro.clear_param_store()\n",
    "    model.to(device)\n",
    "\n",
    "    epoch_losses, epoch_accuracies, accuracy_epochs = [], [], []\n",
    "    weight_stats = {'epochs': [], 'means': [], 'stds': []}\n",
    "    bias_stats   = {'epochs': [], 'means': [], 'stds': []}\n",
    "    best_acc = 0.0\n",
    "\n",
    "    for epoch in range(1, num_epochs+1):\n",
    "        model.train()\n",
    "        total_loss = 0.0\n",
    "        batches = 0\n",
    "\n",
    "        for images, labels in tqdm(train_loader, desc=f\"Epoch {epoch}/{num_epochs}\"):\n",
    "            images, labels = images.to(device), labels.to(device)\n",
    "            total_loss += svi.step(images, labels)\n",
    "\n",
    "            #batch_loss = svi.step(images, labels)\n",
    "\n",
    "            #with torch.no_grad():\n",
    "            #    kl, nll = compute_kl_nll_full(model, guide, images, labels)\n",
    "\n",
    "            # 3) print them side by side\n",
    "            #total_kl_nll = kl.item() + nll.item()\n",
    "            #print(f\" batch_loss: {batch_loss:.2f}  |  KL+NLL: {total_kl_nll:.2f}\"\n",
    "            #    f\"  (KL={kl.item():.2f}, NLL={nll.item():.2f})\")\n",
    "            \n",
    "            batches += 1\n",
    "\n",
    "        avg_loss = total_loss / batches\n",
    "        epoch_losses.append(avg_loss)\n",
    "        print(f\"Epoch {epoch} - ELBO Loss: {avg_loss:.4f}\")\n",
    "\n",
    "\n",
    "        if epoch == 1 or epoch % 10 == 0 or epoch == num_epochs:\n",
    "            model.eval(); guide.eval()\n",
    "            correct, total = 0, 0\n",
    "            with torch.no_grad():\n",
    "                for images, labels in tqdm(train_loader, desc=f\"Acc check epoch {epoch}\"):\n",
    "                    images, labels = images.to(device), labels.to(device)\n",
    "                    trace = pyro.poutine.trace(guide).get_trace(images)\n",
    "                    replayed = pyro.poutine.replay(model, trace=trace)\n",
    "                    logits = replayed(images)\n",
    "                    preds = torch.argmax(logits, dim=1)\n",
    "                    correct += (preds == labels).sum().item()\n",
    "                    total += labels.size(0)\n",
    "\n",
    "            acc = correct/total\n",
    "            epoch_accuracies.append(acc); accuracy_epochs.append(epoch)\n",
    "            print(f\"Epoch {epoch} - Train Acc: {acc*100:.2f}%\")\n",
    "\n",
    "            # record stats...\n",
    "            w_means, w_stds, b_means, b_stds = [], [], [], []\n",
    "            for name, param in pyro.get_param_store().items():\n",
    "                if 'loc' in name:\n",
    "                    w_means.append(param.mean().item()); w_stds.append(param.std().item())\n",
    "                elif 'scale' in name:\n",
    "                    b_means.append(param.mean().item()); b_stds.append(param.std().item())\n",
    "            weight_stats['epochs'].append(epoch)\n",
    "            weight_stats['means'].append(w_means)\n",
    "            weight_stats['stds'].append(w_stds)\n",
    "            bias_stats['epochs'].append(epoch)\n",
    "            bias_stats['means'].append(b_means)\n",
    "            bias_stats['stds'].append(b_stds)\n",
    "\n",
    "            for name, param in pyro.get_param_store().items():\n",
    "                if 'loc' in name or 'scale' in name:\n",
    "                    print(f\"{name}: {param.detach().cpu().numpy()}\")\n",
    "\n",
    "            # only save when accuracy improves\n",
    "            if acc > best_acc:\n",
    "                best_acc = acc\n",
    "                fname_model = model_filename_pattern.format(activation=act_name, prior=prior_name, epoch=\"best\", timestamp=timestamp)\n",
    "                fname_guide = guide_filename_pattern.format(activation=act_name, prior=prior_name, epoch=\"best\", timestamp=timestamp)\n",
    "                fname_ps    = param_store_filename_pattern.format(activation=act_name, prior=prior_name, epoch=\"best\", timestamp=timestamp)\n",
    "\n",
    "                torch.save(model.state_dict(), os.path.join(save_dir, fname_model))\n",
    "                torch.save(guide.state_dict(), os.path.join(save_dir, fname_guide))\n",
    "                pyro.get_param_store().save(os.path.join(save_dir, fname_ps))\n",
    "                print(f\"  ↳ Saved: {fname_model}, {fname_guide}, {fname_ps}\")\n",
    "\n",
    "    # save losses per epoch in a csv file, with consistent file naming\n",
    "    accuracies_df = pd.DataFrame({\n",
    "        'epoch': accuracy_epochs,\n",
    "        'accuracy': epoch_accuracies\n",
    "    })\n",
    "    accuracies_df.to_csv(os.path.join(save_dir,accuracies_filename_pattern.format(activation=act_name, prior=prior_name, timestamp=timestamp)), index=False)\n",
    "\n",
    "    loss_df = pd.DataFrame({\n",
    "        'epoch': list(range(1, epoch + 1)),\n",
    "        'loss': epoch_losses\n",
    "    })\n",
    "    loss_df.to_csv(os.path.join(save_dir,losses_filename_pattern.format(activation=act_name, prior=prior_name, timestamp=timestamp)), index=False)\n",
    "            \n",
    "    # save model configuration in a json file\n",
    "    config = {\n",
    "        'activation': act_name,\n",
    "        'prior': prior_name,\n",
    "        'num_epochs': num_epochs,\n",
    "        'best_accuracy_at_epoch': accuracy_epochs[np.argmax(epoch_accuracies)],\n",
    "        'best_accuracy': best_acc,\n",
    "        'batch_size': train_loader.batch_size,\n",
    "        'train_size': len(train_loader.dataset),\n",
    "        'prior_params': {\n",
    "            'mu': model.prior_mu.item(),\n",
    "            'b': model.prior_b.item()\n",
    "        },\n",
    "    }\n",
    "    config_filename = model_config_filename_pattern.format(activation=act_name, prior=prior_name, timestamp=timestamp)\n",
    "\n",
    "    with open(os.path.join(save_dir, config_filename), 'w') as f:\n",
    "        import json\n",
    "        json.dump(config, f, indent=4)\n",
    "        print(f\"Configuration saved to {config_filename}\")\n",
    "\n",
    "    return epoch_losses, epoch_accuracies, accuracy_epochs, weight_stats, bias_stats, os.path.join(save_dir, fname_model), os.path.join(save_dir, fname_guide), os.path.join(save_dir, fname_ps), timestamp\n"
   ]
  },
  {
   "cell_type": "code",
   "execution_count": 14,
   "id": "72b0ca74",
   "metadata": {},
   "outputs": [],
   "source": [
    "from pyro.infer.autoguide import AutoDiagonalNormal\n",
    "from pyro.optim import Adam\n",
    "from tqdm import tqdm\n",
    "import pandas as pd"
   ]
  },
  {
   "cell_type": "code",
   "execution_count": 15,
   "id": "b167c58b",
   "metadata": {},
   "outputs": [
    {
     "name": "stdout",
     "output_type": "stream",
     "text": [
      "Using prior: gaussian μ=0.5 σ=1.0\n"
     ]
    }
   ],
   "source": [
    "bayesian_model = BayesShipsCNN(activation='sinusoidal',\n",
    "        prior_dist='gaussian',\n",
    "        mu=0.5,\n",
    "        b=1.0,)"
   ]
  },
  {
   "cell_type": "code",
   "execution_count": 16,
   "id": "8a63928b",
   "metadata": {},
   "outputs": [],
   "source": [
    "#device =\"cuda\""
   ]
  },
  {
   "cell_type": "code",
   "execution_count": 17,
   "id": "340abae9",
   "metadata": {},
   "outputs": [],
   "source": [
    "#act_name  = getattr(bayesian_model, 'activation', getattr(bayesian_model, 'activation', 'act'))\n",
    "#prior_name = getattr(bayesian_model, 'prior_dist', 'prior')\n",
    "\n",
    "#guide = AutoDiagonalNormal(bayesian_model)\n",
    "\n",
    "from pyro.infer.autoguide import AutoDiagonalNormal\n",
    "from pyro.infer.autoguide.initialization import init_to_median\n",
    "from pyro.optim import Adam\n",
    "from pyro.infer import SVI, Trace_ELBO\n",
    "\n",
    "# 1) construct your guide so its locs start at p(w).mean=0\n",
    "guide = AutoDiagonalNormal(\n",
    "    bayesian_model,\n",
    "    init_loc_fn=init_to_median(num_samples=1),   # all μ_q ← prior mean (0)\n",
    "    init_scale=0.1               # set initial σ_q=0.1\n",
    ")\n",
    "\n",
    "optimizer = Adam({\"lr\": 1e-3,\"weight_decay\": 1e-4})  # Increased from 1e-4 to 1e-3, and added weight decay\n",
    "svi = pyro.infer.SVI(model=bayesian_model,\n",
    "                     guide=guide,\n",
    "                     optim=optimizer,\n",
    "                     #loss=pyro.infer.Trace_ELBO(num_particles=1,\n",
    "                     #                           )) #TODO\n",
    "                     loss=elbo)\n"
   ]
  },
  {
   "cell_type": "code",
   "execution_count": 18,
   "id": "7a3e2313",
   "metadata": {},
   "outputs": [
    {
     "data": {
      "text/plain": [
       "AutoDiagonalNormal()"
      ]
     },
     "execution_count": 18,
     "metadata": {},
     "output_type": "execute_result"
    }
   ],
   "source": [
    "pyro.clear_param_store()\n",
    "\n",
    "# Ensure model and guide are on the correct device\n",
    "bayesian_model.to(device)\n",
    "guide.to(device)"
   ]
  },
  {
   "cell_type": "code",
   "execution_count": 19,
   "id": "e3f162b9",
   "metadata": {},
   "outputs": [
    {
     "name": "stdout",
     "output_type": "stream",
     "text": [
      "bn1.weight                               → cuda:0\n",
      "bn1.bias                                 → cuda:0\n",
      "bn2.weight                               → cuda:0\n",
      "bn2.bias                                 → cuda:0\n",
      "bn3.weight                               → cuda:0\n",
      "bn3.bias                                 → cuda:0\n"
     ]
    }
   ],
   "source": [
    "for name, p in bayesian_model.named_parameters():\n",
    "    print(f\"{name:40s} → {p.device}\")"
   ]
  },
  {
   "cell_type": "code",
   "execution_count": 20,
   "id": "38b9afab",
   "metadata": {},
   "outputs": [
    {
     "name": "stderr",
     "output_type": "stream",
     "text": [
      "Epoch 1/40: 100%|██████████| 200/200 [00:34<00:00,  5.81it/s]\n"
     ]
    },
    {
     "name": "stdout",
     "output_type": "stream",
     "text": [
      "Epoch 1 - ELBO Loss: 272700.5630\n"
     ]
    },
    {
     "name": "stderr",
     "output_type": "stream",
     "text": [
      "Acc check epoch 1: 100%|██████████| 200/200 [00:02<00:00, 89.37it/s]\n"
     ]
    },
    {
     "name": "stdout",
     "output_type": "stream",
     "text": [
      "Epoch 1 - Train Acc: 49.91%\n",
      "AutoDiagonalNormal.loc: [0.6530729  2.4817698  0.35439864 ... 0.64831704 1.6369857  1.9658531 ]\n",
      "AutoDiagonalNormal.scale: [0.12054384 0.11999222 0.12082704 ... 0.12001929 0.11803325 0.11587658]\n",
      "  ↳ Saved: model_a_b_epoch_best_20250715_205353.pth, guide_a_b_epoch_best_20250715_205353.pth, param_store_a_b_epoch_best_20250715_205353.pkl\n"
     ]
    },
    {
     "name": "stderr",
     "output_type": "stream",
     "text": [
      "Epoch 2/40: 100%|██████████| 200/200 [00:08<00:00, 22.87it/s]\n"
     ]
    },
    {
     "name": "stdout",
     "output_type": "stream",
     "text": [
      "Epoch 2 - ELBO Loss: 236113.4994\n"
     ]
    },
    {
     "name": "stderr",
     "output_type": "stream",
     "text": [
      "Epoch 3/40: 100%|██████████| 200/200 [00:08<00:00, 23.30it/s]\n"
     ]
    },
    {
     "name": "stdout",
     "output_type": "stream",
     "text": [
      "Epoch 3 - ELBO Loss: 203609.1304\n"
     ]
    },
    {
     "name": "stderr",
     "output_type": "stream",
     "text": [
      "Epoch 4/40: 100%|██████████| 200/200 [00:08<00:00, 23.54it/s]\n"
     ]
    },
    {
     "name": "stdout",
     "output_type": "stream",
     "text": [
      "Epoch 4 - ELBO Loss: 174424.8265\n"
     ]
    },
    {
     "name": "stderr",
     "output_type": "stream",
     "text": [
      "Epoch 5/40: 100%|██████████| 200/200 [00:08<00:00, 23.76it/s]\n"
     ]
    },
    {
     "name": "stdout",
     "output_type": "stream",
     "text": [
      "Epoch 5 - ELBO Loss: 148003.5185\n"
     ]
    },
    {
     "name": "stderr",
     "output_type": "stream",
     "text": [
      "Epoch 6/40: 100%|██████████| 200/200 [00:08<00:00, 23.39it/s]\n"
     ]
    },
    {
     "name": "stdout",
     "output_type": "stream",
     "text": [
      "Epoch 6 - ELBO Loss: 124080.0599\n"
     ]
    },
    {
     "name": "stderr",
     "output_type": "stream",
     "text": [
      "Epoch 7/40: 100%|██████████| 200/200 [00:08<00:00, 23.81it/s]\n"
     ]
    },
    {
     "name": "stdout",
     "output_type": "stream",
     "text": [
      "Epoch 7 - ELBO Loss: 102529.3878\n"
     ]
    },
    {
     "name": "stderr",
     "output_type": "stream",
     "text": [
      "Epoch 8/40: 100%|██████████| 200/200 [00:08<00:00, 23.68it/s]\n"
     ]
    },
    {
     "name": "stdout",
     "output_type": "stream",
     "text": [
      "Epoch 8 - ELBO Loss: 83244.7377\n"
     ]
    },
    {
     "name": "stderr",
     "output_type": "stream",
     "text": [
      "Epoch 9/40: 100%|██████████| 200/200 [00:08<00:00, 23.57it/s]\n"
     ]
    },
    {
     "name": "stdout",
     "output_type": "stream",
     "text": [
      "Epoch 9 - ELBO Loss: 66376.8155\n"
     ]
    },
    {
     "name": "stderr",
     "output_type": "stream",
     "text": [
      "Epoch 10/40: 100%|██████████| 200/200 [00:08<00:00, 23.70it/s]\n"
     ]
    },
    {
     "name": "stdout",
     "output_type": "stream",
     "text": [
      "Epoch 10 - ELBO Loss: 51741.0789\n"
     ]
    },
    {
     "name": "stderr",
     "output_type": "stream",
     "text": [
      "Acc check epoch 10: 100%|██████████| 200/200 [00:02<00:00, 93.15it/s]\n"
     ]
    },
    {
     "name": "stdout",
     "output_type": "stream",
     "text": [
      "Epoch 10 - Train Acc: 54.53%\n",
      "AutoDiagonalNormal.loc: [0.47786275 1.2186997  0.44969457 ... 0.46931785 2.485694   0.6216954 ]\n",
      "AutoDiagonalNormal.scale: [0.49815392 0.47183013 0.50400656 ... 0.45719647 0.4048911  0.36847514]\n",
      "  ↳ Saved: model_a_b_epoch_best_20250715_205353.pth, guide_a_b_epoch_best_20250715_205353.pth, param_store_a_b_epoch_best_20250715_205353.pkl\n"
     ]
    },
    {
     "name": "stderr",
     "output_type": "stream",
     "text": [
      "Epoch 11/40: 100%|██████████| 200/200 [00:08<00:00, 23.13it/s]\n"
     ]
    },
    {
     "name": "stdout",
     "output_type": "stream",
     "text": [
      "Epoch 11 - ELBO Loss: 39462.5693\n"
     ]
    },
    {
     "name": "stderr",
     "output_type": "stream",
     "text": [
      "Epoch 12/40: 100%|██████████| 200/200 [00:08<00:00, 23.81it/s]\n"
     ]
    },
    {
     "name": "stdout",
     "output_type": "stream",
     "text": [
      "Epoch 12 - ELBO Loss: 29415.0003\n"
     ]
    },
    {
     "name": "stderr",
     "output_type": "stream",
     "text": [
      "Epoch 13/40: 100%|██████████| 200/200 [00:08<00:00, 23.70it/s]\n"
     ]
    },
    {
     "name": "stdout",
     "output_type": "stream",
     "text": [
      "Epoch 13 - ELBO Loss: 21434.4725\n"
     ]
    },
    {
     "name": "stderr",
     "output_type": "stream",
     "text": [
      "Epoch 14/40: 100%|██████████| 200/200 [00:08<00:00, 23.85it/s]\n"
     ]
    },
    {
     "name": "stdout",
     "output_type": "stream",
     "text": [
      "Epoch 14 - ELBO Loss: 15322.7315\n"
     ]
    },
    {
     "name": "stderr",
     "output_type": "stream",
     "text": [
      "Epoch 15/40: 100%|██████████| 200/200 [00:08<00:00, 24.06it/s]\n"
     ]
    },
    {
     "name": "stdout",
     "output_type": "stream",
     "text": [
      "Epoch 15 - ELBO Loss: 10811.0069\n"
     ]
    },
    {
     "name": "stderr",
     "output_type": "stream",
     "text": [
      "Epoch 16/40: 100%|██████████| 200/200 [00:08<00:00, 24.08it/s]\n"
     ]
    },
    {
     "name": "stdout",
     "output_type": "stream",
     "text": [
      "Epoch 16 - ELBO Loss: 7554.3014\n"
     ]
    },
    {
     "name": "stderr",
     "output_type": "stream",
     "text": [
      "Epoch 17/40: 100%|██████████| 200/200 [00:08<00:00, 23.75it/s]\n"
     ]
    },
    {
     "name": "stdout",
     "output_type": "stream",
     "text": [
      "Epoch 17 - ELBO Loss: 5282.2043\n"
     ]
    },
    {
     "name": "stderr",
     "output_type": "stream",
     "text": [
      "Epoch 18/40: 100%|██████████| 200/200 [00:08<00:00, 23.21it/s]\n"
     ]
    },
    {
     "name": "stdout",
     "output_type": "stream",
     "text": [
      "Epoch 18 - ELBO Loss: 3710.8672\n"
     ]
    },
    {
     "name": "stderr",
     "output_type": "stream",
     "text": [
      "Epoch 19/40: 100%|██████████| 200/200 [00:08<00:00, 23.48it/s]\n"
     ]
    },
    {
     "name": "stdout",
     "output_type": "stream",
     "text": [
      "Epoch 19 - ELBO Loss: 2624.2150\n"
     ]
    },
    {
     "name": "stderr",
     "output_type": "stream",
     "text": [
      "Epoch 20/40: 100%|██████████| 200/200 [00:08<00:00, 23.30it/s]\n"
     ]
    },
    {
     "name": "stdout",
     "output_type": "stream",
     "text": [
      "Epoch 20 - ELBO Loss: 1891.2467\n"
     ]
    },
    {
     "name": "stderr",
     "output_type": "stream",
     "text": [
      "Acc check epoch 20: 100%|██████████| 200/200 [00:02<00:00, 91.52it/s]\n"
     ]
    },
    {
     "name": "stdout",
     "output_type": "stream",
     "text": [
      "Epoch 20 - Train Acc: 55.75%\n",
      "AutoDiagonalNormal.loc: [ 0.5257703   0.68326044  0.527979   ...  0.42929783  2.731985\n",
      " -0.42077905]\n",
      "AutoDiagonalNormal.scale: [0.8593786  0.88151675 0.88751084 ... 0.7864872  0.7039887  0.6208875 ]\n",
      "  ↳ Saved: model_a_b_epoch_best_20250715_205353.pth, guide_a_b_epoch_best_20250715_205353.pth, param_store_a_b_epoch_best_20250715_205353.pkl\n"
     ]
    },
    {
     "name": "stderr",
     "output_type": "stream",
     "text": [
      "Epoch 21/40: 100%|██████████| 200/200 [00:08<00:00, 23.10it/s]\n"
     ]
    },
    {
     "name": "stdout",
     "output_type": "stream",
     "text": [
      "Epoch 21 - ELBO Loss: 1384.4614\n"
     ]
    },
    {
     "name": "stderr",
     "output_type": "stream",
     "text": [
      "Epoch 22/40: 100%|██████████| 200/200 [00:08<00:00, 24.39it/s]\n"
     ]
    },
    {
     "name": "stdout",
     "output_type": "stream",
     "text": [
      "Epoch 22 - ELBO Loss: 1034.3119\n"
     ]
    },
    {
     "name": "stderr",
     "output_type": "stream",
     "text": [
      "Epoch 23/40: 100%|██████████| 200/200 [00:08<00:00, 23.81it/s]\n"
     ]
    },
    {
     "name": "stdout",
     "output_type": "stream",
     "text": [
      "Epoch 23 - ELBO Loss: 792.8839\n"
     ]
    },
    {
     "name": "stderr",
     "output_type": "stream",
     "text": [
      "Epoch 24/40: 100%|██████████| 200/200 [00:08<00:00, 23.61it/s]\n"
     ]
    },
    {
     "name": "stdout",
     "output_type": "stream",
     "text": [
      "Epoch 24 - ELBO Loss: 625.3125\n"
     ]
    },
    {
     "name": "stderr",
     "output_type": "stream",
     "text": [
      "Epoch 25/40: 100%|██████████| 200/200 [00:08<00:00, 23.73it/s]\n"
     ]
    },
    {
     "name": "stdout",
     "output_type": "stream",
     "text": [
      "Epoch 25 - ELBO Loss: 504.9706\n"
     ]
    },
    {
     "name": "stderr",
     "output_type": "stream",
     "text": [
      "Epoch 26/40: 100%|██████████| 200/200 [00:08<00:00, 23.40it/s]\n"
     ]
    },
    {
     "name": "stdout",
     "output_type": "stream",
     "text": [
      "Epoch 26 - ELBO Loss: 415.7820\n"
     ]
    },
    {
     "name": "stderr",
     "output_type": "stream",
     "text": [
      "Epoch 27/40: 100%|██████████| 200/200 [00:08<00:00, 23.56it/s]\n"
     ]
    },
    {
     "name": "stdout",
     "output_type": "stream",
     "text": [
      "Epoch 27 - ELBO Loss: 349.9211\n"
     ]
    },
    {
     "name": "stderr",
     "output_type": "stream",
     "text": [
      "Epoch 28/40: 100%|██████████| 200/200 [00:08<00:00, 23.48it/s]\n"
     ]
    },
    {
     "name": "stdout",
     "output_type": "stream",
     "text": [
      "Epoch 28 - ELBO Loss: 304.4680\n"
     ]
    },
    {
     "name": "stderr",
     "output_type": "stream",
     "text": [
      "Epoch 29/40: 100%|██████████| 200/200 [00:08<00:00, 23.99it/s]\n"
     ]
    },
    {
     "name": "stdout",
     "output_type": "stream",
     "text": [
      "Epoch 29 - ELBO Loss: 274.5397\n"
     ]
    },
    {
     "name": "stderr",
     "output_type": "stream",
     "text": [
      "Epoch 30/40: 100%|██████████| 200/200 [00:08<00:00, 23.53it/s]\n"
     ]
    },
    {
     "name": "stdout",
     "output_type": "stream",
     "text": [
      "Epoch 30 - ELBO Loss: 241.2548\n"
     ]
    },
    {
     "name": "stderr",
     "output_type": "stream",
     "text": [
      "Acc check epoch 30: 100%|██████████| 200/200 [00:02<00:00, 95.91it/s]\n"
     ]
    },
    {
     "name": "stdout",
     "output_type": "stream",
     "text": [
      "Epoch 30 - Train Acc: 56.16%\n",
      "AutoDiagonalNormal.loc: [ 0.51236933  0.55099416  0.52068126 ...  0.47201613  2.7823627\n",
      " -1.0685433 ]\n",
      "AutoDiagonalNormal.scale: [1.0033693  0.9678909  1.0018864  ... 0.831021   0.79455936 0.7642261 ]\n",
      "  ↳ Saved: model_a_b_epoch_best_20250715_205353.pth, guide_a_b_epoch_best_20250715_205353.pth, param_store_a_b_epoch_best_20250715_205353.pkl\n"
     ]
    },
    {
     "name": "stderr",
     "output_type": "stream",
     "text": [
      "Epoch 31/40: 100%|██████████| 200/200 [00:08<00:00, 23.35it/s]\n"
     ]
    },
    {
     "name": "stdout",
     "output_type": "stream",
     "text": [
      "Epoch 31 - ELBO Loss: 230.0915\n"
     ]
    },
    {
     "name": "stderr",
     "output_type": "stream",
     "text": [
      "Epoch 32/40: 100%|██████████| 200/200 [00:08<00:00, 23.62it/s]\n"
     ]
    },
    {
     "name": "stdout",
     "output_type": "stream",
     "text": [
      "Epoch 32 - ELBO Loss: 211.6855\n"
     ]
    },
    {
     "name": "stderr",
     "output_type": "stream",
     "text": [
      "Epoch 33/40: 100%|██████████| 200/200 [00:08<00:00, 23.41it/s]\n"
     ]
    },
    {
     "name": "stdout",
     "output_type": "stream",
     "text": [
      "Epoch 33 - ELBO Loss: 201.5717\n"
     ]
    },
    {
     "name": "stderr",
     "output_type": "stream",
     "text": [
      "Epoch 34/40: 100%|██████████| 200/200 [00:08<00:00, 23.47it/s]\n"
     ]
    },
    {
     "name": "stdout",
     "output_type": "stream",
     "text": [
      "Epoch 34 - ELBO Loss: 189.0207\n"
     ]
    },
    {
     "name": "stderr",
     "output_type": "stream",
     "text": [
      "Epoch 35/40: 100%|██████████| 200/200 [00:08<00:00, 23.75it/s]\n"
     ]
    },
    {
     "name": "stdout",
     "output_type": "stream",
     "text": [
      "Epoch 35 - ELBO Loss: 186.6780\n"
     ]
    },
    {
     "name": "stderr",
     "output_type": "stream",
     "text": [
      "Epoch 36/40: 100%|██████████| 200/200 [00:08<00:00, 23.33it/s]\n"
     ]
    },
    {
     "name": "stdout",
     "output_type": "stream",
     "text": [
      "Epoch 36 - ELBO Loss: 175.4407\n"
     ]
    },
    {
     "name": "stderr",
     "output_type": "stream",
     "text": [
      "Epoch 37/40: 100%|██████████| 200/200 [00:08<00:00, 24.08it/s]\n"
     ]
    },
    {
     "name": "stdout",
     "output_type": "stream",
     "text": [
      "Epoch 37 - ELBO Loss: 176.1764\n"
     ]
    },
    {
     "name": "stderr",
     "output_type": "stream",
     "text": [
      "Epoch 38/40: 100%|██████████| 200/200 [00:08<00:00, 23.51it/s]\n"
     ]
    },
    {
     "name": "stdout",
     "output_type": "stream",
     "text": [
      "Epoch 38 - ELBO Loss: 164.4221\n"
     ]
    },
    {
     "name": "stderr",
     "output_type": "stream",
     "text": [
      "Epoch 39/40: 100%|██████████| 200/200 [00:08<00:00, 23.74it/s]\n"
     ]
    },
    {
     "name": "stdout",
     "output_type": "stream",
     "text": [
      "Epoch 39 - ELBO Loss: 172.2377\n"
     ]
    },
    {
     "name": "stderr",
     "output_type": "stream",
     "text": [
      "Epoch 40/40: 100%|██████████| 200/200 [00:08<00:00, 24.09it/s]\n"
     ]
    },
    {
     "name": "stdout",
     "output_type": "stream",
     "text": [
      "Epoch 40 - ELBO Loss: 168.4502\n"
     ]
    },
    {
     "name": "stderr",
     "output_type": "stream",
     "text": [
      "Acc check epoch 40: 100%|██████████| 200/200 [00:02<00:00, 93.34it/s]"
     ]
    },
    {
     "name": "stdout",
     "output_type": "stream",
     "text": [
      "Epoch 40 - Train Acc: 57.31%\n",
      "AutoDiagonalNormal.loc: [ 0.4770147   0.47770497  0.46394935 ...  0.5167133   2.755074\n",
      " -1.3994542 ]\n",
      "AutoDiagonalNormal.scale: [1.0013096  1.0001253  0.9704933  ... 0.8899064  0.8477476  0.82027924]\n",
      "  ↳ Saved: model_a_b_epoch_best_20250715_205353.pth, guide_a_b_epoch_best_20250715_205353.pth, param_store_a_b_epoch_best_20250715_205353.pkl\n",
      "Configuration saved to config_a_b_20250715_205353.json\n"
     ]
    },
    {
     "name": "stderr",
     "output_type": "stream",
     "text": [
      "\n"
     ]
    }
   ],
   "source": [
    "losses, accuracies, accuracy_epochs, weight_stats, bias_stats, best_model_path, best_guide_path, best_param_store_path, experiment_timestamp = train_svi_with_stats(\n",
    "    bayesian_model,\n",
    "    guide,\n",
    "    svi,\n",
    "    train_loader,\n",
    "    device,\n",
    "    num_epochs=40,\n",
    "    save_epochs=None,\n",
    "    save_dir='results_GP_eurosat_SHIPSNET')"
   ]
  },
  {
   "cell_type": "code",
   "execution_count": 21,
   "id": "ec76b263",
   "metadata": {},
   "outputs": [],
   "source": [
    "import matplotlib.pyplot as plt\n",
    "\n",
    "layer_names = ['conv1', 'conv2', 'conv3', 'fc1']\n",
    "layer_name = 'conv3'\n",
    "\n",
    "def plot_layer_stats(layer_name):\n",
    "\n",
    "    plt.figure()\n",
    "    plt.plot(bayesian_model.z_stats[layer_name][\"mean\"], label=f\"{layer_name} mean\")\n",
    "    plt.plot(bayesian_model.z_stats[layer_name][\"std\"],  label=f\"{layer_name} std\")\n",
    "    plt.legend()\n",
    "    plt.title(f\"{layer_name} pre-activation stats over batches\")\n",
    "    plt.show()"
   ]
  },
  {
   "cell_type": "code",
   "execution_count": 22,
   "id": "d5eab785",
   "metadata": {},
   "outputs": [
    {
     "data": {
      "image/png": "[encoded data removed]",
      "text/plain": [
       "<Figure size 640x480 with 1 Axes>"
      ]
     },
     "metadata": {},
     "output_type": "display_data"
    }
   ],
   "source": [
    "plot_layer_stats('conv1')"
   ]
  },
  {
   "cell_type": "code",
   "execution_count": 23,
   "id": "242e62e1",
   "metadata": {},
   "outputs": [
    {
     "data": {
      "image/png": "[encoded data removed]",
      "text/plain": [
       "<Figure size 640x480 with 1 Axes>"
      ]
     },
     "metadata": {},
     "output_type": "display_data"
    }
   ],
   "source": [
    "plot_layer_stats('conv2')"
   ]
  },
  {
   "cell_type": "code",
   "execution_count": 24,
   "id": "63abaef6",
   "metadata": {},
   "outputs": [
    {
     "data": {
      "image/png": "[encoded data removed]",
      "text/plain": [
       "<Figure size 640x480 with 1 Axes>"
      ]
     },
     "metadata": {},
     "output_type": "display_data"
    }
   ],
   "source": [
    "plot_layer_stats('conv3')"
   ]
  },
  {
   "cell_type": "code",
   "execution_count": 25,
   "id": "b68f347f",
   "metadata": {},
   "outputs": [
    {
     "data": {
      "image/png": "[encoded data removed]",
      "text/plain": [
       "<Figure size 640x480 with 1 Axes>"
      ]
     },
     "metadata": {},
     "output_type": "display_data"
    }
   ],
   "source": [
    "plot_layer_stats('fc1')"
   ]
  },
  {
   "cell_type": "code",
   "execution_count": null,
   "id": "a0186571",
   "metadata": {},
   "outputs": [],
   "source": [
    "# print pyro param store names and shapes\n",
    "for name, param in pyro.get_param_store().items():\n",
    "    print(f\"{name:40s} → {param.shape} on {param.device}\")"
   ]
  },
  {
   "cell_type": "code",
   "execution_count": null,
   "id": "9307fe30",
   "metadata": {},
   "outputs": [],
   "source": [
    "plot_layer_stats('conv3')"
   ]
  },
  {
   "cell_type": "code",
   "execution_count": null,
   "id": "d36e50f7",
   "metadata": {},
   "outputs": [],
   "source": [
    "plot_layer_stats('fc1')"
   ]
  },
  {
   "cell_type": "markdown",
   "id": "fff7b3ec",
   "metadata": {},
   "source": [
    "### Eurosat's Model"
   ]
  },
  {
   "cell_type": "code",
   "execution_count": null,
   "id": "8c03393b",
   "metadata": {},
   "outputs": [],
   "source": [
    "import torch\n",
    "import torch.nn as nn\n",
    "import pyro\n",
    "import pyro.distributions as dist\n",
    "from pyro.nn import PyroModule, PyroSample\n",
    "\n",
    "class BayesianCNNSingleFC(PyroModule):\n",
    "    def __init__(\n",
    "        self,\n",
    "        num_classes,\n",
    "        device,\n",
    "        activation='sigmoid',\n",
    "        prior_dist='gaussian',\n",
    "        mu=0,\n",
    "        b=10.0,\n",
    "        prior_params=None\n",
    "    ):\n",
    "        super().__init__()\n",
    "\n",
    "        # Store device\n",
    "        self.device = device\n",
    "\n",
    "        # Activation setup: accept string or callable\n",
    "        if isinstance(activation, str):\n",
    "            act_map = {\n",
    "                'relu': F.relu,\n",
    "                'tanh': F.tanh,\n",
    "                'wg': self.actWG,\n",
    "                'rwg': self.actRWG,\n",
    "                'sigmoid': F.sigmoid,\n",
    "                'sinusoidal': torch.sin,\n",
    "                'relu6': F.relu6,\n",
    "                'leaky_relu': F.leaky_relu,\n",
    "                'selu': F.selu,\n",
    "            }\n",
    "            try:\n",
    "                self.activation_fn = act_map[activation]\n",
    "            except KeyError:\n",
    "                raise ValueError(f\"Unsupported activation: {activation}\")\n",
    "        elif callable(activation):\n",
    "            self.activation_fn = activation\n",
    "        else:\n",
    "            raise ValueError(\"activation must be a string or callable\")\n",
    "\n",
    "        # Prior distribution setup\n",
    "        self.prior_dist = prior_dist\n",
    "        # Set default prior parameters if not provided\n",
    "        default_params = {'mu': 0.0, 'b': 10.0}\n",
    "        params = default_params if prior_params is None else prior_params\n",
    "        self.prior_mu = torch.tensor(params.get('mu', params['mu']), device=device)\n",
    "        self.prior_b  = torch.tensor(params.get('b', params['b']), device=device)\n",
    "\n",
    "        print(f\"Using prior distribution: {self.prior_dist} with mu={self.prior_mu.item()} and b={self.prior_b.item()}\")\n",
    "\n",
    "        # Layer definitions with priors\n",
    "        self.conv1 = PyroModule[nn.Conv2d](3, 32, kernel_size=5, stride=1, padding=2)\n",
    "        self.conv1.weight = PyroSample(self._make_prior([32, 3, 5, 5]))\n",
    "        self.conv1.bias   = PyroSample(self._make_prior([32]))\n",
    "        self.bn1 = nn.BatchNorm2d(32)  # Use nn.BatchNorm2d directly, no PyroModule needed\n",
    "\n",
    "        self.conv2 = PyroModule[nn.Conv2d](32, 64, kernel_size=5, stride=1, padding=2)\n",
    "        self.conv2.weight = PyroSample(self._make_prior([64, 32, 5, 5]))\n",
    "        self.conv2.bias   = PyroSample(self._make_prior([64]))\n",
    "        self.bn2 =  nn.BatchNorm2d(64)\n",
    "\n",
    "        self.pool = nn.MaxPool2d(kernel_size=2, stride=2)\n",
    "        self.gap  = nn.AdaptiveAvgPool2d((1, 1))\n",
    "\n",
    "        self.fc1 = PyroModule[nn.Linear](64, num_classes)\n",
    "        self.fc1.weight = PyroSample(self._make_prior([num_classes, 64]))\n",
    "        self.fc1.bias   = PyroSample(self._make_prior([num_classes]))\n",
    "\n",
    "    def actWG(self, x, alpha=1.0):\n",
    "        # Weight-gradient activation\n",
    "        return x * torch.exp(-alpha * x ** 2)\n",
    "    \n",
    "    def actRWG(self, x, alpha=1.0):\n",
    "        wg = x * torch.exp(-alpha * x ** 2)\n",
    "        # compare elementwise with zero\n",
    "        return torch.max(torch.zeros_like(wg), wg)\n",
    "\n",
    "    def _make_prior(self, shape):\n",
    "        \"\"\"\n",
    "        Construct a prior distribution based on self.prior_dist and parameters.\n",
    "        \"\"\"\n",
    "        if self.prior_dist == 'gaussian':\n",
    "            base = dist.Normal(self.prior_mu, self.prior_b)\n",
    "        elif self.prior_dist == 'laplace':\n",
    "            base = dist.Laplace(self.prior_mu, self.prior_b)\n",
    "        elif self.prior_dist == 'uniform':\n",
    "            # uniform over [-b, b]\n",
    "            base = dist.Uniform(-self.prior_b, self.prior_b)\n",
    "        else:\n",
    "            raise ValueError(f\"Unsupported prior distribution: {self.prior_dist}\")\n",
    "        return base.expand(shape).to_event(len(shape))\n",
    "\n",
    "    def forward(self, x, y=None):\n",
    "        # x: [B, 3, 64, 64]\n",
    "        #x = self.activation_fn(self.conv1(x).to(self.device))\n",
    "        x = self.conv1(x).to(self.device)\n",
    "        x = self.bn1(x)\n",
    "        x = self.activation_fn(x)\n",
    "        x = self.pool(x)\n",
    "        #x = self.activation_fn(self.conv2(x))\n",
    "        x = self.conv2(x)\n",
    "        x = self.bn2(x)\n",
    "        x = self.activation_fn(x)\n",
    "        x = self.pool(x)\n",
    "        x = self.gap(x)\n",
    "        x = x.view(x.size(0), -1)\n",
    "        logits = self.fc1(x)\n",
    "\n",
    "        if y is not None:\n",
    "            with pyro.plate(\"data\", x.size(0)):\n",
    "                pyro.sample(\"obs\", dist.Categorical(logits=logits), obs=y)\n",
    "\n",
    "        return logits"
   ]
  },
  {
   "cell_type": "code",
   "execution_count": null,
   "id": "4ff75157",
   "metadata": {},
   "outputs": [],
   "source": [
    "eurosat_mean = [0.344, 0.380, 0.408]\n",
    "eurosat_std  = [0.190, 0.137, 0.115]\n",
    "\n",
    "old_mean = [0.3444, 0.3803, 0.4078]\n",
    "old_std = [0.0914, 0.0651, 0.0552]\n",
    "\n",
    "\n",
    "def load_data(batch_size=54):\n",
    "    transform = transforms.Compose([\n",
    "        transforms.Resize((64, 64)),\n",
    "        transforms.ToTensor(),\n",
    "        transforms.Normalize(mean=eurosat_mean, \n",
    "                             std=eurosat_std)\n",
    "    ])\n",
    "\n",
    "    dataset = datasets.EuroSAT(root='./data', transform=transform, download=True)\n",
    "\n",
    "    torch.manual_seed(42)\n",
    "\n",
    "    #train_size = int(0.8 * len(dataset))\n",
    "    #test_size = len(dataset) - train_size\n",
    "    #train_dataset, test_dataset = random_split(dataset, [train_size, test_size])\n",
    "    \n",
    "    with open('datasplit/split_indices.pkl', 'rb') as f:\n",
    "        split = pickle.load(f)\n",
    "        train_dataset = Subset(dataset, split['train'])\n",
    "        test_dataset = Subset(dataset, split['test'])\n",
    "\n",
    "    # Add num_workers and pin_memory for faster data loading\n",
    "    train_loader = DataLoader(train_dataset, batch_size=batch_size, shuffle=True, \n",
    "                             num_workers=4, pin_memory=True, persistent_workers=True)\n",
    "    test_loader = DataLoader(test_dataset, batch_size=batch_size,\n",
    "                            num_workers=4, pin_memory=True, persistent_workers=True)\n",
    "    return train_loader, test_loader"
   ]
  },
  {
   "cell_type": "code",
   "execution_count": null,
   "id": "d492edd1",
   "metadata": {},
   "outputs": [],
   "source": [
    "import torch\n",
    "import pyro.poutine as poutine\n",
    "from pyro.infer import Trace_ELBO\n",
    "\n",
    "elbo = Trace_ELBO()\n",
    "\n",
    "\n",
    "import torch\n",
    "import pyro.poutine as poutine\n",
    "\n",
    "def compute_kl_nll_full(model, guide, x, y):\n",
    "    # 1) Trace the guide (latent-only)\n",
    "    guide_trace = poutine.trace(guide).get_trace(x, y)\n",
    "    # 2) Replay the model with those latent samples\n",
    "    model_trace = poutine.trace(\n",
    "        poutine.replay(model, trace=guide_trace)\n",
    "    ).get_trace(x, y)\n",
    "\n",
    "    kl  = torch.tensor(0., device=x.device)\n",
    "    nll = torch.tensor(0., device=x.device)\n",
    "\n",
    "    def sum_lp(site):\n",
    "        # Try built-in sums first\n",
    "        if \"log_prob_sum\" in site:\n",
    "            return site[\"log_prob_sum\"]\n",
    "        if \"log_prob\" in site:\n",
    "            return site[\"log_prob\"].sum()\n",
    "        # Fallback to calling fn.log_prob\n",
    "        lp = site[\"fn\"].log_prob(site[\"value\"])\n",
    "        return lp.sum()\n",
    "\n",
    "    # KL from all latent sites in the guide\n",
    "    for name, site in guide_trace.nodes.items():\n",
    "        if site[\"type\"] != \"sample\" or site[\"is_observed\"]:\n",
    "            continue\n",
    "        if name not in model_trace.nodes:\n",
    "            continue\n",
    "        q_lp = sum_lp(site)\n",
    "        p_lp = sum_lp(model_trace.nodes[name])\n",
    "        kl   = kl + (q_lp - p_lp)\n",
    "\n",
    "    # NLL from the observed \"obs\" site in the model\n",
    "    for name, site in model_trace.nodes.items():\n",
    "        if site[\"type\"] == \"sample\" and site[\"is_observed\"]:\n",
    "            # negative log-likelihood = -sum log p(y|x,w)\n",
    "            nll = nll - sum_lp(site)\n",
    "\n",
    "    return kl, nll\n"
   ]
  },
  {
   "cell_type": "code",
   "execution_count": null,
   "id": "f77d5606",
   "metadata": {},
   "outputs": [],
   "source": []
  },
  {
   "cell_type": "code",
   "execution_count": null,
   "id": "7bbab083",
   "metadata": {},
   "outputs": [],
   "source": [
    "from pyro.infer.autoguide import AutoDiagonalNormal\n",
    "from pyro.optim import Adam\n",
    "from tqdm import tqdm\n",
    "import pandas as pd"
   ]
  },
  {
   "cell_type": "code",
   "execution_count": null,
   "id": "62ed012a",
   "metadata": {},
   "outputs": [],
   "source": [
    "num_classes = 10\n",
    "\n",
    "bayesian_model = BayesianCNNSingleFC(num_classes,\n",
    "        device,\n",
    "        activation='relu',\n",
    "        prior_dist='gaussian',\n",
    "        prior_params={'mu': 0.0, 'b': 2.0})\n",
    "\n",
    "#act_name  = getattr(bayesian_model, 'activation', getattr(bayesian_model, 'activation', 'act'))\n",
    "#prior_name = getattr(bayesian_model, 'prior_dist', 'prior')\n",
    "\n",
    "#guide = AutoDiagonalNormal(bayesian_model)\n",
    "\n",
    "from pyro.infer.autoguide import AutoDiagonalNormal\n",
    "from pyro.infer.autoguide.initialization import init_to_median\n",
    "from pyro.optim import Adam\n",
    "from pyro.infer import SVI, Trace_ELBO\n",
    "\n",
    "# 1) construct your guide so its locs start at p(w).mean=0\n",
    "guide = AutoDiagonalNormal(\n",
    "    bayesian_model,\n",
    "    init_loc_fn=init_to_median(num_samples=1),   # all μ_q ← prior mean (0)\n",
    "    init_scale=0.1               # set initial σ_q=0.1\n",
    ")\n",
    "\n",
    "optimizer = Adam({\"lr\": 1e-3,\"weight_decay\": 1e-4})  # Increased from 1e-4 to 1e-3, and added weight decay\n",
    "svi = pyro.infer.SVI(model=bayesian_model,\n",
    "                     guide=guide,\n",
    "                     optim=optimizer,\n",
    "                     #loss=pyro.infer.Trace_ELBO(num_particles=1,\n",
    "                     #                           )) #TODO\n",
    "                     loss=elbo)\n"
   ]
  },
  {
   "cell_type": "code",
   "execution_count": null,
   "id": "3b5b1763",
   "metadata": {},
   "outputs": [],
   "source": [
    "pyro.clear_param_store()\n",
    "\n",
    "# Ensure model and guide are on the correct device\n",
    "bayesian_model.to(device)\n",
    "guide.to(device)\n",
    "\n",
    "train_loader, test_loader = load_data(batch_size=54)"
   ]
  },
  {
   "cell_type": "code",
   "execution_count": null,
   "id": "d578695b",
   "metadata": {},
   "outputs": [],
   "source": [
    "losses, accuracies, accuracy_epochs, weight_stats, bias_stats, best_model_path, best_guide_path, best_param_store_path, experiment_timestamp = train_svi_with_stats(\n",
    "    bayesian_model,\n",
    "    guide,\n",
    "    svi,\n",
    "    train_loader,\n",
    "    device,\n",
    "    num_epochs=10,\n",
    "    save_epochs=None,\n",
    "    save_dir='results_GP_eurosat_TEST')"
   ]
  },
  {
   "cell_type": "code",
   "execution_count": null,
   "id": "93951306",
   "metadata": {},
   "outputs": [],
   "source": [
    "def plot_training_results_with_stats(losses, accuracies, accuracy_epochs, weight_stats, bias_stats, act_name, prior_name, timestamp):\n",
    "    \"\"\"Plot training results with weight and bias statistics\"\"\"\n",
    "    plt.figure(figsize=(16, 12))\n",
    "    \n",
    "    # Plot 1: Training Loss\n",
    "    plt.subplot(2, 2, 1)\n",
    "    plt.plot(range(1, len(losses) + 1), losses)\n",
    "    plt.title('Training Loss')\n",
    "    plt.xlabel('Epoch')\n",
    "    plt.ylabel('ELBO Loss')\n",
    "    plt.grid(True)\n",
    "    \n",
    "    # Plot 2: Training Accuracy\n",
    "    plt.subplot(2, 2, 2)\n",
    "    plt.plot(accuracy_epochs, accuracies, 'o-')\n",
    "    plt.title('Training Accuracy (Every 10 Epochs)')\n",
    "    plt.xlabel('Epoch')\n",
    "    plt.ylabel('Accuracy')\n",
    "    plt.grid(True)\n",
    "    \n",
    "    # Plot 3: Weight Statistics Boxplot\n",
    "    plt.subplot(2, 2, 3)\n",
    "    weight_data = []\n",
    "    weight_labels = []\n",
    "    \n",
    "    for i, epoch in enumerate(weight_stats['epochs']):\n",
    "        # Combine means and stds for this epoch\n",
    "        epoch_data = weight_stats['means'][i] + weight_stats['stds'][i]\n",
    "        weight_data.append(epoch_data)\n",
    "        weight_labels.append(f'Epoch {epoch}')\n",
    "    \n",
    "    if weight_data:\n",
    "        bp1 = plt.boxplot(weight_data, labels=weight_labels, patch_artist=True)\n",
    "        for patch in bp1['boxes']:\n",
    "            patch.set_facecolor('lightblue')\n",
    "    \n",
    "    plt.title('LOC Statistics Distribution')\n",
    "    plt.xlabel('Epoch')\n",
    "    plt.ylabel('LOC Values')\n",
    "    plt.xticks(rotation=45)\n",
    "    plt.grid(True, alpha=0.3)\n",
    "    \n",
    "    # Plot 4: Bias Statistics Boxplot\n",
    "    plt.subplot(2, 2, 4)\n",
    "    bias_data = []\n",
    "    bias_labels = []\n",
    "    \n",
    "    for i, epoch in enumerate(bias_stats['epochs']):\n",
    "        # Combine means and stds for this epoch\n",
    "        epoch_data = bias_stats['means'][i] + bias_stats['stds'][i]\n",
    "        bias_data.append(epoch_data)\n",
    "        bias_labels.append(f'Epoch {epoch}')\n",
    "    \n",
    "    if bias_data:\n",
    "        bp2 = plt.boxplot(bias_data, tick_labels=bias_labels, patch_artist=True)\n",
    "        for patch in bp2['boxes']:\n",
    "            patch.set_facecolor('lightcoral')\n",
    "    \n",
    "    plt.title('SCALE Statistics Distribution')\n",
    "    plt.xlabel('Epoch')\n",
    "    plt.ylabel('SCALE Values')\n",
    "    plt.xticks(rotation=45)\n",
    "    plt.grid(True, alpha=0.3)\n",
    "    \n",
    "    plt.tight_layout()\n",
    "    plt.savefig(f'results_GP_eurosat/bayesian_cnn_training_results_{act_name}_{prior_name}_{timestamp}.png')\n",
    "    plt.show()"
   ]
  },
  {
   "cell_type": "code",
   "execution_count": null,
   "id": "6be67a3b",
   "metadata": {},
   "outputs": [],
   "source": [
    "act_name = bayesian_model.activation_fn.__name__ if hasattr(bayesian_model.activation_fn, '__name__') else str(bayesian_model.activation_fn)\n",
    "prior_name = getattr(bayesian_model, 'prior_dist', 'prior')"
   ]
  },
  {
   "cell_type": "code",
   "execution_count": null,
   "id": "829b11ee",
   "metadata": {},
   "outputs": [],
   "source": [
    "plot_training_results_with_stats(losses, accuracies, accuracy_epochs, weight_stats, bias_stats, act_name, prior_name, experiment_timestamp)"
   ]
  },
  {
   "cell_type": "code",
   "execution_count": null,
   "id": "14131c46",
   "metadata": {},
   "outputs": [],
   "source": [
    "# clear the parameter store and reload the parameter store from the best result\n",
    "pyro.clear_param_store()\n",
    "\n",
    "bayesian_model.load_state_dict(torch.load(best_model_path))\n",
    "guide.load_state_dict(torch.load(best_guide_path))\n",
    "pyro.get_param_store().set_state(torch.load(best_param_store_path,weights_only=False))"
   ]
  },
  {
   "cell_type": "code",
   "execution_count": null,
   "id": "1d4cc82d",
   "metadata": {},
   "outputs": [],
   "source": [
    "# print confusion matrix\n",
    "import numpy as np\n",
    "from sklearn.metrics import confusion_matrix\n",
    "\n",
    "\n",
    "def predict_data(model, loader_of_interest, num_samples=10):\n",
    "    model.eval()\n",
    "    guide.eval()\n",
    "\n",
    "    all_labels = []\n",
    "    all_predictions = []\n",
    "\n",
    "    with torch.no_grad():\n",
    "        for images, labels in tqdm(loader_of_interest, desc=\"Evaluating\"):\n",
    "            images, labels = images.to(device), labels.to(device)\n",
    "\n",
    "            logits_mc = torch.zeros(num_samples, images.size(0), model.fc1.out_features).to(device)\n",
    "\n",
    "            for i in range(num_samples):\n",
    "                guide_trace = pyro.poutine.trace(guide).get_trace(images)\n",
    "                replayed_model = pyro.poutine.replay(model, trace=guide_trace)\n",
    "                logits = replayed_model(images)\n",
    "                logits_mc[i] = logits\n",
    "\n",
    "            avg_logits = logits_mc.mean(dim=0)\n",
    "            predictions = torch.argmax(avg_logits, dim=1)\n",
    "\n",
    "            all_labels.extend(labels.cpu().numpy())\n",
    "            all_predictions.extend(predictions.cpu().numpy())\n",
    "\n",
    "    return all_labels, all_predictions"
   ]
  },
  {
   "cell_type": "code",
   "execution_count": null,
   "id": "735e9843",
   "metadata": {},
   "outputs": [],
   "source": [
    "all_labels, all_predictions = predict_data(bayesian_model, test_loader, num_samples=10)\n",
    "cm = confusion_matrix(all_labels, all_predictions)\n",
    "#print accuracy from confusion matrix\n",
    "accuracy = np.trace(cm) / np.sum(cm)\n",
    "print(f\"Accuracy from confusion matrix: {accuracy * 100:.6f}%\")"
   ]
  },
  {
   "cell_type": "code",
   "execution_count": null,
   "id": "e955f506",
   "metadata": {},
   "outputs": [],
   "source": [
    "df = pd.DataFrame({'True Label': all_labels, 'Predicted Label': all_predictions})"
   ]
  },
  {
   "cell_type": "code",
   "execution_count": null,
   "id": "85ebfcdc",
   "metadata": {},
   "outputs": [],
   "source": [
    "#save the prediction label and true label in a csv file\n",
    "\n",
    "def save_predictions_to_csv(labels, predictions, filename='predictions.csv'):\n",
    "    df = pd.DataFrame({'True Label': labels, 'Predicted Label': predictions})\n",
    "    df.to_csv(filename, index=False)\n",
    "    print(f\"Predictions saved to {filename}\")"
   ]
  },
  {
   "cell_type": "code",
   "execution_count": null,
   "id": "b67691b3",
   "metadata": {},
   "outputs": [],
   "source": [
    "save_predictions_to_csv(all_labels, all_predictions, os.path.join('results_GP_eurosat', f'predictions_{act_name}_{prior_name}_{experiment_timestamp}_{accuracy * 100:.0f}.csv'))"
   ]
  },
  {
   "cell_type": "code",
   "execution_count": null,
   "id": "cb0fddbc",
   "metadata": {},
   "outputs": [],
   "source": [
    "# print pyro param store values\n",
    "for name, param in pyro.get_param_store().items():\n",
    "    if 'loc' in name or 'scale' in name:\n",
    "        print(f\"{name}: {param.detach().cpu().numpy()}\")"
   ]
  },
  {
   "cell_type": "code",
   "execution_count": null,
   "id": "038afc21",
   "metadata": {},
   "outputs": [],
   "source": []
  }
 ],
 "metadata": {
  "kernelspec": {
   "display_name": "bnntest",
   "language": "python",
   "name": "python3"
  },
  "language_info": {
   "codemirror_mode": {
    "name": "ipython",
    "version": 3
   },
   "file_extension": ".py",
   "mimetype": "text/x-python",
   "name": "python",
   "nbconvert_exporter": "python",
   "pygments_lexer": "ipython3",
   "version": "3.12.9"
  }
 },
 "nbformat": 4,
 "nbformat_minor": 5
}
