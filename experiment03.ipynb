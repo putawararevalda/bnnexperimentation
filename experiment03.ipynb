{
 "cells": [
  {
   "cell_type": "code",
   "execution_count": 1,
   "id": "2b415a57",
   "metadata": {},
   "outputs": [],
   "source": [
    "import torch\n",
    "import torch.nn as nn\n",
    "import torch.nn.functional as F\n",
    "import torchvision.datasets as datasets\n",
    "import torchvision.transforms as transforms\n",
    "from torch.utils.data import DataLoader, random_split, Subset\n",
    "import time\n",
    "import matplotlib.pyplot as plt\n",
    "import os\n",
    "from sklearn.model_selection import train_test_split\n",
    "\n",
    "import pickle\n",
    "from tqdm import tqdm\n",
    "import copy"
   ]
  },
  {
   "cell_type": "code",
   "execution_count": 2,
   "id": "21fc4dd2",
   "metadata": {},
   "outputs": [
    {
     "name": "stderr",
     "output_type": "stream",
     "text": [
      "c:\\Users\\Revalda Putawara\\.conda\\envs\\bnntest\\Lib\\site-packages\\tqdm\\auto.py:21: TqdmWarning: IProgress not found. Please update jupyter and ipywidgets. See https://ipywidgets.readthedocs.io/en/stable/user_install.html\n",
      "  from .autonotebook import tqdm as notebook_tqdm\n"
     ]
    }
   ],
   "source": [
    "import pyro\n",
    "import pyro.distributions as dist\n",
    "from pyro.nn import PyroModule, PyroSample\n",
    "from pyro.infer.autoguide import AutoDiagonalNormal"
   ]
  },
  {
   "cell_type": "code",
   "execution_count": 3,
   "id": "b759d2d6",
   "metadata": {},
   "outputs": [],
   "source": [
    "import pandas as pd"
   ]
  },
  {
   "cell_type": "code",
   "execution_count": 4,
   "id": "7933eaab",
   "metadata": {},
   "outputs": [],
   "source": [
    "import numpy as np\n",
    "from sklearn.metrics import confusion_matrix"
   ]
  },
  {
   "cell_type": "code",
   "execution_count": 5,
   "id": "33214803",
   "metadata": {},
   "outputs": [],
   "source": [
    "from utils.model import BayesianCNNSingleFC"
   ]
  },
  {
   "cell_type": "code",
   "execution_count": 6,
   "id": "685ec8a3",
   "metadata": {},
   "outputs": [],
   "source": [
    "from bitflip import bitflip_float32"
   ]
  },
  {
   "cell_type": "code",
   "execution_count": 7,
   "id": "5ae33ca6",
   "metadata": {},
   "outputs": [],
   "source": [
    "def load_data(batch_size=54):\n",
    "    transform = transforms.Compose([\n",
    "        transforms.Resize((64, 64)),\n",
    "        transforms.ToTensor(),\n",
    "        transforms.Normalize(mean=[0.3444, 0.3809, 0.4082], std=[0.1809, 0.1331, 0.1137])\n",
    "    ])\n",
    "\n",
    "    dataset = datasets.EuroSAT(root='./data', transform=transform, download=False)\n",
    "\n",
    "    torch.manual_seed(42)\n",
    "    \n",
    "    with open('datasplit/split_indices.pkl', 'rb') as f:\n",
    "        split = pickle.load(f)\n",
    "        train_dataset = Subset(dataset, split['train'])\n",
    "        test_dataset = Subset(dataset, split['test'])\n",
    "\n",
    "    # Add num_workers and pin_memory for faster data loading\n",
    "    train_loader = DataLoader(train_dataset, batch_size=batch_size, shuffle=True, \n",
    "                             num_workers=4, pin_memory=True, persistent_workers=True)\n",
    "    test_loader = DataLoader(test_dataset, batch_size=batch_size,\n",
    "                            num_workers=4, pin_memory=True, persistent_workers=True)\n",
    "    return train_loader, test_loader"
   ]
  },
  {
   "cell_type": "code",
   "execution_count": 8,
   "id": "593603cd",
   "metadata": {},
   "outputs": [],
   "source": [
    "train_loader, test_loader = load_data(batch_size=54)"
   ]
  },
  {
   "cell_type": "code",
   "execution_count": 9,
   "id": "7ffc34f2",
   "metadata": {},
   "outputs": [],
   "source": [
    "device = torch.device(\"cuda\")"
   ]
  },
  {
   "cell_type": "code",
   "execution_count": 10,
   "id": "91047777",
   "metadata": {},
   "outputs": [],
   "source": [
    "num_classes = 10"
   ]
  },
  {
   "cell_type": "code",
   "execution_count": 11,
   "id": "47222767",
   "metadata": {},
   "outputs": [],
   "source": [
    "bayesian_model =BayesianCNNSingleFC(num_classes=num_classes, device=device).to(device)"
   ]
  },
  {
   "cell_type": "code",
   "execution_count": 12,
   "id": "06566fe5",
   "metadata": {},
   "outputs": [],
   "source": [
    "model_path = 'results_eurosat/bayesian_cnn_model_std10_100_epoch.pth'\n",
    "guide_path = 'results_eurosat/bayesian_cnn_guide_std10_100_epoch_guide.pth'\n",
    "pyro_param_store_path = 'results_eurosat/pyro_param_store_std10_100_epoch.pkl'\n",
    "\n",
    "#guide = AutoDiagonalNormal(bayesian_model).to(device)\n",
    "\n",
    "#pyro.get_param_store().set_state(torch.load(pyro_param_store_path,weights_only=False))\n",
    "\n",
    "#original_param_store = {}\n",
    "\n",
    "#for name, value in pyro.get_param_store().items():\n",
    "#    print(f\"{name}: {value.shape}\")\n",
    "#    original_param_store[name] = torch.tensor(value.data, requires_grad=value.requires_grad)"
   ]
  },
  {
   "cell_type": "code",
   "execution_count": null,
   "id": "b02438ff",
   "metadata": {},
   "outputs": [],
   "source": [
    "class Injector:\n",
    "    def __init__(self, trained_model, device, test_loader, num_samples):\n",
    "        \"\"\"\n",
    "        Initializes SEU injector\n",
    "        \"\"\"\n",
    "\n",
    "        #initialize device\n",
    "        if device is None:\n",
    "            self.device = torch.device(\"cuda\" if torch.cuda.is_available() else \"cpu\")\n",
    "        else:\n",
    "            self.device = device\n",
    "\n",
    "        self.trained_model = trained_model.to(self.device)\n",
    "        self.test_loader = test_loader\n",
    "        self.trained_model.eval()\n",
    "        self.num_samples = num_samples\n",
    "        \n",
    "        self.guide = AutoDiagonalNormal(self.trained_model).to(self.device)\n",
    "        pyro.get_param_store().clear()\n",
    "        pyro.get_param_store().set_state(torch.load(pyro_param_store_path,weights_only=False))\n",
    "\n",
    "        #initial_Accuracy = self.return_accuracy(num_samples)\n",
    "        initial_labels, initial_predictions, initial_logits, initial_probs = self.predict_data_probs(self.num_samples)\n",
    "        self.initial_accuracy = self.return_accuracy(initial_labels, initial_predictions)\n",
    "        \n",
    "        #print accuracy before SEU\n",
    "        print(f\"Initial accuracy: {self.initial_accuracy}\")\n",
    "        \n",
    "    def predict_data_probs(self, num_samples=10):\n",
    "        all_labels = []\n",
    "        all_predictions = []\n",
    "        all_logits = []\n",
    "        all_probs = []\n",
    "\n",
    "        with torch.no_grad():\n",
    "            for images, labels in tqdm(self.test_loader, desc=\"Evaluating\"):\n",
    "                images, labels = images.to(self.device), labels.to(self.device)\n",
    "\n",
    "                logits_mc = torch.zeros(num_samples, images.size(0), self.trained_model.fc1.out_features).to(device)\n",
    "\n",
    "                for i in range(num_samples):\n",
    "                    guide_trace = pyro.poutine.trace(self.guide).get_trace(images)\n",
    "                    replayed_model = pyro.poutine.replay(self.trained_model, trace=guide_trace)\n",
    "                    logits = replayed_model(images)\n",
    "                    logits_mc[i] = logits\n",
    "\n",
    "                avg_logits = logits_mc.mean(dim=0)\n",
    "                predictions = torch.argmax(avg_logits, dim=1)\n",
    "\n",
    "                all_labels.extend(labels.cpu().numpy())\n",
    "                all_predictions.extend(predictions.cpu().numpy())\n",
    "                all_logits.extend(avg_logits.cpu().numpy())\n",
    "                all_probs.extend(F.softmax(avg_logits, dim=1).cpu().numpy())\n",
    "\n",
    "        return all_labels, all_predictions, all_logits, all_probs\n",
    "\n",
    "    def return_accuracy(self, all_labels, all_predictions):\n",
    "        #all_labels, all_predictions, all_logits, all_probs = self.predict_data_probs(num_samples)\n",
    "        cm = confusion_matrix(all_labels, all_predictions)\n",
    "        accuracy = np.trace(cm) / np.sum(cm)\n",
    "\n",
    "        return accuracy\n",
    "    \n",
    "    def run_seu_autodiagonal_normal(self, location_index, bit_i, parameter_name=\"loc\", num_samples=10):\n",
    "        \"\"\"\n",
    "        Run SEU on the AutoDiagonalNormal guide\n",
    "        \"\"\"\n",
    "\n",
    "        assert parameter_name in [\"loc\", \"scale\"], \"Parameter name must be 'loc' or 'scale'.\"\n",
    "        assert bit_i in range(0, 33), \"Location index must be between 0 and 9.\"\n",
    "\n",
    "        if parameter_name == \"loc\":\n",
    "            param_store_name = \"AutoDiagonalNormal.loc\"\n",
    "        elif parameter_name == \"scale\":\n",
    "            param_store_name = \"AutoDiagonalNormal.scale\"\n",
    "\n",
    "        pyro.get_param_store().set_state(torch.load(pyro_param_store_path,weights_only=False))\n",
    "\n",
    "        with torch.no_grad():\n",
    "            param_dict = {}\n",
    "\n",
    "            for name, value in pyro.get_param_store().items():\n",
    "                #print(f\"{name}: {value.shape}\")\n",
    "                #print(value)\n",
    "                param_dict[name] = value.cpu().detach().numpy()\n",
    "\n",
    "            tensor_cpu = param_dict[param_store_name]\n",
    "\n",
    "            #original_val = tensor_cpu[0] #this zero index should be changed to the location_index\n",
    "            original_val = tensor_cpu[location_index]\n",
    "            seu_val = bitflip_float32(original_val, bit_i)\n",
    "\n",
    "\n",
    "            print(f\"Original value: {original_val}, SEU value: {seu_val}\")\n",
    "\n",
    "            # Get the parameter\n",
    "            param = pyro.get_param_store().get_param(param_store_name)\n",
    "\n",
    "            # Modify it safely by creating a new tensor\n",
    "            new_param = param.clone()\n",
    "            new_param[location_index] = seu_val  # New Value\n",
    "\n",
    "            # Update the parameter store\n",
    "            if parameter_name == \"loc\":\n",
    "                pyro.get_param_store().__setitem__(param_store_name, new_param) # 74%\n",
    "                #param_store[param_store_name].data.copy_(change_item(param_store_name, location_index, seu_val)) #25%\n",
    "                #pyro.get_param_store()[param_store_name].data[location_index] = seu_val # 25%\n",
    "            elif parameter_name == \"scale\":\n",
    "                pyro.get_param_store().__setitem__(param_store_name, new_param) #10%\n",
    "                #pyro.get_param_store()[param_store_name].data[location_index] = seu_val\n",
    "\n",
    "        #print accuracy after SEU\n",
    "        self.guide = AutoDiagonalNormal(bayesian_model).to(device)\n",
    "    \n",
    "\n",
    "        try:\n",
    "            after_labels, after_predictions, after_logits, after_probs = self.predict_data_probs(num_samples)\n",
    "            accuracyAfter_SEU = self.return_accuracy(after_labels, after_predictions)\n",
    "        except:\n",
    "            accuracyAfter_SEU = np.nan\n",
    "            \n",
    "        print(f\"Accuracy after SEU: {accuracyAfter_SEU}\")\n",
    "        print(\"===================================\")\n",
    "\n",
    "        return accuracyAfter_SEU - self.initial_accuracy\n",
    "    \n",
    "    def run_seu_autodiagonal_normal_multi(self, location_indices, bit_i, parameter_name=\"loc\", attack_ratio=1.0, num_samples=10, seed=None):\n",
    "        \"\"\"\n",
    "        Run SEU on the AutoDiagonalNormal guide with multiple location attacks\n",
    "        \n",
    "        Args:\n",
    "            location_indices: list of indices or single index to attack\n",
    "            bit_i: bit position to flip (0-32)\n",
    "            parameter_name: \"loc\" or \"scale\"\n",
    "            attack_ratio: ratio of locations to attack (0.0-1.0)\n",
    "            num_samples: number of MC samples for evaluation\n",
    "            seed: random seed for reproducible attacks\n",
    "        \"\"\"\n",
    "        \n",
    "        assert parameter_name in [\"loc\", \"scale\"], \"Parameter name must be 'loc' or 'scale'.\"\n",
    "        assert bit_i in range(0, 33), \"Bit index must be between 0 and 32.\"\n",
    "        assert 0.0 <= attack_ratio <= 1.0, \"Attack ratio must be between 0.0 and 1.0.\"\n",
    "        \n",
    "        # Convert single index to list for uniform handling\n",
    "        if isinstance(location_indices, int):\n",
    "            location_indices = [location_indices]\n",
    "        \n",
    "        # Set random seed if provided\n",
    "        if seed is not None:\n",
    "            np.random.seed(seed)\n",
    "            torch.manual_seed(seed)\n",
    "        \n",
    "        # Calculate number of locations to attack\n",
    "        num_attacks = max(1, int(len(location_indices) * attack_ratio))\n",
    "        \n",
    "        # Randomly select locations to attack\n",
    "        attack_locations = np.random.choice(location_indices, size=num_attacks, replace=False)\n",
    "        \n",
    "        if parameter_name == \"loc\":\n",
    "            param_store_name = \"AutoDiagonalNormal.loc\"\n",
    "        elif parameter_name == \"scale\":\n",
    "            param_store_name = \"AutoDiagonalNormal.scale\"\n",
    "\n",
    "        # Reset parameter store to original state\n",
    "        pyro.get_param_store().set_state(torch.load(pyro_param_store_path, weights_only=False))\n",
    "\n",
    "        with torch.no_grad():\n",
    "            # Get the parameter\n",
    "            param = pyro.get_param_store().get_param(param_store_name)\n",
    "            \n",
    "            # Create a new tensor to modify\n",
    "            new_param = param.clone()\n",
    "            \n",
    "            print(f\"Attacking {num_attacks} out of {len(location_indices)} locations:\")\n",
    "            \n",
    "            # Attack each selected location\n",
    "            for location_index in attack_locations:\n",
    "                original_val = new_param[location_index].cpu().item()\n",
    "                seu_val = bitflip_float32(original_val, bit_i)\n",
    "                new_param[location_index] = seu_val\n",
    "                \n",
    "                print(f\"  Location {location_index}: {original_val} -> {seu_val}\")\n",
    "            \n",
    "            # Update the parameter store\n",
    "            pyro.get_param_store().__setitem__(param_store_name, new_param)\n",
    "\n",
    "        # Reinitialize guide with modified parameters\n",
    "        self.guide = AutoDiagonalNormal(bayesian_model).to(device)\n",
    "\n",
    "        try:\n",
    "            after_labels, after_predictions, after_logits, after_probs = self.predict_data_probs(num_samples)\n",
    "            accuracyAfter_SEU = self.return_accuracy(after_labels, after_predictions)\n",
    "        except:\n",
    "            accuracyAfter_SEU = np.nan\n",
    "            \n",
    "        print(f\"Accuracy after SEU: {accuracyAfter_SEU}\")\n",
    "        print(\"===================================\")\n",
    "\n",
    "        return accuracyAfter_SEU - self.initial_accuracy"
   ]
  },
  {
   "cell_type": "code",
   "execution_count": null,
   "id": "c8c04293",
   "metadata": {},
   "outputs": [],
   "source": [
    "inj = Injector(trained_model=bayesian_model, device=device, test_loader=test_loader, num_samples=10)"
   ]
  },
  {
   "cell_type": "code",
   "execution_count": null,
   "id": "74fa487e",
   "metadata": {},
   "outputs": [],
   "source": [
    "#inj.run_seu_autodiagonal_normal(location_index=0, bit_i=1, parameter_name=\"scale\", num_samples=10)\n",
    "inj.run_seu_autodiagonal_normal(location_index=0, bit_i=2, parameter_name=\"loc\", num_samples=10)"
   ]
  },
  {
   "cell_type": "code",
   "execution_count": null,
   "id": "82df9983",
   "metadata": {},
   "outputs": [],
   "source": [
    "#store the result in dataframe\n",
    "import pandas as pd\n",
    "results = []\n",
    "\n",
    "for i in range(0, 32):\n",
    "    results.append(inj.run_seu_autodiagonal_normal(location_index=0, bit_i=i, parameter_name=\"scale\", num_samples=10))"
   ]
  },
  {
   "cell_type": "code",
   "execution_count": null,
   "id": "3d859840",
   "metadata": {},
   "outputs": [],
   "source": [
    "# plot the result in matplotlib\n",
    "plt.figure(figsize=(10, 5))\n",
    "plt.plot(range(0, 32), results, marker='o')\n",
    "plt.title('SEU Impact on Scale Parameter')\n",
    "plt.xlabel('Bit Position')\n",
    "plt.ylabel('Change in Accuracy')\n",
    "plt.grid()\n",
    "plt.show()"
   ]
  },
  {
   "cell_type": "code",
   "execution_count": null,
   "id": "777800c8",
   "metadata": {},
   "outputs": [],
   "source": [
    "results_loc = []\n",
    "\n",
    "for i in range(0, 32):\n",
    "    results_loc.append(inj.run_seu_autodiagonal_normal(location_index=0, bit_i=i, parameter_name=\"loc\", num_samples=10))"
   ]
  },
  {
   "cell_type": "code",
   "execution_count": null,
   "id": "dce26354",
   "metadata": {},
   "outputs": [],
   "source": [
    "plt.figure(figsize=(10, 5))\n",
    "plt.plot(range(0, 32), results_loc, marker='o')\n",
    "plt.title('SEU Impact on Loc Parameter')\n",
    "plt.xlabel('Bit Position')\n",
    "plt.ylabel('Change in Accuracy')\n",
    "plt.grid()\n",
    "plt.show()"
   ]
  },
  {
   "cell_type": "code",
   "execution_count": null,
   "id": "c931c99e",
   "metadata": {},
   "outputs": [],
   "source": [
    "#(inj.run_seu_autodiagonal_normal(location_index=0, bit_i=0, parameter_name=\"loc\", num_samples=10))"
   ]
  },
  {
   "cell_type": "code",
   "execution_count": null,
   "id": "ac85bcc0",
   "metadata": {},
   "outputs": [],
   "source": []
  },
  {
   "cell_type": "code",
   "execution_count": null,
   "id": "243f654e",
   "metadata": {},
   "outputs": [],
   "source": [
    "results2_loc = []\n",
    "\n",
    "for i in range(0, 32):\n",
    "    results2_loc.append(inj.run_seu_autodiagonal_normal(location_index=217536, bit_i=i, parameter_name=\"loc\", num_samples=10))"
   ]
  },
  {
   "cell_type": "code",
   "execution_count": null,
   "id": "30037b8f",
   "metadata": {},
   "outputs": [],
   "source": [
    "plt.figure(figsize=(10, 5))\n",
    "plt.plot(range(0, 32), results2_loc, marker='o')\n",
    "plt.title('SEU Impact on Loc Parameter')\n",
    "plt.xlabel('Bit Position')\n",
    "plt.ylabel('Change in Accuracy')\n",
    "plt.grid()\n",
    "plt.show()"
   ]
  },
  {
   "cell_type": "code",
   "execution_count": null,
   "id": "383ac246",
   "metadata": {},
   "outputs": [],
   "source": [
    "bayesian_model"
   ]
  },
  {
   "cell_type": "code",
   "execution_count": null,
   "id": "71c97214",
   "metadata": {},
   "outputs": [],
   "source": [
    "# print the parameters of the bayesian model\n",
    "for name, value in bayesian_model.named_parameters():\n",
    "    print(f\"{name}: {value.shape}\")"
   ]
  },
  {
   "cell_type": "code",
   "execution_count": null,
   "id": "19998c08",
   "metadata": {},
   "outputs": [],
   "source": [
    "# print the parameters of pyro param store\n",
    "for name, value in pyro.get_param_store().items():\n",
    "    print(f\"{name}: {value.shape}\")"
   ]
  },
  {
   "cell_type": "code",
   "execution_count": null,
   "id": "2218c250",
   "metadata": {},
   "outputs": [],
   "source": [
    "results3_loc = []\n",
    "\n",
    "for i in range(0, 32):\n",
    "    results3_loc.append(inj.run_seu_autodiagonal_normal(location_index=53696, bit_i=i, parameter_name=\"loc\", num_samples=10))"
   ]
  },
  {
   "cell_type": "code",
   "execution_count": null,
   "id": "2aab5691",
   "metadata": {},
   "outputs": [],
   "source": [
    "plt.figure(figsize=(10, 5))\n",
    "plt.plot(range(0, 32), results3_loc, marker='o')\n",
    "plt.title('SEU Impact on Loc Parameter')\n",
    "plt.xlabel('Bit Position')\n",
    "plt.ylabel('Change in Accuracy')\n",
    "plt.grid()\n",
    "plt.show()"
   ]
  },
  {
   "cell_type": "code",
   "execution_count": null,
   "id": "2301095f",
   "metadata": {},
   "outputs": [],
   "source": [
    "import numpy as np\n",
    "\n",
    "def get_flat_param_index(layer_name, param_type, index_tuple):\n",
    "    # Define parameter shapes for each layer\n",
    "    param_shapes = {\n",
    "        'conv1': {\n",
    "            'weight': (32, 3, 5, 5),\n",
    "            'bias': (32,)\n",
    "        },\n",
    "        'conv2': {\n",
    "            'weight': (64, 32, 5, 5),\n",
    "            'bias': (64,)\n",
    "        },\n",
    "        'fc1': {\n",
    "            'weight': (10, 16384),\n",
    "            'bias': (10,)\n",
    "        }\n",
    "    }\n",
    "\n",
    "    # Check valid inputs\n",
    "    if layer_name not in param_shapes:\n",
    "        raise ValueError(f\"Unknown layer '{layer_name}'\")\n",
    "    if param_type not in param_shapes[layer_name]:\n",
    "        raise ValueError(f\"'{param_type}' not found in layer '{layer_name}'\")\n",
    "\n",
    "    # Compute flat offset for each param in order: conv1.weight, conv1.bias, ...\n",
    "    flat_offset = 0\n",
    "    for l in ['conv1', 'conv2', 'fc1']:\n",
    "        for p in ['weight', 'bias']:\n",
    "            shape = param_shapes[l][p]\n",
    "            numel = np.prod(shape)\n",
    "\n",
    "            if l == layer_name and p == param_type:\n",
    "                # Compute local flat index within this param\n",
    "                local_flat_index = np.ravel_multi_index(index_tuple, shape)\n",
    "                return flat_offset + local_flat_index\n",
    "\n",
    "            flat_offset += numel\n",
    "\n",
    "    raise RuntimeError(\"Should not reach here if input is valid.\")\n"
   ]
  },
  {
   "cell_type": "code",
   "execution_count": null,
   "id": "4470f9f9",
   "metadata": {},
   "outputs": [],
   "source": [
    "# Index of conv1.bias[5]\n",
    "print(get_flat_param_index(\"conv1\", \"bias\", (0,)))  # Output: 2405\n",
    "\n",
    "# Index of conv2.weight[0,0,0,0]\n",
    "print(get_flat_param_index(\"conv2\", \"weight\", (0,0,0,0)))  # Output: 2432\n",
    "\n",
    "# Index of fc1.weight[0, 0]\n",
    "print(get_flat_param_index(\"fc1\", \"weight\", (0, 0)))  # Output: 53696"
   ]
  },
  {
   "cell_type": "code",
   "execution_count": null,
   "id": "912f6988",
   "metadata": {},
   "outputs": [],
   "source": [
    "results4_loc = []\n",
    "\n",
    "for i in range(0, 32):\n",
    "    results4_loc.append(inj.run_seu_autodiagonal_normal(location_index=2400, bit_i=i, parameter_name=\"loc\", num_samples=10))"
   ]
  },
  {
   "cell_type": "code",
   "execution_count": null,
   "id": "b37f8fcc",
   "metadata": {},
   "outputs": [],
   "source": [
    "plt.figure(figsize=(10, 5))\n",
    "plt.plot(range(0, 32), results4_loc, marker='o')\n",
    "plt.title('SEU Impact on Loc Parameter')\n",
    "plt.xlabel('Bit Position')\n",
    "plt.ylabel('Change in Accuracy')\n",
    "plt.grid()\n",
    "plt.show()"
   ]
  },
  {
   "cell_type": "code",
   "execution_count": null,
   "id": "52048018",
   "metadata": {},
   "outputs": [],
   "source": [
    "# plot results2_loc, results3_loc, results4_loc in a single plot\n",
    "plt.figure(figsize=(10, 5))\n",
    "plt.plot(range(0, 32), results_loc, marker='o', label='conv1 1st weight')\n",
    "plt.plot(range(0, 32), results4_loc, marker='o', label='conv1 1st bias')\n",
    "plt.plot(range(0, 32), results3_loc, marker='o', label='fc1 1st weight')\n",
    "plt.plot(range(0, 32), results2_loc, marker='o', label='fc1 1st bias')\n",
    "\n",
    "\n",
    "plt.title('SEU Impact on Loc Parameter')\n",
    "plt.xlabel('Bit Position')\n",
    "plt.ylabel('Change in Accuracy')\n",
    "plt.grid()\n",
    "plt.legend()\n",
    "plt.show()"
   ]
  },
  {
   "cell_type": "code",
   "execution_count": null,
   "id": "46f4c6a7",
   "metadata": {},
   "outputs": [],
   "source": [
    "#results\n",
    "#results2_scale\n",
    "#...\n",
    "#..."
   ]
  },
  {
   "cell_type": "code",
   "execution_count": null,
   "id": "49437bcc",
   "metadata": {},
   "outputs": [],
   "source": [
    "results_scale = []\n",
    "\n",
    "for i in range(0, 32):\n",
    "    results_scale.append(inj.run_seu_autodiagonal_normal(location_index=0, bit_i=i, parameter_name=\"scale\", num_samples=10))"
   ]
  },
  {
   "cell_type": "code",
   "execution_count": null,
   "id": "b8c3a57c",
   "metadata": {},
   "outputs": [],
   "source": [
    "#store the result in dataframe\n",
    "import pandas as pd\n",
    "results2_scale = []\n",
    "\n",
    "for i in range(0, 32):\n",
    "    results2_scale.append(inj.run_seu_autodiagonal_normal(location_index=217536, bit_i=i, parameter_name=\"scale\", num_samples=10))"
   ]
  },
  {
   "cell_type": "code",
   "execution_count": null,
   "id": "93ecf5b2",
   "metadata": {},
   "outputs": [],
   "source": [
    "#store the result in dataframe\n",
    "import pandas as pd\n",
    "results3_scale = []\n",
    "\n",
    "for i in range(0, 32):\n",
    "    results3_scale.append(inj.run_seu_autodiagonal_normal(location_index=53696, bit_i=i, parameter_name=\"scale\", num_samples=10))"
   ]
  },
  {
   "cell_type": "code",
   "execution_count": null,
   "id": "3ea994f9",
   "metadata": {},
   "outputs": [],
   "source": [
    "#store the result in dataframe\n",
    "import pandas as pd\n",
    "results4_scale = []\n",
    "\n",
    "for i in range(0, 32):\n",
    "    results4_scale.append(inj.run_seu_autodiagonal_normal(location_index=2400, bit_i=i, parameter_name=\"scale\", num_samples=10))"
   ]
  },
  {
   "cell_type": "code",
   "execution_count": null,
   "id": "3b26896a",
   "metadata": {},
   "outputs": [],
   "source": [
    "plt.figure(figsize=(10, 5))\n",
    "plt.plot(range(0, 32), results_scale, marker='o', label='conv1 1st weight')\n",
    "plt.plot(range(0, 32), results4_scale, marker='o', label='conv1 1st bias')\n",
    "plt.plot(range(0, 32), results3_scale, marker='o', label='fc1 1st weight')\n",
    "plt.plot(range(0, 32), results2_scale, marker='o', label='fc1 1st bias')\n",
    "\n",
    "\n",
    "plt.title('SEU Impact on Scale Parameter')\n",
    "plt.xlabel('Bit Position')\n",
    "plt.ylabel('Change in Accuracy')\n",
    "plt.grid()\n",
    "plt.legend()\n",
    "plt.show()"
   ]
  },
  {
   "cell_type": "code",
   "execution_count": null,
   "id": "1cf25c49",
   "metadata": {},
   "outputs": [],
   "source": []
  }
 ],
 "metadata": {
  "kernelspec": {
   "display_name": "bnntest",
   "language": "python",
   "name": "python3"
  },
  "language_info": {
   "codemirror_mode": {
    "name": "ipython",
    "version": 3
   },
   "file_extension": ".py",
   "mimetype": "text/x-python",
   "name": "python",
   "nbconvert_exporter": "python",
   "pygments_lexer": "ipython3",
   "version": "3.12.9"
  }
 },
 "nbformat": 4,
 "nbformat_minor": 5
}
