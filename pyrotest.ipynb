{
 "cells": [
  {
   "cell_type": "code",
   "execution_count": 23,
   "id": "32552ef2",
   "metadata": {},
   "outputs": [],
   "source": [
    "import torch\n",
    "import torch.nn as nn\n",
    "import torch.nn.functional as F\n",
    "import pyro\n",
    "import pyro.distributions as dist\n",
    "from pyro.nn import PyroModule, PyroSample\n",
    "import sklearn.metrics as metrics\n",
    "\n",
    "import torchvision.datasets as datasets\n",
    "import torchvision.transforms as transforms\n",
    "from torch.utils.data import DataLoader, random_split\n",
    "from torch.utils.data import Subset\n",
    "import pickle"
   ]
  },
  {
   "cell_type": "code",
   "execution_count": 24,
   "id": "f4aa505d",
   "metadata": {},
   "outputs": [],
   "source": [
    "class BayesianCNNold(PyroModule):\n",
    "    def __init__(self):\n",
    "        super().__init__()\n",
    "\n",
    "        # Bayesian Conv2d layer 1\n",
    "        self.conv1 = PyroModule[nn.Conv2d](3, 32, kernel_size=5, stride=1, padding=2)\n",
    "        self.conv1.weight = PyroSample(dist.Normal(0., 1.).expand([32, 3, 5, 5]).to_event(4))\n",
    "        self.conv1.bias = PyroSample(dist.Normal(0., 1.).expand([32]).to_event(1))\n",
    "\n",
    "        # Bayesian Conv2d layer 2\n",
    "        self.conv2 = PyroModule[nn.Conv2d](32, 64, kernel_size=5, stride=1, padding=2)\n",
    "        self.conv2.weight = PyroSample(dist.Normal(0., 1.).expand([64, 32, 5, 5]).to_event(4))\n",
    "        self.conv2.bias = PyroSample(dist.Normal(0., 1.).expand([64]).to_event(1))\n",
    "\n",
    "        self.pool = nn.MaxPool2d(kernel_size=2, stride=2)\n",
    "\n",
    "        # Fully connected layer 1\n",
    "        self.fc1 = PyroModule[nn.Linear](64 * 16 * 16, 128)\n",
    "        self.fc1.weight = PyroSample(dist.Normal(0., 1.).expand([128, 64 * 16 * 16]).to_event(2))\n",
    "        self.fc1.bias = PyroSample(dist.Normal(0., 1.).expand([128]).to_event(1))\n",
    "\n",
    "        # Fully connected layer 2 (classifier)\n",
    "        self.fc2 = PyroModule[nn.Linear](128, 10)\n",
    "        self.fc2.weight = PyroSample(dist.Normal(0., 1.).expand([10, 128]).to_event(2))\n",
    "        self.fc2.bias = PyroSample(dist.Normal(0., 1.).expand([10]).to_event(1))\n",
    "\n",
    "    def forward(self, x, y=None):\n",
    "        x = self.pool(F.relu(self.conv1(x)))   # -> (B, 32, 32, 32)\n",
    "        x = self.pool(F.relu(self.conv2(x)))   # -> (B, 64, 16, 16)\n",
    "        x = x.view(x.size(0), -1)\n",
    "        x = F.relu(self.fc1(x))\n",
    "        logits = self.fc2(x)\n",
    "\n",
    "        with pyro.plate(\"data\", x.size(0)):\n",
    "            obs = pyro.sample(\"obs\", dist.Categorical(logits=logits), obs=y)\n",
    "        return logits\n"
   ]
  },
  {
   "cell_type": "code",
   "execution_count": 25,
   "id": "e9f1f335",
   "metadata": {},
   "outputs": [],
   "source": [
    "class BayesianCNNoldtoo(PyroModule):\n",
    "    def __init__(self):\n",
    "        super().__init__()\n",
    "\n",
    "        # Bayesian Conv2d layer 1\n",
    "        self.conv1 = PyroModule[nn.Conv2d](3, 32, kernel_size=5, stride=1, padding=2)\n",
    "        self.conv1.weight = PyroSample(dist.Normal(0., 1.).expand([32, 3, 5, 5]).to_event(4))\n",
    "        self.conv1.bias = PyroSample(dist.Normal(0., 1.).expand([32]).to_event(1))\n",
    "\n",
    "        # Bayesian Conv2d layer 2\n",
    "        self.conv2 = PyroModule[nn.Conv2d](32, 64, kernel_size=5, stride=1, padding=2)\n",
    "        self.conv2.weight = PyroSample(dist.Normal(0., 1.).expand([64, 32, 5, 5]).to_event(4))\n",
    "        self.conv2.bias = PyroSample(dist.Normal(0., 1.).expand([64]).to_event(1))\n",
    "\n",
    "        self.pool = nn.MaxPool2d(kernel_size=2, stride=2)\n",
    "\n",
    "        # Fully connected layer 1\n",
    "        self.fc1 = PyroModule[nn.Linear](64 * 16 * 16, 128)\n",
    "        self.fc1.weight = PyroSample(dist.Normal(0., 1.).expand([128, 64 * 16 * 16]).to_event(2))\n",
    "        self.fc1.bias = PyroSample(dist.Normal(0., 1.).expand([128]).to_event(1))\n",
    "\n",
    "        # Fully connected layer 2 (classifier)\n",
    "        self.fc2 = PyroModule[nn.Linear](128, 10)\n",
    "        self.fc2.weight = PyroSample(dist.Normal(0., 1.).expand([10, 128]).to_event(2))\n",
    "        self.fc2.bias = PyroSample(dist.Normal(0., 1.).expand([10]).to_event(1))\n",
    "\n",
    "    def forward(self, x, y=None):\n",
    "        x = self.pool(F.relu(self.conv1(x)))   # -> (B, 32, 32, 32)\n",
    "        x = self.pool(F.relu(self.conv2(x)))   # -> (B, 64, 16, 16)\n",
    "        x = x.view(x.size(0), -1)\n",
    "        x = F.relu(self.fc1(x))\n",
    "        logits = self.fc2(x)\n",
    "\n",
    "        if y is not None:\n",
    "            # During training: observe the labels\n",
    "            with pyro.plate(\"data\", x.size(0)):\n",
    "                pyro.sample(\"obs\", dist.Categorical(logits=logits), obs=y)\n",
    "        # Always return logits (training or inference)\n",
    "        return logits\n"
   ]
  },
  {
   "cell_type": "code",
   "execution_count": 26,
   "id": "3bd55719",
   "metadata": {},
   "outputs": [],
   "source": [
    "class BayesianCNN(PyroModule):\n",
    "    def __init__(self):\n",
    "        super().__init__()\n",
    "\n",
    "        # Bayesian Conv2d layer 1\n",
    "        self.conv1 = PyroModule[nn.Conv2d](3, 32, kernel_size=5, stride=1, padding=2)\n",
    "        self.conv1.weight = PyroSample(dist.Normal(0., 1.).expand([32, 3, 5, 5]).to_event(4))\n",
    "        self.conv1.bias = PyroSample(dist.Normal(0., 1.).expand([32]).to_event(1))\n",
    "\n",
    "        # Bayesian Conv2d layer 2\n",
    "        self.conv2 = PyroModule[nn.Conv2d](32, 64, kernel_size=5, stride=1, padding=2)\n",
    "        self.conv2.weight = PyroSample(dist.Normal(0., 1.).expand([64, 32, 5, 5]).to_event(4))\n",
    "        self.conv2.bias = PyroSample(dist.Normal(0., 1.).expand([64]).to_event(1))\n",
    "\n",
    "        self.pool = nn.MaxPool2d(kernel_size=2, stride=2)\n",
    "\n",
    "        # Fully connected layer (output layer)\n",
    "        self.fc1 = PyroModule[nn.Linear](64 * 16 * 16, 10)\n",
    "        self.fc1.weight = PyroSample(dist.Normal(0., 1.).expand([10, 64 * 16 * 16]).to_event(2))\n",
    "        self.fc1.bias = PyroSample(dist.Normal(0., 1.).expand([10]).to_event(1))\n",
    "\n",
    "    def forward(self, x, y=None):\n",
    "        x = self.pool(F.relu(self.conv1(x)))   # -> (B, 32, 32, 32)\n",
    "        x = self.pool(F.relu(self.conv2(x)))   # -> (B, 64, 16, 16)\n",
    "        x = x.view(x.size(0), -1)\n",
    "        logits = self.fc1(x)  # No intermediate layer\n",
    "\n",
    "        if y is not None:\n",
    "            with pyro.plate(\"data\", x.size(0)):\n",
    "                pyro.sample(\"obs\", dist.Categorical(logits=logits), obs=y)\n",
    "        return logits"
   ]
  },
  {
   "cell_type": "code",
   "execution_count": 27,
   "id": "172cb7d7",
   "metadata": {},
   "outputs": [],
   "source": [
    "class BayesianCNN5(PyroModule):\n",
    "    def __init__(self):\n",
    "        super().__init__()\n",
    "\n",
    "        # Bayesian Conv2d layer 1\n",
    "        self.conv1 = PyroModule[nn.Conv2d](3, 32, kernel_size=5, stride=1, padding=2)\n",
    "        self.conv1.weight = PyroSample(dist.Normal(0., 5.).expand([32, 3, 5, 5]).to_event(4))\n",
    "        self.conv1.bias = PyroSample(dist.Normal(0., 5.).expand([32]).to_event(1))\n",
    "\n",
    "        # Bayesian Conv2d layer 2\n",
    "        self.conv2 = PyroModule[nn.Conv2d](32, 64, kernel_size=5, stride=1, padding=2)\n",
    "        self.conv2.weight = PyroSample(dist.Normal(0., 5.).expand([64, 32, 5, 5]).to_event(4))\n",
    "        self.conv2.bias = PyroSample(dist.Normal(0., 5.).expand([64]).to_event(1))\n",
    "\n",
    "        self.pool = nn.MaxPool2d(kernel_size=2, stride=2)\n",
    "\n",
    "        # Fully connected layer (output layer)\n",
    "        self.fc1 = PyroModule[nn.Linear](64 * 16 * 16, 10)\n",
    "        self.fc1.weight = PyroSample(dist.Normal(0., 5.).expand([10, 64 * 16 * 16]).to_event(2))\n",
    "        self.fc1.bias = PyroSample(dist.Normal(0., 5.).expand([10]).to_event(1))\n",
    "\n",
    "    def forward(self, x, y=None):\n",
    "        x = self.pool(F.relu(self.conv1(x)))   # -> (B, 32, 32, 32)\n",
    "        x = self.pool(F.relu(self.conv2(x)))   # -> (B, 64, 16, 16)\n",
    "        x = x.view(x.size(0), -1)\n",
    "        logits = self.fc1(x)  # No intermediate layer\n",
    "\n",
    "        if y is not None:\n",
    "            with pyro.plate(\"data\", x.size(0)):\n",
    "                pyro.sample(\"obs\", dist.Categorical(logits=logits), obs=y)\n",
    "        return logits"
   ]
  },
  {
   "cell_type": "code",
   "execution_count": 28,
   "id": "377785ad",
   "metadata": {},
   "outputs": [],
   "source": [
    "class BayesianCNN10(PyroModule):\n",
    "    def __init__(self):\n",
    "        super().__init__()\n",
    "\n",
    "        # Bayesian Conv2d layer 1\n",
    "        self.conv1 = PyroModule[nn.Conv2d](3, 32, kernel_size=5, stride=1, padding=2)\n",
    "        self.conv1.weight = PyroSample(dist.Normal(0., 10.).expand([32, 3, 5, 5]).to_event(4))\n",
    "        self.conv1.bias = PyroSample(dist.Normal(0., 10.).expand([32]).to_event(1))\n",
    "\n",
    "        # Bayesian Conv2d layer 2\n",
    "        self.conv2 = PyroModule[nn.Conv2d](32, 64, kernel_size=5, stride=1, padding=2)\n",
    "        self.conv2.weight = PyroSample(dist.Normal(0., 10.).expand([64, 32, 5, 5]).to_event(4))\n",
    "        self.conv2.bias = PyroSample(dist.Normal(0., 10.).expand([64]).to_event(1))\n",
    "\n",
    "        self.pool = nn.MaxPool2d(kernel_size=2, stride=2)\n",
    "\n",
    "        # Fully connected layer (output layer)\n",
    "        self.fc1 = PyroModule[nn.Linear](64 * 16 * 16, 10)\n",
    "        self.fc1.weight = PyroSample(dist.Normal(0., 10.).expand([10, 64 * 16 * 16]).to_event(2))\n",
    "        self.fc1.bias = PyroSample(dist.Normal(0., 10.).expand([10]).to_event(1))\n",
    "\n",
    "    def forward(self, x, y=None):\n",
    "        x = self.pool(F.relu(self.conv1(x)))   # -> (B, 32, 32, 32)\n",
    "        x = self.pool(F.relu(self.conv2(x)))   # -> (B, 64, 16, 16)\n",
    "        x = x.view(x.size(0), -1)\n",
    "        logits = self.fc1(x)  # No intermediate layer\n",
    "\n",
    "        if y is not None:\n",
    "            with pyro.plate(\"data\", x.size(0)):\n",
    "                pyro.sample(\"obs\", dist.Categorical(logits=logits), obs=y)\n",
    "        return logits"
   ]
  },
  {
   "cell_type": "code",
   "execution_count": 29,
   "id": "4d1b0399",
   "metadata": {},
   "outputs": [],
   "source": [
    "def load_data(batch_size=54):\n",
    "    transform = transforms.Compose([\n",
    "        transforms.Resize((64, 64)),\n",
    "        transforms.ToTensor(),\n",
    "        transforms.Normalize(mean=[0.3444, 0.3809, 0.4082], std=[0.1809, 0.1331, 0.1137])\n",
    "    ])\n",
    "\n",
    "    dataset = datasets.EuroSAT(root='./data', transform=transform, download=True)\n",
    "\n",
    "\n",
    "    train_size = int(0.8 * len(dataset))\n",
    "    test_size = len(dataset) - train_size\n",
    "    train_dataset, test_dataset = random_split(dataset, [train_size, test_size])\n",
    "\n",
    "    #with open('datasplit/split_indices.pkl', 'rb') as f:\n",
    "    #    split = pickle.load(f)\n",
    "    #    train_dataset = Subset(dataset, split['train'])\n",
    "    #    test_dataset = Subset(dataset, split['test'])\n",
    "\n",
    "    train_loader = DataLoader(train_dataset, batch_size=batch_size, shuffle=True)\n",
    "    test_loader = DataLoader(test_dataset, batch_size=batch_size)\n",
    "    return train_loader, test_loader"
   ]
  },
  {
   "cell_type": "code",
   "execution_count": 30,
   "id": "cd831179",
   "metadata": {},
   "outputs": [],
   "source": [
    "class BayesianCNN5_2FC(PyroModule):\n",
    "    def __init__(self):\n",
    "        super().__init__()\n",
    "\n",
    "        # Bayesian Conv2d layer 1\n",
    "        self.conv1 = PyroModule[nn.Conv2d](3, 32, kernel_size=5, stride=1, padding=2)\n",
    "        self.conv1.weight = PyroSample(dist.Normal(0., 5.).expand([32, 3, 5, 5]).to_event(4))\n",
    "        self.conv1.bias = PyroSample(dist.Normal(0., 5.).expand([32]).to_event(1))\n",
    "\n",
    "        # Bayesian Conv2d layer 2\n",
    "        self.conv2 = PyroModule[nn.Conv2d](32, 64, kernel_size=5, stride=1, padding=2)\n",
    "        self.conv2.weight = PyroSample(dist.Normal(0., 5.).expand([64, 32, 5, 5]).to_event(4))\n",
    "        self.conv2.bias = PyroSample(dist.Normal(0., 5.).expand([64]).to_event(1))\n",
    "\n",
    "        self.pool = nn.MaxPool2d(kernel_size=2, stride=2)\n",
    "\n",
    "        # Fully connected layer 1\n",
    "        self.fc1 = PyroModule[nn.Linear](64 * 16 * 16, 128)\n",
    "        self.fc1.weight = PyroSample(dist.Normal(0., 5.).expand([128, 64 * 16 * 16]).to_event(2))\n",
    "        self.fc1.bias = PyroSample(dist.Normal(0., 5.).expand([128]).to_event(1))\n",
    "\n",
    "        # Fully connected layer 2 (classifier)\n",
    "        self.fc2 = PyroModule[nn.Linear](128, 10)\n",
    "        self.fc2.weight = PyroSample(dist.Normal(0., 5.).expand([10, 128]).to_event(2))\n",
    "        self.fc2.bias = PyroSample(dist.Normal(0., 5.).expand([10]).to_event(1))\n",
    "\n",
    "    def forward(self, x, y=None):\n",
    "        x = self.pool(F.relu(self.conv1(x)))   # -> (B, 32, 32, 32)\n",
    "        x = self.pool(F.relu(self.conv2(x)))   # -> (B, 64, 16, 16)\n",
    "        x = x.view(x.size(0), -1)\n",
    "        x = F.relu(self.fc1(x))\n",
    "        logits = self.fc2(x)\n",
    "\n",
    "        with pyro.plate(\"data\", x.size(0)):\n",
    "            obs = pyro.sample(\"obs\", dist.Categorical(logits=logits), obs=y)\n",
    "        return logits\n"
   ]
  },
  {
   "cell_type": "code",
   "execution_count": 31,
   "id": "1f1f0c9f",
   "metadata": {},
   "outputs": [],
   "source": [
    "import torch\n",
    "import torch.nn as nn\n",
    "import torch.nn.functional as F\n",
    "\n",
    "class Deterministic_CNN_2FC(nn.Module):\n",
    "    def __init__(self):\n",
    "        super().__init__()\n",
    "\n",
    "        # Deterministic Conv2d layer 1\n",
    "        self.conv1 = nn.Conv2d(3, 32, kernel_size=5, stride=1, padding=2)\n",
    "\n",
    "        # Deterministic Conv2d layer 2\n",
    "        self.conv2 = nn.Conv2d(32, 64, kernel_size=5, stride=1, padding=2)\n",
    "\n",
    "        self.pool = nn.MaxPool2d(kernel_size=2, stride=2)\n",
    "\n",
    "        # Fully connected layer 1\n",
    "        self.fc1 = nn.Linear(64 * 16 * 16, 128)\n",
    "\n",
    "        # Fully connected layer 2 (classifier)\n",
    "        self.fc2 = nn.Linear(128, 10)\n",
    "\n",
    "    def forward(self, x):\n",
    "        x = self.pool(F.relu(self.conv1(x)))   # -> (B, 32, 32, 32)\n",
    "        x = self.pool(F.relu(self.conv2(x)))   # -> (B, 64, 16, 16)\n",
    "        x = x.view(x.size(0), -1)\n",
    "        x = F.relu(self.fc1(x))\n",
    "        logits = self.fc2(x)\n",
    "        return logits"
   ]
  },
  {
   "cell_type": "code",
   "execution_count": 32,
   "id": "970badf8",
   "metadata": {},
   "outputs": [],
   "source": [
    "## \n"
   ]
  },
  {
   "cell_type": "markdown",
   "id": "60297229",
   "metadata": {},
   "source": [
    "## Initiate the Weight from the trained CNN"
   ]
  },
  {
   "cell_type": "code",
   "execution_count": 33,
   "id": "15f08076",
   "metadata": {},
   "outputs": [],
   "source": [
    "import torch\n",
    "import pyro\n",
    "import pyro.distributions as dist\n",
    "from pyro.nn import PyroSample, PyroParam\n",
    "\n",
    "def initialize_pyro_from_cnn_OLD(pyro_model, cnn_model, init_std=0.1):\n",
    "    for pyro_name, pyro_module in pyro_model.named_modules():\n",
    "        if isinstance(pyro_module, PyroModule[nn.Linear]) or isinstance(pyro_module, PyroModule[nn.Conv2d]):\n",
    "            # Get the matching deterministic module\n",
    "            try:\n",
    "                cnn_module = dict(cnn_model.named_modules())[pyro_name]\n",
    "            except KeyError:\n",
    "                continue\n",
    "\n",
    "            # Replace priors with posterior parameters (variational)\n",
    "            weight = cnn_module.weight.data\n",
    "            bias = cnn_module.bias.data\n",
    "\n",
    "            # Register variational parameters manually\n",
    "            pyro_module.weight = PyroSample(dist.Normal(\n",
    "                PyroParam(weight.clone(), constraint=dist.constraints.real),\n",
    "                PyroParam(torch.full_like(weight, init_std), constraint=dist.constraints.positive)\n",
    "            ).to_event(weight.dim()))\n",
    "\n",
    "            pyro_module.bias = PyroSample(dist.Normal(\n",
    "                PyroParam(bias.clone(), constraint=dist.constraints.real),\n",
    "                PyroParam(torch.full_like(bias, init_std), constraint=dist.constraints.positive)\n",
    "            ).to_event(1))"
   ]
  },
  {
   "cell_type": "code",
   "execution_count": 34,
   "id": "e7128219",
   "metadata": {},
   "outputs": [],
   "source": [
    "def initialize_pyro_from_cnn(guide, pyro_model, cnn_model, init_std=0.1):\n",
    "    from pyro.nn import pyro_method  # Needed for guide structure\n",
    "\n",
    "    # Extract parameter tensors from the guide\n",
    "    guide_params = dict(guide.named_parameters())\n",
    "\n",
    "    for (name, pyro_module), (_, cnn_module) in zip(pyro_model.named_modules(), cnn_model.named_modules()):\n",
    "        if isinstance(pyro_module, (PyroModule[nn.Conv2d], PyroModule[nn.Linear])):\n",
    "            for param_type in ['weight', 'bias']:\n",
    "                cnn_param = getattr(cnn_module, param_type, None)\n",
    "                if cnn_param is None:\n",
    "                    continue\n",
    "\n",
    "                pyro_param_name_loc = f\"{name}.{param_type}_loc\"\n",
    "                pyro_param_name_scale = f\"{name}.{param_type}_scale\"\n",
    "\n",
    "                if pyro_param_name_loc in guide_params:\n",
    "                    with torch.no_grad():\n",
    "                        guide_params[pyro_param_name_loc].copy_(cnn_param.data)\n",
    "                        guide_params[pyro_param_name_scale].fill_(init_std)\n"
   ]
  },
  {
   "cell_type": "code",
   "execution_count": 35,
   "id": "c646c90f",
   "metadata": {},
   "outputs": [],
   "source": [
    "from pyro.infer import SVI, Trace_ELBO\n",
    "from pyro.infer.autoguide import AutoDiagonalNormal, AutoGaussian\n",
    "from tqdm.auto import trange\n",
    "pyro.clear_param_store()"
   ]
  },
  {
   "cell_type": "code",
   "execution_count": 36,
   "id": "db96a44e",
   "metadata": {},
   "outputs": [],
   "source": [
    "#model = BayesianCNN5_2FC()  # \n",
    "model = BayesianCNN10() # 1 FC ==> 39.26%\n",
    "#model = BayesianCNN5() # 1 FC ==> 46.57%\n",
    "#model = BayesianCNN() # 1 FC ==> 34.7%\n",
    "#model = BayesianCNNoldtoo() # 2 FC ==> 11.23%\n",
    "\n",
    "#SCRIPT : gaussian 26.47%\n",
    "#SCRIPT: laplace 23.20%\n",
    "\n",
    "# Set Pyro random seed\n",
    "pyro.set_rng_seed(42)"
   ]
  },
  {
   "cell_type": "code",
   "execution_count": 37,
   "id": "efb0db0d",
   "metadata": {},
   "outputs": [],
   "source": [
    "INITIATE_GUIDE = True\n",
    "\n",
    "if INITIATE_GUIDE:\n",
    "\n",
    "    deterministic_model = Deterministic_CNN_2FC()\n",
    "    deterministic_model.load_state_dict(torch.load(\"results_eurosat/cnn_model.pth\", map_location=\"cpu\"))\n",
    "\n",
    "    mean_field_guide = AutoDiagonalNormal(model)\n",
    "    initialize_pyro_from_cnn(mean_field_guide,model, deterministic_model, init_std=1)\n",
    "\n",
    "else:\n",
    "\n",
    "    mean_field_guide = AutoDiagonalNormal(model)"
   ]
  },
  {
   "cell_type": "code",
   "execution_count": 38,
   "id": "e100ae5a",
   "metadata": {},
   "outputs": [],
   "source": [
    "train_loader, test_loader = load_data()"
   ]
  },
  {
   "cell_type": "code",
   "execution_count": null,
   "id": "8bd5676e",
   "metadata": {},
   "outputs": [],
   "source": []
  },
  {
   "cell_type": "code",
   "execution_count": 39,
   "id": "2fe5edec",
   "metadata": {},
   "outputs": [],
   "source": [
    "# show one sample of train data in matplotlib\n",
    "import matplotlib.pyplot as plt\n",
    "def show_sample(loader):\n",
    "    data_iter = iter(loader)\n",
    "    images, labels = next(data_iter)\n",
    "    images = images.permute(0, 2, 3, 1).numpy() * 0.1137 + 0.4082  # Convert to (B, H, W, C)\n",
    "    plt.figure(figsize=(10, 10))\n",
    "    for i in range(min(9, len(images))):\n",
    "        plt.subplot(3, 3, i + 1)\n",
    "        plt.imshow(images[i])\n",
    "        plt.title(f'Label: {labels[i].item()}')\n",
    "        plt.axis('off')\n",
    "    plt.show()"
   ]
  },
  {
   "cell_type": "code",
   "execution_count": 40,
   "id": "c00c216b",
   "metadata": {},
   "outputs": [
    {
     "data": {
      "image/png": "[encoded data removed]",
      "text/plain": [
       "<Figure size 1000x1000 with 9 Axes>"
      ]
     },
     "metadata": {},
     "output_type": "display_data"
    }
   ],
   "source": [
    "show_sample(train_loader)"
   ]
  },
  {
   "cell_type": "code",
   "execution_count": 41,
   "id": "2b352912",
   "metadata": {},
   "outputs": [
    {
     "name": "stderr",
     "output_type": "stream",
     "text": [
      "  0%|          | 0/10 [00:00<?, ?it/s]"
     ]
    }
   ],
   "source": [
    "#mean_field_guide = AutoDiagonalNormal(model)\n",
    "#mean_field_guide = AutoGaussian(model)\n",
    "optimizer = pyro.optim.Adam({\"lr\": 1e-4}) #initially 1e-2\n",
    "\n",
    "svi = SVI(model, mean_field_guide, optimizer, loss=Trace_ELBO())\n",
    "pyro.clear_param_store()\n",
    "\n",
    "num_epochs = 10\n",
    "progress_bar = trange(num_epochs)\n",
    "\n",
    "#full_batch = next(iter(train_loader))\n",
    "#x_train, y_train = full_batch"
   ]
  },
  {
   "cell_type": "code",
   "execution_count": 42,
   "id": "8f5151e7",
   "metadata": {},
   "outputs": [],
   "source": [
    "#for epoch in progress_bar:\n",
    "#    loss = svi.step(x_train, y_train)\n",
    "#    progress_bar.set_postfix(loss=f\"{loss / x_train.shape[0]:.3f}\")"
   ]
  },
  {
   "cell_type": "code",
   "execution_count": 43,
   "id": "ffcd3933",
   "metadata": {},
   "outputs": [],
   "source": [
    "#for x_train, y_train in train_loader:\n",
    "#    print(\"test\")"
   ]
  },
  {
   "cell_type": "code",
   "execution_count": 44,
   "id": "832a27ed",
   "metadata": {},
   "outputs": [],
   "source": [
    "#diemdah"
   ]
  },
  {
   "cell_type": "code",
   "execution_count": 45,
   "id": "1f0ded8b",
   "metadata": {},
   "outputs": [
    {
     "name": "stderr",
     "output_type": "stream",
     "text": [
      "100%|██████████| 10/10 [11:47<00:00, 70.77s/it, accuracy=0.093, loss=176880.192]\n"
     ]
    }
   ],
   "source": [
    "epoch_loss_list = []\n",
    "epoch_train_accuracy_list = []\n",
    "\n",
    "for epoch in progress_bar:\n",
    "    epoch_loss = 0\n",
    "    for x_train, y_train in train_loader:\n",
    "        loss = svi.step(x_train, y_train)\n",
    "        epoch_loss += loss\n",
    "    #progress_bar.set_postfix(loss=f\"{epoch_loss / len(train_loader.dataset):.3f}\")\n",
    "    # show train accuracy, not test accuracy\n",
    "    with torch.no_grad():\n",
    "        correct = 0\n",
    "        total = 0\n",
    "        #for x_test, y_test in test_loader:\n",
    "        logits = model(x_train)\n",
    "        _, predicted = torch.max(logits, 1)\n",
    "        total += y_train.size(0)\n",
    "        correct += (predicted == y_train).sum().item()\n",
    "        accuracy = correct / total\n",
    "        progress_bar.set_postfix(loss=f\"{epoch_loss / len(train_loader.dataset):.3f}\", accuracy=f\"{accuracy:.3f}\")\n",
    "\n",
    "    # save the loss and accuracy for each epoch in the list\n",
    "    epoch_loss_list.append(epoch_loss / len(train_loader.dataset))\n",
    "    epoch_train_accuracy_list.append(accuracy)\n",
    "\n",
    "# save the model\n",
    "torch.save(model.state_dict(), 'pyro_result/bayesian_cnn_10.pth')"
   ]
  },
  {
   "cell_type": "code",
   "execution_count": 46,
   "id": "46188905",
   "metadata": {},
   "outputs": [],
   "source": [
    "#torch.save(mean_field_guide.state_dict(), 'pyro_result/mean_field_guide.pth')"
   ]
  },
  {
   "cell_type": "code",
   "execution_count": 47,
   "id": "18cebc41",
   "metadata": {},
   "outputs": [
    {
     "data": {
      "image/png": "[encoded data removed]",
      "text/plain": [
       "<Figure size 1200x500 with 2 Axes>"
      ]
     },
     "metadata": {},
     "output_type": "display_data"
    }
   ],
   "source": [
    "# plot the loss and accuracy\n",
    "import matplotlib.pyplot as plt\n",
    "plt.figure(figsize=(12, 5))\n",
    "plt.subplot(1, 2, 1)\n",
    "plt.plot(epoch_loss_list, label='Loss')\n",
    "plt.xlabel('Epoch')\n",
    "plt.ylabel('Loss')\n",
    "plt.title('Training Loss')\n",
    "plt.subplot(1, 2, 2)\n",
    "plt.plot(epoch_train_accuracy_list, label='Train Accuracy', color='orange')\n",
    "plt.xlabel('Epoch')\n",
    "plt.ylabel('Accuracy')\n",
    "plt.title('Training Accuracy')\n",
    "plt.legend()\n",
    "plt.tight_layout()\n",
    "#plt.savefig('pyro_result/bayesian_cnn_training.png')\n",
    "plt.show()"
   ]
  },
  {
   "cell_type": "markdown",
   "id": "b6fadfbc",
   "metadata": {},
   "source": []
  },
  {
   "cell_type": "code",
   "execution_count": 48,
   "id": "8e790970",
   "metadata": {},
   "outputs": [],
   "source": [
    "from pyro.infer import Predictive"
   ]
  },
  {
   "cell_type": "code",
   "execution_count": 49,
   "id": "8fc523e8",
   "metadata": {},
   "outputs": [],
   "source": [
    "#train_loader, test_loader = load_data()\n",
    "#x_test, y_test = next(iter(test_loader))\n",
    "\n",
    "#predictive = Predictive(model, guide=mean_field_guide, num_samples=10)\n",
    "#preds = predictive(x_test)"
   ]
  },
  {
   "cell_type": "code",
   "execution_count": 50,
   "id": "bf40e444",
   "metadata": {},
   "outputs": [],
   "source": [
    "from tqdm import tqdm"
   ]
  },
  {
   "cell_type": "code",
   "execution_count": 51,
   "id": "f7fce37e",
   "metadata": {},
   "outputs": [],
   "source": [
    "#train_loader, test_loader = load_data()\n",
    "#x_test, y_test = next(iter(test_loader))\n",
    "#predictive = Predictive(model, guide=mean_field_guide, num_samples=10)\n",
    "\n",
    "#all_preds = []\n",
    "#all_labels = []\n",
    "\n",
    "#for x_batch, y_batch in tqdm(test_loader):\n",
    "#    batch_preds = predictive(x_batch)[\"obs\"]  # shape: (num_samples, batch_size, ...)\n",
    "#    mean_preds = batch_preds.float().mean(dim=0).values      # shape: (batch_size, ...)\n",
    "#    all_preds.append(mean_preds)\n",
    "#    all_labels.append(y_batch)\n",
    "\n",
    "# Concatenate along the batch dimension\n",
    "#all_preds = torch.cat(all_preds, dim=0)   # shape: (total_test_samples, ...)\n",
    "#all_labels = torch.cat(all_labels, dim=0) # shape: (total_test_samples, ...)"
   ]
  },
  {
   "cell_type": "code",
   "execution_count": 52,
   "id": "c23f6864",
   "metadata": {},
   "outputs": [
    {
     "name": "stderr",
     "output_type": "stream",
     "text": [
      "100%|██████████| 100/100 [00:39<00:00,  2.53it/s]\n"
     ]
    }
   ],
   "source": [
    "train_loader, test_loader = load_data()\n",
    "#x_test, y_test = next(iter(test_loader))\n",
    "predictive = Predictive(model, guide=mean_field_guide, num_samples=5, return_sites=[\"_RETURN\"])\n",
    "\n",
    "all_preds = []\n",
    "all_labels = []\n",
    "\n",
    "for x_batch, y_batch in tqdm(test_loader):\n",
    "    batch_preds = predictive(x_batch)[\"_RETURN\"]  # shape: (num_samples, batch_size, ...)\n",
    "    batch_preds = torch.softmax(batch_preds, dim=-1)\n",
    "    mean_preds = batch_preds.float().mean(dim=0).squeeze()  # shape: (batch_size, num_classes)\n",
    "    mean_preds = mean_preds.argmax(dim=1)  # shape: (batch_size,)\n",
    "    all_preds.append(mean_preds)\n",
    "    all_labels.append(y_batch)\n",
    "\n",
    "# Concatenate along the batch dimension\n",
    "all_preds = torch.cat(all_preds, dim=0)   # shape: (total_test_samples, ...)\n",
    "all_labels = torch.cat(all_labels, dim=0) # shape: (total_test_samples, ...)"
   ]
  },
  {
   "cell_type": "code",
   "execution_count": 53,
   "id": "77d9de9d",
   "metadata": {},
   "outputs": [],
   "source": [
    "#batch_preds[0].sum(dim=1)  # shape: (batch_size, num_classes)"
   ]
  },
  {
   "cell_type": "code",
   "execution_count": 54,
   "id": "ca3fb368",
   "metadata": {},
   "outputs": [],
   "source": [
    "#predictive(x_batch)[\"_RETURN\"].float().mean(dim=0)"
   ]
  },
  {
   "cell_type": "code",
   "execution_count": 55,
   "id": "ec948531",
   "metadata": {},
   "outputs": [],
   "source": [
    "#predictive(x_batch)[\"_RETURN\"].float().mean(dim=0).squeeze().argmax(dim=1)"
   ]
  },
  {
   "cell_type": "code",
   "execution_count": 56,
   "id": "9954aa2d",
   "metadata": {},
   "outputs": [],
   "source": [
    "import sklearn.metrics as metrics"
   ]
  },
  {
   "cell_type": "code",
   "execution_count": 60,
   "id": "f3efcef3",
   "metadata": {},
   "outputs": [
    {
     "name": "stdout",
     "output_type": "stream",
     "text": [
      "Test Accuracy: 0.3528\n"
     ]
    }
   ],
   "source": [
    "\n",
    "# Calculate accuracy  \n",
    "accuracy = metrics.accuracy_score(all_labels.numpy(), all_preds.numpy())\n",
    "print(f\"Test Accuracy: {accuracy:.4f}\")"
   ]
  },
  {
   "cell_type": "code",
   "execution_count": 58,
   "id": "4b55cfbc",
   "metadata": {},
   "outputs": [
    {
     "ename": "NameError",
     "evalue": "name 'mendingludiemdeh' is not defined",
     "output_type": "error",
     "traceback": [
      "\u001b[31m---------------------------------------------------------------------------\u001b[39m",
      "\u001b[31mNameError\u001b[39m                                 Traceback (most recent call last)",
      "\u001b[36mCell\u001b[39m\u001b[36m \u001b[39m\u001b[32mIn[58]\u001b[39m\u001b[32m, line 1\u001b[39m\n\u001b[32m----> \u001b[39m\u001b[32m1\u001b[39m \u001b[43mmendingludiemdeh\u001b[49m\n",
      "\u001b[31mNameError\u001b[39m: name 'mendingludiemdeh' is not defined"
     ]
    }
   ],
   "source": [
    "mendingludiemdeh"
   ]
  },
  {
   "cell_type": "code",
   "execution_count": null,
   "id": "5fba5427",
   "metadata": {},
   "outputs": [],
   "source": [
    "#torch.save({\"model\" : model.state_dict(), \"guide\" : mean_field_guide}, \"pyro_result/mymodel.pt\")\n",
    "#pyro.get_param_store().save(\"pyro_result/mymodelparams.pt\")"
   ]
  },
  {
   "cell_type": "code",
   "execution_count": null,
   "id": "12ce5725",
   "metadata": {},
   "outputs": [],
   "source": [
    "torch.save(pyro.get_param_store(), 'pyro_result/mymodelparams.pth')"
   ]
  },
  {
   "cell_type": "code",
   "execution_count": null,
   "id": "e49cca22",
   "metadata": {},
   "outputs": [],
   "source": [
    "pyro.get_param_store().save('pyro_result/mymodelparams.pth')"
   ]
  },
  {
   "cell_type": "code",
   "execution_count": null,
   "id": "805d0108",
   "metadata": {},
   "outputs": [],
   "source": [
    "pyro.get_param_store().load('pyro_result/mymodelparams.pth')"
   ]
  },
  {
   "cell_type": "code",
   "execution_count": null,
   "id": "3a20dff0",
   "metadata": {},
   "outputs": [],
   "source": [
    "# load the model and redo the inference\n",
    "model = BayesianCNN()\n",
    "model.load_state_dict(torch.load('pyro_result/bayesian_cnn_10.pth'))\n",
    "model.eval()\n",
    "\n",
    "mean_field_guide_loaded = AutoDiagonalNormal(model)\n",
    "mean_field_guide_loaded.load_state_dict(torch.load('pyro_result/mean_field_guide.pth'))\n",
    "# Re-run the inference with the loaded model\n",
    "predictive = Predictive(model, guide=mean_field_guide_loaded, num_samples=5,\n",
    "                        return_sites=[\"_RETURN\"])\n",
    "all_preds = []\n",
    "all_labels = []\n",
    "for x_batch, y_batch in tqdm(test_loader):\n",
    "    batch_preds = predictive(x_batch)[\"_RETURN\"]  # shape: (num_samples, batch_size, ...)\n",
    "    batch_preds = torch.softmax(batch_preds, dim=-1)\n",
    "    mean_preds = batch_preds.float().mean(dim=0).squeeze()  # shape: (batch_size, num_classes)\n",
    "    mean_preds = mean_preds.argmax(dim=1)  # shape: (batch_size,)\n",
    "    all_preds.append(mean_preds)\n",
    "    all_labels.append(y_batch)\n",
    "\n",
    "# Concatenate along the batch dimension\n",
    "all_preds = torch.cat(all_preds, dim=0)   # shape: (total_test_samples, ...)\n",
    "all_labels = torch.cat(all_labels, dim=0) # shape: (total_test_samples, ...)\n",
    "# Calculate accuracy\n",
    "accuracy = metrics.accuracy_score(all_labels.numpy(), all_preds.numpy())\n",
    "print(f\"Test Accuracy after loading model: {accuracy:.4f}\")"
   ]
  },
  {
   "cell_type": "code",
   "execution_count": null,
   "id": "bfb0f10c",
   "metadata": {},
   "outputs": [],
   "source": [
    "# SHOW one sample of the image with the transformation and the prediction\n",
    "\n",
    "\n",
    "import matplotlib.pyplot as plt\n",
    "import numpy as np\n",
    "def show_sample(x, y_true, y_pred):\n",
    "    #images.permute(0, 2, 3, 1).numpy() * 0.1137 + 0.4082\n",
    "    #plt.imshow(np.transpose(x.numpy(), (1, 2, 0)))\n",
    "    plt.imshow(x.permute(1, 2, 0).numpy() * 0.1137 + 0.4082)\n",
    "    plt.title(f\"True: {y_true}, Predicted: {y_pred}\")\n",
    "    plt.axis('off')\n",
    "    plt.show()\n"
   ]
  },
  {
   "cell_type": "code",
   "execution_count": null,
   "id": "34e5f870",
   "metadata": {},
   "outputs": [],
   "source": [
    "\n",
    "# Show a sample from the test set\n",
    "sample_index = 5399  # Change this to show different samples\n",
    "x_sample, y_sample = test_loader.dataset[sample_index]\n",
    "y_pred_sample = all_preds[sample_index].item()\n",
    "show_sample(x_sample, y_sample, y_pred_sample)"
   ]
  },
  {
   "cell_type": "code",
   "execution_count": null,
   "id": "20af55be",
   "metadata": {},
   "outputs": [],
   "source": [
    "# show confusion matrix\n",
    "import seaborn as sns\n",
    "confusion_matrix = metrics.confusion_matrix(all_labels.numpy(), all_preds.numpy())\n",
    "plt.figure(figsize=(10, 8))\n",
    "sns.heatmap(confusion_matrix, annot=True, fmt='d', cmap='Blues',\n",
    "            xticklabels=range(10), yticklabels=range(10))\n",
    "plt.xlabel('Predicted Label')\n",
    "plt.ylabel('True Label')\n",
    "plt.title('Confusion Matrix')\n",
    "plt.show()"
   ]
  },
  {
   "cell_type": "code",
   "execution_count": null,
   "id": "9eb782c6",
   "metadata": {},
   "outputs": [],
   "source": [
    "# show the sample category distribution in train and test set\n",
    "import pandas as pd\n",
    "def show_category_distribution(loader, title):\n",
    "    labels = []\n",
    "    for _, y in loader:\n",
    "        labels.extend(y.numpy())\n",
    "    label_counts = pd.Series(labels).value_counts().sort_index()\n",
    "    \n",
    "    plt.figure(figsize=(10, 5))\n",
    "    label_counts.plot(kind='bar')\n",
    "    plt.title(title)\n",
    "    plt.xlabel('Category')\n",
    "    plt.ylabel('Count')\n",
    "    plt.xticks(rotation=0)\n",
    "    plt.show()"
   ]
  },
  {
   "cell_type": "code",
   "execution_count": null,
   "id": "4941a7b4",
   "metadata": {},
   "outputs": [],
   "source": [
    "#show_category_distribution(train_loader, 'Train Set Category Distribution')\n",
    "#show_category_distribution(test_loader, 'Test Set Category Distribution')"
   ]
  },
  {
   "cell_type": "code",
   "execution_count": null,
   "id": "58251744",
   "metadata": {},
   "outputs": [],
   "source": [
    "train_loader, test_loader = load_data()"
   ]
  },
  {
   "cell_type": "code",
   "execution_count": null,
   "id": "67823e65",
   "metadata": {},
   "outputs": [],
   "source": [
    "from pyro.infer import Predictive\n",
    "import numpy as np\n",
    "from tqdm import tqdm\n",
    "\n",
    "num_samples = 10\n",
    "predictive = Predictive(model, guide=mean_field_guide, num_samples=num_samples, return_sites=[\"_RETURN\"])\n",
    "\n",
    "print('Prediction when network is forced to predict')\n",
    "correct = 0\n",
    "total = 0\n",
    "\n",
    "for images, labels in tqdm(test_loader):\n",
    "    # Get num_samples predictions for this batch\n",
    "    batch_preds = predictive(images)[\"_RETURN\"]  # shape: (num_samples, batch_size, num_classes)\n",
    "    batch_preds = torch.softmax(batch_preds, dim=-1)  # convert logits to probabilities\n",
    "    mean_preds = batch_preds.mean(dim=0)  # shape: (batch_size, num_classes)\n",
    "    predicted = mean_preds.argmax(dim=1).cpu().numpy()\n",
    "    total += labels.size(0)\n",
    "    correct += (predicted == labels.cpu().numpy()).sum()\n",
    "\n",
    "print(\"accuracy: %d %%\" % (100 * correct / total))"
   ]
  },
  {
   "cell_type": "code",
   "execution_count": null,
   "id": "c7d0e4a4",
   "metadata": {},
   "outputs": [],
   "source": [
    "KATAGUEDIEMDEH"
   ]
  },
  {
   "cell_type": "code",
   "execution_count": null,
   "id": "bae4187c",
   "metadata": {},
   "outputs": [],
   "source": [
    "accuracy"
   ]
  },
  {
   "cell_type": "code",
   "execution_count": null,
   "id": "7f3122f4",
   "metadata": {},
   "outputs": [],
   "source": [
    "# predictive = Predictive(model=model, posterior_samples=mcmc.get_samples())\n",
    "# Get full x_test from DataLoader\n",
    "# x_test, y_test = next(iter(test_loader))\n",
    "# preds = predictive(x_test)"
   ]
  },
  {
   "cell_type": "code",
   "execution_count": null,
   "id": "fe740ea6",
   "metadata": {},
   "outputs": [],
   "source": [
    "stopdeh"
   ]
  },
  {
   "cell_type": "code",
   "execution_count": null,
   "id": "15a345ad",
   "metadata": {},
   "outputs": [],
   "source": [
    "preds[\"obs\"].shape"
   ]
  },
  {
   "cell_type": "code",
   "execution_count": null,
   "id": "d423ac40",
   "metadata": {},
   "outputs": [],
   "source": [
    "import numpy as np"
   ]
  },
  {
   "cell_type": "code",
   "execution_count": null,
   "id": "6e9d3251",
   "metadata": {},
   "outputs": [],
   "source": [
    "all_preds = np.concatenate(preds[\"obs\"], axis=0)\n",
    "all_preds"
   ]
  },
  {
   "cell_type": "code",
   "execution_count": null,
   "id": "198acb30",
   "metadata": {},
   "outputs": [],
   "source": [
    "from pyro.infer import MCMC, NUTS\n",
    "\n",
    "model = BayesianCNN()\n",
    "\n",
    "# Set Pyro random seed\n",
    "pyro.set_rng_seed(42)\n",
    "\n",
    "# Define Hamiltonian Monte Carlo (HMC) kernel\n",
    "# NUTS = \"No-U-Turn Sampler\" (https://arxiv.org/abs/1111.4246), gives HMC an adaptive step size\n",
    "nuts_kernel = NUTS(model, jit_compile=True)  # jit_compile=True is faster but requires PyTorch 1.6+\n",
    "\n",
    "# Define MCMC sampler, get 50 posterior samples\n",
    "mcmc = MCMC(nuts_kernel, num_samples=50)\n",
    "\n",
    "train_loader, test_loader = load_data()\n",
    "\n",
    "# Get one full batch (the entire dataset)\n",
    "full_batch = next(iter(train_loader))\n",
    "x_batch, y_batch = full_batch\n",
    "\n",
    "# Run MCMC on the full dataset\n",
    "#mcmc.run(x_batch, y_batch) ==> this will take a while, so we comment it out"
   ]
  }
 ],
 "metadata": {
  "kernelspec": {
   "display_name": "bnntest",
   "language": "python",
   "name": "python3"
  },
  "language_info": {
   "codemirror_mode": {
    "name": "ipython",
    "version": 3
   },
   "file_extension": ".py",
   "mimetype": "text/x-python",
   "name": "python",
   "nbconvert_exporter": "python",
   "pygments_lexer": "ipython3",
   "version": "3.12.9"
  }
 },
 "nbformat": 4,
 "nbformat_minor": 5
}
