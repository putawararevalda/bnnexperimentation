{
 "cells": [
  {
   "cell_type": "code",
   "execution_count": 1,
   "id": "d0418476",
   "metadata": {},
   "outputs": [],
   "source": [
    "import torch\n",
    "import torch.nn as nn\n",
    "import torch.nn.functional as F\n",
    "import torchvision.datasets as datasets\n",
    "import torchvision.transforms as transforms\n",
    "from torch.utils.data import DataLoader, random_split\n",
    "import time\n",
    "import matplotlib.pyplot as plt\n",
    "import os"
   ]
  },
  {
   "cell_type": "code",
   "execution_count": 2,
   "id": "abd4ed05",
   "metadata": {},
   "outputs": [],
   "source": [
    "import glob"
   ]
  },
  {
   "cell_type": "code",
   "execution_count": 3,
   "id": "279dbc5d",
   "metadata": {},
   "outputs": [],
   "source": [
    "import os, glob, shutil\n",
    "\n",
    "src_dir = \"data/shipsnet/shipsnet/shipsnet\"\n",
    "dst_root = \"data/shipsnet/foldered\"\n",
    "os.makedirs(os.path.join(dst_root, \"no_ship\"), exist_ok=True)\n",
    "os.makedirs(os.path.join(dst_root, \"ship\"),    exist_ok=True)\n",
    "\n",
    "for path in glob.glob(os.path.join(src_dir, \"0_*.*\")):\n",
    "    shutil.copy(path, os.path.join(dst_root, \"no_ship\", os.path.basename(path)))\n",
    "for path in glob.glob(os.path.join(src_dir, \"1_*.*\")):\n",
    "    shutil.copy(path, os.path.join(dst_root, \"ship\",    os.path.basename(path)))\n"
   ]
  },
  {
   "cell_type": "code",
   "execution_count": 4,
   "id": "7e919a7f",
   "metadata": {},
   "outputs": [],
   "source": [
    "from torchvision.datasets import ImageFolder\n",
    "from torchvision import transforms\n",
    "from torch.utils.data import DataLoader\n",
    "import torch\n",
    "\n",
    "transform = transforms.Compose([\n",
    "    transforms.ToTensor(),\n",
    "    transforms.Normalize([0.485, 0.456, 0.406],\n",
    "                         [0.229, 0.224, 0.225])\n",
    "])\n",
    "\n",
    "dataset = ImageFolder(\n",
    "    root=\"data/shipsnet/foldered\",\n",
    "    transform=transform\n",
    ")\n",
    "# .classes will be ['no_ship','ship'], and items are (image, idx)\n",
    "loader = DataLoader(\n",
    "    dataset,\n",
    "    batch_size=32,\n",
    "    shuffle=True,\n",
    "    num_workers=8,\n",
    "    pin_memory=True\n",
    ")\n"
   ]
  },
  {
   "cell_type": "code",
   "execution_count": 5,
   "id": "8c06a66b",
   "metadata": {},
   "outputs": [],
   "source": [
    "from sklearn.model_selection import train_test_split\n",
    "from torch.utils.data import Subset\n",
    "import torch\n",
    "\n",
    "# Suppose your dataset is a list-like object returning (x, y)\n",
    "targets = [dataset[i][1] for i in range(len(dataset))]  # get labels\n",
    "\n",
    "train_indices, test_indices = train_test_split(\n",
    "    list(range(len(dataset))),\n",
    "    test_size=0.2,\n",
    "    stratify=targets,\n",
    "    random_state=42\n",
    ")\n",
    "\n",
    "train_dataset = Subset(dataset, train_indices)\n",
    "test_dataset = Subset(dataset, test_indices)"
   ]
  },
  {
   "cell_type": "code",
   "execution_count": 7,
   "id": "592ac857",
   "metadata": {},
   "outputs": [],
   "source": [
    "import pickle\n",
    "\n",
    "# Save the indices\n",
    "with open('datasplit/shipsnet_split_indices.pkl', 'wb') as f:\n",
    "    pickle.dump({'train': train_indices, 'test': test_indices}, f)"
   ]
  },
  {
   "cell_type": "code",
   "execution_count": null,
   "id": "588f890a",
   "metadata": {},
   "outputs": [],
   "source": []
  },
  {
   "cell_type": "code",
   "execution_count": null,
   "id": "2cb8f3c9",
   "metadata": {},
   "outputs": [],
   "source": []
  },
  {
   "cell_type": "code",
   "execution_count": null,
   "id": "ae486229",
   "metadata": {},
   "outputs": [],
   "source": []
  },
  {
   "cell_type": "code",
   "execution_count": null,
   "id": "73cea00b",
   "metadata": {},
   "outputs": [],
   "source": [
    "dataset = datasets.EuroSAT(root='./data', transform=transform, download=True)"
   ]
  },
  {
   "cell_type": "code",
   "execution_count": null,
   "id": "7c92ff99",
   "metadata": {},
   "outputs": [],
   "source": [
    "from sklearn.model_selection import train_test_split\n",
    "from torch.utils.data import Subset\n",
    "import torch\n",
    "\n",
    "# Suppose your dataset is a list-like object returning (x, y)\n",
    "targets = [dataset[i][1] for i in range(len(dataset))]  # get labels\n",
    "\n",
    "train_indices, test_indices = train_test_split(\n",
    "    list(range(len(dataset))),\n",
    "    test_size=0.2,\n",
    "    stratify=targets,\n",
    "    random_state=42\n",
    ")\n",
    "\n",
    "train_dataset = Subset(dataset, train_indices)\n",
    "test_dataset = Subset(dataset, test_indices)"
   ]
  },
  {
   "cell_type": "code",
   "execution_count": null,
   "id": "37473658",
   "metadata": {},
   "outputs": [],
   "source": [
    "import pickle\n",
    "\n",
    "# Save the indices\n",
    "with open('datasplit/shipsnet_split_indices.pkl', 'wb') as f:\n",
    "    pickle.dump({'train': train_indices, 'test': test_indices}, f)\n",
    "\n",
    "# Later, load them\n",
    "#with open('datasplit/split_indices.pkl', 'rb') as f:\n",
    "#    split = pickle.load(f)\n",
    "#    train_dataset = Subset(dataset, split['train'])\n",
    "#    test_dataset = Subset(dataset, split['test'])"
   ]
  },
  {
   "cell_type": "code",
   "execution_count": null,
   "id": "cde88eb9",
   "metadata": {},
   "outputs": [],
   "source": [
    "# visualize the target distribution of train and test datasets\n",
    "import matplotlib.pyplot as plt\n",
    "def plot_target_distribution(dataset, title):\n",
    "    targets = [dataset[i][1] for i in range(len(dataset))]\n",
    "    plt.figure(figsize=(10, 5))\n",
    "    plt.hist(targets, bins=range(max(targets) + 2), align='left', rwidth=0.8)\n",
    "    plt.title(title)\n",
    "    plt.xlabel('Class')\n",
    "    plt.ylabel('Frequency')\n",
    "    plt.xticks(range(max(targets) + 1))\n",
    "    plt.show()"
   ]
  },
  {
   "cell_type": "code",
   "execution_count": null,
   "id": "43bac589",
   "metadata": {},
   "outputs": [],
   "source": [
    "plot_target_distribution(train_dataset, 'Train Dataset Target Distribution')\n",
    "plot_target_distribution(test_dataset, 'Test Dataset Target Distribution')"
   ]
  },
  {
   "cell_type": "code",
   "execution_count": null,
   "id": "2974bc11",
   "metadata": {},
   "outputs": [],
   "source": []
  }
 ],
 "metadata": {
  "kernelspec": {
   "display_name": "bnntest",
   "language": "python",
   "name": "python3"
  },
  "language_info": {
   "codemirror_mode": {
    "name": "ipython",
    "version": 3
   },
   "file_extension": ".py",
   "mimetype": "text/x-python",
   "name": "python",
   "nbconvert_exporter": "python",
   "pygments_lexer": "ipython3",
   "version": "3.12.9"
  }
 },
 "nbformat": 4,
 "nbformat_minor": 5
}
